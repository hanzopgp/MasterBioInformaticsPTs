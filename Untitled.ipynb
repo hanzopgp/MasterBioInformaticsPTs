{
 "cells": [
  {
   "cell_type": "markdown",
   "metadata": {},
   "source": [
    "# Imports"
   ]
  },
  {
   "cell_type": "code",
   "execution_count": 369,
   "metadata": {},
   "outputs": [],
   "source": [
    "import numpy as np"
   ]
  },
  {
   "cell_type": "markdown",
   "metadata": {},
   "source": [
    "# Variables"
   ]
  },
  {
   "cell_type": "code",
   "execution_count": 370,
   "metadata": {},
   "outputs": [
    {
     "name": "stdout",
     "output_type": "stream",
     "text": [
      "['C', 'A', 'T', 'G', 'A', 'C']\n",
      "['T', 'C', 'T', 'G', 'A', 'A', 'C']\n"
     ]
    }
   ],
   "source": [
    "seq1 = \"C A T G A C\"\n",
    "seq2 = \"T C T G A A C\"\n",
    "seq1 = seq1.split()\n",
    "seq2 = seq2.split()\n",
    "print(seq1)\n",
    "print(seq2)\n",
    "\n",
    "mismatch = -2\n",
    "gap = -1\n",
    "match = 1"
   ]
  },
  {
   "cell_type": "markdown",
   "metadata": {},
   "source": [
    "# Init"
   ]
  },
  {
   "cell_type": "code",
   "execution_count": 371,
   "metadata": {},
   "outputs": [],
   "source": [
    "def init(seq1, seq2):\n",
    "    matrice = np.zeros((len(seq1)+1, len(seq2)+1))\n",
    "    init1, init2 = np.arange(-1, -len(seq1)-2, gap), np.arange(-1, -len(seq2)-2, gap)\n",
    "    n, m = len(init1), len(init2)\n",
    "    for i in range(1, m):\n",
    "        matrice[0][i] = init1[i-1]\n",
    "    for i in range(1, n):\n",
    "        matrice[i][0] = init2[i-1]\n",
    "    return matrice"
   ]
  },
  {
   "cell_type": "markdown",
   "metadata": {},
   "source": [
    "# Avec backtrack index"
   ]
  },
  {
   "cell_type": "code",
   "execution_count": 384,
   "metadata": {},
   "outputs": [],
   "source": [
    "# def find_max(a, b, c):\n",
    "#     if a[0] > b[0]:\n",
    "#         if a[0] >= c[0]:\n",
    "#             return (a[0], a[1], a[2])\n",
    "#     else:\n",
    "#         if b[0] >= c[0]:\n",
    "#             return (b[0], b[1], b[2])\n",
    "#         else:\n",
    "#             return (c[0], c[1], c[2])\n",
    "        \n",
    "# def needleman(seq1, seq2):\n",
    "#     matrice = init(seq1, seq2)\n",
    "#     n, m = matrice.shape\n",
    "#     backtrack = np.zeros((n, m, 2))\n",
    "#     for i in range(1, n):\n",
    "#         for j in range(1, m):\n",
    "#             v = 0\n",
    "#             if seq1[i-1] == seq2[j-1]:\n",
    "#                 v = match\n",
    "#             else:\n",
    "#                 v = mismatch\n",
    "#             test1 = [matrice[i-1][j-1]+v, i-1, j-1]\n",
    "#             test2 = [matrice[i-1][j]+gap, i-1, j]\n",
    "#             test3 = [matrice[i][j-1]+gap, i,   j-1]\n",
    "#             res = find_max(test1, test2, test3)\n",
    "#             matrice[i][j], backtrack[i][j][0], backtrack[i][j][1] = res\n",
    "#     return matrice, backtrack\n",
    "\n",
    "# def find_backtrack_seq(matrice, backtrack):\n",
    "#     n, m = matrice.shape\n",
    "#     path = np.array([])\n",
    "#     for i in range(n):\n",
    "#         for j in range(m):\n",
    "#             index_i = int(backtrack[i][j][0])\n",
    "#             index_j = int(backtrack[i][j][1])\n",
    "#             path = np.append(path, matrice[index_i][index_j])\n",
    "#     return path\n",
    "\n",
    "\n",
    "# def find_backtrack_seq(matrice, backtrack):\n",
    "#     n, m = matrice.shape\n",
    "#     string1 = \"\"\n",
    "#     string2 = \"\"\n",
    "#     for i in range(n-1, 1, -1):\n",
    "#         for j in range(m-1, 1, -1):\n",
    "#             if matrice[i-1][j-1] > matrice[i-1][j]:\n",
    "#                 if matrice[i-1][j-1] >= matrice[i][j-1]:\n",
    "#                     string1 += seq1[-i]\n",
    "#                     string2 += seq2[-j]\n",
    "#                 else:\n",
    "#                     if matrice[i-1][j] >= matrice[i][j-1]:\n",
    "#                         string1 += seq1[-i]\n",
    "#                         string2 += \"_\"\n",
    "#                     else:\n",
    "#                         string1 += \"_\"\n",
    "#                         string2 += seq2[-j]\n",
    "#     return string1, string2"
   ]
  },
  {
   "cell_type": "markdown",
   "metadata": {},
   "source": [
    "# Avec backtrack string"
   ]
  },
  {
   "cell_type": "code",
   "execution_count": 451,
   "metadata": {},
   "outputs": [],
   "source": [
    "def find_max(a, b, c):\n",
    "    if a[0] > b[0]:\n",
    "        if a[0] >= c[0]:\n",
    "            return a[0], \"diag\"\n",
    "    else:\n",
    "        if b[0] >= c[0]:\n",
    "            return b[0], \"left\"\n",
    "        else:\n",
    "            return c[0], \"uppe\"\n",
    "        \n",
    "def needleman(seq1, seq2):\n",
    "    matrice = init(seq1, seq2)\n",
    "    n, m = matrice.shape\n",
    "    backtrack = np.empty((n, m), dtype=object)\n",
    "    for i in range(1, n):\n",
    "        for j in range(1, m):\n",
    "            v = 0\n",
    "            if seq1[i-1] == seq2[j-1]:\n",
    "                v = match\n",
    "            else:\n",
    "                v = mismatch\n",
    "            test1 = [matrice[i-1][j-1]+v, i-1, j-1]\n",
    "            test2 = [matrice[i-1][j]+gap, i-1, j]\n",
    "            test3 = [matrice[i][j-1]+gap, i,   j-1]\n",
    "            res = find_max(test1, test2, test3)\n",
    "            matrice[i][j], backtrack[i][j] = res\n",
    "    return matrice, backtrack\n",
    "\n",
    "def find_backtrack_seq(matrice, backtrack):\n",
    "    n, m = matrice.shape\n",
    "    string1 = \"\"\n",
    "    string2 = \"\"\n",
    "    for i in range(n-1, 1, -1):\n",
    "        for j in range(m-1, 1, -1):\n",
    "            if backtrack[i][j] == \"diag\":\n",
    "                string1 += seq1[-i]\n",
    "                string2 += seq2[-j]\n",
    "                i -= 1\n",
    "                j -= 1\n",
    "            elif backtrack[i][j] == \"uppe\":\n",
    "                string1 += \"_\"\n",
    "                string2 += seq2[-j]\n",
    "                j -= 1\n",
    "            elif backtrack[i][j] == \"left\":\n",
    "                string1 += seq1[-i]\n",
    "                string2 += \"_\"\n",
    "                i -= 1\n",
    "    return string1, string2"
   ]
  },
  {
   "cell_type": "markdown",
   "metadata": {},
   "source": [
    "# Resultats"
   ]
  },
  {
   "cell_type": "code",
   "execution_count": 452,
   "metadata": {},
   "outputs": [
    {
     "name": "stdout",
     "output_type": "stream",
     "text": [
      "[[ 0. -1. -2. -3. -4. -5. -6. -7.]\n",
      " [-1. -2.  0. -1. -2. -3. -4. -5.]\n",
      " [-2. -3. -1. -2. -3. -1. -2. -3.]\n",
      " [-3. -1. -2.  0. -1. -2. -3. -4.]\n",
      " [-4. -2. -3. -1.  1.  0. -1. -2.]\n",
      " [-5. -3. -4. -2.  0.  2.  1.  0.]\n",
      " [-6. -4. -2. -3. -1.  1.  0.  2.]]\n",
      "[['left' 'diag' 'uppe' 'uppe' 'uppe' 'uppe' 'diag']\n",
      " ['left' 'left' 'left' 'left' 'diag' 'diag' 'uppe']\n",
      " ['diag' 'left' 'diag' 'uppe' 'left' 'left' 'left']\n",
      " ['left' 'left' 'left' 'diag' 'uppe' 'uppe' 'uppe']\n",
      " ['left' 'left' 'left' 'left' 'diag' 'diag' 'uppe']\n",
      " ['left' 'diag' 'left' 'left' 'left' 'left' 'diag']]\n",
      "('CA_TGA_A_TGA___TGAGA___C_A___C', 'TCTGA_TCTGA_TCTGA__CTGAATCTGAA')\n",
      "30\n"
     ]
    }
   ],
   "source": [
    "matrice, backtrack = needleman(seq1,seq2)\n",
    "print(matrice)\n",
    "print(backtrack[1:,1:])\n",
    "resultat = find_backtrack_seq(matrice, backtrack)\n",
    "print(resultat)\n",
    "print(len(resultat[0]))"
   ]
  }
 ],
 "metadata": {
  "kernelspec": {
   "display_name": "Python [conda env:root] *",
   "language": "python",
   "name": "conda-root-py"
  },
  "language_info": {
   "codemirror_mode": {
    "name": "ipython",
    "version": 3
   },
   "file_extension": ".py",
   "mimetype": "text/x-python",
   "name": "python",
   "nbconvert_exporter": "python",
   "pygments_lexer": "ipython3",
   "version": "3.8.5"
  }
 },
 "nbformat": 4,
 "nbformat_minor": 4
}
