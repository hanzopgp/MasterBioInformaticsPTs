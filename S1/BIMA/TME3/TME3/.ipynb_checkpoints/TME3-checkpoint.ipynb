{
 "cells": [
  {
   "attachments": {
    "sinus2d.png": {
     "image/png": "[encoded data removed]"
    }
   },
   "cell_type": "markdown",
   "metadata": {},
   "source": [
    "# Practical work 3: 2D sampling and aliasing \n",
    "\n",
    "Properties studied in 1D apply in 2D. The following results can be admitted: \n",
    " - given a regular grid, a sampling of a continuous 2D signal can be modelled as follow:\n",
    "$$\n",
    "x_e(t,u) = x(t,u)e(t,u)\\quad \\text{with}\\quad e(t,u) = \\sum_{k=-\\infty}^{+\\infty} \\sum_{l=-\\infty}^{+\\infty} \\delta(t-kT_e,u - lT_e)\n",
    "$$ $e$ is the analog of Dirac comb (also called impulse train) in 2D\n",
    " - spectrum of $x_e$ writes:\n",
    "$$\n",
    "X_e(f,g) = \\frac1{T_e^2}\\sum_{k=-\\infty}^{+\\infty} \\sum_{l=-\\infty}^{+\\infty} X(f-kf_e,g-lf_e)\n",
    "$$\n",
    "2D sampling then implies a periodisation of the spectrum for the two dimensions\n",
    " - it is possible to reconstruct the original signal from the sampled signal if 2D Shannon condition is verified (band limited signal) with:\n",
    "$$\n",
    "x_r (t,u) = \\sum_{k=-\\infty}^{+\\infty} \\sum_{l=\\infty}^{+\\infty} x_e(kT_e,lT_e) \\operatorname{sinc}(\\pi f_e (t-kT_e)) \\operatorname{sinc}(\\pi f_e(u - lT_e))\\qquad\\qquad\\qquad\\text{(1)}\n",
    "$$\n",
    "so called Shannon interpolation.\n",
    " \n",
    "## Exercice 1: aliasing and windowing of 2D signals\n",
    " \n",
    "Given the following signal:\n",
    "$$\n",
    "s_\\theta(t,u) = A\\cos(2\\pi f_0(t\\cos\\theta + u\\sin\\theta))\n",
    "$$\n",
    "Here an example with $\\theta=\\frac\\pi4$:\n",
    "<div><img src=\"attachment:sinus2d.png\" width=200></div>\n",
    "The goal of this exercice is to study the limit conditions of sampling of this image in order to avoid aliasing."
   ]
  },
  {
   "cell_type": "code",
   "execution_count": null,
   "metadata": {},
   "outputs": [],
   "source": [
    "import numpy as np\n",
    "from numpy.fft import fft2, fftshift\n",
    "import matplotlib.pyplot as plt\n",
    "# for interactive ploting, see surf() below\n",
    "%matplotlib notebook \n",
    "from matplotlib import cm\n",
    "from matplotlib.colors import Normalize\n",
    "from mpl_toolkits.mplot3d import Axes3D\n",
    "\n",
    "def sinusoid2d(A, theta, size, T0, Te):\n",
    "    \"\"\" double**2*int*double**2 -> Array[double] \"\"\"\n",
    "    ct = np.cos(theta/180*np.pi)\n",
    "    st = np.sin(theta/180*np.pi)\n",
    "    x, y = np.meshgrid(np.arange(0, size, Te), np.arange(0, size, Te))\n",
    "    return A*np.cos(2*np.pi*(y*ct - x*st)/T0)\n",
    "\n",
    "def shannonInterpolation(I, Te, size):\n",
    "    \"\"\" Array*int*double -> Array[double] \"\"\"\n",
    "    n, m = I.shape\n",
    "    x, y = np.meshgrid(np.arange(0, size), np.arange(0, n))\n",
    "    Y = np.sinc(x/Te-y)\n",
    "    x, y = np.meshgrid(np.arange(0, size), np.arange(0, m))\n",
    "    X = np.sinc(x/Te-y)\n",
    "    return np.matmul(X.T, np.matmul(I, Y))\n",
    "\n",
    "def imshow(I,title=None):\n",
    "    \"\"\" display an image \"\"\"\n",
    "    plt.figure(figsize=(500//80,500//80))\n",
    "    plt.gray()\n",
    "    plt.imshow(I)\n",
    "    if title: plt.title(title)\n",
    "    plt.show()\n",
    "\n",
    "def surf(Z,title=None):\n",
    "    \"\"\" 3D plot of an image \"\"\"\n",
    "    X,Y = np.meshgrid(range(Z.shape[1]), range(Z.shape[0]))\n",
    "    fig = plt.figure(figsize=(600/80,600/80))\n",
    "    if title: plt.title(title)\n",
    "    ax = fig.gca(projection='3d')\n",
    "    ax.plot_surface(X, Y, Z, cmap=cm.coolwarm, linewidth=0, antialiased=False)\n",
    "    plt.show()\n",
    "    \n",
    "\n",
    "    "
   ]
  },
  {
   "cell_type": "markdown",
   "metadata": {},
   "source": [
    "1. We provide the function `sinusoid2d(A, theta, L, T0, Te)` that allows to sample signal $s_\\theta$ with a sampling period of `Te` (the grid is regular with the sample sampling value for directions $u$ and $t$). Paremeters `A`, `theta`, `L` and `T0` respectively control the amplitude, orientation and period ($T_0=\\frac1{f_0}$) of signal $s_\\theta$. Generate a pseudo continuous signal $s_{45}$ with `A=1`, `theta = 45`, `L = 512`, `T0 = 64` and `Te=1`.\n"
   ]
  },
  {
   "cell_type": "code",
   "execution_count": null,
   "metadata": {},
   "outputs": [],
   "source": []
  },
  {
   "cell_type": "markdown",
   "metadata": {},
   "source": [
    "2. (a) What is the maximal frequency of previous signal $s_{45}$ in direction $t$ (denoted $f_t^{\\text{max}}$) and direction $u$ (denoted $f_u^{\\text{max}}$)? Let $f_m = \\max(f_t^{\\text{max}},f_u^{\\text{max}})$. Explain why $f_m$ can be used to derive the limit frequency (in sens of Shannon) for the sampling of $s_{45}$."
   ]
  },
  {
   "cell_type": "markdown",
   "metadata": {},
   "source": []
  },
  {
   "cell_type": "markdown",
   "metadata": {},
   "source": [
    "2. (b)  Sample $s_{45}$ with $f_e = 16 f_m$ and display the sampled signal."
   ]
  },
  {
   "cell_type": "code",
   "execution_count": null,
   "metadata": {},
   "outputs": [],
   "source": []
  },
  {
   "cell_type": "markdown",
   "metadata": {},
   "source": [
    "2. (c) Compute the Fourier transform of the sampled signal and display frequencies. One can use `surf()` function for an interactive 3D plot."
   ]
  },
  {
   "cell_type": "code",
   "execution_count": null,
   "metadata": {},
   "outputs": [],
   "source": []
  },
  {
   "cell_type": "markdown",
   "metadata": {},
   "source": [
    "2. (d) Comment the spectrum:\n",
    "    - verify the presence of the two Dirac peaks\n",
    "    - for various values of $T_e$, observe changes in the spectrum. Compare with the spectrum of the continuous signal ($s_{45}$). What is the origin of theses differences?\n",
    "    - (Bonus question):\n",
    "        - Why, aside the two Dirac peaks, there are somes structures? Explain the origin of these lobes.\n",
    "        - Increase $T_0$ in order to obtain a unique peak. Explain the origin of this fusion. Verify the limit value of $T_0$ for which the two peaks interfer."
   ]
  },
  {
   "cell_type": "code",
   "execution_count": null,
   "metadata": {},
   "outputs": [],
   "source": []
  },
  {
   "cell_type": "markdown",
   "metadata": {},
   "source": [
    "3. (a) Sample $s_{45}$ with $f_0=4 f_m$ and display the sampled signal."
   ]
  },
  {
   "cell_type": "code",
   "execution_count": null,
   "metadata": {},
   "outputs": [],
   "source": []
  },
  {
   "cell_type": "markdown",
   "metadata": {},
   "source": [
    "3. (b) Write a function `error()` implementing the relative average error $\\displaystyle\\epsilon_r = \\frac 1{2AL^2}\\sum_{k=0}^L\\sum_{l=0}^L |x_r(k,l)-x_d(k,l)|$."
   ]
  },
  {
   "cell_type": "code",
   "execution_count": null,
   "metadata": {},
   "outputs": [],
   "source": []
  },
  {
   "cell_type": "markdown",
   "metadata": {},
   "source": [
    "3. (c) Reconstruct the sampled signal. Display original and reconstructed signal.\n",
    "   Print the relative average error between the original and reconstructed images. What is the origin of this error?"
   ]
  },
  {
   "cell_type": "code",
   "execution_count": null,
   "metadata": {},
   "outputs": [],
   "source": []
  },
  {
   "cell_type": "markdown",
   "metadata": {},
   "source": [
    "4. Same question than 3. with $f_e = \\frac32f_m$. Comment the effects of aliasing."
   ]
  },
  {
   "cell_type": "code",
   "execution_count": null,
   "metadata": {},
   "outputs": [],
   "source": []
  },
  {
   "cell_type": "markdown",
   "metadata": {},
   "source": [
    "5. Consider the continuous signal with an oriention of $\\theta=10°$. What is the value of $f_m$? With a sampling of $\\frac32 f_e$ what is the additional drawback appearing after the reconstruction? Explain."
   ]
  },
  {
   "cell_type": "code",
   "execution_count": null,
   "metadata": {},
   "outputs": [],
   "source": []
  },
  {
   "cell_type": "markdown",
   "metadata": {},
   "source": [
    "6. Bonus question: write a function `shannonInterpolationLoop()` implementing equation (1) using two loops, in a C way. Compare and discuss the run time of this function and  `shannonInterpolation()` on a small signal ($L=64$). Runtime can be measured using `tic()` and `tac()` functions."
   ]
  },
  {
   "cell_type": "code",
   "execution_count": 1,
   "metadata": {},
   "outputs": [],
   "source": [
    "from time import process_time\n",
    "mytime = 0\n",
    "def tic():\n",
    "    \"\"\" NoneType -> NoneType \"\"\"\n",
    "    global mytime\n",
    "    mytime = process_time()\n",
    "def tac():\n",
    "    \"\"\" NoneType -> int \"\"\"\n",
    "    global mytime\n",
    "    print (process_time()-mytime)\n",
    "    mytime = process_time()\n",
    "\n",
    "### your code starts below\n"
   ]
  },
  {
   "cell_type": "markdown",
   "metadata": {},
   "source": [
    "\n",
    "## Exercice 2: aliasing on natural images\n",
    "\n",
    "In this exercice, we study aliasing on image `img/barbara.png`. Aliasing occurring with subsample of image, we propose to write a code that implements a subsample (using function `subSample2()` of factor 2 on the image.  "
   ]
  },
  {
   "cell_type": "code",
   "execution_count": null,
   "metadata": {},
   "outputs": [],
   "source": [
    "from PIL import Image\n",
    "\n",
    "barbara = np.array(Image.open('img/barbara.png'))\n",
    "\n",
    "def subSample2(I):\n",
    "    \"\"\" Array -> Array \"\"\"\n",
    "    return I[::2,::2]"
   ]
  },
  {
   "cell_type": "markdown",
   "metadata": {},
   "source": [
    "1. Explain what is a subsample of factor 2 and the impact when applied on an image. "
   ]
  },
  {
   "cell_type": "markdown",
   "metadata": {},
   "source": []
  },
  {
   "cell_type": "markdown",
   "metadata": {},
   "source": [
    "2. Write a code that\n",
    " - iterates the subsampling process\n",
    " - at each iteration, computes the Fourier transform of the subsampled image\n",
    "\n",
    "   Display subsampled images and their spectrum. Describe and interpret the effects of aliasing. Why aliasing is a drawback ?"
   ]
  },
  {
   "cell_type": "code",
   "execution_count": null,
   "metadata": {},
   "outputs": [],
   "source": []
  },
  {
   "cell_type": "markdown",
   "metadata": {},
   "source": [
    "3. Bonus question: same question with the image `img/mandrill.png`."
   ]
  },
  {
   "cell_type": "code",
   "execution_count": null,
   "metadata": {},
   "outputs": [],
   "source": [
    "mandrill = np.array(Image.open('img/mandrill.png'))\n",
    "### your code and comments start below\n",
    "\n"
   ]
  }
 ],
 "metadata": {
  "kernelspec": {
   "display_name": "Python 3",
   "language": "python",
   "name": "python3"
  },
  "language_info": {
   "codemirror_mode": {
    "name": "ipython",
    "version": 3
   },
   "file_extension": ".py",
   "mimetype": "text/x-python",
   "name": "python",
   "nbconvert_exporter": "python",
   "pygments_lexer": "ipython3",
   "version": "3.8.0"
  }
 },
 "nbformat": 4,
 "nbformat_minor": 2
}
