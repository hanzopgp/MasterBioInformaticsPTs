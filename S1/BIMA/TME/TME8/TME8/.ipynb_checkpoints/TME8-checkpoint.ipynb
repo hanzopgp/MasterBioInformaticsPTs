{
 "cells": [
  {
   "cell_type": "markdown",
   "metadata": {},
   "source": [
    "# Practical work 8: Split and Merge\n",
    "\n",
    "In this practical work, we implement and test the split and merge algorithm."
   ]
  },
  {
   "cell_type": "code",
   "execution_count": 129,
   "metadata": {},
   "outputs": [],
   "source": [
    "### Usefull libraries\n",
    "from PIL import Image\n",
    "import numpy as np\n",
    "import matplotlib.pyplot as plt\n",
    "\n",
    "### Data\n",
    "img_test = np.full((64,64),150,dtype=np.uint8)\n",
    "img_test[32:48,16:16+32] = 100\n",
    "img_test[8:24,40:56] = 50\n",
    "angio = np.array(Image.open('img/angiogra.png'))\n",
    "cam = np.array(Image.open('img/cameraman.png'))\n",
    "muscle = np.array(Image.open('img/muscle.png'))\n",
    "prisme = np.array(Image.open('img/prisme.png'))\n",
    "seiche = np.array(Image.open('img/seiche.png'))\n",
    "\n",
    "### Usefull functions\n",
    "def neighbors(b,K):\n",
    "    \"\"\" blockStat*list[blockStat]->list[blockStat]\n",
    "        returns the list of neighbors of b and elements of K \n",
    "    \"\"\"\n",
    "    def belongsTo(x,y,a):\n",
    "        \"\"\" int*int*BlockStat -> bool \n",
    "            Test if pixel (x,y) belongs to block a \n",
    "        \"\"\"\n",
    "        return x>=a[0] and y>=a[1] and x<a[0]+a[2] and y<a[1]+a[3]\n",
    "    def areNeighbors(a,b):\n",
    "        \"\"\" BlockStat**2 -> bool\n",
    "            Test if a and b are neighbors\n",
    "        \"\"\"\n",
    "        if a[2]>b[2] and a[3]>b[3]:\n",
    "            a,b=b,a\n",
    "        x,y = a[0]+a[2]//2,a[1]+a[3]//2\n",
    "        return belongsTo(x+a[2],y,b) or belongsTo(x-a[2],y,b) or belongsTo(x,y+a[3],b) or belongsTo(x,y-a[3],b)\n",
    "    N = []\n",
    "    for n in K:\n",
    "        if areNeighbors(b,n):\n",
    "            N.append(n)\n",
    "    return N\n",
    "\n",
    "def imshow(I, title=None, size=500, axis=False):\n",
    "    \"\"\" display an image, with title, size, and axis \"\"\"\n",
    "    plt.figure(figsize=(size//80, size//80))\n",
    "#     plt.gray()\n",
    "    plt.imshow(I)\n",
    "    if not axis: plt.axis('off')\n",
    "    if title: plt.title(title)\n",
    "    plt.show()"
   ]
  },
  {
   "cell_type": "markdown",
   "metadata": {},
   "source": [
    "## Exercise 1\n",
    "\n",
    "### Question 1\n",
    "Write the recursive function ``split()`` discussed in tutorial work. \n",
    "It takes as input the image, a region, a predicate, and a variable number of arguments. \n",
    "The region is a Python formal type ``Block`` defined by:\n",
    "```python\n",
    "type Block = tuple[int**4]\n",
    "```\n",
    "The function ``split()`` returns a quadtree, a Python formal type, recursivelly defined by:\n",
    "```python\n",
    "type QuadTree = list[(QuadTree**4|Block)] \n",
    "```\n",
    "\n",
    "The predicate is a Python function with the following signature:\n",
    "```python\n",
    "Array*Block*...->bool\n",
    "```\n",
    "It can take a variable number of parameters which correspond to the parameters required by the predicate."
   ]
  },
  {
   "cell_type": "code",
   "execution_count": 130,
   "metadata": {},
   "outputs": [],
   "source": [
    "# type Block = tuple[int**4]\n",
    "# type QuadTree = list[(QuadTree**4|Block)] \n",
    "\n",
    "def split(I,R,*args):\n",
    "    \"\"\" Array*Block*(Array*Block*...->bool)*... -> 4-aire\n",
    "        Performs a quadtree splitting of image I drived by a predicate\n",
    "    \"\"\"\n",
    "    x,y,n,m = R\n",
    "    ndiv = n//2\n",
    "    mdiv = m//2\n",
    "    if predsplit(I,R,*args):\n",
    "        no = split(I, (x,     y,     ndiv,mdiv), *args)\n",
    "        ne = split(I, (x,     y+mdiv,ndiv,mdiv), *args)\n",
    "        so = split(I, (x+ndiv,y,     ndiv,mdiv), *args)\n",
    "        se = split(I, (x+ndiv,y+mdiv,ndiv,mdiv), *args)\n",
    "        return [no,ne,so,se]\n",
    "    return [R]"
   ]
  },
  {
   "cell_type": "markdown",
   "metadata": {},
   "source": [
    "### Question 2\n",
    "Write the function ```predsplit(I,B,*args)``` with signature:\n",
    "```python\n",
    "Array*Block*... -> bool\n",
    "```\n",
    "that returns True if the standard deviation of image ``I`` computed in region ``B`` is greater than the first value of argument ``*args`` (it can be accessed simply by ``*args[0]``)."
   ]
  },
  {
   "cell_type": "code",
   "execution_count": 131,
   "metadata": {},
   "outputs": [],
   "source": [
    "def predsplit(I,R,*args):\n",
    "    \"\"\" Array*Block*... -> bool\n",
    "    \"\"\" \n",
    "    x,y,n,m = R\n",
    "    std = I[x:x+n,y:y+m].std() \n",
    "    return std > args[0] and n > args[1] and m > args[2]"
   ]
  },
  {
   "cell_type": "markdown",
   "metadata": {},
   "source": [
    "Write the function ``listRegions()`` which applies a depth-first search on the quadtree given as parameter, and returns the list of the leaves of the quadtree. \n",
    "\n",
    "Some recalls about lists in Python;\n",
    " - Initialization: `L = []` (empty list)\n",
    " - Add a element `a` into a list `L`: `L.append(a)`"
   ]
  },
  {
   "cell_type": "code",
   "execution_count": 132,
   "metadata": {},
   "outputs": [],
   "source": [
    "def listRegions(L):\n",
    "    \"\"\" QuadTree -> list[Block]\n",
    "    \"\"\"\n",
    "    res = []\n",
    "    if len(L) == 1:\n",
    "        res.append(L[0])\n",
    "    else:\n",
    "        for l in L:\n",
    "            res += listRegions(l)\n",
    "    return res"
   ]
  },
  {
   "cell_type": "markdown",
   "metadata": {},
   "source": [
    "### Question 4\n",
    "Test your codes on the synthetic image ``img_test`` seen in tutorial work. Print the value returned by ``split()`` as well as the one returned by ``listRegions()``. "
   ]
  },
  {
   "cell_type": "code",
   "execution_count": 133,
   "metadata": {},
   "outputs": [
    {
     "name": "stdout",
     "output_type": "stream",
     "text": [
      "[[(0, 0, 32, 32)], [[[(0, 32, 8, 8)], [(0, 40, 8, 8)], [(8, 32, 8, 8)], [(8, 40, 8, 8)]], [[(0, 48, 8, 8)], [(0, 56, 8, 8)], [(8, 48, 8, 8)], [(8, 56, 8, 8)]], [[(16, 32, 8, 8)], [(16, 40, 8, 8)], [(24, 32, 8, 8)], [(24, 40, 8, 8)]], [[(16, 48, 8, 8)], [(16, 56, 8, 8)], [(24, 48, 8, 8)], [(24, 56, 8, 8)]]], [[(32, 0, 16, 16)], [(32, 16, 16, 16)], [(48, 0, 16, 16)], [(48, 16, 16, 16)]], [[(32, 32, 16, 16)], [(32, 48, 16, 16)], [(48, 32, 16, 16)], [(48, 48, 16, 16)]]]\n",
      "=================\n",
      "[(0, 0, 32, 32), (0, 32, 8, 8), (0, 40, 8, 8), (8, 32, 8, 8), (8, 40, 8, 8), (0, 48, 8, 8), (0, 56, 8, 8), (8, 48, 8, 8), (8, 56, 8, 8), (16, 32, 8, 8), (16, 40, 8, 8), (24, 32, 8, 8), (24, 40, 8, 8), (16, 48, 8, 8), (16, 56, 8, 8), (24, 48, 8, 8), (24, 56, 8, 8), (32, 0, 16, 16), (32, 16, 16, 16), (48, 0, 16, 16), (48, 16, 16, 16), (32, 32, 16, 16), (32, 48, 16, 16), (48, 32, 16, 16), (48, 48, 16, 16)]\n"
     ]
    }
   ],
   "source": [
    "seuil_predsplit = 0\n",
    "seuil_n = 2\n",
    "seuil_m = 2\n",
    "R_init = [0, 0, img_test.shape[0], img_test.shape[1]]\n",
    "\n",
    "tree = split(img_test, R_init, seuil_predsplit, seuil_n, seuil_m)\n",
    "listreg = listRegions(tree)\n",
    "\n",
    "print(tree)\n",
    "print(\"=================\")\n",
    "print(listreg)"
   ]
  },
  {
   "cell_type": "markdown",
   "metadata": {},
   "source": [
    "### Question 5\n",
    "Write the function ```drawRegions(L,I)``` which takes as arguments a list of regions, an image, and returns an image  where the boundaries of each region have been traced with red color. Indication: the returned image is a hypermatrix of dimension 3, the third dimension is of size 3 and encodes the red, green and blue components of a RGB colorspace. Test the function on the previous example."
   ]
  },
  {
   "cell_type": "code",
   "execution_count": 163,
   "metadata": {},
   "outputs": [],
   "source": [
    "def drawRegions(LL,I):\n",
    "    \"\"\" list[Block]*Array -> Array\n",
    "        parcours de la liste dessin des régions \n",
    "    \"\"\"\n",
    "    u, v = I.shape\n",
    "    n_can = 3\n",
    "    new_I = np.zeros((u, v, n_can))\n",
    "    for i in range(u):\n",
    "        for j in range(v):\n",
    "            for k in range(n_can):\n",
    "                new_I[i][j][k] = I[i][j]\n",
    "    for l in LL:\n",
    "        x,y,n,m = l\n",
    "        if x+n >= 64:\n",
    "            n -= 1\n",
    "        if y+m >= 64:\n",
    "            m -= 1\n",
    "        new_I[x:x+n, y,     0] = 0\n",
    "        new_I[x+n  , y:y+m, 0] = 0\n",
    "        new_I[x    , y:y+m, 0] = 0\n",
    "        new_I[x:x+n, y+m,   0] = 0\n",
    "    return new_I"
   ]
  },
  {
   "cell_type": "code",
   "execution_count": 164,
   "metadata": {},
   "outputs": [
    {
     "name": "stderr",
     "output_type": "stream",
     "text": [
      "Clipping input data to the valid range for imshow with RGB data ([0..1] for floats or [0..255] for integers).\n"
     ]
    },
    {
     "name": "stdout",
     "output_type": "stream",
     "text": [
      "(64, 64, 3)\n"
     ]
    },
    {
     "data": {
      "image/png": "[encoded data removed]",
      "text/plain": [
       "<Figure size 432x288 with 1 Axes>"
      ]
     },
     "metadata": {
      "needs_background": "light"
     },
     "output_type": "display_data"
    }
   ],
   "source": [
    "borderimg = drawRegions(listreg, img_test)\n",
    "print(borderimg.shape)\n",
    "\n",
    "plt.imshow(img_test)\n",
    "plt.imshow(borderimg, alpha=0.5)\n",
    "plt.show()"
   ]
  },
  {
   "cell_type": "markdown",
   "metadata": {},
   "source": [
    "### Question 6\n",
    "Add a Gaussian noise with standard deviation 5 to the image ``img_test``. \n",
    "Apply the quadtree splitting on the noisy image by adjusting the threshold to obtain the same result as in the previous question. \n",
    "Which threshold value should be chosen? Does this make sense to you?\n",
    "\n",
    "Hint: use the Numpy function ``random.randn()`` which generates random values according to a normal distribution (Gaussian distribution of null mean and variance 1). To obtain realizations of a Gaussian distribution of standard deviation $\\sigma$, it is sufficient to multiply by $\\sigma$ the realizations of a normal distribution. "
   ]
  },
  {
   "cell_type": "code",
   "execution_count": 165,
   "metadata": {},
   "outputs": [
    {
     "data": {
      "image/png": "[encoded data removed]",
      "text/plain": [
       "<Figure size 432x432 with 1 Axes>"
      ]
     },
     "metadata": {
      "needs_background": "light"
     },
     "output_type": "display_data"
    }
   ],
   "source": [
    "from numpy import random\n",
    "sigma = 5\n",
    "\n",
    "def apply_gauss(I, sigma):\n",
    "    n,m = I.shape\n",
    "    new_I = np.zeros(I.shape)\n",
    "    for i in range(n):\n",
    "        for j in range(m):\n",
    "            new_I[i][j] = I[i][j] + (random.rand() * sigma)\n",
    "    return new_I\n",
    "\n",
    "img_test_gauss = apply_gauss(img_test, sigma)           \n",
    "imshow(img_test_gauss)"
   ]
  },
  {
   "cell_type": "code",
   "execution_count": 167,
   "metadata": {},
   "outputs": [
    {
     "name": "stderr",
     "output_type": "stream",
     "text": [
      "Clipping input data to the valid range for imshow with RGB data ([0..1] for floats or [0..255] for integers).\n"
     ]
    },
    {
     "data": {
      "image/png": "[encoded data removed]",
      "text/plain": [
       "<Figure size 432x288 with 1 Axes>"
      ]
     },
     "metadata": {
      "needs_background": "light"
     },
     "output_type": "display_data"
    }
   ],
   "source": [
    "seuil_predsplit = sigma # sigma pour retrouver la meme chose\n",
    "seuil_n = 2\n",
    "seuil_m = 2\n",
    "R_init = [0, 0, img_test_gauss.shape[0], img_test_gauss.shape[1]]\n",
    "\n",
    "tree = split(img_test_gauss, R_init, seuil_predsplit, seuil_n, seuil_m)\n",
    "listreg = listRegions(tree)\n",
    "borderimg = drawRegions(listreg, img_test)\n",
    "\n",
    "plt.imshow(img_test_gauss)\n",
    "plt.imshow(borderimg, alpha=0.5)\n",
    "plt.show()"
   ]
  },
  {
   "cell_type": "markdown",
   "metadata": {},
   "source": [
    "## Exercise 2\n",
    "\n",
    "Experiment the split algorithm on the 4 natural images provided. For each image try to find the threshold that seems to you visually the best. Display the number of regions obtained after splitting."
   ]
  },
  {
   "cell_type": "code",
   "execution_count": null,
   "metadata": {},
   "outputs": [],
   "source": []
  },
  {
   "cell_type": "markdown",
   "metadata": {},
   "source": [
    "## Exercise 3\n",
    "### Question 1\n",
    "Modify the function ``listRegions(L)`` to make it a function ``listRegionsStat(L,I)`` which computes the list of leaves of the quadtree ``L``. Each element of this list will be enriched with three scalar values: the first being the size, the second the mean and the third the variance of pixel values of the block in the image ``I``. This function then returns a list whose elements have the following formal type:\n",
    "```python\n",
    "type BlockStat = tuple[int**4,int,float**2]\n",
    "```\n",
    "\n",
    "The first four values are those of the ``Block`` type, the fifth is the size of the block (in number of pixels) and the last two values are the mean and variance calculated over the region."
   ]
  },
  {
   "cell_type": "code",
   "execution_count": 168,
   "metadata": {},
   "outputs": [],
   "source": [
    "# type BlockStat = tuple[int**4,int,float**2]\n",
    "\n",
    "def listRegionsStat(L,I):\n",
    "    \"\"\" QuadTree*Array -> list[BlockStat] \"\"\"\n",
    "    res = []\n",
    "    if len(L) == 1:\n",
    "        x,y,n,m = L\n",
    "        res.append(L[0])\n",
    "        res.append(n*m, I[x:x+n,y:y+m].mean(), I[x:x+n,y:y+m].std())\n",
    "    else:\n",
    "        for l in L:\n",
    "            res += listRegions(l)\n",
    "    return res"
   ]
  },
  {
   "cell_type": "markdown",
   "metadata": {},
   "source": [
    "### Question 2\n",
    "In the remainder, the formal type is considered:\n",
    "```python\n",
    "type Region = list[BlocStats]\n",
    "```\n",
    "A region, as seen during the tutorial work, is therefore a list of blocks. Write the predicate ``predmerge(b,R,*args)`` as seen in tutorial work. This function returns ``True`` if the ``b`` block should merge into the ``R`` region. If a merge happens, then the first item of ``R`` will have its statistics updated to describe the statistics of the region ``R`` merged with `b`."
   ]
  },
  {
   "cell_type": "code",
   "execution_count": 184,
   "metadata": {},
   "outputs": [],
   "source": [
    "def predmerge(b,R,*args):\n",
    "    \"\"\" BlocsStat*Region*... -> bool \n",
    "        If merge, R[0] is modified\n",
    "    \"\"\"\n",
    "    x,y,n,m = R\n",
    "    n1 = n*m\n",
    "    sig1 = I[x:x+n,y:y+m].std()\n",
    "    mean1 = I[x:x+n,y:y+m].mean()\n",
    "    \n",
    "    x2,y2,nt,mt = b\n",
    "    n2 = nt*mt\n",
    "    sig2 = I[x2:x2+nt,y2:y2+mt].std()\n",
    "    mean2 = I[x2:x2+nt,y2:y2+mt].mean()\n",
    "    \n",
    "    new_n = n1 + n2\n",
    "    new_mean = n1/new_n * mean1 + n2/new_n * mean2\n",
    "    new_std = (n1*(sig1**2 + mean1**2) + n2*(sig2**2 + mean2**2))/new_n - new_mean**2\n",
    "    \n",
    "    if np.abs(std - new_std) > args[0]:\n",
    "        return True\n",
    "    return False"
   ]
  },
  {
   "cell_type": "markdown",
   "metadata": {},
   "source": [
    "### Question 3\n",
    "Using `predmerge()` and `neighbors()` functions, given at the beginning of the notebook, write the function ``merge()`` discussed in tutorial work (exercise 7.6).\n",
    "\n",
    "Recalls on Python lists:\n",
    "- Remove an element `a` from a list `L`: `L.remove(a)`\n",
    "- Test if `a` belongs to a list `L`: `a in L` \n",
    "- Iterate the elements of a list `L`: `for a in L:`\n",
    "- Access to an element of a list: as with numpy arrays"
   ]
  },
  {
   "cell_type": "code",
   "execution_count": 185,
   "metadata": {},
   "outputs": [],
   "source": [
    "def merge(S,I,*args):\n",
    "    \"\"\" QuadTree*Array*(BlockStat*Region*...->bool) -> list[Region]\n",
    "        Merge the leaves of S in a list of regions\n",
    "    \"\"\"\n",
    "    K = listRegionsStat(S, I)\n",
    "    L = []\n",
    "    if len(K) > 0:\n",
    "        b = K[0]\n",
    "        R = []\n",
    "        R.append(b)\n",
    "        K.remove(b)\n",
    "        N = neighbors(b, K)\n",
    "        for bn in N:\n",
    "            if predmerge(b, R, *args):\n",
    "                R.append(bn)\n",
    "                K.remove(bn)\n",
    "                K.append(neighbors(bn, K))\n",
    "        L.append(R)\n",
    "    return L"
   ]
  },
  {
   "cell_type": "markdown",
   "metadata": {},
   "source": [
    "### Question 4\n",
    "Test the previous functions using the synthetic image `img_test`. In particular, check that merge() returns a list of 3 elements (i.e. 3 regions)."
   ]
  },
  {
   "cell_type": "code",
   "execution_count": 186,
   "metadata": {},
   "outputs": [
    {
     "ename": "ValueError",
     "evalue": "not enough values to unpack (expected 4, got 1)",
     "output_type": "error",
     "traceback": [
      "\u001b[1;31m---------------------------------------------------------------------------\u001b[0m",
      "\u001b[1;31mValueError\u001b[0m                                Traceback (most recent call last)",
      "\u001b[1;32m<ipython-input-186-bfff9e79ecd2>\u001b[0m in \u001b[0;36m<module>\u001b[1;34m\u001b[0m\n\u001b[0;32m      1\u001b[0m \u001b[0mQT\u001b[0m \u001b[1;33m=\u001b[0m \u001b[0msplit\u001b[0m\u001b[1;33m(\u001b[0m\u001b[0mimg_test\u001b[0m\u001b[1;33m,\u001b[0m \u001b[0mR_init\u001b[0m\u001b[1;33m,\u001b[0m \u001b[0mseuil_predsplit\u001b[0m\u001b[1;33m,\u001b[0m \u001b[0mseuil_n\u001b[0m\u001b[1;33m,\u001b[0m \u001b[0mseuil_m\u001b[0m\u001b[1;33m)\u001b[0m\u001b[1;33m\u001b[0m\u001b[1;33m\u001b[0m\u001b[0m\n\u001b[1;32m----> 2\u001b[1;33m \u001b[0mM\u001b[0m \u001b[1;33m=\u001b[0m \u001b[0mmerge\u001b[0m\u001b[1;33m(\u001b[0m\u001b[0mQT\u001b[0m\u001b[1;33m,\u001b[0m\u001b[0mpredmerge\u001b[0m\u001b[1;33m)\u001b[0m\u001b[1;33m\u001b[0m\u001b[1;33m\u001b[0m\u001b[0m\n\u001b[0m\u001b[0;32m      3\u001b[0m \u001b[0mprint\u001b[0m\u001b[1;33m(\u001b[0m\u001b[0mM\u001b[0m\u001b[1;33m)\u001b[0m\u001b[1;33m\u001b[0m\u001b[1;33m\u001b[0m\u001b[0m\n\u001b[0;32m      4\u001b[0m \u001b[1;31m# assert(len(M) == 3)\u001b[0m\u001b[1;33m\u001b[0m\u001b[1;33m\u001b[0m\u001b[1;33m\u001b[0m\u001b[0m\n",
      "\u001b[1;32m<ipython-input-185-0dbe56c117d3>\u001b[0m in \u001b[0;36mmerge\u001b[1;34m(S, I, *args)\u001b[0m\n\u001b[0;32m     12\u001b[0m         \u001b[0mN\u001b[0m \u001b[1;33m=\u001b[0m \u001b[0mneighbors\u001b[0m\u001b[1;33m(\u001b[0m\u001b[0mb\u001b[0m\u001b[1;33m,\u001b[0m \u001b[0mK\u001b[0m\u001b[1;33m)\u001b[0m\u001b[1;33m\u001b[0m\u001b[1;33m\u001b[0m\u001b[0m\n\u001b[0;32m     13\u001b[0m         \u001b[1;32mfor\u001b[0m \u001b[0mbn\u001b[0m \u001b[1;32min\u001b[0m \u001b[0mN\u001b[0m\u001b[1;33m:\u001b[0m\u001b[1;33m\u001b[0m\u001b[1;33m\u001b[0m\u001b[0m\n\u001b[1;32m---> 14\u001b[1;33m             \u001b[1;32mif\u001b[0m \u001b[0mpredmerge\u001b[0m\u001b[1;33m(\u001b[0m\u001b[0mb\u001b[0m\u001b[1;33m,\u001b[0m \u001b[0mR\u001b[0m\u001b[1;33m,\u001b[0m \u001b[1;33m*\u001b[0m\u001b[0margs\u001b[0m\u001b[1;33m)\u001b[0m\u001b[1;33m:\u001b[0m\u001b[1;33m\u001b[0m\u001b[1;33m\u001b[0m\u001b[0m\n\u001b[0m\u001b[0;32m     15\u001b[0m                 \u001b[0mR\u001b[0m\u001b[1;33m.\u001b[0m\u001b[0mappend\u001b[0m\u001b[1;33m(\u001b[0m\u001b[0mbn\u001b[0m\u001b[1;33m)\u001b[0m\u001b[1;33m\u001b[0m\u001b[1;33m\u001b[0m\u001b[0m\n\u001b[0;32m     16\u001b[0m                 \u001b[0mK\u001b[0m\u001b[1;33m.\u001b[0m\u001b[0mremove\u001b[0m\u001b[1;33m(\u001b[0m\u001b[0mbn\u001b[0m\u001b[1;33m)\u001b[0m\u001b[1;33m\u001b[0m\u001b[1;33m\u001b[0m\u001b[0m\n",
      "\u001b[1;32m<ipython-input-184-5b6859b5d5e4>\u001b[0m in \u001b[0;36mpredmerge\u001b[1;34m(b, R, *args)\u001b[0m\n\u001b[0;32m      3\u001b[0m         \u001b[0mIf\u001b[0m \u001b[0mmerge\u001b[0m\u001b[1;33m,\u001b[0m \u001b[0mR\u001b[0m\u001b[1;33m[\u001b[0m\u001b[1;36m0\u001b[0m\u001b[1;33m]\u001b[0m \u001b[1;32mis\u001b[0m \u001b[0mmodified\u001b[0m\u001b[1;33m\u001b[0m\u001b[1;33m\u001b[0m\u001b[0m\n\u001b[0;32m      4\u001b[0m     \"\"\"\n\u001b[1;32m----> 5\u001b[1;33m     \u001b[0mx\u001b[0m\u001b[1;33m,\u001b[0m\u001b[0my\u001b[0m\u001b[1;33m,\u001b[0m\u001b[0mn\u001b[0m\u001b[1;33m,\u001b[0m\u001b[0mm\u001b[0m \u001b[1;33m=\u001b[0m \u001b[0mR\u001b[0m\u001b[1;33m\u001b[0m\u001b[1;33m\u001b[0m\u001b[0m\n\u001b[0m\u001b[0;32m      6\u001b[0m     \u001b[0mn1\u001b[0m \u001b[1;33m=\u001b[0m \u001b[0mn\u001b[0m\u001b[1;33m*\u001b[0m\u001b[0mm\u001b[0m\u001b[1;33m\u001b[0m\u001b[1;33m\u001b[0m\u001b[0m\n\u001b[0;32m      7\u001b[0m     \u001b[0msig1\u001b[0m \u001b[1;33m=\u001b[0m \u001b[0mI\u001b[0m\u001b[1;33m[\u001b[0m\u001b[0mx\u001b[0m\u001b[1;33m:\u001b[0m\u001b[0mx\u001b[0m\u001b[1;33m+\u001b[0m\u001b[0mn\u001b[0m\u001b[1;33m,\u001b[0m\u001b[0my\u001b[0m\u001b[1;33m:\u001b[0m\u001b[0my\u001b[0m\u001b[1;33m+\u001b[0m\u001b[0mm\u001b[0m\u001b[1;33m]\u001b[0m\u001b[1;33m.\u001b[0m\u001b[0mstd\u001b[0m\u001b[1;33m(\u001b[0m\u001b[1;33m)\u001b[0m\u001b[1;33m\u001b[0m\u001b[1;33m\u001b[0m\u001b[0m\n",
      "\u001b[1;31mValueError\u001b[0m: not enough values to unpack (expected 4, got 1)"
     ]
    }
   ],
   "source": [
    "QT = split(img_test, R_init, seuil_predsplit, seuil_n, seuil_m)\n",
    "M = merge(QT,predmerge)\n",
    "print(M)\n",
    "# assert(len(M) == 3)"
   ]
  },
  {
   "cell_type": "markdown",
   "metadata": {},
   "source": [
    "### Question 5\n",
    "Write a function ``regions(LR,shape)`` that takes as arguments a list of regions (such as returned by the function ``merge()``) and an image size, and returns an image of the regions. Each region will be colored with the gray level corresponding to the average of the region. The ``shape`` parameter gives the size of the image to be produced. \n",
    "\n",
    "Test the function on the previous example."
   ]
  },
  {
   "cell_type": "code",
   "execution_count": null,
   "metadata": {},
   "outputs": [],
   "source": [
    "def regions(LR,shape):\n",
    "    \"\"\" list[Region]*tuple[int,int] -> Array \"\"\"\n"
   ]
  },
  {
   "cell_type": "markdown",
   "metadata": {},
   "source": [
    "## Exercise 4: experiments\n",
    "### Question 1\n",
    "Test the function ``merge()`` on the images ``angio``, ``cam``, ``muscle``, ``prisme`` and ``seiche``. Try to produce the best segmentations."
   ]
  },
  {
   "cell_type": "code",
   "execution_count": null,
   "metadata": {},
   "outputs": [],
   "source": []
  },
  {
   "cell_type": "markdown",
   "metadata": {},
   "source": [
    "### Question 2\n",
    "The result of the merge algorithm highly depends on how you visit the regions. One can then sort the leaves of the quadtree, for example, from the smallest to the largest blocks, or the opposite (use the Python function ``sorted()``). \n",
    "The same question arises when calculating the set of neighbors of the merged region. Should they be sorted? If yes, according to which criteria? their size? their proximity? \n",
    "Obviously there is no universal answer but it should be adapted to each type of problem. \n",
    "Do some tests to see the influence of these sortings on the result of the merger."
   ]
  },
  {
   "cell_type": "code",
   "execution_count": null,
   "metadata": {},
   "outputs": [],
   "source": []
  },
  {
   "cell_type": "markdown",
   "metadata": {},
   "source": [
    "### Question 3 (bonus)\n",
    "Imagine and experiment alternative predicates for both the split and the merge steps. It is possible to use edges-based predicates, and also to combine with variance-based predicates.\n"
   ]
  },
  {
   "cell_type": "code",
   "execution_count": null,
   "metadata": {},
   "outputs": [],
   "source": []
  }
 ],
 "metadata": {
  "kernelspec": {
   "display_name": "Python 3",
   "language": "python",
   "name": "python3"
  },
  "language_info": {
   "codemirror_mode": {
    "name": "ipython",
    "version": 3
   },
   "file_extension": ".py",
   "mimetype": "text/x-python",
   "name": "python",
   "nbconvert_exporter": "python",
   "pygments_lexer": "ipython3",
   "version": "3.8.5"
  }
 },
 "nbformat": 4,
 "nbformat_minor": 4
}
