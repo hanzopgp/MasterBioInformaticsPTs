{
 "cells": [
  {
   "cell_type": "code",
   "execution_count": 1,
   "metadata": {},
   "outputs": [],
   "source": [
    "import numpy as np"
   ]
  },
  {
   "cell_type": "markdown",
   "metadata": {},
   "source": [
    "# MAPSI - TME  - Rappels de Proba/stats"
   ]
  },
  {
   "cell_type": "markdown",
   "metadata": {},
   "source": [
    "## I- La planche de Galton (<font color=\"red\"> obligatoire</font>)"
   ]
  },
  {
   "cell_type": "markdown",
   "metadata": {},
   "source": [
    "### I.1- Loi de Bernouilli\n",
    "Écrire une fonction `bernouilli: float ->int` qui prend en argument la paramètre $p \\in [0,1]$ et qui renvoie aléatoirement $0$ (avec la probabilité $1-p$) ou $1$ (avec la probabilité $p$)."
   ]
  },
  {
   "cell_type": "code",
   "execution_count": 2,
   "metadata": {},
   "outputs": [],
   "source": [
    "def bernouilli(p):\n",
    "    if(np.random.random(1)>p):\n",
    "        return 1\n",
    "    else:\n",
    "        return 0"
   ]
  },
  {
   "cell_type": "markdown",
   "metadata": {},
   "source": [
    "### I.2- Loi binomiale\n",
    "Écrire une fonction `binomiale: int , float -> int` qui prend en argument un entier $n$ et $p \\in [0,1]$ et qui renvoie aléatoirement un nimbre tiré selon la distribution ${\\cal B}(n,p)$."
   ]
  },
  {
   "cell_type": "code",
   "execution_count": 3,
   "metadata": {},
   "outputs": [],
   "source": [
    "def binomiale(n, p):\n",
    "    acc=0\n",
    "    for i in range(n):\n",
    "        acc += bernouilli(p)\n",
    "    return acc"
   ]
  },
  {
   "cell_type": "markdown",
   "metadata": {},
   "source": [
    "### I.3- Histogramme de la loi binomiale\n",
    "<img src=\"tme2_Galton.jpg\" title=\"Planche de Galton\" style=\"float: right;\">\n",
    "\n",
    "Dans cette question, on considère une planche de Galton de hauteur $n$. On rappelle que des bâtons horizontaux (oranges) sont cloués à cette planche comme le montre la figure ci-contre. \n",
    "\n",
    " Des billes bleues tombent du haut de la planche et, à chaque niveau, se retrouvent à la verticale d'un des bâtons. Elles vont alors tomber soit à gauche, soit à droite du bâton, jusqu'à atteindre le bas de la planche. Ce dernier est constitué de petites boites dont les bords sont symbolisés par les lignes verticales grises. \n",
    " \n",
    "Chaque boite renferme des billes qui sont passées exactement le même nombre de fois à droite des bâtons oranges. Par exemple, la boite la plus à gauche renferme les billes qui ne sont jamais passées à droite d'un bâton, celle juste à sa droite renferme les billes passées une seule fois à droite d'un bâton et toutes les autres fois à gauche, et ainsi de suite. \n",
    "\n",
    "La répartition des billes dans les boites suit donc une loi binomiale ${\\cal B}(n,0.5)$. \n",
    "\n",
    "Écrire un script qui crée un tableau de $1000$ cases dont le contenu correspond à $1000$ instanciations de la loi binomiale ${\\cal B}(n,0.5)$. Afin de voir la répartition des billes dans la planche de Galton, tracer l'histogramme de ce tableau. Vous pourrez utiliser la fonction hist de matplotlib.pyplot: "
   ]
  },
  {
   "cell_type": "code",
   "execution_count": 4,
   "metadata": {},
   "outputs": [
    {
     "data": {
      "image/png": "[encoded data removed]",
      "text/plain": [
       "<Figure size 432x288 with 1 Axes>"
      ]
     },
     "metadata": {
      "needs_background": "light"
     },
     "output_type": "display_data"
    }
   ],
   "source": [
    "import matplotlib.pyplot as plt\n",
    "\n",
    "nb_billes = 10000\n",
    "nb_etape = 100\n",
    "proba = 0.5\n",
    "tab = np.array([])\n",
    "\n",
    "for i in range(nb_billes):\n",
    "    tab = np.append(tab, binomiale(nb_etape, proba))\n",
    "\n",
    "plt.hist(tab, nb_etape, width=0.7)\n",
    "plt.title(\"Histogramme répartition des billets dans la planche de Galton\")\n",
    "plt.show()"
   ]
  },
  {
   "cell_type": "markdown",
   "metadata": {},
   "source": [
    "Pour le nombre de bins, calculez le nombre de valeurs différentes dans votre tableau."
   ]
  },
  {
   "cell_type": "code",
   "execution_count": 5,
   "metadata": {},
   "outputs": [
    {
     "name": "stdout",
     "output_type": "stream",
     "text": [
      "Nombre de barres de l'histogramme: 36\n"
     ]
    }
   ],
   "source": [
    "nb_unique = np.size(np.unique(tab))\n",
    "print(\"Nombre de barres de l'histogramme:\",nb_unique)"
   ]
  },
  {
   "cell_type": "markdown",
   "metadata": {},
   "source": [
    "## II- Visualisation d'indépendances (<font color=\"red\"> obligatoire</font>)"
   ]
  },
  {
   "cell_type": "markdown",
   "metadata": {},
   "source": [
    "### II.1- Loi normale centrée réduite\n",
    "<img src=\"tme2_normale.jpg\" title=\"Planche de Galton\" style=\"float: right;\">\n",
    "\n",
    "On souhaite visualiser la fonction de densité de la loi normale. Pour cela, on va créer un ensemble de $k$ points $(x_i,y_i$), pour des $x_i$ équi-espacés variant de $-2σ$ à $2σ$, les $y_i$ correspondant à la valeur de la fonction de densité de la loi normale centrée de variance $σ^2$, autrement dit ${\\cal N}(0,σ^2)$.\n",
    "\n",
    "Écrire une fonction `normale : int , float -> float np.array` qui, étant donné un paramètre entier `k` impair et un paramètre réel `sigma` renvoie l'`array numpy` des $k$ valeurs $y_i$. Afin que l'`array numpy` soit bien symmétrique, on lèvera une exception si $k$ est pair."
   ]
  },
  {
   "cell_type": "code",
   "execution_count": 6,
   "metadata": {},
   "outputs": [],
   "source": [
    "import random\n",
    "import math\n",
    "\n",
    "def normale(k, sigma):\n",
    "    if(k%2==0):\n",
    "        raise ValueError(\"le nombre k doit etre impair\")\n",
    "    else:\n",
    "        res = np.zeros(shape=(k, 2))\n",
    "        for i in range(k):\n",
    "            x = random.uniform(-2*sigma, 2*sigma)\n",
    "            y = (1/(sigma*math.sqrt(2*math.pi))) * math.e**(-(1/2) * (x/sigma)**2)\n",
    "#             print(\"x:\",x)\n",
    "#             print(\"y:\",y)\n",
    "            res[i][0] = x\n",
    "            res[i][1] = y\n",
    "        return res"
   ]
  },
  {
   "cell_type": "markdown",
   "metadata": {},
   "source": [
    "Vérfier la validité de votre fonction en affichant grâce à la fonction plot les points générés dans une figure. "
   ]
  },
  {
   "cell_type": "code",
   "execution_count": 7,
   "metadata": {},
   "outputs": [
    {
     "data": {
      "image/png": "[encoded data removed]",
      "text/plain": [
       "<Figure size 432x288 with 1 Axes>"
      ]
     },
     "metadata": {
      "needs_background": "light"
     },
     "output_type": "display_data"
    }
   ],
   "source": [
    "nb_points = 20001\n",
    "sigma = 10\n",
    "points = normale(nb_points, sigma)\n",
    "\n",
    "plt.plot(points[:,0], points[:,1]) # Pourquoi ca trace pas une courbe normale ?\n",
    "plt.title(\"Loi normale entre -2 sigma et +2 sigma\")\n",
    "plt.show()"
   ]
  },
  {
   "cell_type": "markdown",
   "metadata": {},
   "source": [
    "### II.2- Distribution de probabilité affine\n",
    "<img src=\"tme2_lineaire.jpg\" title=\"Distribution affine\" style=\"float: right;\">\n",
    "\n",
    "Dans cette question, on considère une généralisation de la distribution uniforme: une distribution affine, c'est-à-dire que la fonction de densité est une droite, mais pas forcément horizontale, comme le montre la figure ci-contre. \n",
    "\n",
    "Écrire une fonction `proba_affine : int , float -> float np.array` qui, comme dans la question précédente, va générer un ensemble de $k$ points $y_i, i=0,...,k−1$, représentant cette distribution (paramétrée par sa pente `slope`). On vérifiera ici aussi que l'entier $k$ est impair. Si la pente est égale à $0$, c'est-à-dire si la distribution est uniforme, chaque point $y_i$ devrait être égal à $\\frac{1}{k}$ (afin que $\\sum y_i=1$). Si la pente est différente de $0$, il suffit de choisir, $\\forall i=0,...,k−1$,\n",
    "\n",
    "$$y_i=\\frac{1}{k}+(i−\\frac{k−1}{2})×slope$$\n",
    "\n",
    "Vous pourrez aisément vérifier que, ici aussi, $\\sum y_i=1$. Afin que la distribution soit toujours positive (c'est quand même un minimum pour une distribution de probabilité), il faut que la pente slope ne soit ni trop grande ni trop petite. Le bout de code ci-dessous lèvera une exception si la pente est trop élevée et indiquera la pente maximale possible. "
   ]
  },
  {
   "cell_type": "code",
   "execution_count": 8,
   "metadata": {},
   "outputs": [],
   "source": [
    "def proba_affine(k, slope):\n",
    "    if k % 2 == 0:\n",
    "        raise ValueError(\"le nombre k doit etre impair\")\n",
    "    if abs ( slope  ) > 2. / ( k * k ):\n",
    "        raise ValueError(\"la pente est trop raide : pente max = \" +\n",
    "        str ( 2. / ( k * k ) ) )\n",
    "    res = np.zeros(shape=(k, 2))\n",
    "    for i in range(k):\n",
    "        res[i][0] = i\n",
    "        res[i][1] = (1/k) + (i - ((k-1)/2)) * slope\n",
    "    return res"
   ]
  },
  {
   "cell_type": "code",
   "execution_count": 9,
   "metadata": {},
   "outputs": [
    {
     "data": {
      "image/png": "[encoded data removed]",
      "text/plain": [
       "<Figure size 432x288 with 1 Axes>"
      ]
     },
     "metadata": {
      "needs_background": "light"
     },
     "output_type": "display_data"
    }
   ],
   "source": [
    "nb_points = 51\n",
    "slope = 1e-4\n",
    "points = proba_affine(nb_points, slope)\n",
    "plt.plot(points[:,0], points[:,1])\n",
    "plt.title(\"Courbe distribution de probabilité affine\")\n",
    "plt.show()"
   ]
  },
  {
   "cell_type": "markdown",
   "metadata": {},
   "source": [
    "### II.3- Distribution jointe\n",
    "Écrire une fonction `Pxy : float np.array , float np.array -> float np.2D-array` qui, étant donné deux tableaux numpy de nombres réels à $1$ dimension générés par les fonctions des questions précédentes et représentant deux distributions de probabilités $P(A)$ et $P(B)$, renvoie la distribution jointe $P(A,B)$ sous forme d'un tableau numpy à $2$ dimensions de nombres réels, en supposant que $A$ et $B$ sont des variables aléatoires indépendantes. Par exemple, si:"
   ]
  },
  {
   "cell_type": "code",
   "execution_count": 10,
   "metadata": {},
   "outputs": [],
   "source": [
    "PA = np.array ( [0.2, 0.7, 0.1] )\n",
    "PB = np.array ( [0.4, 0.4, 0.2] )"
   ]
  },
  {
   "cell_type": "markdown",
   "metadata": {},
   "source": [
    "alors `Pxy(A,B)` renverra le tableau :\n",
    "```\n",
    "np.array([[ 0.08,  0.08,  0.04],\n",
    "          [ 0.28,  0.28,  0.14],\n",
    "          [ 0.04,  0.04,  0.02]])\n",
    "```"
   ]
  },
  {
   "cell_type": "code",
   "execution_count": 11,
   "metadata": {},
   "outputs": [],
   "source": [
    "def Pxy(x,y):\n",
    "    n1 = np.size(x)\n",
    "    n2 = np.size(y)\n",
    "    res = np.zeros(shape=(n1, n2))\n",
    "    for i in range(n1):\n",
    "        for j in range(n2):\n",
    "            res[i][j] = x[i]*y[j]\n",
    "    return res"
   ]
  },
  {
   "cell_type": "code",
   "execution_count": 12,
   "metadata": {},
   "outputs": [
    {
     "name": "stdout",
     "output_type": "stream",
     "text": [
      "Distribution jointe de PA PB:\n",
      " [[0.08 0.08 0.04]\n",
      " [0.28 0.28 0.14]\n",
      " [0.04 0.04 0.02]]\n"
     ]
    }
   ],
   "source": [
    "print(\"Distribution jointe de PA PB:\\n\",Pxy(PA, PB))"
   ]
  },
  {
   "cell_type": "markdown",
   "metadata": {},
   "source": [
    "### II.4- Affichage de la distribution jointe\n",
    "<img src=\"tme2_jointe.jpg\" title=\"Distribution jointe\" style=\"float: right;\">\n",
    "\n",
    "Le code ci-dessous permet d'afficher en 3D une probabilité jointe générée par la fonction précédente. Exécutez-le avec une probabilité jointe résultant de la combinaison d'une loi normale et d'une distribution affine. \n",
    "\n",
    "Si la commande `%matplotlib notebook` fonctione, vous pouvez interagir avec la courbe. Si le contenu de la fenêtre est vide, redimensionnez celle-ci et le contenu devrait apparaître. Cliquez à la souris à l'intérieur de la fenêtre et bougez la souris en gardant le bouton appuyé afin de faire pivoter la courbe. Observez sous différents angles cette courbe. Refaites l'expérience avec une probaiblité jointe résultant de deux lois normales. Essayez de comprendre ce que signifie, visuellement, l'indépendance probabiliste. Vous pouvez également recommencer l'expérience avec le logarithme des lois jointes.\n"
   ]
  },
  {
   "cell_type": "code",
   "execution_count": 13,
   "metadata": {},
   "outputs": [],
   "source": [
    "from mpl_toolkits.mplot3d import Axes3D\n",
    "%matplotlib inline  \n",
    "# essayer `%matplotib notebook` pour interagir avec la visualisation 3D\n",
    "\n",
    "def dessine ( P_jointe ):\n",
    "    fig = plt.figure()\n",
    "    ax = fig.add_subplot(111, projection='3d')\n",
    "    x = np.linspace ( -3, 3, P_jointe.shape[0] )\n",
    "    y = np.linspace ( -3, 3, P_jointe.shape[1] )\n",
    "    X, Y = np.meshgrid(x, y)\n",
    "    ax.plot_surface(X, Y, P_jointe, rstride=1, cstride=1 )\n",
    "    ax.set_xlabel('A')\n",
    "    ax.set_ylabel('B')\n",
    "    ax.set_zlabel('P(A) * P(B)')\n",
    "    plt.show ()"
   ]
  },
  {
   "cell_type": "code",
   "execution_count": 14,
   "metadata": {},
   "outputs": [
    {
     "data": {
      "image/png": "[encoded data removed]",
      "text/plain": [
       "<Figure size 432x288 with 1 Axes>"
      ]
     },
     "metadata": {
      "needs_background": "light"
     },
     "output_type": "display_data"
    }
   ],
   "source": [
    "dessine(Pxy(PA,PB))"
   ]
  },
  {
   "cell_type": "code",
   "execution_count": 15,
   "metadata": {},
   "outputs": [
    {
     "data": {
      "image/png": "[encoded data removed]",
      "text/plain": [
       "<Figure size 432x288 with 1 Axes>"
      ]
     },
     "metadata": {
      "needs_background": "light"
     },
     "output_type": "display_data"
    }
   ],
   "source": [
    "k = 101\n",
    "sigma = 10\n",
    "slope = 1e-10\n",
    "dessine(Pxy(normale(k, sigma)[1], proba_affine(k, slope)[1]))"
   ]
  },
  {
   "cell_type": "markdown",
   "metadata": {},
   "source": [
    "## III- Indépendances conditionnelles (<font color=\"red\"> obligatoire</font>)\n",
    "\n",
    "Dans cet exercice, on considère quatre variables aléatoires booléennes $X$, $Y$, $Z$ et $T$ ainsi que leur distribution jointe $P(X,Y,Z,T)$ encodée en python de la manière suivante : "
   ]
  },
  {
   "cell_type": "code",
   "execution_count": 16,
   "metadata": {},
   "outputs": [],
   "source": [
    "# creation de P(X,Y,Z,T)                     \n",
    "P_XYZT = np.array([[[[ 0.0192,  0.1728],\n",
    "                     [ 0.0384,  0.0096]],    \n",
    "                                             \n",
    "                    [[ 0.0768,  0.0512],     \n",
    "                     [ 0.016 ,  0.016 ]]],   \n",
    "                                             \n",
    "                   [[[ 0.0144,  0.1296],  \n",
    "                     [ 0.0288,  0.0072]],    \n",
    "                                             \n",
    "                    [[ 0.2016,  0.1344],     \n",
    "                     [ 0.042 ,  0.042 ]]]])  "
   ]
  },
  {
   "cell_type": "markdown",
   "metadata": {},
   "source": [
    "Ainsi, $\\forall (x,y,z,t) \\in \\{0,1\\}^4$, `P_XYZT[x][y][z][t]` correspond à $P(X=x,Y=y,Z=z,T=t)$ ou, en version abrégée, à $P(x,y,z,t)$. "
   ]
  },
  {
   "cell_type": "markdown",
   "metadata": {},
   "source": [
    "### III.1- Indépendance de X et T conditionnellement à (Y,Z)\n",
    "On souhaite tester si les variables aléatoires $X$ et $T$ sont indépendantes conditionnellement à $(Y,Z)$. Il s'agit donc de vérifer que dans la loi $P$, $$P(X,T|Y,Z)=P(X|Y,Z)\\cdot P(T|Y,Z)$$\n",
    "\n",
    "\n",
    "Pour cela, tout d'abord, calculer à partir de `P_XYZT` le tableau `P_YZ` représentant la distribution $P(Y,Z)$. On rappelle que $$P(Y,Z)=\\sum_{X,T} P(X,Y,Z,T)$$\n",
    "\n",
    "Le tableau `P_YZ` est donc un tableau à deux dimensions, dont la première correspond à $Y$ et la deuxième à $Z$. Si vous ne vous êtes pas trompé(e)s, vous devez obtenir le tableau suivant : \n",
    "```\n",
    "np.array([[ 0.336,  0.084],\n",
    "          [ 0.464,  0.116]])\n",
    "```\n",
    "\n",
    "Ainsi $P(Y=0,Z=1)=$ `P_YZ[0][1]` $=0.084$"
   ]
  },
  {
   "cell_type": "code",
   "execution_count": 17,
   "metadata": {},
   "outputs": [],
   "source": [
    "# print(P_XYZT[0][1][0][0])\n",
    "# print(P_XYZT[0][1][0][1])\n",
    "# print(P_XYZT[0][1][1][0])\n",
    "# print(P_XYZT[0][1][1][1])\n",
    "\n",
    "# print(P_XYZT[1][1][0][1])\n",
    "# print(P_XYZT[1][1][1][0])\n",
    "# print(P_XYZT[1][1][1][1])\n",
    "# print(P_XYZT[1][1][0][0])\n",
    "\n",
    "# print(P_XYZT[1][1][1][1])\n",
    "\n",
    "# print(P_XYZT[0][1][1][0])\n",
    "# P_YZ = Pxy(P_XYZT[0][:,1][0][0], P_XYZT[0][0][:,1][0])\n",
    "# print(P_YZ)"
   ]
  },
  {
   "cell_type": "markdown",
   "metadata": {},
   "source": [
    "Ensuite, calculer le tableau `P_XTcondYZ` représentant la distribution $P(X,T|Y,Z)$. Ce tableau a donc 4 dimensions, chacune correspondant à une des variables aléatoires. De plus, les valeurs de `P_XTcondYZ` sont obtenues en utilisant la formule des probabilités conditionnelles: $$P(X,T|Y,Z)=\\frac{P(X,Y,Z,T)}{P(Y,Z)}$$"
   ]
  },
  {
   "cell_type": "code",
   "execution_count": 18,
   "metadata": {},
   "outputs": [],
   "source": [
    "# P_XTcondYZ = P_XYZT/P_YZ\n",
    "# print(P_XTcondYZ)"
   ]
  },
  {
   "cell_type": "markdown",
   "metadata": {},
   "source": [
    "Calculer à partir de `P_XTcondYZ` les tableaux à 3 dimensions `P_XcondYZ` et `P_TcondYZ` représentant respectivement les distributions $P(X|Y,Z)$ et $P(T|Y,Z)$. On rappelle que $$P(X|Y,Z)=∑_Y P(X,T|Y,Z)$$"
   ]
  },
  {
   "cell_type": "code",
   "execution_count": 19,
   "metadata": {},
   "outputs": [],
   "source": [
    "# P_XcondYZ = P_XYZT\n",
    "# P_TcondYZ = P_XYZT"
   ]
  },
  {
   "cell_type": "markdown",
   "metadata": {},
   "source": [
    "Enfin, tester si $X$ et $T$ sont indépendantes conditionnellement à $(Y,Z)$: si c'est bien le cas, on doit avoir $$P(X,T|Y,Z)=P(X|Y,Z)×P(T|Y,Z)$$ "
   ]
  },
  {
   "cell_type": "markdown",
   "metadata": {},
   "source": [
    "### III.2- Indépendance de X et (Y,Z)\n",
    "\n",
    "On souhaite maintenant déterminer si $X$ et $(Y,Z)$ sont indépendantes. Pour cela, commencer par calculer à partir de `P_XYZT` le tableau `P_XYZ` représentant la distribution $P(X,Y,Z)$. \n",
    "\n",
    "Ensuite, calculer à partir de `P_XYZ` les tableaux `P_X` et `P_YZ` représentant respectivement les distributions $P(X)$ et $P(Y,Z)$. On rappelle que $$P(X)=∑_Y∑_Z P(X,Y,Z)$$\n",
    "\n",
    "Si vous ne vous êtes pas trompé(e), P_X doit être égal au tableau suivant : \n",
    "```\n",
    "np.array([ 0.4,  0.6])\n",
    "```"
   ]
  },
  {
   "cell_type": "code",
   "execution_count": 20,
   "metadata": {},
   "outputs": [],
   "source": [
    "# P_XYZ = Pxy(P_XYZT[1][0][0], P_XYZT[0][1][1])\n",
    "# print(P_YZ)"
   ]
  },
  {
   "cell_type": "markdown",
   "metadata": {},
   "source": [
    "Enfin, si $X$ et $(Y,Z)$ sont bien indépendantes, on doit avoir $$P(X,Y,Z)=P(X)×P(Y,Z)$$"
   ]
  },
  {
   "cell_type": "code",
   "execution_count": 21,
   "metadata": {},
   "outputs": [],
   "source": [
    "# P_XYZ == Pxy(P_X, P_YZ)"
   ]
  },
  {
   "cell_type": "markdown",
   "metadata": {},
   "source": [
    "## IV- Indépendances conditionnelles et consommation mémoire  (<font color=\"red\"> obligatoire</font>)\n",
    "\n",
    "Le but de cet exercice est d'exploiter les probabilités conditionnelles et les indépendances conditionnelles afin de décomposer une probabilité jointe en un produit de \"petites probabilités conditionnelles\". Cela permet de stocker des probabilités jointes de grandes tailles sur des ordinateurs \"standards\". Au cours de l'exercice, vous allez donc partir d'une probabilité jointe et, progressivement, construire un programme qui identifie ces indépendances conditionnelles.\n",
    "\n",
    "Pour simplifier, dans la suite de cet exercice, nous allons considérer un ensemble $X_0,…,X_n$ de variables aléatoires binaires (elles ne peuvent prendre que 2 valeurs : 0 et 1). \n",
    "\n",
    "### Simplification du code : utilisation de pyAgrum\n",
    "\n",
    "Manipuler des probabilités et des opérations sur des probabilités complexes est difficiles avec les outils classiques. La difficulté principale est certainement le problème du mapping entre axe et variable aléatoire. `pyAgrum` propose une gestion de `Potential` qui sont des tableaux multidimensionnels dont les axes sont caractérisés par des variables et sont donc non ambigüs.\n",
    "\n",
    "Par exemple, après l'initiation du `Potential PABCD` :"
   ]
  },
  {
   "cell_type": "code",
   "execution_count": 22,
   "metadata": {},
   "outputs": [],
   "source": [
    "import pyAgrum as gum\n",
    "import pyAgrum.lib.notebook as gnb\n",
    "\n",
    "X,Y,Z,T=[gum.LabelizedVariable(x,x,2) for x in \"XYZT\"]\n",
    "pXYZT=gum.Potential().add(T).add(Z).add(Y).add(X)\n",
    "pXYZT[:]=[[[[ 0.0192,  0.1728],\n",
    "            [ 0.0384,  0.0096]],\n",
    "           [[ 0.0768,  0.0512],\n",
    "            [ 0.016 ,  0.016 ]]],\n",
    "          [[[ 0.0144,  0.1296],\n",
    "            [ 0.0288,  0.0072]],\n",
    "           [[ 0.2016,  0.1344],\n",
    "            [ 0.042 ,  0.042 ]]]]"
   ]
  },
  {
   "cell_type": "markdown",
   "metadata": {},
   "source": [
    "On peut alors utiliser la méthode `margSumOut` qui supprime les variables par sommations: `p.margSumOut(['X','Y'])` correspond à calculer $\\sum_{X,Y} p$\n",
    "\n",
    "La réponse a question III.1 se calcule donc ainsi :"
   ]
  },
  {
   "cell_type": "code",
   "execution_count": 23,
   "metadata": {},
   "outputs": [
    {
     "name": "stdout",
     "output_type": "stream",
     "text": [
      "=> X et T sont indépendants conditionnellemnt à Y et Z\n"
     ]
    }
   ],
   "source": [
    "pXT_YZ=pXYZT/pXYZT.margSumOut(['X','T'])\n",
    "pX_YZ=pXT_YZ.margSumOut(['T'])\n",
    "pT_YZ=pXT_YZ.margSumOut(['X'])\n",
    "\n",
    "if pXT_YZ==pX_YZ*pT_YZ:\n",
    "    print(\"=> X et T sont indépendants conditionnellemnt à Y et Z\")\n",
    "else:\n",
    "    print(\"=> pas d'indépendance trouvée\")\n"
   ]
  },
  {
   "cell_type": "markdown",
   "metadata": {},
   "source": [
    "La réponse à la question III.2 se calcule ainsi :"
   ]
  },
  {
   "cell_type": "code",
   "execution_count": 24,
   "metadata": {},
   "outputs": [
    {
     "name": "stdout",
     "output_type": "stream",
     "text": [
      "=> pas d'indépendance trouvée\n"
     ]
    }
   ],
   "source": [
    "pXYZ=pXYZT.margSumOut(\"T\")\n",
    "pYZ=pXYZ.margSumOut(\"X\")\n",
    "pX=pXYZ.margSumOut([\"Y\",\"Z\"])\n",
    "if pXYZ==pX*pYZ:\n",
    "    print(\"=> X et YZ sont indépendants\")\n",
    "else:\n",
    "    print(\"=> pas d'indépendance trouvée\")"
   ]
  },
  {
   "cell_type": "code",
   "execution_count": 25,
   "metadata": {},
   "outputs": [
    {
     "data": {
      "text/html": [
       "<table style=\"border-style: hidden; border-collapse: collapse;\" width=\"100%\"><tr><td style=\"border-top:hidden;border-bottom:hidden;\"><div align=\"center\" style=\"\"><table style=\"border:1px solid black;\">\n",
       "<tr><th colspan='2'></th>\n",
       "      <th colspan='2' style='border:1px solid black;color:black;background-color:#808080;'><center>Z</center>\n",
       "      </th></tr>\n",
       "<tr><th style='border:1px solid black;color:black;background-color:#808080'><center>X</center></th><th style='border:1px solid black;color:black;background-color:#808080'><center>Y</center></th><th style='border:1px solid black;border-bottom-style: double;color:black;background-color:#BBBBBB'>\n",
       "      <center>0</center></th><th style='border:1px solid black;border-bottom-style: double;color:black;background-color:#BBBBBB'>\n",
       "      <center>1</center></th></tr>\n",
       "<tr><th style='border:1px solid black;color:black;background-color:#BBBBBB;' rowspan = '2'>\n",
       "            <center>0</center></th><th style='border:1px solid black;color:black;background-color:#BBBBBB'><center>0</center></th><td style='color:black;background-color:#e69764;text-align:right;'>0.1920</td><td style='color:black;background-color:#f88564;text-align:right;'>0.0480</td></tr>\n",
       "<tr><th style='border:1px solid black;color:black;background-color:#BBBBBB'><center>1</center></th><td style='color:black;background-color:#ee8f64;text-align:right;'>0.1280</td><td style='color:black;background-color:#fa8364;text-align:right;'>0.0320</td></tr>\n",
       "<tr><th style='border:1px solid black;color:black;background-color:#BBBBBB;' rowspan = '2'>\n",
       "            <center>1</center></th><th style='border:1px solid black;color:black;background-color:#BBBBBB'><center>0</center></th><td style='color:black;background-color:#ec9164;text-align:right;'>0.1440</td><td style='color:black;background-color:#fa8364;text-align:right;'>0.0360</td></tr>\n",
       "<tr><th style='border:1px solid black;color:black;background-color:#BBBBBB'><center>1</center></th><td style='color:black;background-color:#d3aa64;text-align:right;'>0.3360</td><td style='color:black;background-color:#f48964;text-align:right;'>0.0840</td></tr>\n",
       "</table></div></td><td style=\"border-top:hidden;border-bottom:hidden;\"><div align=\"center\" style=\"\"><table style=\"border:1px solid black;\">\n",
       "<tr style='border:1px solid black;color:black;background-color:#808080'>\n",
       "      <th colspan='2'><center>X</center></th></tr>\n",
       "<tr><th style='border:1px solid black;border-bottom-style: double;color:black;background-color:#BBBBBB'>\n",
       "      <center>0</center></th><th style='border:1px solid black;border-bottom-style: double;color:black;background-color:#BBBBBB'>\n",
       "      <center>1</center></th></tr>\n",
       "<tr><td style='color:black;background-color:#cbb264;text-align:right;'>0.4000</td><td style='color:black;background-color:#b2cb64;text-align:right;'>0.6000</td></tr>\n",
       "</table></div></td><td style=\"border-top:hidden;border-bottom:hidden;\"><div align=\"center\" style=\"\"><table style=\"border:1px solid black;\">\n",
       "<tr><th colspan='1'></th>\n",
       "      <th colspan='2' style='border:1px solid black;color:black;background-color:#808080;'><center>Z</center>\n",
       "      </th></tr>\n",
       "<tr><th style='border:1px solid black;color:black;background-color:#808080'><center>Y</center></th><th style='border:1px solid black;border-bottom-style: double;color:black;background-color:#BBBBBB'>\n",
       "      <center>0</center></th><th style='border:1px solid black;border-bottom-style: double;color:black;background-color:#BBBBBB'>\n",
       "      <center>1</center></th></tr>\n",
       "<tr><th style='border:1px solid black;color:black;background-color:#BBBBBB'><center>0</center></th><td style='color:black;background-color:#d3aa64;text-align:right;'>0.3360</td><td style='color:black;background-color:#f48964;text-align:right;'>0.0840</td></tr>\n",
       "<tr><th style='border:1px solid black;color:black;background-color:#BBBBBB'><center>1</center></th><td style='color:black;background-color:#c3ba64;text-align:right;'>0.4640</td><td style='color:black;background-color:#f08d64;text-align:right;'>0.1160</td></tr>\n",
       "</table></div></td><td style=\"border-top:hidden;border-bottom:hidden;\"><div align=\"center\" style=\"\"><table style=\"border:1px solid black;\">\n",
       "<tr><th colspan='2'></th>\n",
       "      <th colspan='2' style='border:1px solid black;color:black;background-color:#808080;'><center>Z</center>\n",
       "      </th></tr>\n",
       "<tr><th style='border:1px solid black;color:black;background-color:#808080'><center>X</center></th><th style='border:1px solid black;color:black;background-color:#808080'><center>Y</center></th><th style='border:1px solid black;border-bottom-style: double;color:black;background-color:#BBBBBB'>\n",
       "      <center>0</center></th><th style='border:1px solid black;border-bottom-style: double;color:black;background-color:#BBBBBB'>\n",
       "      <center>1</center></th></tr>\n",
       "<tr><th style='border:1px solid black;color:black;background-color:#BBBBBB;' rowspan = '2'>\n",
       "            <center>0</center></th><th style='border:1px solid black;color:black;background-color:#BBBBBB'><center>0</center></th><td style='color:black;background-color:#ed9064;text-align:right;'>0.1344</td><td style='color:black;background-color:#fa8364;text-align:right;'>0.0336</td></tr>\n",
       "<tr><th style='border:1px solid black;color:black;background-color:#BBBBBB'><center>1</center></th><td style='color:black;background-color:#e79664;text-align:right;'>0.1856</td><td style='color:black;background-color:#f98464;text-align:right;'>0.0464</td></tr>\n",
       "<tr><th style='border:1px solid black;color:black;background-color:#BBBBBB;' rowspan = '2'>\n",
       "            <center>1</center></th><th style='border:1px solid black;color:black;background-color:#BBBBBB'><center>0</center></th><td style='color:black;background-color:#e59864;text-align:right;'>0.2016</td><td style='color:black;background-color:#f88564;text-align:right;'>0.0504</td></tr>\n",
       "<tr><th style='border:1px solid black;color:black;background-color:#BBBBBB'><center>1</center></th><td style='color:black;background-color:#dba264;text-align:right;'>0.2784</td><td style='color:black;background-color:#f68764;text-align:right;'>0.0696</td></tr>\n",
       "</table></div></td></tr><tr><td style=\"border-top:hidden;border-bottom:hidden;\"><div align=\"center\"><small>$P(X,Y,Z)$</small></div></td><td style=\"border-top:hidden;border-bottom:hidden;\"><div align=\"center\"><small>$P(X)$</small></div></td><td style=\"border-top:hidden;border-bottom:hidden;\"><div align=\"center\"><small>$P(Y,Z)$</small></div></td><td style=\"border-top:hidden;border-bottom:hidden;\"><div align=\"center\"><small>$P(X)\\cdot P(Y,Z)$</small></div></td></tr></table>"
      ],
      "text/plain": [
       "<IPython.core.display.HTML object>"
      ]
     },
     "metadata": {},
     "output_type": "display_data"
    }
   ],
   "source": [
    "gnb.sideBySide(pXYZ,pX,pYZ,pX*pYZ,\n",
    "               captions=['$P(X,Y,Z)$','$P(X)$','$P(Y,Z)$','$P(X)\\cdot P(Y,Z)$'])"
   ]
  },
  {
   "cell_type": "markdown",
   "metadata": {},
   "source": [
    "`asia.txt` contient la description d'une probabilité jointe sur un ensemble de $8$ variables aléatoires binaires (256 paramètres). Le fichier est produit à partir du site web suivant `http://www.bnlearn.com/bnrepository/`.\n",
    "\n",
    "Le code suivant permet de lire ce fichier et d'en récupérer la probabilité jointe (sous forme d'une `gum.Potential`) qu'il contient : "
   ]
  },
  {
   "cell_type": "code",
   "execution_count": 26,
   "metadata": {},
   "outputs": [
    {
     "name": "stdout",
     "output_type": "stream",
     "text": [
      "Les variables : ['visit_to_Asia?', 'tuberculosis?', 'smoking?', 'lung_cancer?', 'tuberculosis_or_lung_cancer?', 'bronchitis?', 'positive_Xray?', 'dyspnoea?']\n"
     ]
    }
   ],
   "source": [
    "def read_file ( filename ):\n",
    "    \"\"\"\n",
    "    Renvoie les variables aléatoires et la probabilité contenues dans le\n",
    "    fichier dont le nom est passé en argument.\n",
    "    \"\"\"\n",
    "    Pres = gum.Potential ()\n",
    "    vars=[]\n",
    "\n",
    "    with open ( filename, 'r' ) as fic:\n",
    "        # on rajoute les variables dans le potentiel\n",
    "        nb_vars = int ( fic.readline () )\n",
    "        for i in range ( nb_vars ):\n",
    "            name, domsize = fic.readline ().split ()\n",
    "            vars.append(name)\n",
    "            variable = gum.LabelizedVariable(name,name,int (domsize))\n",
    "            Pres.add(variable)\n",
    "\n",
    "        # on rajoute les valeurs de proba dans le potentiel\n",
    "        cpt = []\n",
    "        for line in fic:\n",
    "            cpt.append ( float(line) )\n",
    "        Pres.fillWith( cpt )\n",
    "    return vars,Pres\n",
    "\n",
    "vars,Pjointe=read_file('asia.txt')\n",
    "# afficher Pjointe est un peu délicat (retire le commentaire de la ligne suivante)\n",
    "# Pjointe\n",
    "\n",
    "print('Les variables : '+str(vars))"
   ]
  },
  {
   "cell_type": "code",
   "execution_count": 27,
   "metadata": {},
   "outputs": [
    {
     "data": {
      "text/html": [
       "<table style=\"border:1px solid black;\">\n",
       "<tr><th colspan='1'></th>\n",
       "      <th colspan='2' style='border:1px solid black;color:black;background-color:#808080;'><center>tuberculosis?</center>\n",
       "      </th></tr>\n",
       "<tr><th style='border:1px solid black;color:black;background-color:#808080'><center>lung_cancer?</center></th><th style='border:1px solid black;border-bottom-style: double;color:black;background-color:#BBBBBB'>\n",
       "      <center>0</center></th><th style='border:1px solid black;border-bottom-style: double;color:black;background-color:#BBBBBB'>\n",
       "      <center>1</center></th></tr>\n",
       "<tr><th style='border:1px solid black;color:black;background-color:#BBBBBB'><center>0</center></th><td style='color:black;background-color:#fe7f64;text-align:right;'>0.0006</td><td style='color:black;background-color:#f88564;text-align:right;'>0.0544</td></tr>\n",
       "<tr><th style='border:1px solid black;color:black;background-color:#BBBBBB'><center>1</center></th><td style='color:black;background-color:#fd8064;text-align:right;'>0.0098</td><td style='color:black;background-color:#87f664;text-align:right;'>0.9352</td></tr>\n",
       "</table>"
      ],
      "text/plain": [
       "(pyAgrum.Potential<double>@0x10ca8da19a0) \n",
       "      ||  tuberculosis?    |\n",
       "lung_c||0        |1        |\n",
       "------||---------|---------|\n",
       "0     || 0.0006  | 0.0544  |\n",
       "1     || 0.0098  | 0.9352  |"
      ]
     },
     "execution_count": 27,
     "metadata": {},
     "output_type": "execute_result"
    }
   ],
   "source": [
    "# Noter qu'il existe une fonction margSumIn qui, à l'inverse de MargSumOut, élimine \n",
    "# toutes les variables qui ne sont pas dans les arguments\n",
    "Pjointe.margSumIn(['tuberculosis?','lung_cancer?'])"
   ]
  },
  {
   "cell_type": "markdown",
   "metadata": {},
   "source": [
    "### IV.1- test d'indépendance conditionnelle\n",
    "\n",
    "En utilisant la méthode `margSumIn` (voir juste au dessus), écrire une fonction `conditional_indep: Potential,str,str,list[str]->bool` qui rend vrai si dans le `Potential`, on peut lire l'indépendance conditionnelle.\n",
    "\n",
    "Par exemple, l'appel\n",
    "\n",
    "`conditional_indep(Pjointe,'bronchitis?', 'positive_Xray?',['tuberculosis?','lung_cancer?'])` \n",
    "\n",
    "vérifie si bronchitis est indépendant de `posititve_Xray` conditionnellement à `tuberculosis?` et `lung_cancer?`\n",
    "\n",
    "D'un point de vue général, on vérifie que $X$ et $Y$ sont indépendants conditionnellement à $Z_1,\\cdots,Z_d$ par l'égalité :\n",
    "$$P(X,Y|Z_1,\\cdots,Z_d)=P(X|Z_1,\\cdot,Z_d)\\cdot P(Y|Z_1,\\cdots,Z_d)$$\n",
    "\n",
    "Ces trois probabilités sont calculables à partir de la loi jointe de $P(X,Y,Z_1,\\cdots,Z_d)$.\n",
    "\n",
    "<em>Remarque</em> Vérifier l'égalité `P==Q` de 2 `Potential` peut être problématique si les 2 sont des résultats de calcul : il peut exister une petite variation. Un meilleur test est de vérifier `(P-Q).abs().max()<epsilon` avec `epsilon` assez petit."
   ]
  },
  {
   "cell_type": "code",
   "execution_count": 28,
   "metadata": {},
   "outputs": [],
   "source": [
    "epsilon = 1e-3\n",
    "\n",
    "def conditional_indep(P,X,Y,Zs): # VERIFIER\n",
    "    if len(Zs) != 0:\n",
    "        pX_Zs = P.margSumIn(Zs) / P.margSumIn(X) \n",
    "        pY_Zs = P.margSumIn(Zs) / P.margSumIn(Y)\n",
    "        PXY_Zs = P.margSumIn(Zs) / P.margSumIn([X, Y]) \n",
    "        A = pX_Zs * pY_Zs\n",
    "        B = PXY_Zs\n",
    "        test = (A-B).abs().max() < epsilon\n",
    "        if(test):\n",
    "            return \"=> X et Y sont indépendants conditionnellemnt à Zs\"\n",
    "        else:\n",
    "            return \"=> X et Y ne sont pas indépendants conditionnellemnt à Zs\"\n",
    "    else:\n",
    "        pX = P.margSumIn(X)\n",
    "        pY = P.margSumIn(Y)\n",
    "        PXY = P.margSumIn([X, Y]) \n",
    "        A = pX * pY\n",
    "        B = PXY\n",
    "        test = (A-B).abs().max() < epsilon\n",
    "        if(test):\n",
    "            return \"=> X et Y sont indépendants conditionnellemnt à Zs\"\n",
    "        else:\n",
    "            return \"=> X et Y ne sont pas indépendants conditionnellemnt à Zs\""
   ]
  },
  {
   "cell_type": "code",
   "execution_count": 29,
   "metadata": {},
   "outputs": [
    {
     "data": {
      "text/plain": [
       "'=> X et Y ne sont pas indépendants conditionnellemnt à Zs'"
      ]
     },
     "execution_count": 29,
     "metadata": {},
     "output_type": "execute_result"
    }
   ],
   "source": [
    "conditional_indep(Pjointe,\n",
    "                  'bronchitis?', \n",
    "                  'positive_Xray?',\n",
    "                  ['tuberculosis?','lung_cancer?'])"
   ]
  },
  {
   "cell_type": "code",
   "execution_count": 30,
   "metadata": {},
   "outputs": [
    {
     "data": {
      "text/plain": [
       "'=> X et Y sont indépendants conditionnellemnt à Zs'"
      ]
     },
     "execution_count": 30,
     "metadata": {},
     "output_type": "execute_result"
    }
   ],
   "source": [
    "conditional_indep(Pjointe,\n",
    "                  'bronchitis?', \n",
    "                  'visit_to_Asia?',\n",
    "                  [])"
   ]
  },
  {
   "cell_type": "markdown",
   "metadata": {},
   "source": [
    "### IV.2- Factorisation compacte de loi jointe\n",
    "\n",
    "On sait que si un ensemble de variables aléatoires ${\\cal S} = \\{X_{i_0},\\ldots,X_{i_{n-1}}\\}$ peut être partitionné en deux sous-ensembles $\\cal K$ et $\\cal L$ (c'est-à-dire tels que ${\\cal K} \\cap {\\cal L} = \\emptyset$ et ${\\cal K} \\cup {\\cal L} = \\{X_{i_0},\\ldots,X_{i_{n-1}}\\}$) tels qu'une variable $X_{i_n}$ est indépendante de ${\\cal L}$ conditionnellement à ${\\cal K}$, alors:\n",
    "\n",
    "$$P(X_{i_n}|X_{i_0},\\ldots,X_{i_{n-1}}) = P(X_{i_n} | {\\cal K},{\\cal L}) = P(X_{i_n} | {\\cal K})$$\n",
    "\n",
    "C'est ce que nous avons vu au cours n°2 (cf. définition des probabilités conditionnelles). Cette formule est intéressante car elle permet de réduire la taille mémoire consommée pour stocker $P(X_{i_n}|X_{i_0},\\ldots,X_{i_{n-1}})$: il suffit en effet de stocker uniquement $P(X_{i_n} | {\\cal K})$ pour obtenir la même information."
   ]
  },
  {
   "cell_type": "markdown",
   "metadata": {},
   "source": [
    "Écrire une fonction `compact_conditional_proba: Potential,str-> Potential` qui, étant donné une probabilité jointe $P(X_{i_0},\\ldots,X_{i_n})$, une variable aléatoire $X_{i_n}$, retourne cette probabilité conditionnelle $P(X_{i_n} | {\\cal K})$. Pour cela, nous vous proposons l'algorithme itératif suivant:\n",
    "\n",
    "```\n",
    "K=S\n",
    "Pour tout X in K:\n",
    "  Si X indépendante de Xin conditionnellement à K\\{X) alors\n",
    "    Supprimer X de K\n",
    "retourner P(Xin|K)$\n",
    "```\n",
    "\n",
    "Trois petites aides :\n",
    "\n",
    "1- La fonction precédente `conditional_indep` devrait vous servir...\n",
    "\n",
    "2- Obtenir la liste des noms des variables dans un `Potential` se fait par l'attribut  \n",
    "```\n",
    "P.var_names\n",
    "```\n",
    "\n",
    "3- Afin que l'affichage soit plus facile à comprendre, il peut être judicieux de placer la variable $X_{i_n}$ en premier dans la liste des variables du Potential, ce que l'on peut faire avec le code suivant : \n",
    "```\n",
    "proba = proba.putFirst(Xin)\n",
    "```\n",
    "\n"
   ]
  },
  {
   "cell_type": "code",
   "execution_count": 34,
   "metadata": {},
   "outputs": [],
   "source": [
    "# def compact_conditional_proba(P,X):\n",
    "    "
   ]
  },
  {
   "cell_type": "code",
   "execution_count": 35,
   "metadata": {},
   "outputs": [],
   "source": [
    "# compact_conditional_proba(Pjointe,\"visit_to_Asia?\")"
   ]
  },
  {
   "cell_type": "code",
   "execution_count": 36,
   "metadata": {},
   "outputs": [],
   "source": [
    "# compact_conditional_proba(Pjointe,\"dyspnoea?\")"
   ]
  },
  {
   "cell_type": "markdown",
   "metadata": {},
   "source": [
    "### IV.3- Création d'un réseau bayésien\n",
    "\n",
    "Un réseau bayésien est simplement la décomposition d'une distribution de probabilité jointe en un produit de probabilités conditionnelles: vous avez vu en cours que $P(A,B) = P(A|B)P(B)$, et ce quel que soient les ensembles de variables aléatoires disjoints $A$ et $B$. En posant $A = X_n$ et $B = \\{X_0,\\ldots,X_{n-1}\\}$, on obtient donc:\n",
    "\n",
    "$$P(X_0,\\ldots,X_n) = P(X_n | X_0,\\ldots,X_{n-1}) P(X_0,\\ldots,X_{n-1})$$\n",
    "\n",
    "On peut réitérer cette opération pour le terme de droite en posant $A = X_{n-1}$ et $B=\\{X_0,\\ldots,X_{n-2}\\}$, et ainsi de suite. Donc, par récurrence, on a:\n",
    "\n",
    "$$P(X_0,\\ldots,X_n) = P(X_0) \\times \\prod_{i=1}^n P(X_i | X_0,\\ldots,X_{i-1} )$$\n",
    "\n",
    "Si on applique à chaque terme $P(X_i | X_0,\\ldots,X_{i-1} )$ la fonction `compact_conditional_proba`, on obtient une décomposition:\n",
    "\n",
    "$$P(X_0,\\ldots,X_n) = P(X_0) \\times \\prod_{i=1}^n P(X_i | {\\cal K_i})$$\n",
    "\n",
    "avec $K_i \\subseteq \\{X_0,\\ldots,X_{i-1}\\}$}. Cette décomposition est dite ''compacte'' car son stockage nécessite en pratique beaucoup moins de mémoire que celui de la distribution jointe. C'est ce que l'on appelle un réseau bayésien.\n",
    "\n",
    "Écrire une fonction `create_bayesian_network : Potential -> Potential list` qui, étant donné une probabilité jointe, vous renvoie la liste des $P(X_i | {\\cal K_i})$. Pour cela, il vous suffit d'appliquer l'algorithme suivant:\n",
    "\n",
    "```\n",
    "liste = [] \n",
    "P = P(X_0,...,X_n)\n",
    "Pour i de n à 0 faire:\n",
    "  calculer Q = compact_conditional_proba(P,X_i)\n",
    "  afficher la liste des variables de Q\n",
    "  rajouter Q à liste\n",
    "  supprimer X_i de P par marginalisation\n",
    "\n",
    "retourner liste\n",
    "```\n",
    "\n",
    "Il est intéressant ici de noter les affichages des variables de Q: comme toutes les variables sont binaires, Q nécessite uniquement (2 puissance le nombre de ces variables) nombres réels. Ainsi une probabilité sur 3 variables ne nécessite que {$2^3=8$} nombres réels. \n"
   ]
  },
  {
   "cell_type": "code",
   "execution_count": 37,
   "metadata": {},
   "outputs": [],
   "source": [
    "# def create_bayesian_network(P):\n",
    "#     res = []\n",
    "#     P = \n",
    "#     for i in range(n):\n",
    "#         Q = compact_conditional_proba(P, )\n",
    "#         print()\n",
    "#         res.append(Q)\n",
    "#         ???\n",
    "#     return res"
   ]
  },
  {
   "cell_type": "code",
   "execution_count": 39,
   "metadata": {},
   "outputs": [],
   "source": [
    "# create_bayesian_network(Pjointe)"
   ]
  },
  {
   "cell_type": "markdown",
   "metadata": {},
   "source": [
    "### IV.4- Gain en compression\n",
    "\n",
    "On souhaite observer le gain en termes de consommation mémoire obtenu par votre décomposition. Si `P` est un `Potential`, alors `P.toarray().size` est égal à la taille (le nombre de paramètres) de la table `P`. Calculez donc le nombre de paramètres nécessaires pour stocker la probabilité jointe lue dans le fichier `asia.txt` ainsi que la somme des nombres de paramètres des tables que vous avez créées grâce à votre fonction `create_bayesian_network`. "
   ]
  },
  {
   "cell_type": "code",
   "execution_count": 40,
   "metadata": {},
   "outputs": [],
   "source": [
    "# votre code"
   ]
  },
  {
   "cell_type": "markdown",
   "metadata": {},
   "source": [
    "## V- Applications pratiques (optionnelle)"
   ]
  },
  {
   "cell_type": "markdown",
   "metadata": {},
   "source": [
    "La technique de décomposition que vous avez vue est effectivement utilisée en pratique. Vous pouvez voir le gain que l'on peut obtenir sur différentes distributions de probabilité du site :\n",
    "\n",
    "http://www.bnlearn.com/bnrepository/\n",
    "\n",
    "Cliquez sur le nom du dataset que vous voulez visualiser et téléchargez son .bif ou .dsl. Afin de visualiser le contenu du fichier, vous allez utiliser pyAgrum. Le code suivant vous permettra alors de visualiser votre dataset: la valeur indiquée après \"domainSize\" est la taille de la probabilité jointe d'origine (en nombre de paramètres) et celle après \"dim\" est la taille de la probabilité sous forme compacte (somme des tailles des probabilités conditionnelles compactes). "
   ]
  },
  {
   "cell_type": "code",
   "execution_count": 41,
   "metadata": {},
   "outputs": [
    {
     "name": "stdout",
     "output_type": "stream",
     "text": [
      "BN{nodes: 8, arcs: 8, domainSize: 256, dim: 36}\n"
     ]
    },
    {
     "ename": "InvocationException",
     "evalue": "GraphViz's executables not found",
     "output_type": "error",
     "traceback": [
      "\u001b[1;31m---------------------------------------------------------------------------\u001b[0m",
      "\u001b[1;31mInvocationException\u001b[0m                       Traceback (most recent call last)",
      "\u001b[1;32m~\\anaconda3\\lib\\site-packages\\IPython\\core\\formatters.py\u001b[0m in \u001b[0;36m__call__\u001b[1;34m(self, obj)\u001b[0m\n\u001b[0;32m    343\u001b[0m             \u001b[0mmethod\u001b[0m \u001b[1;33m=\u001b[0m \u001b[0mget_real_method\u001b[0m\u001b[1;33m(\u001b[0m\u001b[0mobj\u001b[0m\u001b[1;33m,\u001b[0m \u001b[0mself\u001b[0m\u001b[1;33m.\u001b[0m\u001b[0mprint_method\u001b[0m\u001b[1;33m)\u001b[0m\u001b[1;33m\u001b[0m\u001b[1;33m\u001b[0m\u001b[0m\n\u001b[0;32m    344\u001b[0m             \u001b[1;32mif\u001b[0m \u001b[0mmethod\u001b[0m \u001b[1;32mis\u001b[0m \u001b[1;32mnot\u001b[0m \u001b[1;32mNone\u001b[0m\u001b[1;33m:\u001b[0m\u001b[1;33m\u001b[0m\u001b[1;33m\u001b[0m\u001b[0m\n\u001b[1;32m--> 345\u001b[1;33m                 \u001b[1;32mreturn\u001b[0m \u001b[0mmethod\u001b[0m\u001b[1;33m(\u001b[0m\u001b[1;33m)\u001b[0m\u001b[1;33m\u001b[0m\u001b[1;33m\u001b[0m\u001b[0m\n\u001b[0m\u001b[0;32m    346\u001b[0m             \u001b[1;32mreturn\u001b[0m \u001b[1;32mNone\u001b[0m\u001b[1;33m\u001b[0m\u001b[1;33m\u001b[0m\u001b[0m\n\u001b[0;32m    347\u001b[0m         \u001b[1;32melse\u001b[0m\u001b[1;33m:\u001b[0m\u001b[1;33m\u001b[0m\u001b[1;33m\u001b[0m\u001b[0m\n",
      "\u001b[1;32m~\\anaconda3\\lib\\site-packages\\pyAgrum\\lib\\notebook.py\u001b[0m in \u001b[0;36m<lambda>\u001b[1;34m(self)\u001b[0m\n\u001b[0;32m   1204\u001b[0m \u001b[1;33m\u001b[0m\u001b[0m\n\u001b[0;32m   1205\u001b[0m   \u001b[1;31m# adding _repr_html_ to some pyAgrum classes !\u001b[0m\u001b[1;33m\u001b[0m\u001b[1;33m\u001b[0m\u001b[1;33m\u001b[0m\u001b[0m\n\u001b[1;32m-> 1206\u001b[1;33m   \u001b[0mgum\u001b[0m\u001b[1;33m.\u001b[0m\u001b[0mBayesNet\u001b[0m\u001b[1;33m.\u001b[0m\u001b[0m_repr_html_\u001b[0m \u001b[1;33m=\u001b[0m \u001b[1;32mlambda\u001b[0m \u001b[0mself\u001b[0m\u001b[1;33m:\u001b[0m \u001b[0mgetBN\u001b[0m\u001b[1;33m(\u001b[0m\u001b[0mself\u001b[0m\u001b[1;33m)\u001b[0m\u001b[1;33m\u001b[0m\u001b[1;33m\u001b[0m\u001b[0m\n\u001b[0m\u001b[0;32m   1207\u001b[0m   \u001b[0mgum\u001b[0m\u001b[1;33m.\u001b[0m\u001b[0mBayesNetFragment\u001b[0m\u001b[1;33m.\u001b[0m\u001b[0m_repr_html_\u001b[0m \u001b[1;33m=\u001b[0m \u001b[1;32mlambda\u001b[0m \u001b[0mself\u001b[0m\u001b[1;33m:\u001b[0m \u001b[0mgetBN\u001b[0m\u001b[1;33m(\u001b[0m\u001b[0mself\u001b[0m\u001b[1;33m)\u001b[0m\u001b[1;33m\u001b[0m\u001b[1;33m\u001b[0m\u001b[0m\n\u001b[0;32m   1208\u001b[0m   \u001b[0mgum\u001b[0m\u001b[1;33m.\u001b[0m\u001b[0mMarkovNet\u001b[0m\u001b[1;33m.\u001b[0m\u001b[0m_repr_html_\u001b[0m \u001b[1;33m=\u001b[0m \u001b[1;32mlambda\u001b[0m \u001b[0mself\u001b[0m\u001b[1;33m:\u001b[0m \u001b[0mgetMN\u001b[0m\u001b[1;33m(\u001b[0m\u001b[0mself\u001b[0m\u001b[1;33m)\u001b[0m\u001b[1;33m\u001b[0m\u001b[1;33m\u001b[0m\u001b[0m\n",
      "\u001b[1;32m~\\anaconda3\\lib\\site-packages\\pyAgrum\\lib\\notebook.py\u001b[0m in \u001b[0;36mgetBN\u001b[1;34m(bn, size, nodeColor, arcWidth, arcColor, cmap, cmapArc)\u001b[0m\n\u001b[0;32m    681\u001b[0m     \u001b[0mcmapArc\u001b[0m \u001b[1;33m=\u001b[0m \u001b[0mcmap\u001b[0m\u001b[1;33m\u001b[0m\u001b[1;33m\u001b[0m\u001b[0m\n\u001b[0;32m    682\u001b[0m \u001b[1;33m\u001b[0m\u001b[0m\n\u001b[1;32m--> 683\u001b[1;33m   \u001b[1;32mreturn\u001b[0m \u001b[0mgetGraph\u001b[0m\u001b[1;33m(\u001b[0m\u001b[0mBN2dot\u001b[0m\u001b[1;33m(\u001b[0m\u001b[0mbn\u001b[0m\u001b[1;33m,\u001b[0m \u001b[0msize\u001b[0m\u001b[1;33m,\u001b[0m \u001b[0mnodeColor\u001b[0m\u001b[1;33m,\u001b[0m \u001b[0marcWidth\u001b[0m\u001b[1;33m,\u001b[0m \u001b[0marcColor\u001b[0m\u001b[1;33m,\u001b[0m \u001b[0mcmap\u001b[0m\u001b[1;33m,\u001b[0m \u001b[0mcmapArc\u001b[0m\u001b[1;33m)\u001b[0m\u001b[1;33m,\u001b[0m \u001b[0msize\u001b[0m\u001b[1;33m)\u001b[0m\u001b[1;33m\u001b[0m\u001b[1;33m\u001b[0m\u001b[0m\n\u001b[0m\u001b[0;32m    684\u001b[0m \u001b[1;33m\u001b[0m\u001b[0m\n\u001b[0;32m    685\u001b[0m \u001b[1;33m\u001b[0m\u001b[0m\n",
      "\u001b[1;32m~\\anaconda3\\lib\\site-packages\\pyAgrum\\lib\\notebook.py\u001b[0m in \u001b[0;36mgetGraph\u001b[1;34m(gr, size)\u001b[0m\n\u001b[0;32m    246\u001b[0m   \u001b[1;32mif\u001b[0m \u001b[0msize\u001b[0m \u001b[1;32mis\u001b[0m \u001b[1;32mNone\u001b[0m\u001b[1;33m:\u001b[0m\u001b[1;33m\u001b[0m\u001b[1;33m\u001b[0m\u001b[0m\n\u001b[0;32m    247\u001b[0m     \u001b[0msize\u001b[0m \u001b[1;33m=\u001b[0m \u001b[0mgum\u001b[0m\u001b[1;33m.\u001b[0m\u001b[0mconfig\u001b[0m\u001b[1;33m[\u001b[0m\u001b[1;34m\"notebook\"\u001b[0m\u001b[1;33m,\u001b[0m \u001b[1;34m\"default_graph_size\"\u001b[0m\u001b[1;33m]\u001b[0m\u001b[1;33m\u001b[0m\u001b[1;33m\u001b[0m\u001b[0m\n\u001b[1;32m--> 248\u001b[1;33m   \u001b[1;32mreturn\u001b[0m \u001b[0m_reprGraph\u001b[0m\u001b[1;33m(\u001b[0m\u001b[0mgr\u001b[0m\u001b[1;33m,\u001b[0m \u001b[0msize\u001b[0m\u001b[1;33m,\u001b[0m \u001b[0masString\u001b[0m\u001b[1;33m=\u001b[0m\u001b[1;32mTrue\u001b[0m\u001b[1;33m)\u001b[0m\u001b[1;33m\u001b[0m\u001b[1;33m\u001b[0m\u001b[0m\n\u001b[0m\u001b[0;32m    249\u001b[0m \u001b[1;33m\u001b[0m\u001b[0m\n\u001b[0;32m    250\u001b[0m \u001b[1;33m\u001b[0m\u001b[0m\n",
      "\u001b[1;32m~\\anaconda3\\lib\\site-packages\\pyAgrum\\lib\\notebook.py\u001b[0m in \u001b[0;36m_reprGraph\u001b[1;34m(gr, size, asString, format)\u001b[0m\n\u001b[0;32m    208\u001b[0m \u001b[1;33m\u001b[0m\u001b[0m\n\u001b[0;32m    209\u001b[0m   \u001b[1;32mif\u001b[0m \u001b[0mformat\u001b[0m \u001b[1;33m==\u001b[0m \u001b[1;34m\"svg\"\u001b[0m\u001b[1;33m:\u001b[0m\u001b[1;33m\u001b[0m\u001b[1;33m\u001b[0m\u001b[0m\n\u001b[1;32m--> 210\u001b[1;33m     \u001b[0mgsvg\u001b[0m \u001b[1;33m=\u001b[0m \u001b[0mIPython\u001b[0m\u001b[1;33m.\u001b[0m\u001b[0mdisplay\u001b[0m\u001b[1;33m.\u001b[0m\u001b[0mSVG\u001b[0m\u001b[1;33m(\u001b[0m\u001b[0mprepareLinksForSVG\u001b[0m\u001b[1;33m(\u001b[0m\u001b[0mgr\u001b[0m\u001b[1;33m.\u001b[0m\u001b[0mcreate_svg\u001b[0m\u001b[1;33m(\u001b[0m\u001b[1;33m)\u001b[0m\u001b[1;33m.\u001b[0m\u001b[0mdecode\u001b[0m\u001b[1;33m(\u001b[0m\u001b[1;34m'utf-8'\u001b[0m\u001b[1;33m)\u001b[0m\u001b[1;33m)\u001b[0m\u001b[1;33m)\u001b[0m\u001b[1;33m\u001b[0m\u001b[1;33m\u001b[0m\u001b[0m\n\u001b[0m\u001b[0;32m    211\u001b[0m     \u001b[1;32mif\u001b[0m \u001b[0masString\u001b[0m\u001b[1;33m:\u001b[0m\u001b[1;33m\u001b[0m\u001b[1;33m\u001b[0m\u001b[0m\n\u001b[0;32m    212\u001b[0m       \u001b[1;32mreturn\u001b[0m \u001b[0mgsvg\u001b[0m\u001b[1;33m.\u001b[0m\u001b[0mdata\u001b[0m\u001b[1;33m\u001b[0m\u001b[1;33m\u001b[0m\u001b[0m\n",
      "\u001b[1;32m~\\anaconda3\\lib\\site-packages\\pydotplus\\graphviz.py\u001b[0m in \u001b[0;36m<lambda>\u001b[1;34m(f, prog)\u001b[0m\n\u001b[0;32m   1795\u001b[0m             self.__setattr__(\n\u001b[0;32m   1796\u001b[0m                 \u001b[1;34m'create_'\u001b[0m \u001b[1;33m+\u001b[0m \u001b[0mfrmt\u001b[0m\u001b[1;33m,\u001b[0m\u001b[1;33m\u001b[0m\u001b[1;33m\u001b[0m\u001b[0m\n\u001b[1;32m-> 1797\u001b[1;33m                 \u001b[1;32mlambda\u001b[0m \u001b[0mf\u001b[0m\u001b[1;33m=\u001b[0m\u001b[0mfrmt\u001b[0m\u001b[1;33m,\u001b[0m \u001b[0mprog\u001b[0m\u001b[1;33m=\u001b[0m\u001b[0mself\u001b[0m\u001b[1;33m.\u001b[0m\u001b[0mprog\u001b[0m\u001b[1;33m:\u001b[0m \u001b[0mself\u001b[0m\u001b[1;33m.\u001b[0m\u001b[0mcreate\u001b[0m\u001b[1;33m(\u001b[0m\u001b[0mformat\u001b[0m\u001b[1;33m=\u001b[0m\u001b[0mf\u001b[0m\u001b[1;33m,\u001b[0m \u001b[0mprog\u001b[0m\u001b[1;33m=\u001b[0m\u001b[0mprog\u001b[0m\u001b[1;33m)\u001b[0m\u001b[1;33m\u001b[0m\u001b[1;33m\u001b[0m\u001b[0m\n\u001b[0m\u001b[0;32m   1798\u001b[0m             )\n\u001b[0;32m   1799\u001b[0m             \u001b[0mf\u001b[0m \u001b[1;33m=\u001b[0m \u001b[0mself\u001b[0m\u001b[1;33m.\u001b[0m\u001b[0m__dict__\u001b[0m\u001b[1;33m[\u001b[0m\u001b[1;34m'create_'\u001b[0m \u001b[1;33m+\u001b[0m \u001b[0mfrmt\u001b[0m\u001b[1;33m]\u001b[0m\u001b[1;33m\u001b[0m\u001b[1;33m\u001b[0m\u001b[0m\n",
      "\u001b[1;32m~\\anaconda3\\lib\\site-packages\\pydotplus\\graphviz.py\u001b[0m in \u001b[0;36mcreate\u001b[1;34m(self, prog, format)\u001b[0m\n\u001b[0;32m   1957\u001b[0m             \u001b[0mself\u001b[0m\u001b[1;33m.\u001b[0m\u001b[0mprogs\u001b[0m \u001b[1;33m=\u001b[0m \u001b[0mfind_graphviz\u001b[0m\u001b[1;33m(\u001b[0m\u001b[1;33m)\u001b[0m\u001b[1;33m\u001b[0m\u001b[1;33m\u001b[0m\u001b[0m\n\u001b[0;32m   1958\u001b[0m             \u001b[1;32mif\u001b[0m \u001b[0mself\u001b[0m\u001b[1;33m.\u001b[0m\u001b[0mprogs\u001b[0m \u001b[1;32mis\u001b[0m \u001b[1;32mNone\u001b[0m\u001b[1;33m:\u001b[0m\u001b[1;33m\u001b[0m\u001b[1;33m\u001b[0m\u001b[0m\n\u001b[1;32m-> 1959\u001b[1;33m                 raise InvocationException(\n\u001b[0m\u001b[0;32m   1960\u001b[0m                     'GraphViz\\'s executables not found')\n\u001b[0;32m   1961\u001b[0m \u001b[1;33m\u001b[0m\u001b[0m\n",
      "\u001b[1;31mInvocationException\u001b[0m: GraphViz's executables not found"
     ]
    },
    {
     "data": {
      "text/plain": [
       "(pyAgrum.BayesNet<double>@0x10ca8da5f40) BN{nodes: 8, arcs: 8, domainSize: 256, dim: 36}"
      ]
     },
     "execution_count": 41,
     "metadata": {},
     "output_type": "execute_result"
    }
   ],
   "source": [
    "# chargement de pyAgrum\n",
    "import pyAgrum as gum\n",
    "import pyAgrum.lib.notebook as gnb\n",
    "\n",
    "# chargement du fichier bif ou dsl\n",
    "bn = gum.loadBN ( \"asia.bif\" )\n",
    "\n",
    "# affichage de la taille des probabilités jointes compacte et non compacte\n",
    "print(bn)\n",
    "\n",
    "# affichage graphique du réseau bayésien\n",
    "bn"
   ]
  },
  {
   "cell_type": "code",
   "execution_count": null,
   "metadata": {},
   "outputs": [],
   "source": []
  }
 ],
 "metadata": {
  "kernelspec": {
   "display_name": "Python 3",
   "language": "python",
   "name": "python3"
  },
  "language_info": {
   "codemirror_mode": {
    "name": "ipython",
    "version": 3
   },
   "file_extension": ".py",
   "mimetype": "text/x-python",
   "name": "python",
   "nbconvert_exporter": "python",
   "pygments_lexer": "ipython3",
   "version": "3.8.5"
  }
 },
 "nbformat": 4,
 "nbformat_minor": 4
}
