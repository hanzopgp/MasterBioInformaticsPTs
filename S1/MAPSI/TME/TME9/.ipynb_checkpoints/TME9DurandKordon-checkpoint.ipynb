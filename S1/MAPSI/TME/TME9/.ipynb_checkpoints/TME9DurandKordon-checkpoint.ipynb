{
 "cells": [
  {
   "cell_type": "markdown",
   "metadata": {},
   "source": [
    "# Régression & optimisation par descente de gradient\n",
    "\n",
    "Ce tme a deux objectifs: \n",
    " - acquérir les connaissances de base pour faire face au problème de la régression, c'est à dire de l'estimation d'un score réel correpondant à une situation,\n",
    " - travailler sur les techniques d'optimisation par descente de gradient"
   ]
  },
  {
   "cell_type": "code",
   "execution_count": 1,
   "metadata": {},
   "outputs": [],
   "source": [
    "import numpy as np\n",
    "import matplotlib.pyplot as plt"
   ]
  },
  {
   "cell_type": "markdown",
   "metadata": {},
   "source": [
    "## Génération de données jouet & construction d'une solution analytique\n",
    "\n",
    "Dans un premier temps, générons des données jouets paramétriques:\n",
    " - $N$: nombre de points à générer\n",
    " - $x \\in [0, 1]$ tirage avec un simple rand() ou un linspace() -au choix-\n",
    "     - Si vous optez pour un tirage aléatoire des abscisses, triez les points pour simplifier les traitements ultérieurs\n",
    " - $y=ax+b+\\epsilon, \\epsilon \\sim \\mathcal N(0,\\sigma^2)$\n",
    "     - Rappel : en multipliant un tirage aléatoire selon une gaussienne centrée réduite par $\\sigma$ on obtient le bruit décrit ci-dessus\n",
    "\n",
    "Afin de travailler sur les bonnes pratiques, nous distinguerons un ensemble d'apprentissage et un ensemble de test.\n",
    "Les deux sont tirés selon la même distribution. L'ensemble de test comptera -arbitrairement- 1000 points."
   ]
  },
  {
   "cell_type": "code",
   "execution_count": 2,
   "metadata": {},
   "outputs": [],
   "source": [
    "def gen_data_lin(a, b, sig, N=500, Ntest=1000):\n",
    "    X_train = np.sort(np.random.rand(N)) # sort optionnel, mais ça aide pour les plots\n",
    "    X_test  = np.sort(np.random.rand(Ntest))\n",
    "    sig1 = np.random.normal(0,sig,size=(N))\n",
    "    sig2 = np.random.normal(0,sig,size=(Ntest))\n",
    "    Y_train = a * X_train + b + sig1\n",
    "    Y_test  = a * X_test + b + sig2\n",
    "    return X_train, Y_train, X_test, Y_test"
   ]
  },
  {
   "cell_type": "code",
   "execution_count": 3,
   "metadata": {},
   "outputs": [
    {
     "data": {
      "image/png": "[encoded data removed]",
      "text/plain": [
       "<Figure size 432x288 with 1 Axes>"
      ]
     },
     "metadata": {
      "needs_background": "light"
     },
     "output_type": "display_data"
    }
   ],
   "source": [
    "# génération de données jouets:\n",
    "a = 6.\n",
    "b = -1.\n",
    "N = 100\n",
    "sig = .4 # écart type\n",
    "\n",
    "X_train, Y_train, X_test, Y_test = gen_data_lin(a, b, sig, N)\n",
    "\n",
    "plt.figure()\n",
    "plt.plot(X_test, Y_test, 'r.')\n",
    "plt.plot(X_train, Y_train, 'b')\n",
    "plt.show()"
   ]
  },
  {
   "cell_type": "markdown",
   "metadata": {},
   "source": [
    "Vous devez obtenir quelque chose de la forme:<br>\n",
    "![données jouet](fig/gen_data.png)"
   ]
  },
  {
   "cell_type": "markdown",
   "metadata": {},
   "source": [
    "## Validation des formules analytiques\n",
    "Nous avons vu deux types de résolutions analytique: à partir des estimateurs des espérances et co-variances d'une part et des moindres carrés d'autre part. Testons les deux méthodes.\n",
    "\n",
    "### Estimation de paramètres probabilistes\n",
    " - $\\hat a = \\frac{\\mbox{cov}(X,Y)}{\\sigma_x^2}$\n",
    " - $\\hat b = E(Y)−\\frac{\\mbox{cov}(X,Y)}{\\sigma_x^2} E(X)$\n",
    " \n",
    " Estimer les paramètres, calculer l'erreur au sens des moindres carrés sur les données d'apprentissage et de test, puis tracer la droite de régression"
   ]
  },
  {
   "cell_type": "code",
   "execution_count": 4,
   "metadata": {},
   "outputs": [
    {
     "name": "stdout",
     "output_type": "stream",
     "text": [
      "[[ 1.01010101  6.05734628]\n",
      " [ 6.05734628 37.95605801]] \n",
      " [[  1.61203077  -1.04406995]\n",
      " [ -1.04406995 -17.83069047]]\n"
     ]
    }
   ],
   "source": [
    "def modele_lin_analytique(X_train, Y_train):\n",
    "    cov_std2 = np.cov(X_train, Y_train) / (X_train.std()**2)\n",
    "    ahat = cov_std2\n",
    "    bhat = Y_train.mean() - cov_std2 * X_train.mean()\n",
    "    return ahat, bhat\n",
    "\n",
    "ahat, bhat = modele_lin_analytique(X_train, Y_train)\n",
    "print(ahat,\"\\n\",bhat)"
   ]
  },
  {
   "cell_type": "code",
   "execution_count": 5,
   "metadata": {},
   "outputs": [],
   "source": [
    "def erreur_mc(y, yhat):\n",
    "    return ((y-yhat)**2).mean()\n",
    "\n",
    "# yhat_train = ahat*X_train+bhat\n",
    "# yhat_test  = ahat*X_test+bhat\n",
    "\n",
    "# print('Erreur moyenne au sens des moindres carrés (train):', erreur_mc(yhat_train, Y_train))\n",
    "# print('Erreur moyenne au sens des moindres carrés (test):', erreur_mc(yhat_test, Y_test))"
   ]
  },
  {
   "cell_type": "code",
   "execution_count": 6,
   "metadata": {},
   "outputs": [],
   "source": [
    "# plt.figure()\n",
    "# plt.plot(X_test, Y_test, 'r.')\n",
    "# plt.plot(X_train, Y_train, 'b')\n",
    "# plt.plot(X_test, yhat_test, 'g', lw=3)"
   ]
  },
  {
   "cell_type": "markdown",
   "metadata": {},
   "source": [
    "## Formulation au sens des moindres carrés\n",
    "\n",
    "Nous partons directement sur une écriture matricielle. Du coup, il est nécessaire de construire la matrice enrichie $Xe$:\n",
    "    $$Xe = \\left[\\begin{array}{cc}\n",
    "                X_0 & 1\\\\\n",
    "                \\vdots & \\vdots\\\\\n",
    "                X_N & 1\n",
    "                \\end{array}\n",
    "                \\right] $$\n",
    "Le code de la fonction d'enrichissement est donné ci-dessous.\n",
    "\n",
    "Il faut ensuite poser et résoudre un système d'équations linéaires de la forme:\n",
    "$$ A w = B $$\n",
    "**Rappel des formules vues en cours/TD:**\n",
    "$$ A=X^T X$$\n",
    "$$ B=X^T Y$$\n",
    "Fonction de résolution: `np.linalg.solve(A,B)`\n",
    "Vous devez obtenir la même solution que précédemment. "
   ]
  },
  {
   "cell_type": "code",
   "execution_count": 7,
   "metadata": {},
   "outputs": [],
   "source": [
    "def make_mat_lin_biais(X): # fonctionne pour un vecteur unidimensionel X\n",
    "    N = len(X)\n",
    "    return np.hstack((X.reshape(N,1),np.ones((N,1))))"
   ]
  },
  {
   "cell_type": "code",
   "execution_count": 8,
   "metadata": {},
   "outputs": [
    {
     "name": "stdout",
     "output_type": "stream",
     "text": [
      "[ 5.99677282 -1.01219331]\n"
     ]
    }
   ],
   "source": [
    "Xe = make_mat_lin_biais(X_train)\n",
    "A = Xe.T @ Xe\n",
    "B = Xe.T @ Y_train\n",
    "w = np.linalg.solve(A,B)\n",
    "\n",
    "print(w)"
   ]
  },
  {
   "cell_type": "markdown",
   "metadata": {},
   "source": [
    "Soit les données polynomiales générées avec la fonction ci-dessous\n",
    " - proposer & une solution d'enrichissement (vue en cours et TD) \n",
    " - résoudre analytiquement le problème des moindres carrés\n",
    " - calculer l'erreur au sens des moindes carrés en apprentissage ET en test\n",
    " - tracer les données et la solution"
   ]
  },
  {
   "cell_type": "code",
   "execution_count": 9,
   "metadata": {},
   "outputs": [
    {
     "data": {
      "image/png": "[encoded data removed]",
      "text/plain": [
       "<Figure size 432x288 with 1 Axes>"
      ]
     },
     "metadata": {
      "needs_background": "light"
     },
     "output_type": "display_data"
    }
   ],
   "source": [
    "def gen_data_poly2(a, b, c, sig, N=500, Ntest=1000):\n",
    "    '''\n",
    "    Tire N points X aléatoirement entre 0 et 1 et génère y = ax^2 + bx + c + eps\n",
    "    eps ~ N(0, sig^2)\n",
    "    '''\n",
    "    X_train = np.sort(np.random.rand(N))\n",
    "    X_test  = np.sort(np.random.rand(Ntest))\n",
    "    Y_train = a*X_train**2+b*X_train+c+np.random.randn(N)*sig\n",
    "    Y_test  = a*X_test**2 +b*X_test +c+np.random.randn(Ntest)*sig\n",
    "    return X_train, Y_train, X_test, Y_test\n",
    "\n",
    "Xp_train, yp_train, Xp_test, yp_test = gen_data_poly2(10, -10, 5, 0.1, N=100, Ntest=100)\n",
    "plt.figure()\n",
    "plt.plot(X_train, Y_train)\n",
    "plt.show()"
   ]
  },
  {
   "cell_type": "code",
   "execution_count": 10,
   "metadata": {},
   "outputs": [
    {
     "name": "stdout",
     "output_type": "stream",
     "text": [
      "Erreur moyenne au sens des moindres carrés (train): 0.2711307726338426\n",
      "Erreur moyenne au sens des moindres carrés (test): 0.1615244588169881\n"
     ]
    },
    {
     "data": {
      "image/png": "[encoded data removed]",
      "text/plain": [
       "<Figure size 432x288 with 1 Axes>"
      ]
     },
     "metadata": {
      "needs_background": "light"
     },
     "output_type": "display_data"
    }
   ],
   "source": [
    "def make_mat_poly_biais(X): # fonctionne pour un vecteur unidimensionel X\n",
    "    N = len(X)\n",
    "    tmp = np.hstack((X.reshape(N,1)**2,(X.reshape(N,1)))) # X**2, X\n",
    "    return np.hstack((tmp, np.ones((N,1)))) # X**2, X, 1\n",
    "\n",
    "Xe   = make_mat_poly_biais(X_train)\n",
    "Xe_t = make_mat_poly_biais(X_test) \n",
    "A = Xe.T @ Xe\n",
    "B = Xe.T @ Y_train\n",
    "w = np.linalg.solve(A,B)\n",
    "\n",
    "A_t = Xe_t.T @ Xe_t\n",
    "B_t = Xe_t.T @ Y_test\n",
    "w_t = np.linalg.solve(A_t,B_t)\n",
    "\n",
    "yhat   = X_train * w[0]**2 + X_train * w[1] + w[2]\n",
    "yhat_t = X_test * w_t[0]**2 + X_test * w_t[1] + w_t[2]\n",
    "print('Erreur moyenne au sens des moindres carrés (train):', erreur_mc(yhat, Y_train))\n",
    "print('Erreur moyenne au sens des moindres carrés (test):', erreur_mc(yhat_t, Y_test))\n",
    "\n",
    "plt.figure()\n",
    "plt.plot(X_train, Y_train, 'b.')\n",
    "plt.plot(X_train, yhat, 'r')\n",
    "plt.show()"
   ]
  },
  {
   "cell_type": "markdown",
   "metadata": {},
   "source": [
    "# Fonction de coût & optimisation par descente de gradient\n",
    "\n",
    "Comme vu en TD et en cours, nous allons maintenant résoudre le problème de la régression par minimisation d'une fonction de coût:\n",
    "$$ C = \\sum_{i=1}^N (y_i - f(x_i))$$\n",
    "\n",
    "Soit un problème avec des données $(x_i,y_i)_{i=1,\\ldots,N}$, une fonction de décision/prédiction paramétrée par un vecteur $w$ et une fonction de cout à optimiser $C(w)$.\n",
    "Notre but est de trouver les paramètres $w^\\star$ minimisant la fonction de coût:\n",
    "$$ w^\\star = \\arg\\min_w C(w)$$\n",
    "\n",
    "l'algorithme de la descente de gradient est le suivant (rappel):\n",
    "\n",
    " - $w_0 \\leftarrow init$ par exemple : 0\n",
    " - boucle\n",
    "     - $w_{t+1} \\leftarrow w_{t} - \\epsilon \\nabla_w C(w_t)$\n",
    "\n",
    "Compléter le squelette d'implémentation fourni ci-dessous:\n"
   ]
  },
  {
   "cell_type": "code",
   "execution_count": 11,
   "metadata": {},
   "outputs": [],
   "source": [
    "# pour travailler en matrice: (re)construction de la matrice contenant les X et un biais\n",
    "Xe = make_mat_lin_biais(X_train) # dataset linéaire, transformation lineaire des données\n",
    "# wstar = np.argmin()\n",
    "\n",
    "def descente_grad_mc(X, y, eps=1e-4, nIterations=100):\n",
    "    w = np.zeros(X.shape[1]) # init à 0\n",
    "    allw = [w]\n",
    "    for i in range(nIterations):\n",
    "        # A COMPLETER => calcul du gradient vu en TD\n",
    "#         w = w - \n",
    "        allw.append(w) # stockage de toutes les valeurs intermédiaires pour analyse\n",
    "    allw = np.array(allw)\n",
    "    return w, allw # la dernière valeur (meilleure) + tout l'historique pour le plot\n",
    "    \n",
    "w, allw = descente_grad_mc(Xe, Y_train, eps=1e-4, nIterations=200)"
   ]
  },
  {
   "cell_type": "markdown",
   "metadata": {},
   "source": [
    "On s'intéresse ensuite à comprendre la descente de gradient dans l'espace des paramètres. Le code ci-dessous permet de tracer le cout pour un ensemble de paramètres (toutes les valeurs de paramètres prises par l'algorithmes au fil du temps).\n"
   ]
  },
  {
   "cell_type": "code",
   "execution_count": 12,
   "metadata": {},
   "outputs": [],
   "source": [
    "# tracer de l'espace des couts\n",
    "# def plot_parametres( allw, X, y, opti = [], ngrid = 20, extract_bornes=False):\n",
    "#     '''\n",
    "#     Fonction de tracer d'un historique de coefficients\n",
    "#     ATTENTION: ca ne marche qu'en 2D (évidemment)\n",
    "#     Chaque w doit contenir 2 valeurs\n",
    "    \n",
    "#     Il faut fournir les données (X,y) pour calculer le cout associé \n",
    "#     à un jeu de paramètres w\n",
    "#     ATTENTION X = forme matricielle des données\n",
    "#     '''\n",
    "#     w_min = [-0.5, -2] # bornes par défaut, uniquement pour notre cas d'usage\n",
    "#     w_max = [8, 5]\n",
    "#     if extract_bornes: # bornes générales\n",
    "#         w_min = np.min(allw,0) # trouver les bornes\n",
    "#         w_max = np.max(allw,0)\n",
    "#     # faire une grille régulière avec tous les couples possibles entre le min et le max\n",
    "#     w1range = np.linspace(w_min[0], w_max[0], ngrid)\n",
    "#     w2range = np.linspace(w_min[1], w_max[1], ngrid)\n",
    "#     w1,w2 = np.meshgrid(w1range,w2range)\n",
    "#     # calcul de tous les couts associés à tous les couples de paramètres\n",
    "#     cost = np.array([[np.log(((X @ np.array([w1i,w2j])-y)**2).sum()) for w1i in w1range] for w2j in w2range])\n",
    "#     plt.figure()\n",
    "#     plt.contour(w1, w2, cost)\n",
    "#     if len(opti) > 0:\n",
    "#         plt.scatter(wstar[0], wstar[1],c='r')\n",
    "#     plt.plot(allw[:,0],allw[:,1],'b+-' ,lw=2 )\n",
    "#     return\n",
    "    \n",
    "# plot_parametres( allw, Xe, Y_train, opti=wstar)\n",
    "# plt.savefig('fig/grad_descente.png')"
   ]
  },
  {
   "cell_type": "markdown",
   "metadata": {},
   "source": [
    "Vous devez obtenir un image de la forme :<br>\n",
    "![Descente de gradient](fig/grad_descente.png)\n",
    "\n",
    "Tester différents jeux de paramètres pour mettre en évidence les phénomènes suivants:\n",
    " - Divergence du gradient\n",
    " - Convergence incomplète (trop lente ou pas assez d'itération)\n",
    " - Convergence idéale: pas de gradient suffisamment grand et nombre d'itérations bien choisi"
   ]
  },
  {
   "cell_type": "markdown",
   "metadata": {},
   "source": [
    "# Passage sur des données réelles\n",
    "\n",
    "Après avoir étudié trois manières de faire face au problème de la régression, nous proposons d'étudier un cas réel: la prédiction de la consommation des voitures en fonction de leurs caractéristiques.\n",
    "\n",
    "Dans le cas présent, nous allons baser la solution sur la résolution analytique du problème des moindres carrés (`np.linalg.solve(A,B)`), qui semble la mieux adaptée au problème qui nous intéresse.\n",
    "\n",
    "Le jeu de données est issu des datasets UCI, un répertoire parmi les plus connus en machine learning. Les données **sont déjà téléchargées et présentes dans le tme** mais vous voulez plus d'informations:\n",
    "https://archive.ics.uci.edu/ml/datasets/auto+mpg\n",
    "\n",
    "![voiture](fig/Large9.jpg)\n",
    "\n",
    "Après avoir importé les données (fonction fournie), vous construirez une solution optimale et l'évaluerez au sens des moindres carrés en apprentissage et en test.\n"
   ]
  },
  {
   "cell_type": "code",
   "execution_count": 13,
   "metadata": {},
   "outputs": [
    {
     "name": "stdout",
     "output_type": "stream",
     "text": [
      "      0  1      2      3       4     5   6  7                          8\n",
      "0  18.0  8  307.0  130.0  3504.0  12.0  70  1  chevrolet chevelle malibu\n",
      "1  15.0  8  350.0  165.0  3693.0  11.5  70  1          buick skylark 320\n",
      "2  18.0  8  318.0  150.0  3436.0  11.0  70  1         plymouth satellite\n",
      "3  16.0  8  304.0  150.0  3433.0  12.0  70  1              amc rebel sst\n",
      "4  17.0  8  302.0  140.0  3449.0  10.5  70  1                ford torino\n"
     ]
    }
   ],
   "source": [
    "import pandas as pd\n",
    "# Chargement des données\n",
    "data = pd.read_csv('data/auto-mpg.data', delimiter='\\s+', header=None) # comme np.loadtxt mais en plus robuste\n",
    "# remplacement des données manquantes '?' => Nan pour travailler sur des nombres\n",
    "data.iloc[:,[3]] = data.iloc[:,[3]].replace('?', None)\n",
    "data.iloc[:,[3]] = data.iloc[:,[3]].astype(float)\n",
    "# remplacement des valeurs manquantes par la moyenne\n",
    "data.iloc[:,[3]] = data.iloc[:,[3]].fillna(data.iloc[:,[3]].mean())\n",
    "\n",
    "print(data.head()) # visualiser ce qu'il y a dans les données\n",
    "\n",
    "X = np.array(data.values[:,1:-2], dtype=np.float64)\n",
    "y = np.array(data.values[:,0], dtype=np.float64)"
   ]
  },
  {
   "cell_type": "code",
   "execution_count": 14,
   "metadata": {},
   "outputs": [],
   "source": [
    "# separation app/test\n",
    "def separation_train_test(X, y, pc_train=0.75):\n",
    "    # A compléter\n",
    "    # 1) générer tous les index entre 0 et N-1\n",
    "    # 2) mélanger la liste\n",
    "    \n",
    "    napp = int(len(y)*pc_train) # nb de points pour le train\n",
    "    X_train, Y_train = X[:napp], y[:napp]\n",
    "    X_test, Y_test   = X[napp:], y[napp:]\n",
    "    return X_train, Y_train, X_test, Y_test\n",
    "\n",
    "X_train, Y_train, X_test, Y_test = separation_train_test(X, y, pc_train=0.75)"
   ]
  },
  {
   "cell_type": "code",
   "execution_count": 25,
   "metadata": {},
   "outputs": [
    {
     "name": "stdout",
     "output_type": "stream",
     "text": [
      "Erreur moyenne au sens des moindres carrés (train): 470.8823825503356\n",
      "Erreur moyenne au sens des moindres carrés (test): 1039.9781\n"
     ]
    }
   ],
   "source": [
    "# Résolution analytique\n",
    "\n",
    "def make_mat_poly_biais_dynamic(X, dim):\n",
    "    res = np.hstack((X**dim, X**(dim-1)))\n",
    "    for i in range(dim-2, 0):\n",
    "        res = np.hstack((res, X**(dim-i)))\n",
    "    return res\n",
    "    \n",
    "def compute_yhat(X, w, dim):\n",
    "    res = 0\n",
    "    for i in range(dim, 0):\n",
    "        res += X * w[i]\n",
    "    return res\n",
    "\n",
    "def compute_w(X, y, dim):\n",
    "    Xe = make_mat_poly_biais_dynamic(X, dim)\n",
    "    A  = Xe.T @ Xe\n",
    "    B  = Xe.T @ y\n",
    "    w  = np.linalg.solve(A,B)\n",
    "    return w\n",
    "     \n",
    "n_features = X.shape[1]\n",
    "\n",
    "w   = compute_w(X_train, Y_train, n_features)\n",
    "w_t = compute_w(X_test , Y_test , n_features)\n",
    "\n",
    "yhat   = compute_yhat(X_train, w  , n_features)\n",
    "yhat_t = compute_yhat(X_test , w_t, n_features)\n",
    "\n",
    "print('Erreur moyenne au sens des moindres carrés (train):', erreur_mc(yhat, Y_train))\n",
    "print('Erreur moyenne au sens des moindres carrés (test):', erreur_mc(yhat_t, Y_test))"
   ]
  },
  {
   "cell_type": "code",
   "execution_count": 26,
   "metadata": {},
   "outputs": [
    {
     "data": {
      "image/png": "[encoded data removed]",
      "text/plain": [
       "<Figure size 432x288 with 2 Axes>"
      ]
     },
     "metadata": {
      "needs_background": "light"
     },
     "output_type": "display_data"
    }
   ],
   "source": [
    "def plot_y(Y_train, Y_test, yhat, yhat_t):\n",
    "    # tracé des prédictions:\n",
    "    plt.figure()\n",
    "    plt.subplot(211)\n",
    "    plt.plot(Y_test, label=\"GT\")\n",
    "    plt.plot(yhat_t, label=\"pred\")\n",
    "    plt.title('En test')\n",
    "    plt.legend()\n",
    "    plt.subplot(212)\n",
    "    plt.plot(Y_train, label=\"GT\")\n",
    "    plt.plot(yhat, label=\"pred\")\n",
    "    plt.title('En train')\n",
    "    return\n",
    "plot_y(Y_train, Y_test, yhat, yhat_t)"
   ]
  },
  {
   "cell_type": "code",
   "execution_count": 27,
   "metadata": {},
   "outputs": [
    {
     "data": {
      "text/plain": [
       "<BarContainer object of 12 artists>"
      ]
     },
     "execution_count": 27,
     "metadata": {},
     "output_type": "execute_result"
    },
    {
     "data": {
      "image/png": "[encoded data removed]",
      "text/plain": [
       "<Figure size 432x288 with 1 Axes>"
      ]
     },
     "metadata": {
      "needs_background": "light"
     },
     "output_type": "display_data"
    }
   ],
   "source": [
    "# interprétation des poids\n",
    "plt.figure()\n",
    "plt.bar(np.arange(len(w)), w)"
   ]
  },
  {
   "cell_type": "markdown",
   "metadata": {},
   "source": [
    "## Normalisation\n",
    "\n",
    "Sur le diagramme ci-dessus, on ne voit pas grand chose pour une raison évidente: on ne peut pas comparer ces poids qui comparent des variables dont les ordres de grandeur sont différents.\n",
    "\n",
    "Nous allons donc assimiler chaque colonne $X_j$ à une variable suivant une loi normale et nous allons revenir à une Normale centrée réduite selon la formule de base:\n",
    "\n",
    "$$X_j \\sim \\mathcal N(\\mu_j, \\sigma_j^2) $$\n",
    "$$\\Rightarrow Z_j = \\frac{X_j - \\mu_j}{\\sigma_j} \\sim \\mathcal N(0, 1) $$\n",
    "\n",
    "Tous les $Z_j$ sont comparables et nous seront en mesure de comprendre l'impact de chaque variables sur les résultats.\n",
    "\n",
    "**ATTENTION:** on ne se basera que sur les données d'apprentissage pour le calcul des $\\{\\mu_j, \\sigma_j\\}$.\n",
    "\n",
    "Une fois la normalisation effectuée, analyser l'impact des différentes variables descriptives sur la valeur à prédire."
   ]
  },
  {
   "cell_type": "code",
   "execution_count": 28,
   "metadata": {},
   "outputs": [
    {
     "ename": "LinAlgError",
     "evalue": "Singular matrix",
     "output_type": "error",
     "traceback": [
      "\u001b[1;31m---------------------------------------------------------------------------\u001b[0m",
      "\u001b[1;31mLinAlgError\u001b[0m                               Traceback (most recent call last)",
      "\u001b[1;32m<ipython-input-28-3ae685e5413b>\u001b[0m in \u001b[0;36m<module>\u001b[1;34m\u001b[0m\n\u001b[0;32m     21\u001b[0m \u001b[0mXn_train\u001b[0m\u001b[1;33m,\u001b[0m \u001b[0mXn_test\u001b[0m \u001b[1;33m=\u001b[0m \u001b[0mnormalisation\u001b[0m\u001b[1;33m(\u001b[0m\u001b[0mX_train\u001b[0m\u001b[1;33m,\u001b[0m \u001b[0mX_test\u001b[0m\u001b[1;33m)\u001b[0m\u001b[1;33m\u001b[0m\u001b[1;33m\u001b[0m\u001b[0m\n\u001b[0;32m     22\u001b[0m \u001b[0mw\u001b[0m   \u001b[1;33m=\u001b[0m \u001b[0mcompute_w\u001b[0m\u001b[1;33m(\u001b[0m\u001b[0mXn_train\u001b[0m\u001b[1;33m,\u001b[0m \u001b[0mY_train\u001b[0m\u001b[1;33m,\u001b[0m \u001b[0mn_features\u001b[0m\u001b[1;33m)\u001b[0m\u001b[1;33m\u001b[0m\u001b[1;33m\u001b[0m\u001b[0m\n\u001b[1;32m---> 23\u001b[1;33m \u001b[0mw_t\u001b[0m \u001b[1;33m=\u001b[0m \u001b[0mcompute_w\u001b[0m\u001b[1;33m(\u001b[0m\u001b[0mXn_test\u001b[0m \u001b[1;33m,\u001b[0m \u001b[0mY_test\u001b[0m \u001b[1;33m,\u001b[0m \u001b[0mn_features\u001b[0m\u001b[1;33m)\u001b[0m\u001b[1;33m\u001b[0m\u001b[1;33m\u001b[0m\u001b[0m\n\u001b[0m\u001b[0;32m     24\u001b[0m \u001b[1;33m\u001b[0m\u001b[0m\n\u001b[0;32m     25\u001b[0m \u001b[0myhat\u001b[0m   \u001b[1;33m=\u001b[0m \u001b[0mcompute_yhat\u001b[0m\u001b[1;33m(\u001b[0m\u001b[0mXn_train\u001b[0m\u001b[1;33m,\u001b[0m \u001b[0mw\u001b[0m  \u001b[1;33m,\u001b[0m \u001b[0mn_features\u001b[0m\u001b[1;33m)\u001b[0m\u001b[1;33m\u001b[0m\u001b[1;33m\u001b[0m\u001b[0m\n",
      "\u001b[1;32m<ipython-input-25-43981366c6a4>\u001b[0m in \u001b[0;36mcompute_w\u001b[1;34m(X, y, dim)\u001b[0m\n\u001b[0;32m     17\u001b[0m     \u001b[0mA\u001b[0m  \u001b[1;33m=\u001b[0m \u001b[0mXe\u001b[0m\u001b[1;33m.\u001b[0m\u001b[0mT\u001b[0m \u001b[1;33m@\u001b[0m \u001b[0mXe\u001b[0m\u001b[1;33m\u001b[0m\u001b[1;33m\u001b[0m\u001b[0m\n\u001b[0;32m     18\u001b[0m     \u001b[0mB\u001b[0m  \u001b[1;33m=\u001b[0m \u001b[0mXe\u001b[0m\u001b[1;33m.\u001b[0m\u001b[0mT\u001b[0m \u001b[1;33m@\u001b[0m \u001b[0my\u001b[0m\u001b[1;33m\u001b[0m\u001b[1;33m\u001b[0m\u001b[0m\n\u001b[1;32m---> 19\u001b[1;33m     \u001b[0mw\u001b[0m  \u001b[1;33m=\u001b[0m \u001b[0mnp\u001b[0m\u001b[1;33m.\u001b[0m\u001b[0mlinalg\u001b[0m\u001b[1;33m.\u001b[0m\u001b[0msolve\u001b[0m\u001b[1;33m(\u001b[0m\u001b[0mA\u001b[0m\u001b[1;33m,\u001b[0m\u001b[0mB\u001b[0m\u001b[1;33m)\u001b[0m\u001b[1;33m\u001b[0m\u001b[1;33m\u001b[0m\u001b[0m\n\u001b[0m\u001b[0;32m     20\u001b[0m     \u001b[1;32mreturn\u001b[0m \u001b[0mw\u001b[0m\u001b[1;33m\u001b[0m\u001b[1;33m\u001b[0m\u001b[0m\n\u001b[0;32m     21\u001b[0m \u001b[1;33m\u001b[0m\u001b[0m\n",
      "\u001b[1;32m<__array_function__ internals>\u001b[0m in \u001b[0;36msolve\u001b[1;34m(*args, **kwargs)\u001b[0m\n",
      "\u001b[1;32m~\\anaconda3\\lib\\site-packages\\numpy\\linalg\\linalg.py\u001b[0m in \u001b[0;36msolve\u001b[1;34m(a, b)\u001b[0m\n\u001b[0;32m    392\u001b[0m     \u001b[0msignature\u001b[0m \u001b[1;33m=\u001b[0m \u001b[1;34m'DD->D'\u001b[0m \u001b[1;32mif\u001b[0m \u001b[0misComplexType\u001b[0m\u001b[1;33m(\u001b[0m\u001b[0mt\u001b[0m\u001b[1;33m)\u001b[0m \u001b[1;32melse\u001b[0m \u001b[1;34m'dd->d'\u001b[0m\u001b[1;33m\u001b[0m\u001b[1;33m\u001b[0m\u001b[0m\n\u001b[0;32m    393\u001b[0m     \u001b[0mextobj\u001b[0m \u001b[1;33m=\u001b[0m \u001b[0mget_linalg_error_extobj\u001b[0m\u001b[1;33m(\u001b[0m\u001b[0m_raise_linalgerror_singular\u001b[0m\u001b[1;33m)\u001b[0m\u001b[1;33m\u001b[0m\u001b[1;33m\u001b[0m\u001b[0m\n\u001b[1;32m--> 394\u001b[1;33m     \u001b[0mr\u001b[0m \u001b[1;33m=\u001b[0m \u001b[0mgufunc\u001b[0m\u001b[1;33m(\u001b[0m\u001b[0ma\u001b[0m\u001b[1;33m,\u001b[0m \u001b[0mb\u001b[0m\u001b[1;33m,\u001b[0m \u001b[0msignature\u001b[0m\u001b[1;33m=\u001b[0m\u001b[0msignature\u001b[0m\u001b[1;33m,\u001b[0m \u001b[0mextobj\u001b[0m\u001b[1;33m=\u001b[0m\u001b[0mextobj\u001b[0m\u001b[1;33m)\u001b[0m\u001b[1;33m\u001b[0m\u001b[1;33m\u001b[0m\u001b[0m\n\u001b[0m\u001b[0;32m    395\u001b[0m \u001b[1;33m\u001b[0m\u001b[0m\n\u001b[0;32m    396\u001b[0m     \u001b[1;32mreturn\u001b[0m \u001b[0mwrap\u001b[0m\u001b[1;33m(\u001b[0m\u001b[0mr\u001b[0m\u001b[1;33m.\u001b[0m\u001b[0mastype\u001b[0m\u001b[1;33m(\u001b[0m\u001b[0mresult_t\u001b[0m\u001b[1;33m,\u001b[0m \u001b[0mcopy\u001b[0m\u001b[1;33m=\u001b[0m\u001b[1;32mFalse\u001b[0m\u001b[1;33m)\u001b[0m\u001b[1;33m)\u001b[0m\u001b[1;33m\u001b[0m\u001b[1;33m\u001b[0m\u001b[0m\n",
      "\u001b[1;32m~\\anaconda3\\lib\\site-packages\\numpy\\linalg\\linalg.py\u001b[0m in \u001b[0;36m_raise_linalgerror_singular\u001b[1;34m(err, flag)\u001b[0m\n\u001b[0;32m     86\u001b[0m \u001b[1;33m\u001b[0m\u001b[0m\n\u001b[0;32m     87\u001b[0m \u001b[1;32mdef\u001b[0m \u001b[0m_raise_linalgerror_singular\u001b[0m\u001b[1;33m(\u001b[0m\u001b[0merr\u001b[0m\u001b[1;33m,\u001b[0m \u001b[0mflag\u001b[0m\u001b[1;33m)\u001b[0m\u001b[1;33m:\u001b[0m\u001b[1;33m\u001b[0m\u001b[1;33m\u001b[0m\u001b[0m\n\u001b[1;32m---> 88\u001b[1;33m     \u001b[1;32mraise\u001b[0m \u001b[0mLinAlgError\u001b[0m\u001b[1;33m(\u001b[0m\u001b[1;34m\"Singular matrix\"\u001b[0m\u001b[1;33m)\u001b[0m\u001b[1;33m\u001b[0m\u001b[1;33m\u001b[0m\u001b[0m\n\u001b[0m\u001b[0;32m     89\u001b[0m \u001b[1;33m\u001b[0m\u001b[0m\n\u001b[0;32m     90\u001b[0m \u001b[1;32mdef\u001b[0m \u001b[0m_raise_linalgerror_nonposdef\u001b[0m\u001b[1;33m(\u001b[0m\u001b[0merr\u001b[0m\u001b[1;33m,\u001b[0m \u001b[0mflag\u001b[0m\u001b[1;33m)\u001b[0m\u001b[1;33m:\u001b[0m\u001b[1;33m\u001b[0m\u001b[1;33m\u001b[0m\u001b[0m\n",
      "\u001b[1;31mLinAlgError\u001b[0m: Singular matrix"
     ]
    }
   ],
   "source": [
    "def normalisation(X_train, X_test):\n",
    "    '''\n",
    "    Fonction de normalisation des données pour rendre les colonnes comparables\n",
    "    Chaque variable sera assimilée à une loi normale qu'il faut centrer + réduire.\n",
    "    ATTENTION: il faut calculer les moyennes et écarts-types sur les données d'apprentissage seulement\n",
    "    '''\n",
    "    # A compléter\n",
    "    # 1) calcul des moyennes et écarts types pour chaque colonne\n",
    "    # 2) normalisation des colonnes\n",
    "    # 3) Ajout d'un biais: fourni ci-dessous)\n",
    "    stds    = X_train.std(axis=0)\n",
    "    means   = X_train.mean(axis=0)\n",
    "    stds_t  = X_test.std(axis=0)\n",
    "    means_t = X_test.mean(axis=0)\n",
    "    Xn_train = (X_train - means)   / stds**2\n",
    "    Xn_test  = (X_test  - means_t) / stds_t**2\n",
    "    Xn_train = np.hstack((Xn_train, np.ones((Xn_train.shape[0], 1))))\n",
    "    Xn_test  = np.hstack((Xn_test, np.ones((X_test.shape[0], 1))))\n",
    "    return Xn_train, Xn_test\n",
    "\n",
    "Xn_train, Xn_test = normalisation(X_train, X_test)\n",
    "\n",
    "w   = compute_w(Xn_train, Y_train, n_features)\n",
    "w_t = compute_w(Xn_test , Y_test , n_features)\n",
    "\n",
    "yhat   = compute_yhat(Xn_train, w  , n_features)\n",
    "yhat_t = compute_yhat(Xn_test , w_t, n_features)\n",
    "\n",
    "print('Erreur moyenne au sens des moindres carrés (train):', erreur_mc(yhat, Y_train))\n",
    "print('Erreur moyenne au sens des moindres carrés (test):', erreur_mc(yhat_t, Y_test))\n",
    "\n",
    "plot_y(Y_train, Y_test, yhat, yhat_t)\n",
    "\n",
    "plt.figure()\n",
    "plt.bar(np.arange(len(w)), w)"
   ]
  },
  {
   "cell_type": "code",
   "execution_count": null,
   "metadata": {},
   "outputs": [],
   "source": [
    "X_train.shape"
   ]
  },
  {
   "cell_type": "markdown",
   "metadata": {},
   "source": [
    "# Questions d'ouverture\n",
    "\n",
    "## Sélection de caractéristiques\n",
    "\n",
    "Quels sont les résultats obtenus en éliminant toutes les variables servent moins?\n",
    "\n",
    "## Feature engineering\n",
    "\n",
    "En étudiant la signification des variables du problèmes, on trouve:\n",
    "\n",
    "1. mpg: continuous \n",
    "2. cylinders: multi-valued discrete \n",
    "3. displacement: continuous \n",
    "4. horsepower: continuous \n",
    "5. weight: continuous \n",
    "6. acceleration: continuous \n",
    "7. model year: multi-valued discrete \n",
    "8. origin: multi-valued discrete \n",
    "\n",
    "D'après la question précédente, le poids, l'année du modèle et le biais sont des facteurs important pour le calcul de la consommation... Jusqu'ici, nous n'avons pas pris en compte l'origine qui était difficile à coder.\n",
    "\n",
    "### Encodage de l'origine\n",
    "\n",
    "La variable origine est accessible de la manière suivante:\n",
    "\n",
    "```\n",
    "  origine = data.values[:,-2]\n",
    "```\n",
    "Il faut le faire au début du traitement pour bien conserver la séparation en l'apprentissage et le test.\n",
    "\n",
    "Au moins les deux derniers facteurs discrets pourraient être traités différemment en one-hot encoding:\n",
    "$$X_j = x \\in \\{1, \\ldots, K\\} \\Rightarrow [0, 0, 1, 0] \\in \\{0, 1\\}^K$$\n",
    "\n",
    "La valeur $x$ donne l'index de la colonne non nulle.\n",
    "\n",
    "### Encodage de l'année\n",
    "\n",
    "Pour l'année, il est possible de procéder de la même manière, mais il préférable de découper les années en 10 catégories puis d'encoder pour limiter le nombre de dimensions."
   ]
  },
  {
   "cell_type": "code",
   "execution_count": null,
   "metadata": {},
   "outputs": [],
   "source": [
    "# Selection de caracteristique :"
   ]
  },
  {
   "cell_type": "code",
   "execution_count": null,
   "metadata": {},
   "outputs": [],
   "source": [
    "# Feature engeineering :"
   ]
  },
  {
   "cell_type": "markdown",
   "metadata": {},
   "source": [
    "# Question d'ouverture sur le gradient\n",
    "\n",
    "## La normalisation a-t-elle un impact sur le gradient?\n",
    "\n",
    "La normalisation des données peut au moins nous aider à régler plus facilement le pas (qui sera toujours du même ordre de grandeur... Mais cela a-t-il un impact sur la manière dont nous nous rapprochons de la solution optimale?\n",
    "\n",
    "## Gradient stochastique\n",
    "\n",
    "Dans la plupart des algorithmes modernes d'optimisation liés aux réseaux de neurones, le gradient est calculé de manière stochastique, sur un exemple à la fois:\n",
    "\n",
    "- $w_0 \\leftarrow init$ par exemple : 0\n",
    "- boucle\n",
    "     - tirage d'une donnée $i$: $(x_i,y_i)$\n",
    "     - $w_{t+1} \\leftarrow w_{t} - \\epsilon \\nabla_w C_i(w)$\n",
    "\n",
    "\n",
    "Etudier le fonctionnement de cet algorithme sur les exemples jouets précédents.\n",
    "\n",
    "## Amélioration du gradient\n",
    "\n",
    "Le blog de S. Ruder explique particulièrement bien les améliorations possibles sur les descentes de gradient.\n",
    "\n",
    "https://ruder.io/optimizing-gradient-descent/\n",
    "\n",
    "Comparer une descente de gradient stochastique avec et sans moment sur les données jouets des premières questions."
   ]
  },
  {
   "cell_type": "code",
   "execution_count": null,
   "metadata": {},
   "outputs": [],
   "source": [
    "# Impact de la normalisation :"
   ]
  },
  {
   "cell_type": "code",
   "execution_count": null,
   "metadata": {},
   "outputs": [],
   "source": [
    "# Gradient stochastique :"
   ]
  },
  {
   "cell_type": "code",
   "execution_count": null,
   "metadata": {},
   "outputs": [],
   "source": [
    "# Amelioration du gradient :"
   ]
  }
 ],
 "metadata": {
  "kernelspec": {
   "display_name": "Python 3",
   "language": "python",
   "name": "python3"
  },
  "language_info": {
   "codemirror_mode": {
    "name": "ipython",
    "version": 3
   },
   "file_extension": ".py",
   "mimetype": "text/x-python",
   "name": "python",
   "nbconvert_exporter": "python",
   "pygments_lexer": "ipython3",
   "version": "3.8.5"
  }
 },
 "nbformat": 4,
 "nbformat_minor": 4
}
