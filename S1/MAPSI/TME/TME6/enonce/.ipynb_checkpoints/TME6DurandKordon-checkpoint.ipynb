{
 "cells": [
  {
   "cell_type": "markdown",
   "metadata": {},
   "source": [
    "# TME sur la classification de lettres manuscrites\n",
    "## Format des données\n",
    "Nous travaillerons sur des lettres manuscrites.\n",
    "Les données sont fournies au format pickle (le standard de sérialisation python, particulièrement convivial). Pour les charger : "
   ]
  },
  {
   "cell_type": "code",
   "execution_count": 1,
   "metadata": {},
   "outputs": [
    {
     "name": "stderr",
     "output_type": "stream",
     "text": [
      "<ipython-input-1-02313c2afce2>:7: VisibleDeprecationWarning: Creating an ndarray from ragged nested sequences (which is a list-or-tuple of lists-or-tuples-or ndarrays with different lengths or shapes) is deprecated. If you meant to do this, you must specify 'dtype=object' when creating the ndarray\n",
      "  X = np.array(data.get('letters')) # récupération des données sur les lettres\n"
     ]
    }
   ],
   "source": [
    "import numpy as np\n",
    "import pickle as pkl\n",
    "import matplotlib.pyplot as plt\n",
    "\n",
    "with open('ressources/lettres.pkl', 'rb') as f:\n",
    "    data = pkl.load(f, encoding='latin1') \n",
    "X = np.array(data.get('letters')) # récupération des données sur les lettres\n",
    "Y = np.array(data.get('labels')) # récupération des étiquettes associées "
   ]
  },
  {
   "cell_type": "markdown",
   "metadata": {},
   "source": [
    "Les données sont dans un format original: une lettre est en fait une série d'angles (exprimés en degrés). Un exemple: "
   ]
  },
  {
   "cell_type": "code",
   "execution_count": 2,
   "metadata": {},
   "outputs": [
    {
     "data": {
      "text/plain": [
       "array([ 36.214493, 347.719116, 322.088898, 312.230957, 314.851013,\n",
       "       315.487213, 313.556702, 326.534973, 141.288971, 167.606689,\n",
       "       199.321594, 217.911087, 226.443298, 235.002472, 252.354492,\n",
       "       270.045654, 291.665161, 350.934723,  17.892815,  20.281025,\n",
       "        28.207161,  43.883423,  53.459026])"
      ]
     },
     "execution_count": 2,
     "metadata": {},
     "output_type": "execute_result"
    }
   ],
   "source": [
    "X[0]"
   ]
  },
  {
   "cell_type": "markdown",
   "metadata": {},
   "source": [
    "Lors de l'acquisition, un stylo intelligent a pris des mesures régulièrement dans le temps: chaque période correspond à un segment de droite et le stylo a calculé l'angle entre deux segments consécutifs... C'est l'information qui vous est fournie.\n",
    "\n",
    "Pour afficher une lettre, il faut reconstruire la trajectoire enregistrée... C'est ce que fait la méthode ci-dessous: "
   ]
  },
  {
   "cell_type": "code",
   "execution_count": 3,
   "metadata": {},
   "outputs": [],
   "source": [
    "# affichage d'une lettre\n",
    "def tracerLettre(let):\n",
    "    a = -let*np.pi/180; # conversion en rad\n",
    "    coord = np.array([[0, 0]]); # point initial\n",
    "    for i in range(len(a)):\n",
    "        x = np.array([[1, 0]]);\n",
    "        rot = np.array([[np.cos(a[i]), -np.sin(a[i])],[ np.sin(a[i]),np.cos(a[i])]])\n",
    "        xr = x.dot(rot) # application de la rotation\n",
    "        coord = np.vstack((coord,xr+coord[-1,:]))\n",
    "    plt.figure()\n",
    "    plt.plot(coord[:,0],coord[:,1])\n",
    "    #plt.savefig(\"exlettre.png\")\n",
    "    return"
   ]
  },
  {
   "cell_type": "code",
   "execution_count": 4,
   "metadata": {},
   "outputs": [
    {
     "name": "stdout",
     "output_type": "stream",
     "text": [
      "a\n"
     ]
    },
    {
     "data": {
      "image/png": "[encoded data removed]",
      "text/plain": [
       "<Figure size 432x288 with 1 Axes>"
      ]
     },
     "metadata": {
      "needs_background": "light"
     },
     "output_type": "display_data"
    }
   ],
   "source": [
    "# il s'agit d'un 'a'\n",
    "tracerLettre(X[0])\n",
    "print(Y[0]) # vérification de l'étiquette"
   ]
  },
  {
   "cell_type": "markdown",
   "metadata": {},
   "source": [
    "## A. Apprentissage d'un modèle CM (max de vraisemblance)\n",
    "### A1. Discrétisation\n",
    "\n",
    "**1 état = 1 angle**\n",
    "\n",
    "Il est nécessaire de regrouper les angles en un nombre fini d'états (par exemple 20)\n",
    "- définir un `intervalle = 360 / n_etats` (18° si on choisit 20 états)\n",
    "- discrétiser tous les signaux à l'aide de la formule `np.floor(x / intervalle)`\n",
    "    - si n_etats = 20 alors [0, 18[ => 0, [18, 36[ => 1, etc...\n",
    "\n",
    "Donner le code de la méthode `discretise(x, d)` qui prend la base des signaux et retourne une base de signaux discrétisés."
   ]
  },
  {
   "cell_type": "code",
   "execution_count": 5,
   "metadata": {},
   "outputs": [],
   "source": [
    "def discretise(x, d):\n",
    "    intervalle=360/d\n",
    "    discretisation = np.copy(x)\n",
    "    for i in range(len(x)):\n",
    "        discretisation[i]=np.floor(x[i]/intervalle)\n",
    "    \n",
    "    return discretisation\n",
    "    \n",
    "    # Votre code :\n",
    "    \n"
   ]
  },
  {
   "cell_type": "code",
   "execution_count": 6,
   "metadata": {},
   "outputs": [
    {
     "name": "stdout",
     "output_type": "stream",
     "text": [
      "[0. 2. 2. 2. 2. 2. 2. 2. 1. 1. 1. 1. 1. 1. 2. 2. 2. 2. 0. 0. 0. 0. 0.]\n"
     ]
    }
   ],
   "source": [
    "print(discretise(X[0],3))"
   ]
  },
  {
   "cell_type": "markdown",
   "metadata": {},
   "source": [
    "**VALIDATION :** code du premier signal avec une discrétisation sur 3 états:\n",
    "```python\n",
    "array([ 0.,  2.,  2.,  2.,  2.,  2.,  2.,  2.,  1.,  1.,  1.,  1., 1., 1., 2., 2.,  2.,\n",
    "       2.,  0.,  0.,  0.,  0.,  0.])\n",
    "```"
   ]
  },
  {
   "cell_type": "markdown",
   "metadata": {},
   "source": [
    "### A2. Regrouper les indices des signaux par classe (pour faciliter l'apprentissage)"
   ]
  },
  {
   "cell_type": "code",
   "execution_count": 7,
   "metadata": {},
   "outputs": [],
   "source": [
    "def groupByLabel(y):\n",
    "    index = []\n",
    "    for i in np.unique(y): # pour toutes les classes\n",
    "        ind, = np.where(y == i)\n",
    "        index.append(ind)\n",
    "    return index"
   ]
  },
  {
   "cell_type": "markdown",
   "metadata": {},
   "source": [
    "Cette méthode produit simplement une structure type:\n",
    "```python\n",
    "[array([ 0,  1,  2,  3,  4,  5,  6,  7,  8,  9, 10]),\n",
    " array([11, 12, 13, 14, 15, 16, 17, 18, 19, 20, 21]),\n",
    " array([22, 23, 24, 25, 26, 27, 28, 29, 30, 31, 32]),\n",
    " array([33, 34, 35, 36, 37, 38, 39, 40, 41, 42, 43]),\n",
    " array([44, 45, 46, 47, 48, 49, 50, 51, 52, 53, 54]),\n",
    " array([55, 56, 57, 58, 59, 60, 61, 62, 63, 64, 65]),\n",
    " ...\n",
    "```\n",
    "Chaque ligne regroupe les indices de signaux correspondant à une classe. Il y a donc 11 exemples de 'a'."
   ]
  },
  {
   "cell_type": "markdown",
   "metadata": {},
   "source": [
    "### A3. Apprendre les modèles CM\n",
    "\n",
    "Soit {$X_C$} la base de signaux discrétisés correspondant à une classe {$C$} et {$d$} le nombre d'états. Donner le code de la fonction `learnMarkovModel(Xc, d)` qui retourne un tuple contenant Pi et A.\n",
    "\n",
    "Rappel:\n",
    "- Initialisation de \n",
    "```python\n",
    " A = np.zeros((d, d))\n",
    " Pi = np.zeros(d)```\n",
    "- Parcours de tous les signaux et incréments de A et Pi\n",
    "- Normalisation (un peu réfléchie pour éviter les divisions par 0)\n",
    "```python\n",
    "A = A / np.maximum(A.sum(1).reshape(d, 1), 1) # normalisation\n",
    "Pi = Pi / Pi.sum()```\n",
    "\n",
    "**Note** : la solution proposée pour gérer le cas des lignes entièrement à 0 est naïve et n'est pas totalement satisfaisante. Comprendre pourquoi. On proposera une solution améliorée plus loin dans le TME. "
   ]
  },
  {
   "cell_type": "code",
   "execution_count": 8,
   "metadata": {},
   "outputs": [],
   "source": [
    "def learnMarkovModel(Xc, d):\n",
    "    A = np.zeros((d, d))\n",
    "    Pi = np.zeros(d)\n",
    "    for j in range(len(Xc)): #on parcourt ex par ex\n",
    "        a = Xc[j] # valeurs pour 1 ex de la lettre\n",
    "        etat = int(a[0])\n",
    "        Pi[etat] += 1\n",
    "        for x in range(len(a)-1): #on parcourt les données de chaque ex de la lettre\n",
    "            a_i = int(a[x])\n",
    "            a_j = int(a[x + 1])\n",
    "            A[a_i][a_j] += 1\n",
    "    A = A / np.maximum(A.sum(1).reshape(d, 1), 1) #normalisation\n",
    "    Pi = Pi / Pi.sum()\n",
    "    \n",
    "    return Pi, A"
   ]
  },
  {
   "cell_type": "code",
   "execution_count": 9,
   "metadata": {},
   "outputs": [
    {
     "data": {
      "text/plain": [
       "(array([0.36363636, 0.        , 0.63636364]),\n",
       " array([[0.84444444, 0.06666667, 0.08888889],\n",
       "        [0.        , 0.83333333, 0.16666667],\n",
       "        [0.11382114, 0.06504065, 0.82113821]]))"
      ]
     },
     "execution_count": 9,
     "metadata": {},
     "output_type": "execute_result"
    }
   ],
   "source": [
    "d=3\n",
    "index=groupByLabel(Y)\n",
    "lettre=X[index[0]]\n",
    "Xc=discretise(lettre,d)\n",
    "learnMarkovModel(Xc,d)"
   ]
  },
  {
   "cell_type": "markdown",
   "metadata": {},
   "source": [
    "**Validation :** premier modèle avec une discrétisation sur 3 états :\n",
    "```python\n",
    "(array([ 0.36363636,  0.        ,  0.63636364]),\n",
    " array([[ 0.84444444,  0.06666667,  0.08888889],\n",
    "       [ 0.        ,  0.83333333,  0.16666667],\n",
    "       [ 0.11382114,  0.06504065,  0.82113821]]))\n",
    "```"
   ]
  },
  {
   "cell_type": "markdown",
   "metadata": {},
   "source": [
    "### A4. Stocker les modèles dans une liste\n",
    "\n",
    "Pour un usage ultérieur plus facile, on utilise le code suivant :"
   ]
  },
  {
   "cell_type": "code",
   "execution_count": 10,
   "metadata": {},
   "outputs": [],
   "source": [
    "d = 20                   # paramètre de discrétisation\n",
    "Xd = discretise(X, d)    # application de la discrétisation\n",
    "index = groupByLabel(Y)  # groupement des signaux par classe\n",
    "models = []\n",
    "for cl in range(len(np.unique(Y))): # parcours de toutes les classes et optimisation des modèles\n",
    "    models.append(learnMarkovModel(Xd[index[cl]], d))"
   ]
  },
  {
   "cell_type": "markdown",
   "metadata": {},
   "source": [
    "### A5. Distribution stationnaire\n",
    "\n",
    "La distribution stationnaire $\\mu$, pour un système ergodique, correspond à:\n",
    "\n",
    "- la distribution des états observés dans l'ensemble des données\n",
    "- la distribution obtenu après un grand nombre de passage dans $A$ à partir de n'importe quelle distribution ou état d'origine (une matrice de transition ergodique va nous permettre de converger)\n",
    "- la solution de l'équation de stabilité: $\\mu = \\mu A$\n",
    "\n",
    "Dans le cas de la lettre 'a' et d'une discrétisation en 3 états, calculer la distribution stationnaire par les deux première méthode et vérifier que vous obtenez des résultats similaires.\n",
    "\n",
    "**Note:** pour la marche aléatoire, vous construirez une boucle sur 100 iérations (borne sup) et vous sortirez dès que la somme des écarts (en absolu) entre $\\mu_t$ et $\\mu_{t+1}$ est inférieure à $10^{-3}$. Vous vérifierez ensuite que le système converge quelque soit l'état de départ (3 appel àla fonction) ou avec une initialisation aléatoire."
   ]
  },
  {
   "cell_type": "code",
   "execution_count": 11,
   "metadata": {},
   "outputs": [],
   "source": [
    "import random\n",
    "import copy\n",
    "lettre=X[index[0]]\n",
    "d=3\n",
    "Xc=discretise(lettre,d)\n",
    "A=learnMarkovModel(Xc,d)[1]\n",
    "\n",
    "\n",
    "def methode1(Xc,d):\n",
    "    mu1=np.zeros(d)\n",
    "    for i in range(len(Xc)):\n",
    "        for j in range(len(Xc[i])):\n",
    "            mu1[int(Xc[i][j])]+=1\n",
    "    mu1=mu1/mu1.sum()\n",
    "    return mu1\n",
    "\n",
    "def methode2(Xc,d,A):#uniquement pour 3 classes\n",
    "    \n",
    "    mu1=np.zeros(d)\n",
    "    mu1[0]=random.random()\n",
    "    mu1[1]=random.uniform(0,1-mu1.sum())#pour que aucune valeur ne depasse 1\n",
    "    mu1[2]=1-mu1.sum()#pour que l'ensembe somme à 1\n",
    "    i=0\n",
    "    mu1t=np.zeros(d)\n",
    "    while(np.sum(np.abs(mu1t-mu1))>(10**-3))and(i<100):\n",
    "        mu1t=copy.deepcopy(mu1)\n",
    "        mu1=np.dot(mu1,A)\n",
    "        i+=1\n",
    "    return mu1, mu1t\n"
   ]
  },
  {
   "cell_type": "code",
   "execution_count": 12,
   "metadata": {},
   "outputs": [
    {
     "name": "stdout",
     "output_type": "stream",
     "text": [
      "[0.22857143 0.26938776 0.50204082]\n",
      "[0.30127884 0.28357517 0.41514599]\n",
      "difference entre mu1 et mu2= 0.1737896575433077\n",
      "difference entre mu2 et mu2t= 0.0009871346615804022\n"
     ]
    }
   ],
   "source": [
    "mu1=methode1(Xc,d)\n",
    "mu2,mu2t=methode2(Xc,d,A)\n",
    "print(mu1)\n",
    "print(mu2)\n",
    "print(\"difference entre mu1 et mu2=\",np.sum(np.abs(mu1-mu2)))\n",
    "print(\"difference entre mu2 et mu2t=\",np.sum(np.abs(mu2t-mu2)))\n",
    "#question à poser au prof "
   ]
  },
  {
   "cell_type": "markdown",
   "metadata": {},
   "source": [
    "##  B. Test (affectation dans les classes sur critère MV)\n",
    "### B1. (log)Probabilité d'une séquence dans un modèle\n",
    "\n",
    "Donner le code de la méthode `probaSequence(s,Pi,A)` qui retourne la log-probabilité d'une séquence `s` dans le modèle {$\\lambda=\\{Pi,A\\}$} "
   ]
  },
  {
   "cell_type": "code",
   "execution_count": 13,
   "metadata": {},
   "outputs": [],
   "source": [
    "def probaSequence(s, Pi, A):\n",
    "    logproba=Pi[int(s[0])]\n",
    "    pos=int(s[0]) #position precedente\n",
    "    for i in s[1:]:\n",
    "        logproba=logproba*A[pos][int(i)]\n",
    "        pos=int(i)\n",
    "    if logproba!=0:\n",
    "        logproba=np.log(logproba)\n",
    "    else:\n",
    "        logproba=-np.inf\n",
    "    return logproba"
   ]
  },
  {
   "cell_type": "code",
   "execution_count": 14,
   "metadata": {},
   "outputs": [
    {
     "name": "stdout",
     "output_type": "stream",
     "text": [
      "[-13.491086           -inf         -inf         -inf         -inf\n",
      "         -inf         -inf         -inf         -inf         -inf\n",
      "         -inf         -inf         -inf         -inf         -inf\n",
      "         -inf         -inf         -inf         -inf         -inf\n",
      "         -inf         -inf         -inf         -inf         -inf\n",
      " -12.48285678]\n"
     ]
    }
   ],
   "source": [
    "s=discretise(X[0],3)#discretisation 1er signal sur 3 états\n",
    "d=3\n",
    "proba=[]\n",
    "for i in range(26):\n",
    "    model=X[index[i]]\n",
    "    model_discret=discretise(model,d)\n",
    "    Pi,A=learnMarkovModel(model_discret,d)\n",
    "    p=probaSequence(s,Pi,A)\n",
    "    proba.append(p)\n",
    "proba=np.array(proba)\n",
    "print(proba)"
   ]
  },
  {
   "cell_type": "markdown",
   "metadata": {},
   "source": [
    "**VALIDATION :** probabilité du premier signal dans les 26 modèles avec une discrétisation sur 3 états :\n",
    "```python\n",
    "array([-13.491086  ,         -inf,         -inf,         -inf,\n",
    "               -inf,         -inf,         -inf,         -inf,\n",
    "               -inf,         -inf,         -inf,         -inf,\n",
    "               -inf,         -inf,         -inf,         -inf,\n",
    "               -inf,         -inf,         -inf,         -inf,\n",
    "               -inf,         -inf,         -inf,         -inf,\n",
    "               -inf, -12.48285678])\n",
    "```\n",
    "\n",
    "- Ce signal est-il bien classé ?\n",
    "- D'où viennent tous les `-inf` ? "
   ]
  },
  {
   "cell_type": "markdown",
   "metadata": {},
   "source": [
    "Ce signal est bien classé pour la lettre a, en effet on obtient un score de -13.491086.\n",
    "\n",
    "Cependant, le score du pour la lettre z est extrement proche aussi. C'est une erreur qui peut se comprendre quand on voit le dessin de la lettre a par rapport à la lettre z.\n",
    "\n",
    "Les -inf viennent du fait qu'on a multiplie par 0 a un moment; que ce soit au debut avec Pi ou bien lors d'un passage dans la matrice de passage A. Or log(0) n'est pas possible donc on met -inf. "
   ]
  },
  {
   "cell_type": "markdown",
   "metadata": {},
   "source": [
    "### B2. Application de la méthode précédente pour tous les signaux et tous les modèles de lettres\n",
    "\n",
    "L'application se fait en une ligne de code si vous avez respecté les spécifications précédentes : "
   ]
  },
  {
   "cell_type": "code",
   "execution_count": 15,
   "metadata": {},
   "outputs": [],
   "source": [
    "proba = np.array([[probaSequence(Xd[i], models[cl][0], models[cl][1]) for i in range(len(Xd))]\n",
    "                  for cl in range(len(np.unique(Y)))])"
   ]
  },
  {
   "cell_type": "markdown",
   "metadata": {},
   "source": [
    "### B3. Evaluation des performances\n",
    "\n",
    "Pour l'évaluation, nous proposons l'approche suivante: "
   ]
  },
  {
   "cell_type": "code",
   "execution_count": 16,
   "metadata": {},
   "outputs": [
    {
     "data": {
      "text/plain": [
       "0.914179104477612"
      ]
     },
     "execution_count": 16,
     "metadata": {},
     "output_type": "execute_result"
    }
   ],
   "source": [
    "# calcul d'une version numérique des Y :\n",
    "Ynum = np.zeros(Y.shape)\n",
    "for num, char in enumerate(np.unique(Y)):\n",
    "    Ynum[Y == char] = num\n",
    "    \n",
    "# Calcul de la classe la plus probable :\n",
    "pred = proba.argmax(0) # max colonne par colonne\n",
    "\n",
    "# Calcul d'un pourcentage de bonne classification :\n",
    "np.where(pred != Ynum, 0.,1.).mean()"
   ]
  },
  {
   "cell_type": "markdown",
   "metadata": {},
   "source": [
    "**INDICE DE PERFORMANCE :** 91% de bonne classification avec 20 états, 69% avec 3 états"
   ]
  },
  {
   "cell_type": "markdown",
   "metadata": {},
   "source": [
    "## C. Biais d'évaluation, notion de sur-apprentissage\n",
    "\n",
    "Dans le protocole précédent, nous avons triché:\n",
    "- les données servent d'abord à apprendre les modèles...\n",
    "- puis nous nous servons des mêmes données pour tester les modèles ! Les performances sont forcément bonnes ! \n",
    "\n",
    "Afin de palier le problème, nous allons diviser en deux la base de données: une partie servira à l'apprentissage des modèles, l'autre à leur évaluation. Pour effectuer la division, nous fournissons le code suivant: "
   ]
  },
  {
   "cell_type": "code",
   "execution_count": 17,
   "metadata": {},
   "outputs": [],
   "source": [
    "# separation app/test, pc=ratio de points en apprentissage\n",
    "def separeTrainTest(y, pc):\n",
    "    indTrain = []\n",
    "    indTest = []\n",
    "    for i in np.unique(y): # pour toutes les classes\n",
    "        ind, = np.where(y == i)\n",
    "        n = len(ind)\n",
    "        indTrain.append(ind[np.random.permutation(n)][:int(np.floor(pc * n))])\n",
    "        indTest.append(np.setdiff1d(ind, indTrain[-1]))\n",
    "    return indTrain, indTest\n",
    "\n",
    "# exemple d'utilisation\n",
    "itrain, itest = separeTrainTest(Y, 0.8)"
   ]
  },
  {
   "cell_type": "markdown",
   "metadata": {},
   "source": [
    "dans `itrain`, nous obtenons les indices des signaux qui doivent servir en apprentissage pour chaque classe :"
   ]
  },
  {
   "cell_type": "code",
   "execution_count": 18,
   "metadata": {},
   "outputs": [
    {
     "data": {
      "text/plain": [
       "[array([ 5,  9,  8,  3,  1, 10,  0,  6], dtype=int64),\n",
       " array([21, 12, 14, 13, 16, 20, 19, 15], dtype=int64),\n",
       " array([29, 22, 24, 31, 23, 28, 27, 30], dtype=int64),\n",
       " array([39, 36, 40, 43, 37, 35, 42, 41], dtype=int64),\n",
       " array([48, 44, 54, 47, 50, 46, 53, 52], dtype=int64),\n",
       " array([62, 64, 57, 65, 59, 58, 61, 63], dtype=int64),\n",
       " array([73, 70, 68, 71, 66, 75, 76, 74], dtype=int64),\n",
       " array([87, 84, 78, 85, 81, 86, 80, 79], dtype=int64),\n",
       " array([93, 95, 92, 89, 90, 88, 96, 91], dtype=int64),\n",
       " array([103, 104, 105,  99, 101, 100,  98, 106], dtype=int64),\n",
       " array([108, 113, 116, 109, 117, 111, 112, 110], dtype=int64),\n",
       " array([119, 121, 124, 118, 127, 122, 125, 126], dtype=int64),\n",
       " array([130, 137, 131, 129, 136, 135, 134, 128], dtype=int64),\n",
       " array([144, 145, 143, 140, 141, 138, 142, 146], dtype=int64),\n",
       " array([149, 148, 156, 154, 153, 157, 150, 155], dtype=int64),\n",
       " array([166, 161, 167, 159, 160, 158, 162, 165], dtype=int64),\n",
       " array([168, 169, 173, 171, 174, 172, 176, 170], dtype=int64),\n",
       " array([178, 184, 180, 185, 182, 181, 179, 187], dtype=int64),\n",
       " array([190, 193, 195, 188, 189, 192, 194, 196], dtype=int64),\n",
       " array([205, 199, 202, 206, 204, 200, 207, 198], dtype=int64),\n",
       " array([216, 210, 214, 217, 212, 213, 211, 208], dtype=int64),\n",
       " array([221, 224, 220, 226, 227, 223, 225, 222], dtype=int64),\n",
       " array([230, 233, 234, 228, 232, 236, 235, 231], dtype=int64),\n",
       " array([239, 241, 242, 245, 243, 244, 247, 246], dtype=int64),\n",
       " array([256, 257, 248, 249, 250, 254, 255, 253], dtype=int64),\n",
       " array([266, 261, 265, 259, 263, 267, 264, 262], dtype=int64)]"
      ]
     },
     "execution_count": 18,
     "metadata": {},
     "output_type": "execute_result"
    }
   ],
   "source": [
    "itrain"
   ]
  },
  {
   "cell_type": "markdown",
   "metadata": {},
   "source": [
    "**Note :** pour faciliter l'évaluation des modèles, vous aurez besoin de re-fusionner tous les indices d'apprentissage et de test. Cela se fait avec les lignes de code suivantes : "
   ]
  },
  {
   "cell_type": "code",
   "execution_count": 19,
   "metadata": {},
   "outputs": [],
   "source": [
    "ia = []\n",
    "for i in itrain:\n",
    "    ia += i.tolist()    \n",
    "it = []\n",
    "for i in itest:\n",
    "    it += i.tolist()"
   ]
  },
  {
   "cell_type": "markdown",
   "metadata": {},
   "source": [
    "**Note 2 :** Du fait de la permutation aléatoire, les résultats vont bouger (un peu) à chaque execution du programme. "
   ]
  },
  {
   "cell_type": "markdown",
   "metadata": {},
   "source": [
    "### C1. Questions importantes\n",
    "- Ré-utiliser les fonctions précédemment définies pour apprendre des modèles et les évaluer sans biais.\n",
    "- Calculer et analyser les résultats obtenus en apprentissage et en test\n",
    "- Etudier l'évolution des performances en fonction de la discrétisation"
   ]
  },
  {
   "cell_type": "code",
   "execution_count": 20,
   "metadata": {},
   "outputs": [
    {
     "name": "stdout",
     "output_type": "stream",
     "text": [
      "pourcent train (avec d= 20 )= 0.9326923076923077\n",
      "pourcent test (avec d= 20 )= 0.2833333333333333\n"
     ]
    }
   ],
   "source": [
    "##Apprentissage avec itrain##\n",
    "\n",
    "d = 20   # paramètre de discrétisation\n",
    "Xd = discretise(X, d)   # application de la discrétisation\n",
    "modelsA = []\n",
    "for i in range(len(itrain)): # parcours de toutes les classes et optimisation des modèles\n",
    "    modelsA.append(learnMarkovModel(Xd[itrain[i]], d))\n",
    "\n",
    "##probas des differents jeu de données ##\n",
    "  \n",
    "proba_train=np.array([[probaSequence(Xd[i], modelsA[cl][0], modelsA[cl][1]) for i in ia]\n",
    "                  for cl in range(len(itrain))])\n",
    "\n",
    "proba_test=np.array([[probaSequence(Xd[i], modelsA[cl][0], modelsA[cl][1]) for i in it]\n",
    "                  for cl in range(len(itest))])\n",
    "\n",
    "##Evalutation sur les deux jeux de données##\n",
    "inum_train = Ynum[ia]\n",
    "\n",
    "for num, char in enumerate((ia)):\n",
    "    inum_train[itrain == char] = num\n",
    "\n",
    "inum_test = Ynum[it]\n",
    "for num, char in enumerate((it)):\n",
    "    inum_test[itest == char] = num\n",
    "\n",
    "# Calcul de la classe la plus probable :\n",
    "predictiontrain = proba_train.argmax(0) # max colonne par colonne\n",
    "predictiontest = proba_test.argmax(0) # max colonne par colonne\n",
    "\n",
    "# Calcul du pourcentage de bonne classification pour les deux jeux de données  :\n",
    "predictiontrain=np.where(predictiontrain != inum_train, 0.,1.).mean()\n",
    "predictiontest=np.where(predictiontest != inum_test, 0.,1.).mean()\n",
    "print(\"pourcent train (avec d=\",d,\")=\",predictiontrain)\n",
    "print(\"pourcent test (avec d=\",d,\")=\",predictiontest)"
   ]
  },
  {
   "cell_type": "code",
   "execution_count": 21,
   "metadata": {},
   "outputs": [
    {
     "data": {
      "image/png": "[encoded data removed]",
      "text/plain": [
       "<Figure size 432x288 with 1 Axes>"
      ]
     },
     "metadata": {
      "needs_background": "light"
     },
     "output_type": "display_data"
    }
   ],
   "source": [
    "##trace courbes performances##\n",
    "import matplotlib.pyplot as plt\n",
    "x=[]#axe x/absisse\n",
    "perfs_train=[]#axe y/perf apprentissage\n",
    "perfs_test=[]#axe y/perf test\n",
    "for i in range(2,30):\n",
    "    x.append(i)\n",
    "    #copie de la case precedente en modifiant discretisation\n",
    "    d=i\n",
    "    Xd = discretise(X, d)   # application de la discrétisation\n",
    "    modelsA = []\n",
    "    for cl in range(len(itrain)):\n",
    "        modelsA.append(learnMarkovModel(Xd[itrain[cl]], d))\n",
    "    proba_train=np.array([[probaSequence(Xd[i], modelsA[cl][0], modelsA[cl][1]) for i in ia]\n",
    "                      for cl in range(len(itrain))])\n",
    "    proba_test=np.array([[probaSequence(Xd[i], modelsA[cl][0], modelsA[cl][1]) for i in it]\n",
    "                      for cl in range(len(itest))])\n",
    "    inum_train = Ynum[ia]\n",
    "    for num, char in enumerate((ia)):\n",
    "        inum_train[itrain == char] = num\n",
    "    inum_test = Ynum[it]\n",
    "    for num, char in enumerate((it)):\n",
    "        inum_test[itest == char] = num\n",
    "    pred_train = proba_train.argmax(0)\n",
    "    pred_test = proba_test.argmax(0)\n",
    "    pourcent_train=np.where(pred_train != inum_train, 0.,1.).mean()\n",
    "    pourcent_test=np.where(pred_test != inum_test, 0.,1.).mean()\n",
    "    \n",
    "    perfs_train.append(pourcent_train)\n",
    "    perfs_test.append(pourcent_test)\n",
    "    \n",
    "#affichage du graph de performance\n",
    "plt.plot(x,perfs_train)\n",
    "plt.plot(x,perfs_test)\n",
    "plt.xlabel('d')\n",
    "plt.ylabel('Performance')\n",
    "plt.legend(['apprentissage','test'])\n",
    "plt.title('Performance de la classification en fonction de d')\n",
    "\n",
    "plt.show()\n",
    "\n",
    "\n",
    "#les résultats du train s'ameliorent mais les resultats du test s'empirent  avec l'augentation de la discrétisation\n",
    "#C'est le phenomene de sur-apprentissage: quand d augmente on manque d'exemples\n",
    "#pour bien estimer les paramtres initiales Pi et la matrice de transition A.\n",
    "\n",
    "#Sur le graphique on retrouve les resultats pour le test et le train pour d=20.\n"
   ]
  },
  {
   "cell_type": "code",
   "execution_count": null,
   "metadata": {},
   "outputs": [],
   "source": []
  },
  {
   "cell_type": "markdown",
   "metadata": {},
   "source": [
    "### C2. Lutter contre le sur-apprentissage\n",
    "Cette base de données met en lumière le phénomène de sur-apprentissage : il y a peu de données et dès que le nombre d'états augmente, il y a trop peu d'exemple pour estimer correctement les matrices {$A, \\pi$}. De nombreuses cases sont donc à 0, voire des lignes entières (d'où la sécurisation du code pour la normalisation des matrices stochastiques).\n",
    "\n",
    "Ces 0 sont particulièrement discriminants: considérant la classe {$c$}, ils permettent d'éliminer de cette classe tout signal présentant cette caractéristique. Cette règle est trop forte compte tenu de la taille de la base d'apprentissage. Nous proposons une astuce pour palier cette faiblesse : lors du comptage, initialiser les matrices {$A, \\pi$} avec ones au lieu de zeros . On fait semblant d'avoir observer une transition de chaque type avant même le début du comptage.\n",
    "\n",
    "Comparer les performances en test."
   ]
  },
  {
   "cell_type": "code",
   "execution_count": 22,
   "metadata": {},
   "outputs": [],
   "source": [
    "def learnMarkovModelv2(Xc, d):\n",
    "    A = np.ones((d, d))\n",
    "    Pi = np.ones(d)\n",
    "    for j in range(len(Xc)):\n",
    "        a = Xc[j]\n",
    "        etat0 = int(a[0])\n",
    "        Pi[etat0] += 1\n",
    "        for x in range(len(a)-1): #on parcourt les données de chaque ex de la lettre\n",
    "            a_i = int(a[x])\n",
    "            a_j = int(a[x + 1])\n",
    "            A[a_i][a_j] += 1\n",
    "    A = A / np.maximum(A.sum(1).reshape(d, 1), 1) #normalisation\n",
    "    Pi = Pi / Pi.sum()\n",
    "    \n",
    "    return Pi, A"
   ]
  },
  {
   "cell_type": "code",
   "execution_count": 23,
   "metadata": {},
   "outputs": [
    {
     "name": "stdout",
     "output_type": "stream",
     "text": [
      "pourcent train2 (avec d= 20 )= 0.8317307692307693\n",
      "pourcent test2 (avec d= 20 )= 0.6333333333333333\n"
     ]
    }
   ],
   "source": [
    "##Apprentissage avec itrain##\n",
    "\n",
    "d = 20\n",
    "Xd = discretise(X, d)   # application de la discrétisation\n",
    "modelsA2 = []\n",
    "for i in range(len(itrain)): # parcours de toutes les classes et optimisation des modèles\n",
    "    modelsA2.append(learnMarkovModelv2(Xd[itrain[i]], d))    \n",
    "\n",
    "##probas##\n",
    "proba_train2=np.array([[probaSequence(Xd[i], modelsA2[j][0], modelsA2[j][1]) for i in ia]\n",
    "                  for j in range(len(itrain))])\n",
    "\n",
    "proba_test2=np.array([[probaSequence(Xd[i], modelsA2[j][0], modelsA2[j][1]) for i in it]\n",
    "                  for j in range(len(itest))])\n",
    "\n",
    "##Evalutation##\n",
    "inum_train2 =Ynum[ia]\n",
    "\n",
    "for num, char in enumerate((ia)):\n",
    "    inum_train2[itrain == char] = num\n",
    "\n",
    "inum_test2 = Ynum[it]\n",
    "for num, char in enumerate((it)):\n",
    "    inum_test2[itest == char] = num\n",
    "\n",
    "# Calcul de la classe la plus probable :\n",
    "pred_train2 = proba_train2.argmax(0) # max colonne par colonne\n",
    "pred_test2 = proba_test2.argmax(0) # max colonne par colonne\n",
    "\n",
    "# Calcul d'un pourcentage de bonne classification :\n",
    "pourcent_train2=np.where(pred_train2 != inum_train2, 0.,1.).mean()\n",
    "pourcent_test2=np.where(pred_test2 != inum_test2, 0.,1.).mean()\n",
    "print(\"pourcent train2 (avec d=\",d,\")=\",pourcent_train2)\n",
    "print(\"pourcent test2 (avec d=\",d,\")=\",pourcent_test2)"
   ]
  },
  {
   "cell_type": "markdown",
   "metadata": {},
   "source": [
    "## D. Evaluation qualitative\n",
    "\n",
    "Nous nous demandons maintenant où se trouvent les erreurs que nous avons commises...\n",
    "\n",
    "Calcul de la matrice de confusion: pour chaque échantillon de test, nous avons une prédiction (issue du modèle) et une vérité terrain (la vraie étiquette). En posant Nc le nombre de classes, la matrice de confusion est une matrice (Nc x Nc) où nous comptons le nombre d'échantillon de test dans chaque catégorie :\n",
    "\n",
    "- Initialisation à 0 : "
   ]
  },
  {
   "cell_type": "code",
   "execution_count": 24,
   "metadata": {},
   "outputs": [],
   "source": [
    "conf = np.zeros((26,26))"
   ]
  },
  {
   "cell_type": "markdown",
   "metadata": {},
   "source": [
    "- Pour chaque échantillon, incrément de la case (prediction, vérité)"
   ]
  },
  {
   "cell_type": "code",
   "execution_count": 25,
   "metadata": {},
   "outputs": [],
   "source": [
    "probas=np.array([[probaSequence(Xd[i], modelsA2[j][0], modelsA2[j][1]) for i in range(len(X))]\n",
    "                  for j in range(len(itrain))])\n",
    "classes_predites=probas.argmax(0) #affichage des classes predites par le model \n",
    "#print(classes_predites)"
   ]
  },
  {
   "cell_type": "code",
   "execution_count": 26,
   "metadata": {},
   "outputs": [],
   "source": [
    "#transformation des lettres de Y en nombre pour comparaison avec predictions\n",
    "def f(c):\n",
    "    return ord(c) - ord('a')"
   ]
  },
  {
   "cell_type": "code",
   "execution_count": 27,
   "metadata": {},
   "outputs": [],
   "source": [
    "classes=[]\n",
    "for lettre in Y:\n",
    "    classes.append(f(lettre))\n",
    "#incrementations\n",
    "for i in range(len(classes_predites)):\n",
    "    conf[classes[i]][classes_predites[i]]+=1\n",
    "\n",
    "#print(classes)"
   ]
  },
  {
   "cell_type": "markdown",
   "metadata": {},
   "source": [
    "- Tracé de la matrice : "
   ]
  },
  {
   "cell_type": "code",
   "execution_count": 28,
   "metadata": {},
   "outputs": [
    {
     "data": {
      "text/plain": [
       "Text(0, 0.5, 'Prédiction')"
      ]
     },
     "execution_count": 28,
     "metadata": {},
     "output_type": "execute_result"
    },
    {
     "data": {
      "image/png": "[encoded data removed]",
      "text/plain": [
       "<Figure size 432x288 with 2 Axes>"
      ]
     },
     "metadata": {
      "needs_background": "light"
     },
     "output_type": "display_data"
    }
   ],
   "source": [
    "plt.figure()\n",
    "plt.imshow(conf, interpolation = 'nearest')\n",
    "plt.colorbar()\n",
    "plt.xticks(np.arange(26), np.unique(Y))\n",
    "plt.yticks(np.arange(26), np.unique(Y))\n",
    "plt.xlabel(u'Vérité terrain')\n",
    "plt.ylabel(u'Prédiction')\n",
    "#plt.savefig(\"mat_conf_lettres.png\")"
   ]
  },
  {
   "cell_type": "markdown",
   "metadata": {},
   "source": [
    "## E. Modèle génératif\n",
    "\n",
    "Utiliser les modèles appris pour générer de nouvelles lettres manuscrites.\n",
    "\n",
    "### E1. Tirage selon une loi de probabilité discrète\n",
    "\n",
    "- faire la somme cumulée de la loi {$sc$}\n",
    "- tirer un nombre aléatoire {$t$} entre 0 et 1\n",
    "- trouver la première valeur de {$sc$} qui est supérieure à {$t$}\n",
    "- retourner cet état \n",
    "\n",
    "**Note :** comme vu en cours, tout repose sur la somme cumulée (notée ici `sc$`, calculable en appelant `np.cumsum`. Sur un exemple: la loi `V = [0.2, 0.4, 0.3, 0.1]` a pour somme cumulée `V.cumsum() == [0.2,  0.6,  0.9,  1.0]`\n",
    "\n",
    "### E2. Génération d'une séquence de longueur N\n",
    "\n",
    "- tirer un état {$s_0$} selon Pi\n",
    "- tant que la longueur n'est pas atteinte :\n",
    "  - tirer un état {$s_{t+1}$} selon {$A[s_{t}]$} "
   ]
  },
  {
   "cell_type": "code",
   "execution_count": 29,
   "metadata": {},
   "outputs": [],
   "source": [
    "def generate(A,B,N):\n",
    "    Pi2=A.cumsum()\n",
    "    sequence=[]\n",
    "    t=random.random()\n",
    "    print(t)\n",
    "    print(Pi2)\n",
    "    for i in range(len(Pi2)):\n",
    "        v=i\n",
    "        if(t<Pi2[i]):\n",
    "            while(Pi2[i]==Pi2[v-1]):\n",
    "                v=v-1\n",
    "            sequence.append(v+1)\n",
    "            print(sequence)\n",
    "            break\n",
    "        if(t==Pi2[i]):\n",
    "            sequence.append(i+1)\n",
    "            break\n",
    "        if(t==len(Pi2)):\n",
    "            sequence.append(Pi[:-1]+1)\n",
    "            break\n",
    "    print(sequence)\n",
    "    for j in range(1,N):\n",
    "        t=random.random()\n",
    "        w=sequence[j-1]-1\n",
    "        print(w)\n",
    "        #print(t)\n",
    "        print(B[w-1])\n",
    "        B2=B[w-1].cumsum()\n",
    "        \n",
    "        for i in range(B2.shape[0]):\n",
    "            v=i\n",
    "            if(t<B2[i]):\n",
    "                while(B2[i]==B2[v-1]):\n",
    "                    v=v-1\n",
    "                sequence.append(v+1)\n",
    "                a=j\n",
    "                continue\n",
    "            if(t==B2[i]):\n",
    "                sequence.append(i+1)\n",
    "                continue\n",
    "            else:\n",
    "                sequence.append(B[i])\n",
    "                continue\n",
    "    return np;array(sequence) \n",
    "    \n",
    "    "
   ]
  },
  {
   "cell_type": "markdown",
   "metadata": {},
   "source": [
    "### E3. Affichage du résultat"
   ]
  },
  {
   "cell_type": "code",
   "execution_count": 30,
   "metadata": {},
   "outputs": [],
   "source": [
    "# d=20\n",
    "# newa = generate(models[0][0], models[0][1], 20)       # generation d'une séquence d'états\n",
    "# intervalle = 360. / d                                 # pour passer des états => valeur d'angles\n",
    "# newa_continu = np.array([i * intervalle for i in newa]) # conv int => double\n",
    "# tracerLettre(newa_continu)"
   ]
  },
  {
   "cell_type": "code",
   "execution_count": 31,
   "metadata": {},
   "outputs": [],
   "source": [
    "# print(models[0][0])"
   ]
  },
  {
   "cell_type": "markdown",
   "metadata": {},
   "source": [
    "# Exercice supplémentaire : Modèle MLP pour classification de lettre manuscrite"
   ]
  },
  {
   "cell_type": "code",
   "execution_count": 32,
   "metadata": {},
   "outputs": [
    {
     "name": "stderr",
     "output_type": "stream",
     "text": [
      "<ipython-input-32-424f0140d231>:3: VisibleDeprecationWarning: Creating an ndarray from ragged nested sequences (which is a list-or-tuple of lists-or-tuples-or ndarrays with different lengths or shapes) is deprecated. If you meant to do this, you must specify 'dtype=object' when creating the ndarray\n",
      "  X = np.array(data.get('letters')) # récupération des données sur les lettres\n"
     ]
    }
   ],
   "source": [
    "with open('ressources/lettres.pkl', 'rb') as f:\n",
    "    data = pkl.load(f, encoding='latin1') \n",
    "X = np.array(data.get('letters')) # récupération des données sur les lettres\n",
    "Y = np.array(data.get('labels')) # récupération des étiquettes associées"
   ]
  },
  {
   "cell_type": "code",
   "execution_count": 33,
   "metadata": {},
   "outputs": [
    {
     "name": "stdout",
     "output_type": "stream",
     "text": [
      "X[0]:\n",
      " [ 36.214493 347.719116 322.088898 312.230957 314.851013 315.487213\n",
      " 313.556702 326.534973 141.288971 167.606689 199.321594 217.911087\n",
      " 226.443298 235.002472 252.354492 270.045654 291.665161 350.934723\n",
      "  17.892815  20.281025  28.207161  43.883423  53.459026]\n",
      "deg_max: 46\n",
      "(268, 46)\n",
      "268\n",
      "X_pad:\n",
      " [ 36.214493 347.719116 322.088898 312.230957 314.851013 315.487213\n",
      " 313.556702 326.534973 141.288971 167.606689 199.321594 217.911087\n",
      " 226.443298 235.002472 252.354492 270.045654 291.665161 350.934723\n",
      "  17.892815  20.281025  28.207161  43.883423  53.459026   0.\n",
      "   0.         0.         0.         0.         0.         0.\n",
      "   0.         0.         0.         0.         0.         0.\n",
      "   0.         0.         0.         0.         0.         0.\n",
      "   0.         0.         0.         0.      ]\n"
     ]
    }
   ],
   "source": [
    "print(\"X[0]:\\n\",X[0])\n",
    "\n",
    "# On a pas le meme nombre de degres par exemple, il faut faire du zero padding\n",
    "deg_max = -np.inf\n",
    "for ex in X:\n",
    "    if ex.size > deg_max:\n",
    "        deg_max = ex.size\n",
    "print(\"deg_max:\",deg_max)\n",
    "X_train = np.zeros((X.size, deg_max))\n",
    "print(X_train.shape)\n",
    "print(X.size)\n",
    "for i, ex in enumerate(X):\n",
    "    if ex.size == deg_max:\n",
    "        X_train[i] = ex\n",
    "    else:\n",
    "        for j, deg in enumerate(ex):\n",
    "            X_train[i][j] = deg\n",
    "print(\"X_pad:\\n\",X_train[0])"
   ]
  },
  {
   "cell_type": "code",
   "execution_count": 34,
   "metadata": {},
   "outputs": [
    {
     "name": "stdout",
     "output_type": "stream",
     "text": [
      "[0.10319439 0.99083702 0.91780288 0.88971235 0.89717829 0.89899116\n",
      " 0.8934901  0.93047211 0.40260756 0.47760076 0.56797342 0.62094479\n",
      " 0.6452576  0.66964725 0.7190924  0.76950395 0.83110944 1.\n",
      " 0.05098616 0.05779145 0.08037723 0.12504725 0.15233325 0.\n",
      " 0.         0.         0.         0.         0.         0.\n",
      " 0.         0.         0.         0.         0.         0.\n",
      " 0.         0.         0.         0.         0.         0.\n",
      " 0.         0.         0.         0.        ]\n"
     ]
    }
   ],
   "source": [
    "# On doit normaliser les valeurs d'angles\n",
    "# On devrait peut etre utiliser les radians ou normaliser en utilisant la trigonometrie\n",
    "for i, ex in enumerate(X_train):\n",
    "    X_train[i] = ex/np.sum(X_train[i].max())\n",
    "print(X_train[0])"
   ]
  },
  {
   "cell_type": "code",
   "execution_count": 35,
   "metadata": {},
   "outputs": [
    {
     "name": "stdout",
     "output_type": "stream",
     "text": [
      "Y:\n",
      " ['a' 'a' 'a' 'a' 'a' 'a' 'a' 'a' 'a' 'a' 'a' 'b' 'b' 'b' 'b' 'b' 'b' 'b'\n",
      " 'b' 'b' 'b' 'b' 'c' 'c' 'c' 'c' 'c' 'c' 'c' 'c' 'c' 'c' 'c' 'd' 'd' 'd'\n",
      " 'd' 'd' 'd' 'd' 'd' 'd' 'd' 'd' 'e' 'e' 'e' 'e' 'e' 'e' 'e' 'e' 'e' 'e'\n",
      " 'e' 'f' 'f' 'f' 'f' 'f' 'f' 'f' 'f' 'f' 'f' 'f' 'g' 'g' 'g' 'g' 'g' 'g'\n",
      " 'g' 'g' 'g' 'g' 'g' 'h' 'h' 'h' 'h' 'h' 'h' 'h' 'h' 'h' 'h' 'h' 'i' 'i'\n",
      " 'i' 'i' 'i' 'i' 'i' 'i' 'i' 'i' 'j' 'j' 'j' 'j' 'j' 'j' 'j' 'j' 'j' 'j'\n",
      " 'k' 'k' 'k' 'k' 'k' 'k' 'k' 'k' 'k' 'k' 'l' 'l' 'l' 'l' 'l' 'l' 'l' 'l'\n",
      " 'l' 'l' 'm' 'm' 'm' 'm' 'm' 'm' 'm' 'm' 'm' 'm' 'n' 'n' 'n' 'n' 'n' 'n'\n",
      " 'n' 'n' 'n' 'n' 'o' 'o' 'o' 'o' 'o' 'o' 'o' 'o' 'o' 'o' 'p' 'p' 'p' 'p'\n",
      " 'p' 'p' 'p' 'p' 'p' 'p' 'q' 'q' 'q' 'q' 'q' 'q' 'q' 'q' 'q' 'q' 'r' 'r'\n",
      " 'r' 'r' 'r' 'r' 'r' 'r' 'r' 'r' 's' 's' 's' 's' 's' 's' 's' 's' 's' 's'\n",
      " 't' 't' 't' 't' 't' 't' 't' 't' 't' 't' 'u' 'u' 'u' 'u' 'u' 'u' 'u' 'u'\n",
      " 'u' 'u' 'v' 'v' 'v' 'v' 'v' 'v' 'v' 'v' 'v' 'v' 'w' 'w' 'w' 'w' 'w' 'w'\n",
      " 'w' 'w' 'w' 'w' 'x' 'x' 'x' 'x' 'x' 'x' 'x' 'x' 'x' 'x' 'y' 'y' 'y' 'y'\n",
      " 'y' 'y' 'y' 'y' 'y' 'y' 'z' 'z' 'z' 'z' 'z' 'z' 'z' 'z' 'z' 'z']\n",
      "n_class: 26\n",
      "Y[0]: b\n",
      "Y_one_hot[0]:\n",
      " [0. 1. 0. 0. 0. 0. 0. 0. 0. 0. 0. 0. 0. 0. 0. 0. 0. 0. 0. 0. 0. 0. 0. 0.\n",
      " 0. 0.]\n"
     ]
    }
   ],
   "source": [
    "print(\"Y:\\n\",Y)\n",
    "n_class = len(np.unique(Y))\n",
    "print(\"n_class:\",n_class)\n",
    "\n",
    "def one_hot_encoding(char):\n",
    "    Y_one_hot = np.zeros((n_class))\n",
    "    Y_one_hot[ord(char)-97] = 1\n",
    "    return Y_one_hot\n",
    "\n",
    "Y_one_hot = [one_hot_encoding(Y[i]) for i in range(len(Y))]\n",
    "print(\"Y[0]:\",Y[12])\n",
    "print(\"Y_one_hot[0]:\\n\",Y_one_hot[12])"
   ]
  },
  {
   "cell_type": "code",
   "execution_count": 36,
   "metadata": {},
   "outputs": [
    {
     "name": "stdout",
     "output_type": "stream",
     "text": [
      "[11 11 11 11 11 11 11 11 10 10 10 10 10 10 10 10 10 10 10 10 10 10 10 10\n",
      " 10 10]\n",
      "0.46153846153846156\n",
      "10.307692307692308\n"
     ]
    }
   ],
   "source": [
    "# On check la repartition des classes pour voir si on a besoin de mettre un poids\n",
    "_, counts = np.unique(Y, return_counts=True)\n",
    "print(counts)\n",
    "print(counts.std())\n",
    "print(counts.mean())"
   ]
  },
  {
   "cell_type": "code",
   "execution_count": 37,
   "metadata": {},
   "outputs": [
    {
     "name": "stdout",
     "output_type": "stream",
     "text": [
      "(214, 46)\n",
      "(54, 46)\n",
      "(214, 26)\n",
      "(54, 26)\n"
     ]
    }
   ],
   "source": [
    "percent_train = 0.8\n",
    "X_train, X_test = X_train[:int(percent_train*X_train.shape[0])], X_train[int(percent_train*X_train.shape[0]):]\n",
    "Y_train, Y_test = Y_one_hot[:int(percent_train*len(Y_one_hot))], Y_one_hot[int(percent_train*len(Y_one_hot)):]\n",
    "\n",
    "Y_train = np.array(Y_train)\n",
    "Y_test = np.array(Y_test)\n",
    "\n",
    "print(X_train.shape)\n",
    "print(X_test.shape)\n",
    "print(Y_train.shape)\n",
    "print(Y_test.shape)"
   ]
  },
  {
   "cell_type": "code",
   "execution_count": 38,
   "metadata": {},
   "outputs": [],
   "source": [
    "import tensorflow as tf\n",
    "\n",
    "def build_model():\n",
    "    model = tf.keras.models.Sequential()\n",
    "    model.add(tf.keras.layers.Dense(deg_max, input_shape=X_train.shape, activation=\"linear\"))\n",
    "    model.add(tf.keras.layers.Dense(32, activation=\"relu\"))\n",
    "    model.add(tf.keras.layers.Dense(n_class, activation=\"softmax\"))\n",
    "    model.compile(loss=\"categorical_crossentropy\", optimizer=\"adam\", metrics=[\"accuracy\"])\n",
    "    model.summary()\n",
    "    return model"
   ]
  },
  {
   "cell_type": "code",
   "execution_count": 39,
   "metadata": {},
   "outputs": [
    {
     "name": "stdout",
     "output_type": "stream",
     "text": [
      "Model: \"sequential\"\n",
      "_________________________________________________________________\n",
      "Layer (type)                 Output Shape              Param #   \n",
      "=================================================================\n",
      "dense (Dense)                (None, 214, 46)           2162      \n",
      "_________________________________________________________________\n",
      "dense_1 (Dense)              (None, 214, 32)           1504      \n",
      "_________________________________________________________________\n",
      "dense_2 (Dense)              (None, 214, 26)           858       \n",
      "=================================================================\n",
      "Total params: 4,524\n",
      "Trainable params: 4,524\n",
      "Non-trainable params: 0\n",
      "_________________________________________________________________\n"
     ]
    }
   ],
   "source": [
    "model = build_model()"
   ]
  },
  {
   "cell_type": "code",
   "execution_count": 40,
   "metadata": {},
   "outputs": [
    {
     "name": "stdout",
     "output_type": "stream",
     "text": [
      "Epoch 1/50\n",
      "WARNING:tensorflow:Model was constructed with shape (None, 214, 46) for input KerasTensor(type_spec=TensorSpec(shape=(None, 214, 46), dtype=tf.float32, name='dense_input'), name='dense_input', description=\"created by layer 'dense_input'\"), but it was called on an input with incompatible shape (None, 46).\n",
      "WARNING:tensorflow:Model was constructed with shape (None, 214, 46) for input KerasTensor(type_spec=TensorSpec(shape=(None, 214, 46), dtype=tf.float32, name='dense_input'), name='dense_input', description=\"created by layer 'dense_input'\"), but it was called on an input with incompatible shape (None, 46).\n",
      "1/7 [===>..........................] - ETA: 1s - loss: 3.4257 - accuracy: 0.0000e+00WARNING:tensorflow:Model was constructed with shape (None, 214, 46) for input KerasTensor(type_spec=TensorSpec(shape=(None, 214, 46), dtype=tf.float32, name='dense_input'), name='dense_input', description=\"created by layer 'dense_input'\"), but it was called on an input with incompatible shape (None, 46).\n",
      "7/7 [==============================] - 1s 115ms/step - loss: 3.3500 - accuracy: 0.0097 - val_loss: 3.2312 - val_accuracy: 0.0370\n",
      "Epoch 2/50\n",
      "7/7 [==============================] - 0s 5ms/step - loss: 3.1993 - accuracy: 0.0396 - val_loss: 3.3186 - val_accuracy: 0.0000e+00\n",
      "Epoch 3/50\n",
      "7/7 [==============================] - 0s 5ms/step - loss: 3.1161 - accuracy: 0.1282 - val_loss: 3.3958 - val_accuracy: 0.0000e+00\n",
      "Epoch 4/50\n",
      "7/7 [==============================] - 0s 5ms/step - loss: 3.0306 - accuracy: 0.1475 - val_loss: 3.4694 - val_accuracy: 0.0000e+00\n",
      "Epoch 5/50\n",
      "7/7 [==============================] - 0s 5ms/step - loss: 2.9679 - accuracy: 0.1549 - val_loss: 3.5595 - val_accuracy: 0.0000e+00\n",
      "Epoch 6/50\n",
      "7/7 [==============================] - 0s 5ms/step - loss: 2.8755 - accuracy: 0.1779 - val_loss: 3.6689 - val_accuracy: 0.0000e+00\n",
      "Epoch 7/50\n",
      "7/7 [==============================] - 0s 5ms/step - loss: 2.8310 - accuracy: 0.1985 - val_loss: 3.7817 - val_accuracy: 0.0000e+00\n",
      "Epoch 8/50\n",
      "7/7 [==============================] - 0s 5ms/step - loss: 2.7578 - accuracy: 0.2215 - val_loss: 3.9041 - val_accuracy: 0.0000e+00\n",
      "Epoch 9/50\n",
      "7/7 [==============================] - 0s 5ms/step - loss: 2.6566 - accuracy: 0.2547 - val_loss: 4.0358 - val_accuracy: 0.0000e+00\n",
      "Epoch 10/50\n",
      "7/7 [==============================] - 0s 5ms/step - loss: 2.5027 - accuracy: 0.3529 - val_loss: 4.2161 - val_accuracy: 0.0000e+00\n",
      "Epoch 11/50\n",
      "7/7 [==============================] - 0s 5ms/step - loss: 2.4825 - accuracy: 0.3855 - val_loss: 4.4150 - val_accuracy: 0.0000e+00\n",
      "Epoch 12/50\n",
      "7/7 [==============================] - 0s 5ms/step - loss: 2.4181 - accuracy: 0.3945 - val_loss: 4.5924 - val_accuracy: 0.0000e+00\n",
      "Epoch 13/50\n",
      "7/7 [==============================] - 0s 5ms/step - loss: 2.3407 - accuracy: 0.4089 - val_loss: 4.7675 - val_accuracy: 0.0000e+00\n",
      "Epoch 14/50\n",
      "7/7 [==============================] - 0s 4ms/step - loss: 2.2577 - accuracy: 0.4230 - val_loss: 4.9683 - val_accuracy: 0.0000e+00\n",
      "Epoch 15/50\n",
      "7/7 [==============================] - 0s 5ms/step - loss: 2.1602 - accuracy: 0.4228 - val_loss: 5.1560 - val_accuracy: 0.0000e+00\n",
      "Epoch 16/50\n",
      "7/7 [==============================] - 0s 5ms/step - loss: 2.0153 - accuracy: 0.4876 - val_loss: 5.3617 - val_accuracy: 0.0000e+00\n",
      "Epoch 17/50\n",
      "7/7 [==============================] - 0s 5ms/step - loss: 1.9174 - accuracy: 0.4874 - val_loss: 5.5905 - val_accuracy: 0.0000e+00\n",
      "Epoch 18/50\n",
      "7/7 [==============================] - 0s 5ms/step - loss: 1.9237 - accuracy: 0.4743 - val_loss: 5.8008 - val_accuracy: 0.0000e+00\n",
      "Epoch 19/50\n",
      "7/7 [==============================] - 0s 5ms/step - loss: 1.7889 - accuracy: 0.5399 - val_loss: 6.0105 - val_accuracy: 0.0000e+00\n",
      "Epoch 20/50\n",
      "7/7 [==============================] - 0s 5ms/step - loss: 1.7287 - accuracy: 0.5323 - val_loss: 6.2526 - val_accuracy: 0.0000e+00\n",
      "Epoch 21/50\n",
      "7/7 [==============================] - 0s 5ms/step - loss: 1.6761 - accuracy: 0.5423 - val_loss: 6.4844 - val_accuracy: 0.0000e+00\n",
      "Epoch 22/50\n",
      "7/7 [==============================] - 0s 5ms/step - loss: 1.6095 - accuracy: 0.5658 - val_loss: 6.7287 - val_accuracy: 0.0000e+00\n",
      "Epoch 23/50\n",
      "7/7 [==============================] - 0s 5ms/step - loss: 1.5124 - accuracy: 0.6038 - val_loss: 6.9360 - val_accuracy: 0.0000e+00\n",
      "Epoch 24/50\n",
      "7/7 [==============================] - 0s 5ms/step - loss: 1.4651 - accuracy: 0.6280 - val_loss: 7.1679 - val_accuracy: 0.0000e+00\n",
      "Epoch 25/50\n",
      "7/7 [==============================] - 0s 5ms/step - loss: 1.4205 - accuracy: 0.6361 - val_loss: 7.3898 - val_accuracy: 0.0000e+00\n",
      "Epoch 26/50\n",
      "7/7 [==============================] - 0s 5ms/step - loss: 1.3994 - accuracy: 0.6902 - val_loss: 7.5875 - val_accuracy: 0.0000e+00\n",
      "Epoch 27/50\n",
      "7/7 [==============================] - 0s 4ms/step - loss: 1.3044 - accuracy: 0.6735 - val_loss: 7.7785 - val_accuracy: 0.0000e+00\n",
      "Epoch 28/50\n",
      "7/7 [==============================] - 0s 4ms/step - loss: 1.3181 - accuracy: 0.6538 - val_loss: 8.0016 - val_accuracy: 0.0000e+00\n",
      "Epoch 29/50\n",
      "7/7 [==============================] - 0s 5ms/step - loss: 1.2428 - accuracy: 0.7059 - val_loss: 8.1738 - val_accuracy: 0.0000e+00\n",
      "Epoch 30/50\n",
      "7/7 [==============================] - 0s 5ms/step - loss: 1.2275 - accuracy: 0.6587 - val_loss: 8.3389 - val_accuracy: 0.0000e+00\n",
      "Epoch 31/50\n",
      "7/7 [==============================] - 0s 5ms/step - loss: 1.1967 - accuracy: 0.7163 - val_loss: 8.5556 - val_accuracy: 0.0000e+00\n",
      "Epoch 32/50\n",
      "7/7 [==============================] - 0s 4ms/step - loss: 1.1659 - accuracy: 0.7121 - val_loss: 8.7344 - val_accuracy: 0.0000e+00\n",
      "Epoch 33/50\n",
      "7/7 [==============================] - 0s 4ms/step - loss: 1.1233 - accuracy: 0.7127 - val_loss: 8.8899 - val_accuracy: 0.0000e+00\n",
      "Epoch 34/50\n",
      "7/7 [==============================] - 0s 5ms/step - loss: 1.1284 - accuracy: 0.7352 - val_loss: 9.0640 - val_accuracy: 0.0000e+00\n",
      "Epoch 35/50\n",
      "7/7 [==============================] - 0s 5ms/step - loss: 1.1077 - accuracy: 0.7324 - val_loss: 9.1862 - val_accuracy: 0.0000e+00\n",
      "Epoch 36/50\n",
      "7/7 [==============================] - 0s 5ms/step - loss: 0.9993 - accuracy: 0.7607 - val_loss: 9.3626 - val_accuracy: 0.0000e+00\n",
      "Epoch 37/50\n",
      "7/7 [==============================] - 0s 5ms/step - loss: 1.0209 - accuracy: 0.7236 - val_loss: 9.5011 - val_accuracy: 0.0000e+00\n",
      "Epoch 38/50\n",
      "7/7 [==============================] - 0s 5ms/step - loss: 0.9985 - accuracy: 0.7469 - val_loss: 9.6446 - val_accuracy: 0.0000e+00\n",
      "Epoch 39/50\n",
      "7/7 [==============================] - 0s 5ms/step - loss: 1.0223 - accuracy: 0.7585 - val_loss: 9.7725 - val_accuracy: 0.0000e+00\n",
      "Epoch 40/50\n",
      "7/7 [==============================] - 0s 5ms/step - loss: 0.9494 - accuracy: 0.7236 - val_loss: 9.9481 - val_accuracy: 0.0000e+00\n",
      "Epoch 41/50\n",
      "7/7 [==============================] - 0s 5ms/step - loss: 0.9623 - accuracy: 0.7646 - val_loss: 10.0496 - val_accuracy: 0.0000e+00\n",
      "Epoch 42/50\n",
      "7/7 [==============================] - 0s 5ms/step - loss: 0.9327 - accuracy: 0.7500 - val_loss: 10.1586 - val_accuracy: 0.0000e+00\n",
      "Epoch 43/50\n",
      "7/7 [==============================] - 0s 5ms/step - loss: 0.9367 - accuracy: 0.7889 - val_loss: 10.3047 - val_accuracy: 0.0000e+00\n",
      "Epoch 44/50\n",
      "7/7 [==============================] - 0s 5ms/step - loss: 0.9087 - accuracy: 0.7988 - val_loss: 10.4133 - val_accuracy: 0.0000e+00\n",
      "Epoch 45/50\n",
      "7/7 [==============================] - 0s 5ms/step - loss: 0.8789 - accuracy: 0.7677 - val_loss: 10.5039 - val_accuracy: 0.0000e+00\n",
      "Epoch 46/50\n",
      "7/7 [==============================] - 0s 5ms/step - loss: 0.8438 - accuracy: 0.8100 - val_loss: 10.6284 - val_accuracy: 0.0000e+00\n",
      "Epoch 47/50\n",
      "7/7 [==============================] - 0s 5ms/step - loss: 0.8234 - accuracy: 0.7618 - val_loss: 10.7787 - val_accuracy: 0.0000e+00\n",
      "Epoch 48/50\n",
      "7/7 [==============================] - 0s 5ms/step - loss: 0.8437 - accuracy: 0.7944 - val_loss: 10.8649 - val_accuracy: 0.0000e+00\n",
      "Epoch 49/50\n",
      "7/7 [==============================] - 0s 5ms/step - loss: 0.7891 - accuracy: 0.8376 - val_loss: 10.9658 - val_accuracy: 0.0000e+00\n",
      "Epoch 50/50\n",
      "7/7 [==============================] - 0s 5ms/step - loss: 0.8258 - accuracy: 0.7613 - val_loss: 11.0642 - val_accuracy: 0.0000e+00\n"
     ]
    }
   ],
   "source": [
    "history = model.fit(X_train, Y_train,\n",
    "                    epochs=50,\n",
    "                    validation_data=(X_test, Y_test),\n",
    "                    )"
   ]
  },
  {
   "cell_type": "code",
   "execution_count": 41,
   "metadata": {},
   "outputs": [
    {
     "data": {
      "image/png": "[encoded data removed]",
      "text/plain": [
       "<Figure size 432x288 with 1 Axes>"
      ]
     },
     "metadata": {
      "needs_background": "light"
     },
     "output_type": "display_data"
    },
    {
     "data": {
      "image/png": "[encoded data removed]",
      "text/plain": [
       "<Figure size 432x288 with 1 Axes>"
      ]
     },
     "metadata": {
      "needs_background": "light"
     },
     "output_type": "display_data"
    }
   ],
   "source": [
    "#Train set data\n",
    "loss_curve = history.history[\"loss\"]\n",
    "acc_curve = history.history[\"accuracy\"]\n",
    "\n",
    "#Validation set data\n",
    "val_loss_curve = history.history[\"val_loss\"]\n",
    "val_acc_curve = history.history[\"val_accuracy\"]\n",
    "\n",
    "#Loss plot\n",
    "plt.plot(loss_curve, label=\"Train set\")\n",
    "plt.plot(val_loss_curve, label=\"Validation set\")\n",
    "plt.legend(loc='upper right')\n",
    "plt.title(\"Loss\")\n",
    "plt.show()\n",
    "\n",
    "#Accuracy plot\n",
    "plt.plot(acc_curve, label=\"Train set\")\n",
    "plt.plot(val_acc_curve, label=\"Validation set\")\n",
    "plt.legend(loc='lower right')\n",
    "plt.title(\"Accuracy\")\n",
    "plt.show()"
   ]
  },
  {
   "cell_type": "code",
   "execution_count": 42,
   "metadata": {},
   "outputs": [],
   "source": [
    "# Premier model ne fonctionne pas, peut être un probleme de normalisation\n",
    "# Après avoir enlever la normalisation, pas beaucoup de changement\n",
    "# On overfit peut etre car le model est trop grand et qu'il y a peu de donnees\n",
    "# Apres diminution du nombre de parametre dans le model, on est toujours en overfitting complet\n",
    "# Peut etre un probleme de repartition des classes mais après test, les classes de Y sont bien repartis\n",
    "# Conclusion : probablement pas assez de données pour un modèle MLP"
   ]
  },
  {
   "cell_type": "code",
   "execution_count": 43,
   "metadata": {},
   "outputs": [],
   "source": [
    "# On va tester si on a assez de données en ajoutant des données grâce au modele génératif \n",
    "# programmé precedemment. Cela va nous permettre de conclure si il y avait pas assez de donnée\n",
    "# ou si l'erreur provient d'autre part."
   ]
  },
  {
   "cell_type": "markdown",
   "metadata": {},
   "source": [
    "# Exercice supplémentaire : Fusion de modele Markov + MLP"
   ]
  },
  {
   "cell_type": "code",
   "execution_count": null,
   "metadata": {},
   "outputs": [],
   "source": []
  }
 ],
 "metadata": {
  "kernelspec": {
   "display_name": "Python 3",
   "language": "python",
   "name": "python3"
  },
  "language_info": {
   "codemirror_mode": {
    "name": "ipython",
    "version": 3
   },
   "file_extension": ".py",
   "mimetype": "text/x-python",
   "name": "python",
   "nbconvert_exporter": "python",
   "pygments_lexer": "ipython3",
   "version": "3.8.5"
  }
 },
 "nbformat": 4,
 "nbformat_minor": 4
}
