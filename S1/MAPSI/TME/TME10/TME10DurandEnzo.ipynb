{
 "cells": [
  {
   "cell_type": "markdown",
   "metadata": {},
   "source": [
    "# TME 10 : méthodes discriminantes\n",
    "\n",
    "Le but de ce TME est de comparer les approches en modélisation maximum de vraisemblance et maximum a posteriori au niveau de la modélisation même du problème dans le cas de la classification. \n",
    "\n",
    "Nous notons  les observations $\\mathbf x_i \\in \\mathbb R^d$ et les étiquettes binaires associées $y_{i} \\in \\mathcal Y = \\{0, 1\\}$.\n",
    "Nous faisons l'hypothèse que les couples $(\\mathbf x_i, y_{i})$ sont tirés de manière i.i.d. et suivent une loi inconnue $P(X,Y)$. \n",
    "\n",
    "***Résumé du max de vraisemblance:***<BR>\n",
    "1. Choix d'une modélisation $\\Theta$ pour les $\\mathbf x_i$ (par exemple une gaussienne multivariée ou une modélisation dimension par dimension selon une loi choisie en accord avec les experts du domaine).\n",
    "1. Formalisation de la vraisemblance pour un échantillon:\n",
    "$p(\\mathbf x_i | \\Theta)$\n",
    "1. Pour chaque classe $y$ (0 ou 1 dans le cas présent), optimisation de \n",
    "    $$\\Theta_y^\\star = \\arg \\max_{\\Theta} \\prod_{i \\in y} p(\\mathbf x_i | \\Theta)$$\n",
    "1. Critère de décision pour un nouvel échantillon $\\mathbf x_n$:\n",
    "    $$\\hat y_n = \\arg \\max_c p(\\mathbf x_n | \\Theta_y) $$\n",
    "\n",
    "La méthode est simple et efficace mais ne compare jamais les échantillons des différentes classes pour prendre une décision.\n",
    "\n",
    "***Idée des approches discriminantes:***<BR>\n",
    "1. Choix d'un modèle pour $p(y_i | \\mathbf x_i)$. Le modèle le plus connu est la régression logistique qui, comme le nom ne l'indique pas est un modèle de classification. C'est ce modèle que nous allons étudier:\n",
    "    $$p(y_i=1 | \\mathbf x_i) = \\frac{1}{1 + \\exp( -(  \\mathbf x_i  \\mathbf w + b))},\\qquad \\mbox{Paramètres : } \\mathbf w, b $$\n",
    "1. Dans le cas à deux classes uniquement; après avoir remarqué que nous avons choisi un codage des classes de type Bernoulli... Utilisation de l'astuce de Bernoulli pour calculer la vraisemblance d'un échantillon:\n",
    "$$ p(y_i | \\mathbf x_i) = \\left( \\frac{1}{1 + \\exp( -(  \\mathbf x_i  \\mathbf w + b))}\\right)^{y_i} \\left(1- \\frac{1}{1 + \\exp( -(  \\mathbf x_i  \\mathbf w + b))}\\right)^{1-y_i} $$\n",
    "1. Max de vraisemblance sur ***sur l'ensemble des données***:\n",
    "    $$\\mathbf w^\\star, b^\\star = \\arg \\max_{\\mathbf w, b} \\prod_{i} p(\\mathbf x_i, y_i | \\mathbf w, b) = \\arg \\max_{\\mathbf w, b} \\prod_{i} p( y_i|\\mathbf x_i, \\mathbf w, b) p(\\mathbf x_i| \\mathbf w, b)$$\n",
    "En faisant l'hypothèse que les $\\mathbf x_i$ sont équiprobables (pas de poids sur les observations):\n",
    "$$\\mathbf w^\\star, b^\\star = \\arg \\max_{\\mathbf w, b} \\prod_{i} p( y_i|\\mathbf x_i, \\mathbf w, b)$$\n"
   ]
  },
  {
   "cell_type": "markdown",
   "metadata": {},
   "source": [
    "## Chargement des librairies et des données USPS"
   ]
  },
  {
   "cell_type": "code",
   "execution_count": 1,
   "metadata": {},
   "outputs": [
    {
     "data": {
      "image/png": "[encoded data removed]",
      "text/plain": [
       "<Figure size 432x288 with 1 Axes>"
      ]
     },
     "metadata": {
      "needs_background": "light"
     },
     "output_type": "display_data"
    },
    {
     "data": {
      "image/png": "[encoded data removed]",
      "text/plain": [
       "<Figure size 432x288 with 1 Axes>"
      ]
     },
     "metadata": {
      "needs_background": "light"
     },
     "output_type": "display_data"
    }
   ],
   "source": [
    "import numpy as np\n",
    "import matplotlib.pyplot as plt\n",
    "import matplotlib.cm as cm\n",
    "\n",
    "\n",
    "def load(filename):\n",
    "    f=open(filename,'r')\n",
    "    s = f.readline() # virer la premiere ligne\n",
    "    X = np.array([[float(d) for d in lig.split()] for lig in f if len(lig)>10])\n",
    "    Y = X[:,0] # premiere colonne\n",
    "    X = X[:,1:]\n",
    "    f.close()\n",
    "    return X,Y\n",
    "\n",
    "X,Y = load('data/usps_train.txt')\n",
    "Xt,Yt = load('data/usps_test.txt')\n",
    "\n",
    "# affichage d'un échantillon\n",
    "plt.figure()\n",
    "index = 0\n",
    "plt.imshow(X[index].reshape(16,16), interpolation=None)\n",
    "plt.title('Affichage d\\'un échantillon de la classe: '+str(Y[index]))\n",
    "\n",
    "# étude très rapide des données:\n",
    "plt.figure()\n",
    "plt.hist(Y, 10) # histogramme de répartition des 10 classes\n",
    "plt.show()"
   ]
  },
  {
   "cell_type": "markdown",
   "metadata": {},
   "source": [
    "## Exercice 1: retour sur le max de vraisemblance\n",
    "\n",
    "Nous retravaillons rapidement le max de vraisemblance pour obtenir un baseline. Nous allons travailler en bayesien naif sur des images binarisées:\n",
    "$$ x_{ij} \\in \\{0,1\\}, \\qquad p(x_i | \\Theta) = \\prod_j p(x_{ij} | \\Theta_j)$$\n",
    "\n",
    "Le code est fourni, il suffit de l'exécuter:"
   ]
  },
  {
   "cell_type": "code",
   "execution_count": 2,
   "metadata": {},
   "outputs": [],
   "source": [
    "# apprentissage d'un modèle de Bernoulli naif par classe\n",
    "def learnBernoulli (X,Y):\n",
    "    theta = [(X[Y==y].mean(0)) for y in np.unique(Y)]\n",
    "    return np.array(theta)\n",
    "\n",
    "# evaluation de la vraisemblance d'une base d'échantillon\n",
    "# retourne une matrice avec les vraisemblances des échantillons pour toutes les classes\n",
    "def logpobsBernoulli(X, theta):\n",
    "    seuil = 1e-4\n",
    "    theta = np.maximum(np.minimum(1-seuil, theta),seuil)\n",
    "    logp = [[ (x*np.log(mod)+(1-x)*np.log(1-mod)).sum() for x in X] for mod in theta ]\n",
    "    return np.array(logp)"
   ]
  },
  {
   "cell_type": "code",
   "execution_count": 3,
   "metadata": {},
   "outputs": [
    {
     "name": "stdout",
     "output_type": "stream",
     "text": [
      "Bernoulli : Taux bonne classification en apprentissage :  0.8723083253326018\n",
      "Bernoulli : Taux bonne classification en test :  0.8236173393124065\n"
     ]
    },
    {
     "data": {
      "image/png": "[encoded data removed]",
      "text/plain": [
       "<Figure size 432x288 with 1 Axes>"
      ]
     },
     "metadata": {
      "needs_background": "light"
     },
     "output_type": "display_data"
    }
   ],
   "source": [
    "# binariser X (sinon la modélisation Bernoulli ne tient plus)\n",
    "Xb = np.where(X >0, 1., 0.)\n",
    "Xbt = np.where(Xt >0, 1., 0.)\n",
    "\n",
    "\n",
    "## Max de Vraisemblance\n",
    "theta = learnBernoulli ( Xb,Y )\n",
    "## Evaluation de la vraisemblance des échantillons\n",
    "logp  = logpobsBernoulli(Xb, theta)\n",
    "logpT = logpobsBernoulli(Xbt, theta)\n",
    "\n",
    "# calcul des y de prédiction à partir de la matrice des vraisemblances\n",
    "ypred_b  = logp.argmax(0)\n",
    "ypredT_b = logpT.argmax(0)\n",
    "\n",
    "print(\"Bernoulli : Taux bonne classification en apprentissage : \",np.where(ypred_b != Y, 0.,1.).mean())\n",
    "print(\"Bernoulli : Taux bonne classification en test : \",np.where(ypredT_b != Yt, 0.,1.).mean())\n",
    "\n",
    "# resultats qualitatifs: affichage des poids du modèle de la classe 0\n",
    "plt.figure()\n",
    "plt.imshow(theta[0].reshape(16,16))\n",
    "plt.show()"
   ]
  },
  {
   "cell_type": "markdown",
   "metadata": {},
   "source": [
    "## Exercice 2: prise en compte des informations a priori et passage au MAP\n",
    "\n",
    "La seule information dont nous disposons est la répartition des classes (cf histogramme).\n",
    "1. Calcul des probabilités a priori des classes \n",
    "1. Evaluation des performances avec prise en compte de ces informations a priori\n",
    "1. Afficher les images des chiffres qui changent de classe avec les prédictions avant/après\n",
    "\n",
    "Cet exercice correspondant principalement à des compétences de séances précédentes, le code est fourni."
   ]
  },
  {
   "cell_type": "code",
   "execution_count": 4,
   "metadata": {},
   "outputs": [
    {
     "name": "stdout",
     "output_type": "stream",
     "text": [
      "Bernoulli : Taux bonne classification MAP en apprentissage :  0.8720340145384721\n",
      "Bernoulli : Taux bonne classification MAP en test :  0.8236173393124065\n"
     ]
    },
    {
     "data": {
      "image/png": "[encoded data removed]",
      "text/plain": [
       "<Figure size 432x288 with 1 Axes>"
      ]
     },
     "metadata": {
      "needs_background": "light"
     },
     "output_type": "display_data"
    },
    {
     "data": {
      "text/plain": [
       "<Figure size 432x288 with 0 Axes>"
      ]
     },
     "metadata": {},
     "output_type": "display_data"
    },
    {
     "data": {
      "image/png": "[encoded data removed]",
      "text/plain": [
       "<Figure size 432x288 with 4 Axes>"
      ]
     },
     "metadata": {
      "needs_background": "light"
     },
     "output_type": "display_data"
    }
   ],
   "source": [
    "# CORRECTION\n",
    "pAPriori = np.array([np.where(Y==i, 1, 0).sum() for i in np.unique(Y)]).reshape(10,1) / len(Y)\n",
    "\n",
    "plt.figure()\n",
    "plt.imshow(pAPriori.T, interpolation=None)\n",
    "plt.title('Distribution des classes')\n",
    "\n",
    "# pas de modification sur les paramètres optimaux\n",
    "ypred  = (logp + np.log(pAPriori)).argmax(0) # utilise le dispatch numpy\n",
    "ypredT = (logpT+ np.log(pAPriori)).argmax(0)\n",
    "\n",
    "print (\"Bernoulli : Taux bonne classification MAP en apprentissage : \",np.where(ypred != Y, 0.,1.).mean())\n",
    "print (\"Bernoulli : Taux bonne classification MAP en test : \",np.where(ypredT != Yt, 0.,1.).mean())\n",
    "\n",
    "# recherche d'un point ayant changé de classe avec le MAP:\n",
    "index = np.where(ypred != ypred_b)[0]\n",
    "plt.figure()\n",
    "plt.subplots(1,len(index))\n",
    "for num,i in enumerate(index):\n",
    "    plt.subplot(1,len(index),num+1) # subplot commence à 1 (héritage matlab)\n",
    "    plt.imshow(Xb[i].reshape(16,16))\n",
    "    plt.title(\"y = \"+str(int(Y[i])) + \",\"+str(ypred[i])+\",\"+str(ypred_b[i]) )\n",
    "plt.show()"
   ]
  },
  {
   "cell_type": "markdown",
   "metadata": {},
   "source": [
    "## Exercice 3: codage de la régression logistique\n",
    "\n",
    "***Rappel: régression logistique = système de classification***\n",
    "\n",
    "$$ p(y_i | \\mathbf x_i) = \\left( \\frac{1}{1 + \\exp( -(  \\mathbf x_i  \\mathbf w + b))}\\right)^{y_i} \\left(1- \\frac{1}{1 + \\exp( -(  \\mathbf x_i  \\mathbf w + b))}\\right)^{1-y_i} $$\n",
    "\n",
    "\n",
    "Soit en agrégeant sur la base de données et notant: $exp = \\exp( -(  \\mathbf x_i  \\mathbf w + b))$\n",
    "$$\\mathcal L_{log} = \\sum_i  y_i \\log(\\frac{1}{1+exp}) + (1-y_i) \\log(1-\\frac{1}{1+exp})$$ \n",
    "$$\\mathcal L_{\\log}=\\sum_{i=1}^N \\log(1+exp) ( -y_i -1 + y_i) + \\log(exp)(1-y_i)$$\n",
    "\n",
    "Soit:\n",
    "$$ \\frac{\\partial  }{\\partial w_j} L_{\\log} =\\sum_{i=1}^N x_{ij}( y_i-\\frac{1}{1+exp}) \\in \\mathbb R$$\n",
    "On remarque qu'il est possible de passer à une écriture vectorielle:\n",
    "$$ \\nabla_{\\mathbf w} L_{\\log} =X^T ( Y-\\frac{1}{1+\\exp( -(  \\mathbf X  \\mathbf w + b))}) \\in \\mathbb R^d$$\n",
    "$$ \\frac{\\partial  }{\\partial b} L_{\\log} =\\sum_{i=1}^N ( y_i-\\frac{1}{1+exp}) \\in \\mathbb R$$\n",
    "\n",
    "Note: il est possible de manière **facultative**, comme dans le TME de la semaine dernière, de construire:\n",
    "$$Xe = \\left[\\begin{array}{cc}\n",
    "                \\mathbf x_0 & 1\\\\\n",
    "                \\vdots & \\vdots\\\\\n",
    "                \\mathbf x_N & 1\n",
    "                \\end{array}\n",
    "                \\right] $$\n",
    "On supprime alors les $b$ pour obtenir:\n",
    "$$ \\nabla_{\\mathbf w_e} L_{\\log} =X_e^T ( Y-\\frac{1}{1+\\exp( -(  \\mathbf X_e  \\mathbf w_e))}) \\in \\mathbb R^{d+1}$$\n",
    "\n",
    "### Liste des questions\n",
    "1. Coder la descente de gradient classique (batch) entre deux classes <BR>\n",
    "    Attention, il s'agit d'une montée de gradient pour maximiser la vraisemblance <BR>\n",
    "    Proposition de critère d'arrêt: $\\max_j(|w_{new,j} - w_{old,j}| ) < 10^{-3}$\n",
    "1. Evaluer les performances sur la distinction entre les 2 et les 3\n",
    "1. Passer au multi-classe avec le paradigme un-contre-tous\n",
    "1. [OPT, à faire à la fin] passer à un algorithme de gradient stochastique"
   ]
  },
  {
   "cell_type": "code",
   "execution_count": 5,
   "metadata": {},
   "outputs": [
    {
     "name": "stdout",
     "output_type": "stream",
     "text": [
      "convergence atteinte en 999 itérations\n"
     ]
    }
   ],
   "source": [
    "def sigmoid(X,w):\n",
    "    return 1/(1+np.exp(-(X@w)))\n",
    "\n",
    "def make_mat_lin_biais(X):\n",
    "    N = X.shape[0]\n",
    "    return np.hstack((X,np.ones((N,1))))\n",
    "\n",
    "#1. montée de gradient\n",
    "def rl_gradient_batch(X, Y, epsilon=1e-3, niter_max=1000):\n",
    "    N,d = X.shape\n",
    "    w = np.zeros(d)\n",
    "    old_w = np.zeros(d)\n",
    "    n_batch = niter_max//20\n",
    "    for i in range(niter_max):\n",
    "        rand = np.random.randint(X.shape[0]) - n_batch\n",
    "        batch = X[rand:rand+n_batch]\n",
    "        batch_t = batch.T\n",
    "        batch_y = Y[rand:rand+n_batch]\n",
    "        gradient = epsilon * batch_t @ (batch_y - sigmoid(batch,w))\n",
    "        w += gradient\n",
    "        if i%n_batch == 0:\n",
    "            if np.max(np.abs(w - old_w)) < 1e-3:\n",
    "                break\n",
    "            old_w = w.copy()\n",
    "    print(\"convergence atteinte en\",i,\"itérations\")\n",
    "    return w\n",
    "\n",
    "Xe = make_mat_lin_biais(X)\n",
    "w = rl_gradient_batch(Xe, Y)"
   ]
  },
  {
   "cell_type": "code",
   "execution_count": 6,
   "metadata": {},
   "outputs": [
    {
     "name": "stdout",
     "output_type": "stream",
     "text": [
      "Taille des données : (1389, 256) (1389,)\n",
      "convergence atteinte en 999 itérations\n",
      "App: 0.9928005759539237\n",
      "Test: 0.967032967032967\n"
     ]
    }
   ],
   "source": [
    "# 2. cas sur les classes 2 et 3 & passage à un codage 0/1 pour Y\n",
    "cl1 = 2\n",
    "cl2 = 3\n",
    "X_23 = X[(Y==cl1)|(Y==cl2),:]\n",
    "Y_23 = np.where(Y[(Y==cl1)|(Y==cl2)] == cl1, 1., 0.)\n",
    "Xt_23 = Xt[(Yt==cl1)|(Yt==cl2),:]\n",
    "Yt_23 = np.where(Yt[(Yt==cl1)|(Yt==cl2)] == cl1, 1., 0.)\n",
    "print(\"Taille des données :\",X_23.shape,Y_23.shape)\n",
    "\n",
    "# application de la montée de gradient & evaluation des performances\n",
    "# attention à afficher les Ypred et les Y_23 pour vérifier qu'ils sont comparables\n",
    "# vous pouvez utiliser np.round\n",
    "Xe_23  = make_mat_lin_biais(X_23)\n",
    "Xet_23 = make_mat_lin_biais(Xt_23)\n",
    "\n",
    "w_23  = rl_gradient_batch(Xe_23, Y_23)\n",
    "\n",
    "Y_23_pred  = sigmoid(Xe_23, w_23)\n",
    "Yt_23_pred = sigmoid(Xet_23,w_23)\n",
    "\n",
    "Y_23_pred  = np.where(Y_23_pred >0.5, 1.0, 0.0)\n",
    "Yt_23_pred = np.where(Yt_23_pred>0.5, 1.0, 0.0)\n",
    "\n",
    "print(\"App:\",  np.mean(np.where(Y_23_pred==Y_23, 1.0, 0.0)))\n",
    "print(\"Test:\", np.mean(np.where(Yt_23_pred==Yt_23, 1.0, 0.0)))"
   ]
  },
  {
   "cell_type": "markdown",
   "metadata": {},
   "source": [
    "Sortie attendue\n",
    "```\n",
    "Taille des données : (1389, 256) (1389,)\n",
    "convergence atteinte en  330  itérations # si vous avez fait un print dans le critère d'arret\n",
    "[0. 1. 1. 0. 1. 1. 1. 0. 0. 1. 1. 1. 1. 1. 1. 0. 1. 1. 1. 1.] \n",
    " [0. 1. 1. 0. 1. 1. 1. 0. 0. 1. 1. 1. 1. 1. 1. 0. 1. 1. 1. 1.]\n",
    "App :  0.9992800575953924\n",
    "Test :  0.9615384615384616\n",
    "```"
   ]
  },
  {
   "cell_type": "code",
   "execution_count": 7,
   "metadata": {},
   "outputs": [
    {
     "data": {
      "image/png": "[encoded data removed]",
      "text/plain": [
       "<Figure size 432x288 with 1 Axes>"
      ]
     },
     "metadata": {
      "needs_background": "light"
     },
     "output_type": "display_data"
    },
    {
     "data": {
      "image/png": "[encoded data removed]",
      "text/plain": [
       "<Figure size 432x288 with 1 Axes>"
      ]
     },
     "metadata": {
      "needs_background": "light"
     },
     "output_type": "display_data"
    }
   ],
   "source": [
    "plt.figure()\n",
    "plt.imshow(w[:-1].reshape(16,16))\n",
    "plt.savefig(\"w.png\")\n",
    "# montrer les paramètres des modèles génératifs des classes 2 et 3 pour comparer\n",
    "plt.figure()\n",
    "plt.imshow(w_23[:-1].reshape(16,16))\n",
    "plt.savefig(\"w23.png\")"
   ]
  },
  {
   "cell_type": "markdown",
   "metadata": {},
   "source": [
    "### Passage au multiclasse\n",
    "\n",
    "Nous allons utiliser le paradigme *un-contre-tous* mais nous allons le coder proprement dans une fonction.\n",
    "Dans la fonction ```rl_multi(X,Y, epsilon = 1e-3, niter_max=1000)``` effectuer les opérations suivantes:\n",
    "\n",
    "1. Extraire toutes les classes de Y\n",
    "1. Pour chaque classe\n",
    "11. Construire Ycl telle que:\n",
    "$$Y_{cl} = \\left\\{ \n",
    "\\begin{array}{cl}\n",
    "1 & \\mbox{ si } Y == cl     \\\\\n",
    "0 & \\mbox{ sinon (pour toutes les autres classes) }\n",
    "\\end{array}\n",
    "\\right.$$\n",
    "11. Lancer un apprentissage\n",
    "1. Empiler tous les $\\mathbf w$ & $b$ comme suit:\n",
    "\n",
    "$$W = \\left[\\begin{array}{cccc}\n",
    "                \\\\\n",
    "                \\mathbf w_{cl=0} & \\mathbf w_{cl=1} & \\ldots & \\mathbf w_{cl=9}\n",
    "                \\\\ \\\\\n",
    "                \\end{array}\n",
    "                \\right] $$\n",
    "$$\\mathbf b = \\left[\\begin{array}{cccc}\n",
    "                \\mathbf b_{cl=0} & \\mathbf b_{cl=1} & \\ldots & \\mathbf b_{cl=9}\n",
    "                \\end{array}\n",
    "                \\right] $$\n",
    "                \n",
    "On peut alors montrer que:\n",
    "$$ \\frac{1}{1+\\exp( - \\mathbf X W - \\mathbf b)}  = \\left[\\begin{array}{cccc}\n",
    "                p(Y = 1 | X = \\mathbf x_1) & p(Y = 2 | X = \\mathbf x_1) & \\ldots & p(Y = 9 | X = \\mathbf x_1)\n",
    "                \\\\ \n",
    "                \\vdots & &\\ddots & \\vdots\\\\\n",
    "p(Y = 1 | X = \\mathbf x_N) & p(Y = 2 | X = \\mathbf x_N) & \\ldots & p(Y = 9 | X = \\mathbf x_N)\n",
    "\\\\\n",
    "                \\end{array}\n",
    "                \\right] \\in \\mathbb R^{N\\times C}$$\n",
    "               Avec $N$ points et $C$ classes\n",
    "1. Utiliser un ```argmax``` pour extraire le numéro de classe"
   ]
  },
  {
   "cell_type": "code",
   "execution_count": 8,
   "metadata": {},
   "outputs": [],
   "source": [
    "def rl_multi(X, Y, epsilon = 1e-3, niter_max=1000):\n",
    "    N,d = X.shape\n",
    "    classes = np.sort(np.unique(Y))\n",
    "    W = np.zeros((len(classes),d))\n",
    "    for c in classes:\n",
    "        W[int(c)] = rl_gradient_batch(X, Y==c)\n",
    "    return W"
   ]
  },
  {
   "cell_type": "code",
   "execution_count": 9,
   "metadata": {},
   "outputs": [
    {
     "name": "stdout",
     "output_type": "stream",
     "text": [
      "convergence atteinte en 999 itérations\n",
      "convergence atteinte en 999 itérations\n",
      "convergence atteinte en 999 itérations\n",
      "convergence atteinte en 999 itérations\n",
      "convergence atteinte en 999 itérations\n",
      "convergence atteinte en 999 itérations\n",
      "convergence atteinte en 999 itérations\n",
      "convergence atteinte en 999 itérations\n",
      "convergence atteinte en 0 itérations\n",
      "convergence atteinte en 999 itérations\n"
     ]
    }
   ],
   "source": [
    "Xe  = make_mat_lin_biais(X)\n",
    "Xet = make_mat_lin_biais(Xt)\n",
    "W = rl_multi(Xe,Y)"
   ]
  },
  {
   "cell_type": "code",
   "execution_count": 10,
   "metadata": {},
   "outputs": [
    {
     "name": "stdout",
     "output_type": "stream",
     "text": [
      "[9. 6. 3. 6. 6. 0. 0. 0. 6. 9. 6. 2. 2. 4. 0. 3. 1. 6. 9. 6.] \n",
      " [9 6 3 6 6 0 0 0 6 9 6 2 3 4 0 8 1 8 8 6]\n",
      "App :  0.9081058839665341\n",
      "Test :  0.8565022421524664\n"
     ]
    }
   ],
   "source": [
    "# perf:\n",
    "Y_pred  = np.argmax(1/(1+np.exp(-Xe@W.T)), axis=1)\n",
    "Yt_pred = np.argmax(1/(1+np.exp(-Xet@W.T)),axis=1)\n",
    "print(Yt[:20],\"\\n\",Yt_pred[:20])\n",
    "\n",
    "pc_good   = np.where(Y_pred == Y , 1., 0.).mean()\n",
    "pc_good_t = np.where(Yt_pred==Yt , 1., 0.).mean()\n",
    "\n",
    "print(\"App : \",pc_good)\n",
    "print(\"Test : \",pc_good_t)"
   ]
  },
  {
   "cell_type": "markdown",
   "metadata": {},
   "source": [
    "Performances attendues:\n",
    "```\n",
    "App :  0.8824578247154026\n",
    "Test :  0.8166417538614849\n",
    "```\n",
    "Pour l'instant, on ne voit pas encore l'intérêt... Mais ça va venir!"
   ]
  },
  {
   "cell_type": "markdown",
   "metadata": {},
   "source": [
    "## Exercice 4: Analyse de l'évolution de la vraisemblance \n",
    "\n",
    "Afin de vérifier le bon fonctionnement de l'algorithme, nous proposons de calculer la vraisemblance au cours des itérations (par exemple, toutes les 10 itérations) et de retourner le résultat pour voir comment se déroule l'apprentissage et pouvoir éventuellement ajuster la valeur de $\\epsilon$.\n",
    "\n",
    "En repartant de:\n",
    "$$\\mathcal L_{log} = \\sum_i  y_i \\log(\\frac{1}{1+exp}) + (1-y_i) \\log(1-\\frac{1}{1+exp})$$ \n",
    "Avec : $exp = \\exp( -(  \\mathbf x_i  \\mathbf w + b))$\n",
    "\n",
    "Modifier la fonction de calcul de la vraisemblance pour retourner l'évolution de la vraisemblance"
   ]
  },
  {
   "cell_type": "code",
   "execution_count": 11,
   "metadata": {},
   "outputs": [],
   "source": [
    "def rl_gradient_batch_L(X, Y, epsilon=1e-3, niter_max=1000):\n",
    "    N,d = X.shape\n",
    "    w = np.zeros(d)\n",
    "    old_w = np.zeros(d)\n",
    "    n_batch = niter_max//20\n",
    "    L = []\n",
    "    for i in range(niter_max):\n",
    "        rand = np.random.randint(X.shape[0]) - n_batch\n",
    "        batch = X[rand:rand+n_batch]\n",
    "        batch_t = batch.T\n",
    "        batch_y = Y[rand:rand+n_batch]\n",
    "        gradient = epsilon * batch_t @ (batch_y - sigmoid(batch,w))\n",
    "        w += gradient\n",
    "        l = -np.sum(Y * np.log(sigmoid(X,w)) + (1 - Y) * np.log(1 - sigmoid(X,w)), axis=0)\n",
    "        L.append(l)\n",
    "        if i%n_batch == 0:\n",
    "            if np.max(np.abs(w - old_w)) < 1e-3:\n",
    "                break\n",
    "            old_w = w.copy()\n",
    "    print(\"convergence atteinte en\",i,\"itérations\")\n",
    "    return w, L"
   ]
  },
  {
   "cell_type": "code",
   "execution_count": 12,
   "metadata": {},
   "outputs": [
    {
     "name": "stdout",
     "output_type": "stream",
     "text": [
      "Taille des données : (1389, 256) (1389,)\n",
      "convergence atteinte en 999 itérations\n",
      "(256,)\n"
     ]
    },
    {
     "data": {
      "image/png": "[encoded data removed]",
      "text/plain": [
       "<Figure size 432x288 with 1 Axes>"
      ]
     },
     "metadata": {
      "needs_background": "light"
     },
     "output_type": "display_data"
    }
   ],
   "source": [
    "# cas sur les classes 2 et 3 & passage à un codage 0/1 pour Y\n",
    "cl1 = 2\n",
    "cl2 = 3\n",
    "X_23 = X[(Y==cl1)|(Y==cl2),:]\n",
    "Y_23 = np.where(Y[(Y==cl1)|(Y==cl2)] == cl1, 1., 0.)\n",
    "Xt_23 = Xt[(Yt==cl1)|(Yt==cl2),:]\n",
    "Yt_23 = np.where(Yt[(Yt==cl1)|(Yt==cl2)] == cl1, 1., 0.)\n",
    "print(\"Taille des données :\",X_23.shape,Y_23.shape)\n",
    "\n",
    "w,L = rl_gradient_batch_L(X_23 ,Y_23, epsilon=1e-3)\n",
    "#print(L)\n",
    "print(w.shape)\n",
    "\n",
    "plt.figure()\n",
    "plt.plot(L)\n",
    "plt.show()"
   ]
  },
  {
   "cell_type": "markdown",
   "metadata": {},
   "source": [
    "## Exercice 5: Analyse qualitative des solutions\n",
    "\n",
    "Quels sont les pixels qui jouent un role dans la décision?\n",
    "\n",
    "1. Pour une classe de données, je peux déjà afficher l'ampleur des poids $\\mathbf w$ associés à chaque classe. Cela indique si les pixels sont pondérés positivement ou négativement.\n",
    "1. Pour une image donnée, je sais que la décision est de la forme:\n",
    "$$p(y_i=1 | \\mathbf x_i) = \\frac{1}{1 + \\exp( -(  \\mathbf x_i  \\mathbf w + b))}$$\n",
    "Ainsi, la décision est formée d'une addition de $x_{ij}\\cdot w_j$: les plus fortes composante en valeur absolue sont celles qui participent le plus à la décision. <BR>\n",
    "Cette approche est particulièrement intéressante pour analyser les erreurs de classification.\n",
    "Afficher l'image d'un chiffre mal classé et une carte de chaleur indiquant quelles parties de l'image influencent le plus la décision: pour la classe prédite d'une part et pour la classe réelle d'autre part."
   ]
  },
  {
   "cell_type": "code",
   "execution_count": 13,
   "metadata": {},
   "outputs": [
    {
     "data": {
      "text/plain": [
       "<Figure size 432x288 with 0 Axes>"
      ]
     },
     "metadata": {},
     "output_type": "display_data"
    },
    {
     "data": {
      "image/png": "[encoded data removed]",
      "text/plain": [
       "<Figure size 432x288 with 10 Axes>"
      ]
     },
     "metadata": {
      "needs_background": "light"
     },
     "output_type": "display_data"
    }
   ],
   "source": [
    "# affichage des poids des paramètres des 10 classes (PAS DE CODE A AJOUTER)\n",
    "# prérequis: que les w soit en colonnes dans la matrice W\n",
    "plt.figure()\n",
    "plt.subplots(2, 5)\n",
    "for i in range(10):\n",
    "    plt.subplot(2, 5,i+1)\n",
    "    plt.imshow(W[i,:-1].reshape(16,16), cmap=\"gray\")\n",
    "    plt.title(\"modèle \"+str(i))"
   ]
  },
  {
   "cell_type": "code",
   "execution_count": 14,
   "metadata": {},
   "outputs": [
    {
     "name": "stdout",
     "output_type": "stream",
     "text": [
      "5\n"
     ]
    },
    {
     "data": {
      "text/plain": [
       "<Figure size 432x288 with 0 Axes>"
      ]
     },
     "metadata": {},
     "output_type": "display_data"
    },
    {
     "data": {
      "image/png": "[encoded data removed]",
      "text/plain": [
       "<Figure size 432x288 with 5 Axes>"
      ]
     },
     "metadata": {
      "needs_background": "light"
     },
     "output_type": "display_data"
    }
   ],
   "source": [
    "# trouver un échantillon mal classé (PAS DE CODE A AJOUTER):\n",
    "\n",
    "W = W.T\n",
    "W = W[:-1]\n",
    "\n",
    "index = np.where(Y != Y_pred)[0][0] # parmi les points d'apprentissage\n",
    "print(index)\n",
    "\n",
    "plt.figure()\n",
    "plt.subplots(1,3)\n",
    "plt.subplot(1,3,1)\n",
    "plt.imshow(X[index].reshape(16,16),cmap=\"gray\")\n",
    "plt.title(\"Chiffre\")\n",
    "plt.subplot(1,3,2)\n",
    "plt.imshow((X[index]*W[:,int(Y[index])]).reshape(16,16),cmap=\"plasma\")\n",
    "plt.colorbar()\n",
    "plt.title(\"Heatmap cl \"+str(int(Y[index])))\n",
    "plt.subplot(1,3,3)\n",
    "plt.imshow((X[index]*W[:,int(Y_pred[index])]).reshape(16,16),cmap=\"plasma\")\n",
    "plt.title(\"Heatmap cl \"+str(int(Y_pred[index])))\n",
    "plt.colorbar()\n",
    "plt.savefig(\"malclasse.png\")\n",
    "plt.show()"
   ]
  },
  {
   "cell_type": "markdown",
   "metadata": {},
   "source": [
    "### Exercice 5-2: limite de la représentation des chiffres\n",
    "\n",
    "L'expérience précédente met en lumière un phénomène évident: seuls les pixels non nuls jouent un role dans la classification.\n",
    "C'est très pénalisant, le fait qu'un pixel soit éteint ne peut influencer la décision que par son inaction... Mais pas forcer le système à aller dans une autre classe.\n",
    "\n",
    "Ce problème est aisément contournable: il suffit de travailler sur $X-1$ (les valeurs de pixels étant entre $0$ et $2$). Les $-1$ qui apparaissent vont alors jouer un role dans la décision.\n",
    "\n",
    "1. Ré-utiliser (sans modification) ```rl_multi``` sur $X-1$\n",
    "1. Calculer les performances en pensant bien à faire l'inférence sur $Xt-1$\n",
    "1. Afficher les contributions des pixels dans cette nouvelle configuration pour une image mal classée\n",
    "\n",
    "Note: avec la régression logistique, les classes $Y$ doivent être dans $\\mathcal Y=\\{0,1\\}$... Mais il n'y a pas de contrainte sur les $X$. Ajouter des descripteurs négatifs n'est pas un problème.\n"
   ]
  },
  {
   "cell_type": "code",
   "execution_count": 15,
   "metadata": {},
   "outputs": [
    {
     "name": "stdout",
     "output_type": "stream",
     "text": [
      "convergence atteinte en 999 itérations\n",
      "convergence atteinte en 999 itérations\n",
      "convergence atteinte en 999 itérations\n",
      "convergence atteinte en 999 itérations\n",
      "convergence atteinte en 999 itérations\n",
      "convergence atteinte en 999 itérations\n",
      "convergence atteinte en 999 itérations\n",
      "convergence atteinte en 999 itérations\n",
      "convergence atteinte en 999 itérations\n",
      "convergence atteinte en 999 itérations\n",
      "[9. 6. 3. 6. 6. 0. 0. 0. 6. 9. 6. 2. 2. 4. 0. 3. 1. 6. 9. 6.] \n",
      " [9 6 3 6 6 0 0 0 6 9 6 2 3 4 0 3 1 2 9 6]\n",
      "App :  0.9408860238650391\n",
      "Test :  0.8988540109616343\n"
     ]
    }
   ],
   "source": [
    "Xminus = X-1\n",
    "Xeminus = make_mat_lin_biais(Xminus)\n",
    "\n",
    "Xtminus = Xt-1\n",
    "Xetminus = make_mat_lin_biais(Xtminus)\n",
    "\n",
    "Wm = rl_multi(Xeminus,Y)\n",
    "\n",
    "Y_pred  = np.argmax(1/(1+np.exp(-Xeminus@Wm.T)), axis=1)\n",
    "Yt_pred = np.argmax(1/(1+np.exp(-Xetminus@Wm.T)),axis=1)\n",
    "print(Yt[:20],\"\\n\",Yt_pred[:20])\n",
    "\n",
    "pc_good   = np.where(Y_pred == Y , 1., 0.).mean()\n",
    "pc_good_t = np.where(Yt_pred==Yt , 1., 0.).mean()\n",
    "\n",
    "print(\"App : \",pc_good)\n",
    "print(\"Test : \",pc_good_t)"
   ]
  },
  {
   "cell_type": "markdown",
   "metadata": {},
   "source": [
    "Sortie attendue:\n",
    "```\n",
    "App :  0.9663969277191058\n",
    "Test :  0.8938714499252616\n",
    "```\n",
    "On commence à voir l'intérêt de la régression logistique !!"
   ]
  },
  {
   "cell_type": "code",
   "execution_count": 16,
   "metadata": {},
   "outputs": [
    {
     "name": "stdout",
     "output_type": "stream",
     "text": [
      "5\n"
     ]
    },
    {
     "data": {
      "text/plain": [
       "<Figure size 432x288 with 0 Axes>"
      ]
     },
     "metadata": {},
     "output_type": "display_data"
    },
    {
     "data": {
      "image/png": "[encoded data removed]",
      "text/plain": [
       "<Figure size 432x288 with 5 Axes>"
      ]
     },
     "metadata": {
      "needs_background": "light"
     },
     "output_type": "display_data"
    }
   ],
   "source": [
    "# trouver un échantillon mal classé (PAS DE CODE A AJOUTER):\n",
    "\n",
    "Wm = Wm.T\n",
    "Wm = Wm[:-1]\n",
    "\n",
    "index = np.where(Y != Y_pred)[0][0] # parmi les points d'apprentissage\n",
    "print(index)\n",
    "\n",
    "plt.figure()\n",
    "plt.subplots(1,3)\n",
    "plt.subplot(1,3,1)\n",
    "plt.imshow(X[index].reshape(16,16),cmap=\"gray\")\n",
    "plt.title(\"Chiffre\")\n",
    "plt.subplot(1,3,2)\n",
    "plt.imshow(((X[index]-1)*Wm[:,int(Y[index])]).reshape(16,16),cmap=\"plasma\")\n",
    "plt.colorbar()\n",
    "plt.title(\"Heatmap cl \"+str(int(Y[index])))\n",
    "plt.subplot(1,3,3)\n",
    "plt.imshow(((X[index]-1)*Wm[:,int(Y_pred[index])]).reshape(16,16),cmap=\"plasma\")\n",
    "plt.title(\"Heatmap cl \"+str(int(Y_pred[index])))\n",
    "plt.colorbar()\n",
    "plt.show()"
   ]
  },
  {
   "cell_type": "markdown",
   "metadata": {},
   "source": [
    "## Exercice 6: Régularisation, performance & interprétation\n",
    "\n",
    "Dans ce problème en assez grande dimension (256), nous voyons un peu de sur-apprentissage: les performances sont meilleures en apprentissage qu'en test.\n",
    "\n",
    "On fait souvent l'hypothèse que ce phénomène est lié à un estimateur trop complexe. Afin de simplifier la fonction de coût, on proposer de régulariser le problème d'apprentissage qui devient:\n",
    "\n",
    "$$\\arg\\max_\\theta  \\mathcal L - \\lambda \\Omega(\\theta), \\qquad \\mbox{avec: } \\Omega(\\theta) = \\left\\{\\begin{array}{cl}\n",
    "\\sum_j \\theta_j^2 & \\mbox{ régularisation } L_2 \\\\\n",
    "\\sum_j |\\theta_j| & \\mbox{ régularisation } L_1 \\\\\n",
    "\\end{array}\n",
    "\\right.$$\n",
    "\n",
    "$\\lambda$ doit être choisi soigneusement sous peine d'aboutir à une solution dégénée (ou non modifiée). La régularisation $L_2$ est plus stable est facile à exploiter, la régularisation $L_1$ est plus complexe et moins stable mais elle permet d'annuler complètement les poids attribués à certains pixels. En effet, dans l'implémentation, nous allons traiter la fonction $\\Omega$ à part de la vraisemblance:\n",
    "Toutes les itérations, nous allons mettre à jour:\n",
    "\n",
    "$$\\mathbf w \\leftarrow \\mathbf w - \\lambda \\left\\{\\begin{array}{cl}\n",
    "\\nabla_{\\mathbf w,b} \\Omega(\\mathbf w,b) = 2\\mathbf w, 2b  & \\mbox{ régularisation } L_2 \\\\\n",
    "\\nabla_{\\mathbf w,b} \\Omega(\\mathbf w,b) = sign(\\mathbf w),sign(b) & \\mbox{ régularisation } L_1 \\\\\n",
    "\\end{array}\n",
    "\\right. $$\n",
    "\n",
    "En interprétant la formule ci-dessus, on se rend compte que ça ramène systématiquement les poids du modèle vers 0: l'idée est donc bien de simplifier le modèle... Seuls les dimensions vraiment intéressantes seront pondérées.\n",
    "\n",
    "**Note:** Par défaut, il n'est pas évident d'améliorer les performances avec la régularisation sur ce problème... C'est néanmoins une procédure très efficace sur la plupart des jeux de données.\n",
    "\n",
    "**Note2:** Les expériences étant un peu chères en temps de calcul, pensez à réduire niter_max pendant le debug"
   ]
  },
  {
   "cell_type": "code",
   "execution_count": 17,
   "metadata": {},
   "outputs": [],
   "source": [
    "def rl_gradient_batch_reg(X, Y, epsilon=1e-3, niter_max=1000, lam=1e-5, conv=True):\n",
    "    N,d = X.shape\n",
    "    w = np.zeros(d)\n",
    "    old_w = np.zeros(d)\n",
    "    n_batch = niter_max//20\n",
    "    for i in range(niter_max):\n",
    "        rand = np.random.randint(X.shape[0]) - n_batch\n",
    "        batch = X[rand:rand+n_batch]\n",
    "        batch_t = batch.T\n",
    "        batch_y = Y[rand:rand+n_batch]\n",
    "        gradient = epsilon * batch_t @ (batch_y - sigmoid(batch,w))\n",
    "        w = w + (gradient - lam*w*2)\n",
    "        if i%n_batch == 0 and conv:\n",
    "            if np.max(np.abs(w - old_w)) < 1e-3:\n",
    "                break\n",
    "        old_w = w.copy()\n",
    "    print(\"convergence atteinte en\",i,\"itérations\")\n",
    "    return w\n",
    "\n",
    "# Soit vous passez des fonctions en arguments, soit il faut redéfinir une nouvelle version de rl_multi\n",
    "# dans le cadre du TP, on prend la seconde option: plus simple mais plus moche\n",
    "def rl_multi_reg(X, Y, epsilon = 1e-3, niter_max=1000, lam=1e-5, conv=True):\n",
    "    N,d = X.shape\n",
    "    classes = np.sort(np.unique(Y))\n",
    "    W = np.zeros((len(classes),d))\n",
    "    for c in classes:\n",
    "        W[int(c)] = rl_gradient_batch_reg(X, Y==c, niter_max=niter_max, lam=lam, conv=conv)\n",
    "    return W"
   ]
  },
  {
   "cell_type": "code",
   "execution_count": 18,
   "metadata": {},
   "outputs": [
    {
     "name": "stdout",
     "output_type": "stream",
     "text": [
      "convergence atteinte en 400 itérations\n",
      "convergence atteinte en 200 itérations\n",
      "convergence atteinte en 300 itérations\n",
      "convergence atteinte en 450 itérations\n",
      "convergence atteinte en 600 itérations\n",
      "convergence atteinte en 500 itérations\n",
      "convergence atteinte en 200 itérations\n",
      "convergence atteinte en 300 itérations\n",
      "convergence atteinte en 400 itérations\n",
      "convergence atteinte en 800 itérations\n",
      "[9. 6. 3. 6. 6. 0. 0. 0. 6. 9. 6. 2. 2. 4. 0. 3. 1. 6. 9. 6.] \n",
      " [9 6 3 6 6 0 0 0 6 9 6 2 3 4 0 3 1 2 9 6]\n",
      "App :  0.9284048827321355\n",
      "Test :  0.8868958644743398\n"
     ]
    }
   ],
   "source": [
    "# Evaluation des performances\n",
    "Xminus = X-1\n",
    "Xeminus = make_mat_lin_biais(Xminus)\n",
    "\n",
    "Xtminus = Xt-1\n",
    "Xetminus = make_mat_lin_biais(Xtminus)\n",
    "\n",
    "Wm = rl_multi_reg(Xeminus,Y)\n",
    "\n",
    "Y_pred  = np.argmax(1/(1+np.exp(-Xeminus@Wm.T)) ,axis=1)\n",
    "Yt_pred = np.argmax(1/(1+np.exp(-Xetminus@Wm.T)),axis=1)\n",
    "print(Yt[:20],\"\\n\",Yt_pred[:20])\n",
    "\n",
    "pc_good   = np.where(Y_pred == Y , 1., 0.).mean()\n",
    "pc_good_t = np.where(Yt_pred==Yt , 1., 0.).mean()\n",
    "\n",
    "print(\"App : \",pc_good)\n",
    "print(\"Test : \",pc_good_t)"
   ]
  },
  {
   "attachments": {
    "CurseDim.png": {
     "image/png": "[encoded data removed]"
    }
   },
   "cell_type": "markdown",
   "metadata": {},
   "source": [
    "## Exercice 6: Malédiction de la dimensionnalité\n",
    "\n",
    "Nous vous proposons ici de modifier les données pour ajouter des colonnes de bruit. Montrer que la performances se réduit lorsque l'on augmente le nombre de dimensions fantomes.\n",
    "\n",
    "- la fonction d'ajout des données fantomes est fournie\n",
    "- faites la boucle avec des ajouts de $[0,100,150,200,250]$ colonnes et tracer l'évolution des performances en apprentissage et en test.\n",
    "    - Attention: il faut donc modifier $X$ et $Xt$ avec le même nombre de colonne fantome\n",
    "    \n",
    "**Note:** les expériences sont couteuses, encore une fois, limitez niter_max ou faites les calculs sur un serveur distant (3 minutes en limitant à 300 itérations)... <BR>\n",
    "Attention, le fait de limiter les itérations est une forme de régularisation (appelée *early stopping*): s'il n'y a pas assez d'itération, on ne voit pas les effets pervers de la dimensionnalité des données!\n",
    "\n",
    "**Note 2:** Evidemment, c'est dans ce cas de figure -qui correspond à beaucoup d'applications réelles- que la régularisation va aider.\n",
    "\n",
    "Avec 300 itérations, vous obtenez:<br>\n",
    "![CurseDim.png](attachment:CurseDim.png)"
   ]
  },
  {
   "cell_type": "code",
   "execution_count": 19,
   "metadata": {},
   "outputs": [],
   "source": [
    "# On ajoute du bruit (et on enlève 1) \n",
    "# ATTENTION : ne pas enlever une seconde fois 1 ensuite !\n",
    "def ajout_colonne_randn(X,d, sig = 1.):\n",
    "    return np.hstack((X-1, np.random.randn(len(X),d)*sig))"
   ]
  },
  {
   "cell_type": "code",
   "execution_count": 20,
   "metadata": {},
   "outputs": [
    {
     "name": "stdout",
     "output_type": "stream",
     "text": [
      "convergence atteinte en 999 itérations\n",
      "convergence atteinte en 999 itérations\n",
      "convergence atteinte en 999 itérations\n",
      "convergence atteinte en 999 itérations\n",
      "convergence atteinte en 999 itérations\n",
      "convergence atteinte en 999 itérations\n",
      "convergence atteinte en 999 itérations\n",
      "convergence atteinte en 999 itérations\n",
      "convergence atteinte en 999 itérations\n",
      "convergence atteinte en 999 itérations\n",
      "convergence atteinte en 999 itérations\n",
      "convergence atteinte en 999 itérations\n",
      "convergence atteinte en 999 itérations\n",
      "convergence atteinte en 999 itérations\n",
      "convergence atteinte en 999 itérations\n",
      "convergence atteinte en 999 itérations\n",
      "convergence atteinte en 999 itérations\n",
      "convergence atteinte en 999 itérations\n",
      "convergence atteinte en 999 itérations\n",
      "convergence atteinte en 999 itérations\n",
      "convergence atteinte en 999 itérations\n",
      "convergence atteinte en 999 itérations\n",
      "convergence atteinte en 999 itérations\n",
      "convergence atteinte en 999 itérations\n",
      "convergence atteinte en 999 itérations\n",
      "convergence atteinte en 999 itérations\n",
      "convergence atteinte en 999 itérations\n",
      "convergence atteinte en 999 itérations\n",
      "convergence atteinte en 999 itérations\n",
      "convergence atteinte en 999 itérations\n",
      "convergence atteinte en 999 itérations\n",
      "convergence atteinte en 999 itérations\n",
      "convergence atteinte en 999 itérations\n",
      "convergence atteinte en 999 itérations\n",
      "convergence atteinte en 999 itérations\n",
      "convergence atteinte en 999 itérations\n",
      "convergence atteinte en 999 itérations\n",
      "convergence atteinte en 999 itérations\n",
      "convergence atteinte en 999 itérations\n",
      "convergence atteinte en 999 itérations\n",
      "convergence atteinte en 999 itérations\n",
      "convergence atteinte en 999 itérations\n",
      "convergence atteinte en 999 itérations\n",
      "convergence atteinte en 999 itérations\n",
      "convergence atteinte en 999 itérations\n",
      "convergence atteinte en 999 itérations\n",
      "convergence atteinte en 999 itérations\n",
      "convergence atteinte en 999 itérations\n",
      "convergence atteinte en 999 itérations\n",
      "convergence atteinte en 999 itérations\n",
      "convergence atteinte en 999 itérations\n",
      "convergence atteinte en 999 itérations\n",
      "convergence atteinte en 999 itérations\n",
      "convergence atteinte en 999 itérations\n",
      "convergence atteinte en 999 itérations\n",
      "convergence atteinte en 999 itérations\n",
      "convergence atteinte en 999 itérations\n",
      "convergence atteinte en 999 itérations\n",
      "convergence atteinte en 999 itérations\n",
      "convergence atteinte en 999 itérations\n",
      "convergence atteinte en 999 itérations\n",
      "convergence atteinte en 999 itérations\n",
      "convergence atteinte en 999 itérations\n",
      "convergence atteinte en 999 itérations\n",
      "convergence atteinte en 999 itérations\n",
      "convergence atteinte en 999 itérations\n",
      "convergence atteinte en 999 itérations\n",
      "convergence atteinte en 999 itérations\n",
      "convergence atteinte en 999 itérations\n",
      "convergence atteinte en 999 itérations\n",
      "convergence atteinte en 999 itérations\n",
      "convergence atteinte en 999 itérations\n",
      "convergence atteinte en 999 itérations\n",
      "convergence atteinte en 999 itérations\n",
      "convergence atteinte en 999 itérations\n",
      "convergence atteinte en 999 itérations\n",
      "convergence atteinte en 999 itérations\n",
      "convergence atteinte en 999 itérations\n",
      "convergence atteinte en 999 itérations\n",
      "convergence atteinte en 999 itérations\n",
      "convergence atteinte en 999 itérations\n",
      "convergence atteinte en 999 itérations\n",
      "convergence atteinte en 999 itérations\n",
      "convergence atteinte en 999 itérations\n",
      "convergence atteinte en 999 itérations\n",
      "convergence atteinte en 999 itérations\n",
      "convergence atteinte en 999 itérations\n",
      "convergence atteinte en 999 itérations\n",
      "convergence atteinte en 999 itérations\n",
      "convergence atteinte en 999 itérations\n",
      "convergence atteinte en 999 itérations\n",
      "convergence atteinte en 999 itérations\n",
      "convergence atteinte en 999 itérations\n",
      "convergence atteinte en 999 itérations\n",
      "convergence atteinte en 999 itérations\n",
      "convergence atteinte en 999 itérations\n",
      "convergence atteinte en 999 itérations\n",
      "convergence atteinte en 999 itérations\n",
      "convergence atteinte en 999 itérations\n",
      "convergence atteinte en 999 itérations\n"
     ]
    }
   ],
   "source": [
    "dnoise    = np.array([0,100,150,200,250,300,350,400,450,500])\n",
    "perf_app  = np.zeros(len(dnoise))\n",
    "perf_test = np.zeros(len(dnoise))\n",
    "\n",
    "Xminus = X-1\n",
    "Xeminus = make_mat_lin_biais(Xminus)\n",
    "Xtminus = Xt-1\n",
    "Xetminus = make_mat_lin_biais(Xtminus)\n",
    "\n",
    "for i,d in enumerate(dnoise):\n",
    "    Xeminus_tmp  = ajout_colonne_randn(Xeminus, d)\n",
    "    Xetminus_tmp = ajout_colonne_randn(Xetminus, d)\n",
    "    Wm = rl_multi_reg(Xeminus_tmp, Y, niter_max=1000, conv=False)\n",
    "    Y_pred  = np.argmax(1/(1+np.exp(-Xeminus_tmp@Wm.T)) ,axis=1)\n",
    "    Yt_pred = np.argmax(1/(1+np.exp(-Xetminus_tmp@Wm.T)),axis=1)\n",
    "    perf_app[i]   = np.where(Y_pred == Y , 1., 0.).mean()\n",
    "    perf_test[i]  = np.where(Yt_pred==Yt , 1., 0.).mean()"
   ]
  },
  {
   "cell_type": "code",
   "execution_count": 21,
   "metadata": {},
   "outputs": [
    {
     "data": {
      "image/png": "[encoded data removed]",
      "text/plain": [
       "<Figure size 432x288 with 1 Axes>"
      ]
     },
     "metadata": {
      "needs_background": "light"
     },
     "output_type": "display_data"
    }
   ],
   "source": [
    "plt.figure()\n",
    "plt.plot(dnoise,perf_app, 'r')\n",
    "plt.plot(dnoise,perf_test, 'b')\n",
    "plt.legend(['App','Test'])\n",
    "plt.grid()\n",
    "plt.savefig('CurseDim.png')"
   ]
  },
  {
   "cell_type": "markdown",
   "metadata": {},
   "source": [
    "## Exercice 7: et par rapport aux méthodes discriminantes à base de fonctions de cout?\n",
    "\n",
    "Tester l'algorithme du perceptron vu en cours, avec l'astuce du un-contre-tous pour le passage au multi-classes.\n",
    "Attention, pour le perceptron, le codage des deux classes est en $\\{-1, 1\\}$"
   ]
  },
  {
   "cell_type": "code",
   "execution_count": 22,
   "metadata": {},
   "outputs": [],
   "source": [
    "np.random.seed(1) # Pour comparer l'acc avec les gradients stochastiques\n",
    "\n",
    "def descente_grad(X, Y, c, eps=1e-3, niter_max=10_000):\n",
    "    w = np.zeros(X.shape[1]) \n",
    "    for _ in range(niter_max):\n",
    "        rand = np.random.randint(X.shape[0])\n",
    "        if np.dot(w,X[rand]) * Y[rand] <= 0 : # Check si bien classe\n",
    "            gradient = eps * (Y[rand] * X[rand]) \n",
    "            w = w + gradient # MAJ du gradient\n",
    "    return w\n",
    "\n",
    "def multi_grad_stoch(X, Y, eps=1e-3, niter_max=10_000):\n",
    "    N,d = X.shape\n",
    "    classes = np.sort(np.unique(Y))\n",
    "    W = np.zeros((len(classes),d))\n",
    "    for c in range(len(classes)):\n",
    "        Y_tmp = np.where(Y==c, 1.0, -1.0) # 1 contre tous\n",
    "        W[int(c)] = descente_grad(X, Y_tmp, c, eps, niter_max)\n",
    "    return W\n",
    "\n",
    "def predict(X, W):\n",
    "    return np.argmax(X@W.T,axis=1)\n",
    "\n",
    "def get_acc(Yt, Yt_pred):\n",
    "    return np.where(Yt_pred==Yt , 1., 0.).mean()\n",
    "    \n",
    "def perceptron(X, Xt, Y, Yt, eps=1e-3, niter_max=10_000):\n",
    "    W = multi_grad_stoch(X, Y, eps, niter_max)\n",
    "    Yt_pred = predict(Xt, W)\n",
    "    acc = get_acc(Yt, Yt_pred)\n",
    "    return acc"
   ]
  },
  {
   "cell_type": "code",
   "execution_count": 23,
   "metadata": {},
   "outputs": [
    {
     "data": {
      "text/plain": [
       "0.8898854010961634"
      ]
     },
     "execution_count": 23,
     "metadata": {},
     "output_type": "execute_result"
    }
   ],
   "source": [
    "perceptron(Xeminus, Xetminus, Y, Yt, niter_max=100_000)"
   ]
  },
  {
   "cell_type": "markdown",
   "metadata": {},
   "source": [
    "# Exercice supplementaire : "
   ]
  },
  {
   "cell_type": "markdown",
   "metadata": {},
   "source": [
    "### Gradient avec Momentum"
   ]
  },
  {
   "cell_type": "code",
   "execution_count": 24,
   "metadata": {},
   "outputs": [],
   "source": [
    "def descente_grad(X, Y, c, eps=1e-3, niter_max=10_000):\n",
    "    w = np.zeros(X.shape[1]) \n",
    "    value = w\n",
    "    gamma = 0.95\n",
    "    for _ in range(niter_max):\n",
    "        rand = np.random.randint(X.shape[0])\n",
    "        if np.dot(w,X[rand]) * Y[rand] <= 0 :\n",
    "            gradient = eps * (Y[rand] * X[rand]) \n",
    "            new_value = (1-gamma) * gradient + gamma * value\n",
    "            w = w + new_value \n",
    "            value = new_value\n",
    "    return w"
   ]
  },
  {
   "cell_type": "code",
   "execution_count": 25,
   "metadata": {},
   "outputs": [
    {
     "data": {
      "text/plain": [
       "0.8953662182361734"
      ]
     },
     "execution_count": 25,
     "metadata": {},
     "output_type": "execute_result"
    }
   ],
   "source": [
    "np.random.seed(1)\n",
    "\n",
    "perceptron(Xeminus, Xetminus, Y, Yt, niter_max=100_000)"
   ]
  },
  {
   "cell_type": "markdown",
   "metadata": {},
   "source": [
    "### Avec un critere de rejet"
   ]
  },
  {
   "cell_type": "code",
   "execution_count": 26,
   "metadata": {},
   "outputs": [],
   "source": [
    "def predict(X, W, confidence):\n",
    "    pred = X@W.T\n",
    "    index_to_delete = []\n",
    "    for i in range(len(pred)):\n",
    "        if pred[i].max() < confidence:\n",
    "            index_to_delete.append(i)\n",
    "    return np.argmax(X@W.T,axis=1), index_to_delete\n",
    "\n",
    "def get_acc(Yt, Yt_pred, index_to_delete):\n",
    "    Yt = np.delete(Yt, index_to_delete, 0)\n",
    "    Yt_pred = np.delete(Yt_pred, index_to_delete, 0)\n",
    "    return np.where(Yt_pred==Yt , 1., 0.).mean()\n",
    "\n",
    "def perceptron(X, Xt, Y, Yt, confidence, eps=1e-3, niter_max=10_000):\n",
    "    W = multi_grad_stoch(X, Y, eps, niter_max)\n",
    "    Yt_pred, index_to_delete = predict(Xt, W, confidence)\n",
    "    acc = get_acc(Yt, Yt_pred, index_to_delete)\n",
    "    return acc, len(index_to_delete)/len(Xt)"
   ]
  },
  {
   "cell_type": "code",
   "execution_count": 27,
   "metadata": {},
   "outputs": [
    {
     "name": "stdout",
     "output_type": "stream",
     "text": [
      "1.0\n",
      "4.833084205281512\n"
     ]
    }
   ],
   "source": [
    "np.random.seed(1)\n",
    "\n",
    "confidence = 0.5\n",
    "acc, lost = perceptron(Xeminus, Xetminus, Y, Yt, confidence, niter_max=100_000)\n",
    "print(acc) # On peut monter a 100% accuracy\n",
    "print((1-lost)*100) # mais en gardant seulement 5% des valeurs"
   ]
  },
  {
   "cell_type": "code",
   "execution_count": 28,
   "metadata": {},
   "outputs": [
    {
     "name": "stdout",
     "output_type": "stream",
     "text": [
      "0.9887820512820513\n",
      "31.09118086696562\n"
     ]
    }
   ],
   "source": [
    "np.random.seed(1)\n",
    "\n",
    "confidence = 0.3\n",
    "acc, lost = perceptron(Xeminus, Xetminus, Y, Yt, confidence, niter_max=100_000)\n",
    "print(acc) # On peut monter a 98% accuracy\n",
    "print((1-lost)*100) # mais en gardant seulement 34% des valeurs"
   ]
  },
  {
   "cell_type": "code",
   "execution_count": 29,
   "metadata": {},
   "outputs": [
    {
     "name": "stdout",
     "output_type": "stream",
     "text": [
      "0.9605614973262032\n",
      "74.53911310413552\n"
     ]
    }
   ],
   "source": [
    "np.random.seed(1)\n",
    "\n",
    "confidence = 0.1\n",
    "acc, lost = perceptron(Xeminus, Xetminus, Y, Yt, confidence, niter_max=100_000)\n",
    "print(acc) # On peut monter a 96% accuracy\n",
    "print((1-lost)*100) # en gardant seulement 74% des valeurs"
   ]
  },
  {
   "cell_type": "markdown",
   "metadata": {},
   "source": [
    "### Avec deux criteres de rejet"
   ]
  },
  {
   "cell_type": "code",
   "execution_count": 30,
   "metadata": {},
   "outputs": [],
   "source": [
    "def predict(X, W, confidence):\n",
    "    pred = X@W.T\n",
    "    index_to_delete = []\n",
    "    for i in range(len(pred)):\n",
    "        sort = np.sort(pred[i])\n",
    "        if sort[-1] < confidence or (sort[-1] > confidence and sort[-2] > confidence):\n",
    "            index_to_delete.append(i)\n",
    "    return np.argmax(X@W.T,axis=1), index_to_delete"
   ]
  },
  {
   "cell_type": "code",
   "execution_count": 31,
   "metadata": {},
   "outputs": [
    {
     "name": "stdout",
     "output_type": "stream",
     "text": [
      "1.0\n",
      "4.833084205281512\n"
     ]
    }
   ],
   "source": [
    "np.random.seed(1)\n",
    "\n",
    "confidence = 0.50\n",
    "acc, lost = perceptron(Xeminus, Xetminus, Y, Yt, confidence, niter_max=100_000)\n",
    "print(acc) # On peut monter a 100% accuracy\n",
    "print((1-lost)*100) # mais en gardant seulement 5% des valeurs\n",
    "# Ici par de grandes differences entre un et deux critere de rejet"
   ]
  },
  {
   "cell_type": "markdown",
   "metadata": {},
   "source": [
    "### Correlation entre critere d'arret et accuracy"
   ]
  },
  {
   "cell_type": "code",
   "execution_count": 32,
   "metadata": {},
   "outputs": [],
   "source": [
    "confidences = np.arange(0,0.5,0.05)\n",
    "n = len(confidences)\n",
    "accs = np.zeros(n)\n",
    "losses = np.zeros(n)\n",
    "for i in range(n):\n",
    "    acc, lost = perceptron(Xeminus, Xetminus, Y, Yt, confidences[i], niter_max=100_000)\n",
    "    accs[i] = acc\n",
    "    losses[i] = lost"
   ]
  },
  {
   "cell_type": "code",
   "execution_count": 33,
   "metadata": {},
   "outputs": [
    {
     "data": {
      "image/png": "[encoded data removed]",
      "text/plain": [
       "<Figure size 432x288 with 1 Axes>"
      ]
     },
     "metadata": {
      "needs_background": "light"
     },
     "output_type": "display_data"
    }
   ],
   "source": [
    "plt.plot(accs) # On peut voir qu'il est tres cher d'ameliorer son accuracy\n",
    "plt.plot(losses) # car on perd beaucoup de valeurs pour peu de pourcentage gagne.\n",
    "plt.legend((\"Accuracy\",\"% Data lost\"))\n",
    "plt.show()"
   ]
  },
  {
   "cell_type": "markdown",
   "metadata": {},
   "source": [
    "### Visualisation des cas difficiles a discriminer"
   ]
  },
  {
   "cell_type": "code",
   "execution_count": 34,
   "metadata": {},
   "outputs": [],
   "source": [
    "def perceptron(X, Xt, Y, Yt, confidence, eps=1e-3, niter_max=10_000):\n",
    "    W = multi_grad_stoch(X, Y, eps, niter_max)\n",
    "    Yt_pred, index_to_delete = predict(Xt, W, confidence)\n",
    "    acc = get_acc(Yt, Yt_pred, index_to_delete)\n",
    "    return acc, index_to_delete"
   ]
  },
  {
   "cell_type": "code",
   "execution_count": 35,
   "metadata": {},
   "outputs": [
    {
     "name": "stdout",
     "output_type": "stream",
     "text": [
      "0.9648173207036536\n"
     ]
    }
   ],
   "source": [
    "np.random.seed(1)\n",
    "\n",
    "confidence = 0.1\n",
    "acc, idx = perceptron(Xeminus, Xetminus, Y, Yt, confidence, niter_max=100_000)\n",
    "hard = Xt[idx]\n",
    "print(acc)"
   ]
  },
  {
   "cell_type": "code",
   "execution_count": 36,
   "metadata": {},
   "outputs": [
    {
     "data": {
      "image/png": "[encoded data removed]",
      "text/plain": [
       "<Figure size 432x288 with 1 Axes>"
      ]
     },
     "metadata": {
      "needs_background": "light"
     },
     "output_type": "display_data"
    },
    {
     "data": {
      "image/png": "[encoded data removed]",
      "text/plain": [
       "<Figure size 432x288 with 1 Axes>"
      ]
     },
     "metadata": {
      "needs_background": "light"
     },
     "output_type": "display_data"
    },
    {
     "data": {
      "image/png": "[encoded data removed]",
      "text/plain": [
       "<Figure size 432x288 with 1 Axes>"
      ]
     },
     "metadata": {
      "needs_background": "light"
     },
     "output_type": "display_data"
    }
   ],
   "source": [
    "for img in hard[:3]:\n",
    "    plt.imshow(img.reshape(16,16))\n",
    "    plt.show()"
   ]
  }
 ],
 "metadata": {
  "kernelspec": {
   "display_name": "Python 3",
   "language": "python",
   "name": "python3"
  },
  "language_info": {
   "codemirror_mode": {
    "name": "ipython",
    "version": 3
   },
   "file_extension": ".py",
   "mimetype": "text/x-python",
   "name": "python",
   "nbconvert_exporter": "python",
   "pygments_lexer": "ipython3",
   "version": "3.8.5"
  }
 },
 "nbformat": 4,
 "nbformat_minor": 4
}
