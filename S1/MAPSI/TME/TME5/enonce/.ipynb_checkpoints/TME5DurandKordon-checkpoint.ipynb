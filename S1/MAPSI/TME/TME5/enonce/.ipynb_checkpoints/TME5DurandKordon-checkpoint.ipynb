{
 "cells": [
  {
   "cell_type": "markdown",
   "metadata": {},
   "source": [
    "# MAPSI semaine 5 : Indépendances conditionnelles et réseaux bayésiens\n",
    "\n"
   ]
  },
  {
   "cell_type": "markdown",
   "metadata": {},
   "source": [
    "## Exercice : Indépendances conditionnelles et réseaux bayésiens\n",
    "Dans ce TME, l'objectif est d'apprendre des réseaux bayésiens à partir de bases de données. Hormis la base asia, un exemple jouet relativement petit qui vous permettra de mettre au point les différents algorithmes du TME, et car, les autres bases correspondront à des distributions de probabilité de tailles raisonnables : \n",
    "\n",
    "|  nom de la base  |            provenance           | nombre d'evenements elementaires |\n",
    "|:----------------:|:-------------------------------:|:--------------------------------:|\n",
    "|       asia       |          BN repository          |                $256     $          |\n",
    "|       alarm      |          BN repository          |              $10^{16}   $               |\n",
    "|       adult      | UCI machine learning repository |              $10^{12}   $          |\n",
    "|        car       | UCI machine learning repository |               $6912     $          |\n",
    "| agaricus-lepiota | UCI machine learning repository |              $10^{16}   $        |\n",
    "\n",
    "\n",
    "Apprendre un réseau bayésien consiste à apprendre sa structure graphique ainsi que les paramètres de ses distributions de probabilité conditionnelles. Pour réaliser la deuxième tâche, il suffit d'estimer les paramètres de chaque distribution conditionnelle par maximum de vraisemblance, comme vous l'avez fait dans le TME 3. Ici, nous nous focaliserons donc plutôt sur l'apprentissage de structure. Celle-ci reflétant des indépendances conditionnelles entre variables aléatoires, vous devrez exploiter des tests d'indépendance du χ2 afin d'obtenir des structures graphiques les moins denses possibles (en termes de nombres d'arcs). Ainsi, alarm représente une distribution jointe de plus de 1016 événements élémentaires mais, quand cette distribution est décomposée grâce au graphe ci-dessous (les noeuds représentant les variables aléatoires), elle peut être décrite (sans perte d'informations) à l'aide de seulement 752 paramètres. Comme nous l'avons vu en cours, cette représentation permet également d'effectuer très rapidement des calculs probabilistes.\n",
    "\n",
    "![Image ](tme5_alarm.png)"
   ]
  },
  {
   "cell_type": "markdown",
   "metadata": {},
   "source": [
    "### 1. Lecture des données\n",
    "\n",
    "Dans le code ci-dessous, la fonction `read_csv : string -> (string np.array, int np.2D-array, dico{string -> int} np.array)` vous permettra de lire les données des bases sur lesquelles vous allez travailler, et de les organiser sous une forme adéquate. Par exemple, une base de données est un fichier de la forme : \n",
    "\n",
    "```\n",
    " X_0,X_1,X_2,X_3\n",
    " haut,gauche,petit,bas\n",
    " bas,droite,grand,gauche\n",
    " bas,gauche,moyen,bas\n",
    "```\n",
    "\n",
    "\n",
    "Dans cette base, nous avons 4 variables aléatoires nommées X_0, X_1, X_2, et X_3, et 3 enregistrements qui représentent des instanciations (observées) de ces 4 variables. Ainsi, X_0 a pour valeurs haut, bas et bas, X_1 a pour valeurs gauche, droite, gauche, etc.\n",
    "\n",
    "La fonction `read_csv` prend en argument le nom d'un fichier CSV contenant une base de données et renvoie un triplet composé de :\n",
    "\n",
    "\n",
    "\n",
    "- 1 tableau numpy de strings contenant les noms des variables aléatoires. Par exemple, pour la base ci-dessus, ce tableau correspond à: \n",
    "```python\n",
    " n.array (['X_0', 'X_1', 'X_2', 'X_3'])\n",
    "```\n",
    "\n",
    "- un tableau numpy 2D contenant les données du fichier CSV encodées sous forme numérique (les valeurs des variables aléatoires sont transformées en nombres entiers): chaque ligne de ce tableau représente les intanciations d'une variable aléatoire et chaque colonne représente un enregistrement de la base de données, c'est-à-dire une instanciation/observation de toutes les variables aléatoires. Pour la base ci-dessus, nous obtiendrions le tableau ci-dessous (la signification des nombres est indiquée dans le dictionnaire précisé plus bas): \n",
    "```python\n",
    " np.array ( [ [0, 1, 1],   # instanciations de la variable X_0\n",
    "              [0, 1, 0],    # instanciations de la variable X_1\n",
    "              [0, 1, 2],    # instanciations de la variable X_2\n",
    "              [0, 1, 0]] )  # instanciations de la variable X_3\n",
    "```\n",
    "\n",
    "Ainsi, les valeurs observées de la première variable aléatoire X_0 correspondent à la première ligne du tableau (0, 1 et 1). La première colonne correspond à une observation de toutes les variables (X_0=0,X_1=0,X_2=0,X_3=0). C'est essentiellement sur ce tableau numpy que vous travaillerez dans ce TME. \n",
    "\n",
    "\n",
    "- un tableau numpy de dictionnaires faisant la correspondance, pour chaque variable aléatoire, entre l'encodage numérique du tableau 2D ci-dessus et les données du fichier CSV (le 1er dictionnaire correspond à la variable de la 1ère colonne du CSV, le 2ème dictionnaire à celle de la 2ème colonne, etc.). Ainsi, le dictionnaire est égal à : \n",
    "\n",
    "```python\n",
    "np.array( [ {'haut': 0, 'bas': 1},                  # encodage variable X_0\n",
    "             {'gauche': 0, 'droite': 1},            # encodage variable X_1\n",
    "             {'petit': 0, 'grand': 1, 'moyen': 2 }, # encodage variable X_2\n",
    "             {'bas': 0, 'gauche': 1} ] )            # encodage variable X_3\n",
    "```\n",
    "\n",
    "\n",
    "\n",
    "On peut ainsi reconstituer le CSV d'origine. Par exemple, la première colonne du tableau 2D ci-dessus, qui est égale à 0,0,0,0 correspond à haut,gauche,petit,bas: \"haut\" correspondant au 0 de la première variable aléatoire, \"gauche\" correspondant au 0 de la 2ème variable, etc. "
   ]
  },
  {
   "cell_type": "markdown",
   "metadata": {},
   "source": [
    "Lisez-le fichier [tme5_asia.csv](tme5_asia.csv) à l'aide de la fonction read_csv ci-dessous: la dernière instruction, `names, data, dico = read_csv ( \"tme5_asia.csv\" )`, vous permettra de récupérer, séparément, les trois champs du triplet renvoyé par la fonction read_csv. "
   ]
  },
  {
   "cell_type": "code",
   "execution_count": 1,
   "metadata": {},
   "outputs": [
    {
     "name": "stdout",
     "output_type": "stream",
     "text": [
      "['visit_to_Asia?' 'smoking?' 'tuberculosis?' 'lung_cancer?' 'bronchitis?'\n",
      " 'tuberculos_or_cancer?' 'dyspnoea?' 'positive_XraY?']\n",
      "[[0 0 0 ... 0 0 0]\n",
      " [0 1 1 ... 1 0 1]\n",
      " [0 0 0 ... 0 0 0]\n",
      " ...\n",
      " [0 1 1 ... 1 1 1]\n",
      " [0 0 1 ... 1 0 0]\n",
      " [0 1 1 ... 1 1 1]]\n",
      "[{'true': 0, 'false': 1} {'false': 0, 'true': 1} {'true': 0, 'false': 1}\n",
      " {'false': 0, 'true': 1} {'false': 0, 'true': 1} {'false': 0, 'true': 1}\n",
      " {'false': 0, 'true': 1} {'false': 0, 'true': 1}]\n"
     ]
    }
   ],
   "source": [
    "# -*- coding: utf-8 -*-\n",
    "\n",
    "import numpy as np\n",
    "\n",
    "# fonction pour transformer les données brutes en nombres de 0 à n-1\n",
    "def translate_data ( data ):\n",
    "    # création des structures de données à retourner\n",
    "    nb_variables = data.shape[0]\n",
    "    nb_observations = data.shape[1] - 1 # - nom variable\n",
    "    res_data = np.zeros ( (nb_variables, nb_observations ), int )\n",
    "    res_dico = np.empty ( nb_variables, dtype=object )\n",
    "\n",
    "    # pour chaque variable, faire la traduction\n",
    "    for i in range ( nb_variables ):\n",
    "        res_dico[i] = {}\n",
    "        index = 0\n",
    "        for j in range ( 1, nb_observations + 1 ):\n",
    "            # si l'observation n'existe pas dans le dictionnaire, la rajouter\n",
    "            if data[i,j] not in res_dico[i]:\n",
    "                res_dico[i].update ( { data[i,j] : index } )\n",
    "                index += 1\n",
    "            # rajouter la traduction dans le tableau de données à retourner\n",
    "            res_data[i,j-1] = res_dico[i][data[i,j]]\n",
    "    return ( res_data, res_dico )\n",
    "\n",
    "\n",
    "# fonction pour lire les données de la base d'apprentissage\n",
    "def read_csv ( filename ):\n",
    "    data = np.loadtxt ( filename, delimiter=',', dtype=np.str ).T\n",
    "    names = data[:,0].copy ()\n",
    "    data, dico = translate_data ( data )\n",
    "    return names, data, dico\n",
    "\n",
    "# names : tableau contenant les noms des variables aléatoires\n",
    "# data  : tableau 2D contenant les instanciations des variables aléatoires\n",
    "# dico  : tableau de dictionnaires contenant la correspondance (valeur de variable -> nombre)\n",
    "\n",
    "names, data, dico = read_csv ( \"tme5_asia.csv\" )\n",
    "print(names)\n",
    "print(data)\n",
    "print(dico)"
   ]
  },
  {
   "cell_type": "markdown",
   "metadata": {},
   "source": [
    "### 2.  Statistique du $\\chi^2$ conditionnel\n",
    "\n",
    "\n",
    "Soit deux variables aléatoires $X$ et $Y$. Appelons $N_{xy}$, $N_x$ et $N_y$, respectivement, le nombre d'occurrences du couple $(X=x,Y=y)$ et des singletons $X=x$ et $Y=y$ dans la base de données. Alors, comme indiqué dans le cours 5, la statistique du $\\chi^2$ de $X$ et $Y$ est égale à : \n",
    "\n",
    "\n",
    "$$\\chi^2_{X,Y} = \\sum_x\\sum_y\\frac{\\left(N_{xy} - \\frac{N_x \\times N_y}{N}\\right)^2}{\\frac{N_x \\times N_y}{N}}$$\n",
    "\n",
    "où {$N$} représente le nombre de lignes de la base de données. Cette formule permet de tester l'indépendance entre les deux variables {$X$} et {$Y$}. On peut aisément généraliser celle-ci pour tester des indépendances conditionnellement à un ensemble de variables {$\\mathbf{Z}$}:\n",
    "\n",
    "$$\\chi^2_{X,Y|\\mathbf{Z}} = \\sum_x\\sum_y\\sum_{\\mathbf{z}}\\frac{\\left(N_{xy\\mathbf{z}} - \\frac{N_{x\\mathbf{z}} \\times N_{y\\mathbf{z}}}{N_{\\mathbf{z}}}\\right)^2}{\\frac{N_{x\\mathbf{z}} \\times N_{y\\mathbf{z}}}{N_{\\mathbf{z}}}}$$\n",
    "\n",
    "où $N_{xy\\mathbf{z}}$, $N_{x\\mathbf{z}}$, $N_{y\\mathbf{z}}$ et $N_{\\mathbf{z}}$ représentent, respectivement, le nombre d'occurrences du triplet $(X=x,Y=y,\\mathbf{Z} = \\mathbf{z})$, des couples $(X=x,\\mathbf{Z} = \\mathbf{z})$ et $(Y=y,\\mathbf{Z} = \\mathbf{z})$, et du singleton $\\mathbf{Z} = \\mathbf{z}$. Ainsi, si $\\mathbf{Z}$ est un ensemble de 3 variables aléatoires $(A,B,C)$, les valeurs $\\mathbf{z}$ seront des triplets $(a,b,c)$.\n",
    "\n",
    "Afin de vous aider à calculer ces $\\chi^2$, vous pourrez utiliser la fonction **create_contingency_table** `: int np.2D-array x dico{string -> int} np.array x int x int x int list -> (int, np.2D-array) np.array` ci-dessous. Celle-ci prend en argument le tableau 2D numpy `data` et le tableau de dictionnaires `dico` retournés à la fin de la question 1, ainsi que l'index `x` d'une variable aléatoire (0 = 1ère variable aléatoire (celle de la 1ère ligne de `data`), 1 = 2ème variable, _etc._), l'index `y` d'une autre variable et une liste `z` d'index d'autres variables aléatoires. Elle renvoie un tableau de couples ({$N_{\\mathbf{z}}, T_{X,Y,\\mathbf{z}})$}, pour tous les {$\\mathbf{z} \\in\\mathbf{Z}$}, où:\n",
    "\n",
    "*   $N_{\\mathbf{z}}$ représente le nombre d'occurences de {$Z=z$} dans la base de données. Par exemple, si la base de données est la suivante :\n",
    "\n",
    "```\n",
    " X_0,X_1,X_2,X_3\n",
    " haut,gauche,petit,bas\n",
    " bas,droite,grand,gauche\n",
    " bas,gauche,moyen,bas\n",
    "```\n",
    "\n",
    "nous avons vu plus haut que le tableau data est égal à : \n",
    "\n",
    "```python\n",
    "data = np.array ( [ [0, 1, 1],    # instanciations de la variable X_0\n",
    "                     [0, 1, 0],    # instanciations de la variable X_1\n",
    "                     [0, 1, 2],    # instanciations de la variable X_2\n",
    "                     [0, 1, 0]] )  # instanciations de la variable X_3\n",
    "```\n"
   ]
  },
  {
   "cell_type": "markdown",
   "metadata": {},
   "source": [
    "L'application de **create_contingency_table ( data, dico, 0, 2, [3] ) **renverra le tableau: \n",
    "```python\n",
    "resultat = array([ (2, array([[ 1.,  0.,  0.],        # Z = 0 => N_{Z=0} = 2\n",
    "                               [ 0.,  0.,  1.]])),\n",
    "                    (1, array([[ 0.,  0.,  0.],        # Z = 1 => N_{Z=1} = 1\n",
    "                               [ 0.,  1.,  0.]])) ])\n",
    "```\n",
    "\n",
    "\n",
    "C'est a dire : \n",
    "Si $X_3=0$\n",
    "\n",
    "|  \t| $X_2$=0| $X_2$=1 \t| $X_2$=3 \t|\n",
    "|:-------:\t|:-------:\t|:-------:\t|:-------:\t|\n",
    "| $X_0$=0 \t|          1 \t| 0 \t| 0 \t|\n",
    "| $X_0$=1 \t|          0 \t| 0 \t| 1 \t|\n",
    "\n",
    "Si $X_3=1$\n",
    "\n",
    "|  \t| $X_2$=0| $X_2$=1 \t| $X_2$=3 \t|\n",
    "|:-------:\t|:-------:\t|:-------:\t|:-------:\t|\n",
    "| $X_0$=0 \t|          0 \t| 0 \t| 0 \t|\n",
    "| $X_0$=1 \t|          0 \t| 1 \t| 0 \t|\n",
    "\n"
   ]
  },
  {
   "cell_type": "markdown",
   "metadata": {},
   "source": [
    "En effet le paramètre `[3]` indique que $\\mathbf{Z}$ est constitué uniquement de la quatrième variable de la base, autrement dit $X_3$. La dernière ligne du tableau `data` indique les instanciations de X_3 et l'on peut observer que la valeur 0 apparaît 2 fois et la valeur 1 apparaît une fois. On a donc $N_{Z=0} = 2$ et $N_{Z=1} = 1$. On peut observer que les valeurs de $N_{\\mathbf{Z}}$ sont bien les premiers éléments des couples de `resultat`. Lorsque $\\mathbf{Z} = \\emptyset$, `resultat` est un tableau avec un seul couple dont le premier élément correspond précisément à $N$, le nombre d'enregistrements de la base de données."
   ]
  },
  {
   "cell_type": "markdown",
   "metadata": {},
   "source": [
    "*  $T_{X,Y,\\mathbf{z}}$ est un tableau 2D contenant le nombre d'occurrences $N_{xy\\mathbf{z}}$ des couples $(X=x,Y=y)$ lorsque $\\mathbf{Z}=\\mathbf{z}$. La première dimension de ce tableau (les lignes) correspondent aux différentes valeurs de $X$ et la deuxième (les colonnes) à celles de {$Y$}. Ainsi, le tableau en haut à droite de `resultat` est obtenu de la manière suivante: ce tableau correspond à des occurrences de $(X,Y)$ lorsque $\\mathbf{Z}=0$. on commence donc par extraire de `data` le sous-tableau correspondant à la première et à la troisième colonne (les colonnes où X_3=0) et on ne retient que les lignes correspondant à X_0 et X_2 (cf. les paramètres 0 et 2 passés en arguments de **create_contingency_table**). On obtient donc le sous-tableau:\n",
    "\n",
    "```python\n",
    "np.array ( [ [0, 1],    # instanciations de la variable X_0\n",
    "              [0, 2]] )  # instanciations de la variable X_2\n",
    "```\n",
    "\n",
    "Ce tableau nous indique que, lorsque $X_3=0$, les couples $(X_0=0,X_2=0)$ et $(X_0=1,X_2=2)$ apparaissent une seule fois et ce sont les seuls couples qui apparaissent dans la base de données. C'est précisément ce que représente le tableau en haut à droite de `resultat`"
   ]
  },
  {
   "cell_type": "code",
   "execution_count": 2,
   "metadata": {},
   "outputs": [],
   "source": [
    "# etant donné une BD data et son dictionnaire, cette fonction crée le\n",
    "# tableau de contingence de (x,y) | z\n",
    "\n",
    "def create_contingency_table ( data, dico, x, y, z ):\n",
    "    # détermination de la taille de z\n",
    "    size_z = 1\n",
    "    offset_z = np.zeros ( len ( z ) )\n",
    "    j = 0\n",
    "    for i in z:\n",
    "        offset_z[j] = size_z      \n",
    "        size_z *= len ( dico[i] )\n",
    "        j += 1\n",
    "\n",
    "    # création du tableau de contingence\n",
    "    res = np.zeros ( size_z, dtype = object )\n",
    "\n",
    "    # remplissage du tableau de contingence\n",
    "    if size_z != 1:\n",
    "        z_values = np.apply_along_axis ( lambda val_z : val_z.dot ( offset_z ),\n",
    "                                         1, data[z,:].T )\n",
    "        i = 0\n",
    "        while i < size_z:\n",
    "            indices, = np.where ( z_values == i )\n",
    "            a,b,c = np.histogram2d ( data[x,indices], data[y,indices],\n",
    "                                     bins = [ len ( dico[x] ), len (dico[y] ) ] )\n",
    "            res[i] = ( indices.size, a )\n",
    "            i += 1\n",
    "    else:\n",
    "        a,b,c = np.histogram2d ( data[x,:], data[y,:],\n",
    "                                 bins = [ len ( dico[x] ), len (dico[y] ) ] )\n",
    "        res[0] = ( data.shape[1], a )\n",
    "    return res"
   ]
  },
  {
   "cell_type": "code",
   "execution_count": 3,
   "metadata": {},
   "outputs": [
    {
     "name": "stdout",
     "output_type": "stream",
     "text": [
      "[[  0. 102.]\n",
      " [  0.   1.]]\n"
     ]
    }
   ],
   "source": [
    "resultat=create_contingency_table ( data, dico, 0, 2, [3] ) \n",
    "print(resultat[0][1])"
   ]
  },
  {
   "cell_type": "markdown",
   "metadata": {},
   "source": [
    "\n",
    "En utilisant la structure retournée par la fonction **create_contingency_table**, écrivez une fonction **sufficient_statistics**`: int np.2D-array x dico{string -> int} np.array x int x int x int list -> float` qui prend les mêmes arguments que la fonction **create_contingency_table** et qui renvoie la valeur de $\\chi^2_{X,Y|\\mathbf{Z}}$. Vous pourrez tirer profit du fait que $N_{x\\mathbf{z}} = \\sum_{y} N_{xy\\mathbf{z}}$ et $N_{y\\mathbf{z}} = \\sum_{x} N_{xy\\mathbf{z}}$, ce qui revient à faire des sommes sur chaque ligne ou chaque colonne des tableaux $T_{X,Y,\\mathbf{z}}$. \n",
    "\n",
    "**Attention :** il peut arriver que certains $N_{\\mathbf{z}}$ soient égaux à 0\\. Dans ce cas, vous ne tiendrez pas compte des $N_{xy\\mathbf{z}}$, $N_{x\\mathbf{z}}$ et $N_{y\\mathbf{z}}$ correspondants dans la formule de $\\chi^2_{X,Y|\\mathbf{Z}}$ (car vous feriez des divisions par 0, ce qui est mal).\n"
   ]
  },
  {
   "cell_type": "code",
   "execution_count": 4,
   "metadata": {},
   "outputs": [],
   "source": [
    "def sufficient_statistics ( data, dico, x, y, z ):\n",
    "    # création du tableau de contingence\n",
    "    table = create_contingency_table ( data, dico, x, y, z )\n",
    "    #print(table,'\\n')\n",
    "    nb_z = table.shape[0]\n",
    "    nb_x, nb_y = table[0][1].shape\n",
    "    T= np.array([table[i][1] for i in range(nb_z)])#Txyz\n",
    "    #print(T)\n",
    "    X2=0\n",
    "    for z in range(nb_z):\n",
    "        Nz=np.sum(T[z])\n",
    "        if Nz==0:\n",
    "            continue\n",
    "        for x in range(nb_x):\n",
    "            Nxz=np.sum(T[z][x])\n",
    "            for y in range(nb_y):\n",
    "                Nyz=np.sum(T[z][:,y])\n",
    "                Nxyz=T[z][x][y]\n",
    "                if (Nxz==0) or (Nyz==0) :\n",
    "                    continue\n",
    "                temp=(Nxz*Nyz)/Nz\n",
    "                X2+=((Nxyz-temp)**2)/temp\n",
    "    return X2"
   ]
  },
  {
   "cell_type": "markdown",
   "metadata": {},
   "source": [
    "\n",
    "Vous pourrez vérifier la validité de vos calculs: en utilisant la base de données \"2015_tme5_asia.csv\", vous devriez obtenir les résultats suivants :\n",
    "\n",
    "\n",
    "| appel de la fonction \t| résultat \t|\n",
    "|--------------------------------------------------\t|--------------------\t|\n",
    "| sufficient_statistics ( data, dico, 1,2,[3]) \t| 3.9466591186668296 \t|\n",
    "| sufficient_statistics ( data, dico, 0,1,[2,3]) \t| 16.355207462350094 \t|\n",
    "| sufficient_statistics ( data, dico, 1,3,[2]) \t| 81.807449348140295 \t|\n",
    "| sufficient_statistics ( data, dico, 5,2,[1,3,6]) \t| 1897.0 \t|\n",
    "| sufficient_statistics ( data, dico, 0,7,[4,5]) \t| 3.2223237760949699 \t|\n",
    "| sufficient_statistics ( data, dico, 2,3,[5]) \t| 130.0 \t|"
   ]
  },
  {
   "cell_type": "code",
   "execution_count": 5,
   "metadata": {},
   "outputs": [
    {
     "name": "stdout",
     "output_type": "stream",
     "text": [
      "3.9466591186668296\n",
      "16.35520746235009\n",
      "81.8074493481403\n",
      "1897.0\n",
      "3.2223237760949694\n",
      "130.0\n"
     ]
    }
   ],
   "source": [
    "print(sufficient_statistics ( data, dico, 1,2,[3]) )\n",
    "print(sufficient_statistics ( data, dico, 0,1,[2,3]) )\n",
    "print(sufficient_statistics ( data, dico, 1,3,[2]) )\n",
    "print(sufficient_statistics ( data, dico, 5,2,[1,3,6]) )\n",
    "print(sufficient_statistics ( data, dico, 0,7,[4,5]) )\n",
    "print(sufficient_statistics ( data, dico, 2,3,[5]) )"
   ]
  },
  {
   "cell_type": "markdown",
   "metadata": {},
   "source": [
    "## 3. Statistique du $\\chi^2$ et degré de liberté\n",
    "\n",
    "Modifiez votre fonction **sufficient_statistics** afin qu'elle ne renvoie plus seulement $\\chi^2_{X,Y|\\mathbf{Z}}$ mais plutôt un couple ($\\chi^2_{X,Y|\\mathbf{Z}}$,DoF), où DoF est le nombre de degrés de liberté de votre statistique. Celui-ci est égal à :\n",
    "\n",
    "$$(|X|-1) \\times (|Y|-1) \\times |\\{\\mathbf{z} : N_{\\mathbf{z}} \\neq 0\\}| $$\n",
    "\n",
    "où $|X|$ représente le nombre de valeurs possibles que peut prendre la variable $X$, autrement dit, c'est la taille de son dictionnaire. Le dernier terme de l'équation est simplement le nombre de $N_{\\mathbf{z}}$ différents de 0.\n",
    "\n",
    "Vous pourrez vérifier la validité de vos calculs: en utilisant la base de données \"2015_tme5_asia.csv\", vous devriez obtenir les résultats suivants:\n",
    "\n",
    "| appel de la fonction \t| résultat \t|\n",
    "|:------------------------------------------------:\t|:-----------------------:\t|\n",
    "| sufficient_statistics ( data, dico, 1,2,[3]) \t| (3.9466591186668296, 2) \t|\n",
    "| sufficient_statistics ( data, dico, 0,1,[2,3]) \t| (16.355207462350094, 3) \t|\n",
    "| sufficient_statistics ( data, dico, 1,3,[2]) \t| (81.807449348140295, 2) \t|\n",
    "| sufficient_statistics ( data, dico, 5,2,[1,3,6]) \t| (1897.0, 8) \t|\n",
    "| sufficient_statistics ( data, dico, 0,7,[4,5]) \t| (3.2223237760949699, 4) \t|\n",
    "| sufficient_statistics ( data, dico, 2,3,[5]) \t| (130.0, 2) \t|"
   ]
  },
  {
   "cell_type": "code",
   "execution_count": 6,
   "metadata": {},
   "outputs": [
    {
     "name": "stdout",
     "output_type": "stream",
     "text": [
      "(3.9466591186668296, 2)\n",
      "(16.35520746235009, 3)\n",
      "(81.8074493481403, 2)\n",
      "(1897.0, 8)\n",
      "(3.2223237760949694, 4)\n",
      "(130.0, 2)\n"
     ]
    }
   ],
   "source": [
    "def sufficient_statistics ( data, dico, x, y, z ):\n",
    "    # création du tableau de contingence\n",
    "    table = create_contingency_table ( data, dico, x, y, z )\n",
    "    #print(table,'\\n')\n",
    "    nb_z = table.shape[0]\n",
    "    nb_x, nb_y = table[0][1].shape\n",
    "    T= np.array([table[i][1] for i in range(nb_z)])#Txyz\n",
    "    #print(T)\n",
    "    X2=0\n",
    "    dof=(nb_x-1)*(nb_y-1)\n",
    "    comptNz=0\n",
    "    for z in range(nb_z):\n",
    "        Nz=np.sum(T[z])\n",
    "        if Nz==0:\n",
    "            continue\n",
    "        comptNz+=1\n",
    "        for x in range(nb_x):\n",
    "            Nxz=np.sum(T[z][x])\n",
    "            for y in range(nb_y):\n",
    "                Nyz=np.sum(T[z][:,y])\n",
    "                Nxyz=T[z][x][y]\n",
    "                if (Nxz==0) or (Nyz==0) :\n",
    "                    continue\n",
    "                temp=(Nxz*Nyz)/Nz\n",
    "                X2+=((Nxyz-temp)**2)/temp\n",
    "    dof*=comptNz\n",
    "    return X2,dof\n",
    "\n",
    "print(sufficient_statistics ( data, dico, 1,2,[3]) )\n",
    "print(sufficient_statistics ( data, dico, 0,1,[2,3]) )\n",
    "print(sufficient_statistics ( data, dico, 1,3,[2]) )\n",
    "print(sufficient_statistics ( data, dico, 5,2,[1,3,6]) )\n",
    "print(sufficient_statistics ( data, dico, 0,7,[4,5]) )\n",
    "print(sufficient_statistics ( data, dico, 2,3,[5]) )"
   ]
  },
  {
   "cell_type": "markdown",
   "metadata": {},
   "source": [
    "## 4. Test d'indépendance\n",
    "\n",
    "En cours, nous avons vu que, pour un risque $\\alpha$ donné, si la statistique $\\chi^2_{X,Y|\\mathbf{Z}}$ est inférieure au seuil critique $c_{\\alpha}$ de la loi du $\\chi^2$ à DoF degrés de liberté, alors $X$ et $Y$ sont considérés comme indépendants conditionnellement à $\\mathbf{Z}$ ($X \\perp\\hspace{-1.7mm}\\perp Y | \\mathbf{Z}$). On peut reformuler cette propriété de la manière suivante :\n",
    "\n",
    "$$\\text{p-value}(\\chi^2_{X,Y|\\mathbf{Z}}) \\geq \\alpha \\Longleftrightarrow X \\perp\\hspace{-1.7mm}\\perp Y | \\mathbf{Z}$$\n",
    "\n",
    "La p-value d'un nombre x est l'intégrale de la fonction de densité de la loi du $\\chi^2$ de x à $+\\infty$ (autrement dit, c'est la surface de la partie grisée sur votre table du $\\chi^2$ à partir de l'abscisse x. On a donc p-value$(c_{\\alpha}) = \\alpha$. En statistiques, on considère qu'elle n'a du sens que si les valeurs du tableau de contingence sont toutes supérieures ou égales à 5 (autrement dit, un test d'indépendance du $\\chi^2$ n'est \"valide\" que si toutes les valeurs du tableau de contingence sont supérieures ou égales à 5). En informatique, on allège souvent cette règle en considérant que le test est valide dès lors que la valeur moyenne des cases est supérieure ou égale à 5\\. Cet allègement permet de tester la validité du test sans réaliser celui-ci : si le nombre de lignes du CSV est supérieure ou égale à $d_{min} = 5 \\times |X| \\times |Y| \\times |\\mathbf{Z}|$, le test est considéré comme valide.\n",
    "\n",
    "Ecrivez une fonction **indep_score** `: int np.2D-array x dico{string -> int} np.array x int x int x int list -> (float,int)` qui, étant donné les mêmes paramètres que ceux de la question précédente, vous renvoie un couple contenant la p-value correspondant à $\\chi^2_{X,Y|\\mathbf{Z}}$ ainsi que le nombre de degrés de liberté de cette statistique. Vous testerez au préalable si len ( data[0] ), le nombre de lignes/enregistrements de votre CSV, est supérieur ou non à $d_{min}$; si c'est inférieur, vous renverrez le couple (-1,1), qui représente une indépendance. Vous pourrez vous aider de la fonction scipy.stats.chi2.sf ( x, DoF ) qui renvoie la p-value (x) pour une loi à DoF degrés de liberté.\n",
    "\n",
    "``` python\n",
    "import scipy.stats as stats\n",
    "stats.chi2.sf ( x, DoF )\n",
    "```\n",
    "\n",
    "\n",
    "Vous pourrez vérifier la validité de vos calculs: en utilisant la base de données \"2015_tme5_asia.csv\", vous devriez obtenir les résultats suivants:\n",
    "\n",
    "| appel de la fonction \t| résultat \t|\n",
    "|:----------------------------------------------:\t|:-----------------:\t|\n",
    "| indep_score ( data, dico, 1,3,[]) \t| 2.38520176938e-19 \t|\n",
    "| indep = indep_score ( data, dico, 1, 7, []) \t| 1.12562784979e-10 \t|\n",
    "| indep = indep_score ( data, dico, 0, 1,[2, 3]) \t| 0.000958828236575 \t|\n",
    "| indep = indep_score ( data, dico, 1, 2,[3, 4]) \t| 0.475266197894 \t|"
   ]
  },
  {
   "cell_type": "code",
   "execution_count": 7,
   "metadata": {},
   "outputs": [
    {
     "name": "stdout",
     "output_type": "stream",
     "text": [
      "(2.385201769381993e-19, 1)\n",
      "(1.1256278497870963e-10, 1)\n",
      "(0.0009588282365754306, 3)\n",
      "(0.4752661978937994, 4)\n"
     ]
    }
   ],
   "source": [
    "import scipy.stats as stats\n",
    "# fonction qui renvoie la p-value du test: x indépendant de y | z\n",
    "def indep_score ( data, dico, x, y, z ):\n",
    "    table = create_contingency_table ( data, dico, x, y, z )\n",
    "    nb_z = table.shape[0]\n",
    "    nb_x, nb_y = table[0][1].shape\n",
    "    nb_lignes=len(data[0])\n",
    "    Dmin=5*nb_x*nb_y*nb_z\n",
    "    if Dmin>nb_lignes:\n",
    "        return -1,1\n",
    "    X2,dof=sufficient_statistics ( data, dico, x, y, z )\n",
    "    p=stats.chi2.sf(X2,dof)\n",
    "    return p, dof\n",
    "\n",
    "print(indep_score ( data, dico, 1,3,[]))\n",
    "print(indep_score ( data, dico, 1,7,[]))\n",
    "print(indep_score ( data, dico, 0,1,[2,3]))\n",
    "print(indep_score ( data, dico, 1,2,[3,4]))\n",
    "\n",
    "## indep_score ( data, dico, 1,3,[])"
   ]
  },
  {
   "cell_type": "markdown",
   "metadata": {},
   "source": [
    "## 5. Meilleur candidat pour être un parent (Partie optionnelle)\n",
    "\n",
    "Ecrivez une fonction **best_candidate** `: int np.2D-array x dico{string -> int} np.array x int x int list x float -> int list` qui, étant donné les tableaux `data` et `dico` calculés à la question 1, l'index d'une variable aléatoire $X$, la liste d'index d'un ensemble de variables aléatoires $\\mathbf{Z}$ et un risque $\\alpha$, détermine la variable $Y$ (en fait, l'index de sa colonne dans le CSV), parmi toutes celles à gauche de $X$ dans le fichier CSV, qui est la plus dépendante de $X$ conditionnellement à $\\mathbf{Z}$, autrement dit, celle qui a la plus petite p-value. Si cette p-value est supérieure à $\\alpha$, cela veut dire que $\\chi^2_{X,Y|\\mathbf{Z}}$ est inférieur à $c_{\\alpha}$ et donc que $Y$ est jugée indépendante de $X$ conditionnellement à $\\mathbf{Z}$. \n",
    "\n",
    "Votre fonction renverra une liste vide si $Y$ est indépendante de $X$ conditionnellement à $\\mathbf{Z}$, sinon elle renverra une liste contenant $Y$. Vous pourrez tester votre fonction avec $\\alpha$ = 0.05:\n",
    "\n",
    "| appel de la fonction \t| résultat \t|\n",
    "|-----------------------------------------------\t|----------\t|\n",
    "| best_candidate ( data, dico, 1, [], 0.05 ) \t| [] \t|\n",
    "| best_candidate ( data, dico, 4, [], 0.05 ) \t| [1] \t|\n",
    "| best_candidate ( data, dico, 4, [1], 0.05 ) \t| [] \t|\n",
    "| best_candidate ( data, dico, 5, [], 0.05 ) \t| [3] \t|\n",
    "| best_candidate ( data, dico, 5, [6], 0.05 ) \t| [3] \t|\n",
    "| best_candidate ( data, dico, 5, [6,7], 0.05 ) \t| [2] \t|"
   ]
  },
  {
   "cell_type": "code",
   "execution_count": 8,
   "metadata": {},
   "outputs": [
    {
     "name": "stdout",
     "output_type": "stream",
     "text": [
      "[]\n",
      "[1]\n",
      "[]\n",
      "[3]\n",
      "[3]\n",
      "[2]\n"
     ]
    }
   ],
   "source": [
    "# fonction qui, étant donné un couple (x,z), renvoie une liste vide si tous\n",
    "# les y !=x,z sont indépendants de x conditionnellement à z, ou bien une\n",
    "# liste contenant le meilleur y (celui avec la p-value la plus petite) s'il\n",
    "# existe des y dont la p-value est inférieur au seuil\n",
    "def best_candidate ( data, dico, x, z, risk_level ):\n",
    "    liste=[]\n",
    "    minpvalue=10\n",
    "    meilleurcandidat=-1\n",
    "    for i in range(x):\n",
    "        p=indep_score ( data, dico, x, i, z )[0]\n",
    "        if (p<risk_level) and (p<minpvalue):\n",
    "            minpvalue=p\n",
    "            meilleurcandidat=i\n",
    "    if meilleurcandidat!=-1:\n",
    "        liste.append(meilleurcandidat)\n",
    "    return liste\n",
    "\n",
    "print(best_candidate ( data, dico, 1, [], 0.05 ))\n",
    "print(best_candidate ( data, dico, 4, [], 0.05 ))\n",
    "print(best_candidate ( data, dico, 4, [1], 0.05 ))\n",
    "print(best_candidate ( data, dico, 5, [], 0.05 ))\n",
    "print(best_candidate ( data, dico, 5, [6], 0.05 ))\n",
    "print(best_candidate ( data, dico, 5, [6,7], 0.05 ))"
   ]
  },
  {
   "cell_type": "markdown",
   "metadata": {},
   "source": [
    "## 6. Création des parents d'un noeud (Partie optionnelle)\n",
    "Ecrivez une fonction **create_parents** ( data, dico, x, alpha ) qui, étant donné une variable aléatoire x et un niveau de risque alpha, retourne la liste z de ses parents dans le réseau bayésien. L'algorithme est le suivant : partez de z = l'ensemble vide, puis tant que **best_candidate** ( x, z, alpha ) vous renvoie une liste non vide [y], rajoutez y à z. Lorsque vous sortirez de cette boucle, toutes les autres variables seront indépendantes de x conditionnellement à z.\n",
    "\n",
    "L'algorithme qui consiste à appliquer, pour chaque noeud/variable aléatoire, votre fonction **create_parents** correspond, en grande partie, à l'article suivant :\n",
    "\n",
    "Gregory F. Cooper and Edward Herskovits (1992) \"A Bayesian method for the induction of probabilistic networks from data\", _Machine Learning_, Vol. 9, n°4, pp. 309-347.  \n",
    "\n",
    "Vous pourrez tester la validité de votre fonction :\n",
    "\n",
    "| appel de la fonction \t| résultat \t|\n",
    "|----------------------------------------\t|----------\t|\n",
    "| create_parents ( data, dico, 1, 0.05 ) \t| [] \t|\n",
    "| create_parents ( data, dico, 4, 0.05 ) \t| [1] \t|\n",
    "| create_parents ( data, dico, 5, 0.05 ) \t| [3, 2] \t|\n",
    "| create_parents ( data, dico, 6, 0.05 ) \t| [4, 5] \t|"
   ]
  },
  {
   "cell_type": "code",
   "execution_count": 9,
   "metadata": {},
   "outputs": [
    {
     "name": "stdout",
     "output_type": "stream",
     "text": [
      "[]\n",
      "[1]\n",
      "[3, 2]\n",
      "[4, 5]\n"
     ]
    }
   ],
   "source": [
    "# pour un noeud donné, crée la liste de ses parents\n",
    "def create_parents ( data, dico, x, risk_level ):\n",
    "    liste=[]\n",
    "    \n",
    "    while best_candidate ( data, dico, x, liste, risk_level )!=[]:\n",
    "        listez=best_candidate ( data, dico, x, liste, risk_level )\n",
    "        liste.append(listez[0])\n",
    "    return liste\n",
    "        \n",
    "print(create_parents ( data, dico, 1, 0.05 ))\n",
    "print(create_parents ( data, dico, 4, 0.05 ))\n",
    "print(create_parents ( data, dico, 5, 0.05 ))\n",
    "print(create_parents ( data, dico, 6, 0.05 ))"
   ]
  },
  {
   "cell_type": "code",
   "execution_count": 10,
   "metadata": {},
   "outputs": [
    {
     "name": "stdout",
     "output_type": "stream",
     "text": [
      "<built-in method astype of numpy.ndarray object at 0x00000211190F5E40>\n"
     ]
    }
   ],
   "source": [
    "print(dico.astype)"
   ]
  },
  {
   "cell_type": "markdown",
   "metadata": {},
   "source": [
    "## 7. Apprentissage de la structure d'un réseau bayésien (Partie optionnelle)\n",
    "\n",
    "Ecrivez une fonction **learn_BN_structure** ( data, dico, alpha ) qui renvoie un tableau contenant, pour chaque noeud, la liste de ses parents. Ainsi, si votre fonction vous renvoie le tableau ci-dessous,\n",
    "```python\n",
    " array( [ [], [], [], [1, 0], [1], [3, 2], [4, 5], [5] ] )\n",
    "```\n",
    "\n",
    "les noeud correspondant aux 2 premières colonnes du CSV n'ont pas de parents, le noeud de la 3ème colonne a pour parent celui de la 1ère colonne, etc.\n",
    "\n",
    "Pour visualiser plus aisément votre structure, utilisez la fonction **display_BN** ci-dessous. Celle-ci prend en paramètres :\n",
    "\n",
    "1.  le tableau des noms des variables aléatoires déterminé à la question 1\n",
    "2.  la structure que vous avez calculée avec votre fonction **learn_BN_structure**\n",
    "3.  un nom que vous voulez donner à votre réseau\n",
    "4.  un style pour afficher les noeuds\n",
    "\n"
   ]
  },
  {
   "cell_type": "code",
   "execution_count": 11,
   "metadata": {},
   "outputs": [
    {
     "name": "stdout",
     "output_type": "stream",
     "text": [
      "[[], [], [], [1, 0], [1], [3, 2], [4, 5], [5]]\n"
     ]
    }
   ],
   "source": [
    "# apprentissage de la structure d'un réseau bayésien par K2\n",
    "def learn_BN_structure ( data, dico, risk_level ):\n",
    "    BNStructure=[]\n",
    "    for i in range(len(dico)):\n",
    "        w=create_parents ( data, dico, i, 0.05 )\n",
    "        BNStructure.append(w)\n",
    "    return BNStructure\n",
    "\n",
    "bn_struct = learn_BN_structure ( data, dico, 0.05 )\n",
    "print(bn_struct)"
   ]
  },
  {
   "cell_type": "code",
   "execution_count": 12,
   "metadata": {},
   "outputs": [],
   "source": [
    "import pydotplus\n",
    "import pydot\n",
    "import matplotlib.pyplot as plt\n",
    "import matplotlib.image as mpimg\n",
    "\n",
    "style = { \"bgcolor\" : \"#6b85d1\", \"fgcolor\" : \"#FFFFFF\" }\n",
    "\n",
    "def display_BN ( node_names, bn_struct, bn_name, style ):\n",
    "    graph = pydot.Dot( bn_name, graph_type='digraph')\n",
    "\n",
    "    # création des noeuds du réseau\n",
    "    for name in node_names:\n",
    "        new_node = pydot.Node( name,\n",
    "                               style=\"filled\",\n",
    "                               fillcolor=style[\"bgcolor\"],\n",
    "                               fontcolor=style[\"fgcolor\"] )\n",
    "        graph.add_node( new_node )\n",
    "\n",
    "    # création des arcs\n",
    "    for node in range ( len ( node_names ) ):\n",
    "        parents = bn_struct[node]\n",
    "        for par in parents:\n",
    "            new_edge = pydot.Edge ( node_names[par], node_names[node] )\n",
    "            graph.add_edge ( new_edge )\n",
    "            \n",
    "    # sauvegarde et affaichage\n",
    "    outfile = bn_name + '.png'\n",
    "    graph.write_png( outfile )\n",
    "    img = mpimg.imread ( outfile )\n",
    "    plt.imshow( img )"
   ]
  },
  {
   "cell_type": "code",
   "execution_count": 13,
   "metadata": {},
   "outputs": [
    {
     "data": {
      "image/png": "[encoded data removed]",
      "text/plain": [
       "<Figure size 432x288 with 1 Axes>"
      ]
     },
     "metadata": {
      "needs_background": "light"
     },
     "output_type": "display_data"
    }
   ],
   "source": [
    "display_BN ( names, bn_struct, \"asia\", style )"
   ]
  },
  {
   "cell_type": "markdown",
   "metadata": {},
   "source": [
    "## 8. Fin de l'apprentissage et calcul probabiliste (Partie optionnelle)\n",
    "\n",
    "Comme précisé au début du TME, apprendre un réseau bayésien consiste à déterminer sa structure graphique et estimer ses paramètres. Vous avez réalisé la première partie. La deuxième, plus simple, peut se faire par maximum de vraisemblance pour chaque table de probabilité des noeuds conditionnellement à leurs parents, comme dans le TME 3\\. Utilisez la fonction **learn_parameters** ci-dessous pour effectuer cette tâche. Cette fonction prend en paramètres la structure graphique que vous avez apprise ainsi que le nom du fichier CSV que vous avez utilisé pour votre apprentissage. Elle renvoie un réseau bayésien à la [aGrUM](http://agrum.org). Pour pouvoir utiliser aGrUM, reportez-vous à la [question 7 du TME 2].\n"
   ]
  },
  {
   "cell_type": "code",
   "execution_count": 14,
   "metadata": {},
   "outputs": [],
   "source": [
    "import pyAgrum as gum\n",
    "import pyAgrum.lib.ipython as gnb\n",
    "\n",
    "def learn_parameters ( bn_struct, ficname ):\n",
    "    # création du dag correspondant au bn_struct\n",
    "    graphe = gum.DAG ()\n",
    "    nodes = [ graphe.addNode () for i in range ( len(bn_struct) ) ]\n",
    "    for i in range (len( bn_struct) ):\n",
    "        for parent in bn_struct[i]:\n",
    "            graphe.addArc ( nodes[parent], nodes[i] )\n",
    "\n",
    "    # appel au BNLearner pour apprendre les paramètres\n",
    "    learner = gum.BNLearner ( ficname )\n",
    "    learner.useScoreLog2Likelihood ()\n",
    "    learner.useAprioriSmoothing ()\n",
    "    return learner.learnParameters ( graphe )"
   ]
  },
  {
   "cell_type": "markdown",
   "metadata": {},
   "source": [
    "\n",
    "Vous pouvez maintenant réaliser des calculs probabilistes :\n",
    "\n",
    "- affichage de la taille du réseau bayésien\n",
    "\n",
    "```python\n",
    "# création du réseau bayésien à la aGrUM\n",
    "bn = learn_parameters ( bn_struct, ficname )\n",
    "\n",
    "# affichage de sa taille\n",
    "print(bn)\n",
    "```\n",
    "\n",
    "- affichage de la table de probabilité conditionnelle d'un noeud du réseau déterminé par son nom (1ère ligne du CSV):\n",
    "\n",
    "```python\n",
    "\n",
    "# récupération de la ''conditional probability table'' (CPT) et affichage de cette table\n",
    "gnb.showPotential( bn.cpt ( bn.idFromName ( 'bronchitis?' ) ) )\n",
    "```\n",
    "\n",
    "- calcul de la probabilité marginale d'un noeud : P('bronchitis?'):\n",
    "\n",
    "\n",
    "```python\n",
    "\n",
    "# calcul de la marginale\n",
    "proba = gum.getPosterior ( bn, {}, 'bronchitis?' )\n",
    "\n",
    "```\n",
    "\n",
    "- affichage graphique d'une distribution de probabilité marginale\n",
    "\n",
    "```python\n",
    "# affichage de la marginale\n",
    "gnb.showPotential( proba )\n",
    "\n",
    "```\n",
    "- calcul d'une distribution marginale a posteriori : P(bronchitis? | smoking? = true, turberculosis? = false )\n",
    "```python\n",
    "gnb.showPotential(gum.getPosterior ( bn,{'smoking?': 'true', 'tuberculosis?' : 'false' }, 'bronchitis?' ))\n",
    "```"
   ]
  },
  {
   "cell_type": "code",
   "execution_count": 15,
   "metadata": {},
   "outputs": [
    {
     "name": "stdout",
     "output_type": "stream",
     "text": [
      "BN{nodes: 8, arcs: 8, domainSize: 256, dim: 38}\n",
      "\n",
      "      ||  bronchitis?      |\n",
      "smokin||false    |true     |\n",
      "------||---------|---------|\n",
      "false || 0.6181  | 0.3819  |\n",
      "true  || 0.2917  | 0.7083  |\n",
      "\n",
      "\n",
      "  bronchitis?      |\n",
      "false    |true     |\n",
      "---------|---------|\n",
      " 0.4551  | 0.5449  |\n",
      "\n",
      "\n",
      "  bronchitis?      |\n",
      "false    |true     |\n",
      "---------|---------|\n",
      " 0.2917  | 0.7083  |\n",
      "\n"
     ]
    }
   ],
   "source": [
    "# création du réseau bayésien à la aGrUM\n",
    "bn = learn_parameters ( bn_struct, 'tme5_asia.csv' )\n",
    "\n",
    "# affichage de sa taille\n",
    "print(bn)\n",
    "\n",
    "# récupération de la ''conditional probability table'' (CPT) et affichage de cette table\n",
    "gnb.showPotential( bn.cpt ( bn.idFromName ( 'bronchitis?' ) ) )\n",
    "\n",
    "# calcul de la marginale\n",
    "proba = gum.getPosterior ( bn, {}, 'bronchitis?' )\n",
    "\n",
    "# affichage de la marginale\n",
    "gnb.showPotential( proba )\n",
    "\n",
    "#calcul de la marginale a posteriori\n",
    "gnb.showPotential(gum.getPosterior ( bn,{'smoking?': 'true', 'tuberculosis?' : 'false' }, 'bronchitis?' ))"
   ]
  },
  {
   "cell_type": "markdown",
   "metadata": {},
   "source": [
    "bn = gum.loadBN (\"earthquake.bif\")## 9. (Bonus) Autres bases de données\n",
    "\n",
    "Vous pouvez appliquer vos algorithmes sur des bases un peu plus conséquentes qu'asia:\n",
    "\n",
    "|  nom de la base  |            provenance           | nombre d'evenements elementaires |\n",
    "|:----------------:|:-------------------------------:|:--------------------------------:|\n",
    "|       asia       |          BN repository          |                $256     $          |\n",
    "|       alarm      |          BN repository          |              $10^{16}   $               |\n",
    "|       adult      | UCI machine learning repository |              $10^{12}   $          |\n",
    "|        car       | UCI machine learning repository |               $6912     $          |\n",
    "| agaricus-lepiota | UCI machine learning repository |              $10^{16}   $        |\n",
    "\n"
   ]
  },
  {
   "cell_type": "markdown",
   "metadata": {},
   "source": [
    "# Exercice bonus : adult dataset"
   ]
  },
  {
   "cell_type": "code",
   "execution_count": 16,
   "metadata": {},
   "outputs": [
    {
     "name": "stdout",
     "output_type": "stream",
     "text": [
      "Index of adult\n",
      "\n",
      "02 Dec 1996      140 Index\n",
      "10 Aug 1996  3974305 adult.data\n",
      "10 Aug 1996     4267 adult.names\n",
      "10 Aug 1996  2003153 adult.test\n",
      "\n"
     ]
    }
   ],
   "source": [
    "adult_index = open(\"adult_data/index\", \"r\")\n",
    "print(adult_index.read())"
   ]
  },
  {
   "cell_type": "code",
   "execution_count": 17,
   "metadata": {},
   "outputs": [],
   "source": [
    "# adult_names = open(\"adult_data/adult.names\", \"r\")\n",
    "# print(adult_names.read())"
   ]
  },
  {
   "cell_type": "code",
   "execution_count": 18,
   "metadata": {},
   "outputs": [],
   "source": [
    "def preprocess_data(path):\n",
    "    lines = np.array(open(path, \"r\").read().split(\"\\n\"))\n",
    "    n_lines = len(lines)\n",
    "    n_features = len(lines[1].split(\",\"))\n",
    "    print(\"---> n_features:\",n_features)\n",
    "    print(\"---> n_lines:\",n_lines)\n",
    "    X = np.empty((n_lines, n_features), dtype=object)\n",
    "    i = 0\n",
    "    lines = lines[1:]\n",
    "    for line in lines:\n",
    "        j = 0\n",
    "        for feature in line.split(\",\"):\n",
    "            feature = feature.replace(\" \",\"\")\n",
    "            X[i][j] = feature\n",
    "            j += 1\n",
    "        i += 1\n",
    "    X = X[:-3]\n",
    "    print(\"---> X:\\n\",X) \n",
    "    n_features -= 1\n",
    "    return X, n_lines, n_features"
   ]
  },
  {
   "cell_type": "code",
   "execution_count": 19,
   "metadata": {},
   "outputs": [
    {
     "name": "stdout",
     "output_type": "stream",
     "text": [
      "---> n_features: 15\n",
      "---> n_lines: 32563\n",
      "---> X:\n",
      " [['50' 'Self-emp-not-inc' '83311' ... '13' 'United-States' '<=50K']\n",
      " ['38' 'Private' '215646' ... '40' 'United-States' '<=50K']\n",
      " ['53' 'Private' '234721' ... '40' 'United-States' '<=50K']\n",
      " ...\n",
      " ['58' 'Private' '151910' ... '40' 'United-States' '<=50K']\n",
      " ['22' 'Private' '201490' ... '20' 'United-States' '<=50K']\n",
      " ['52' 'Self-emp-inc' '287927' ... '40' 'United-States' '>50K']]\n",
      "---> Y_train:\n",
      " [['<=50K']\n",
      " ['>50K']\n",
      " ['<=50K']\n",
      " ['<=50K']\n",
      " ['>50K']]\n"
     ]
    }
   ],
   "source": [
    "path_train = \"adult_data/adult.data\"\n",
    "X, n_train, n_features = preprocess_data(path_train)\n",
    "X_train = X[:,:-1]\n",
    "Y_train = X[:,-1:]\n",
    "print(\"---> Y_train:\\n\",Y_train[-5:])"
   ]
  },
  {
   "cell_type": "code",
   "execution_count": 20,
   "metadata": {},
   "outputs": [],
   "source": [
    "features_name = [\"age\", \"workclass\", \"fnlwgt\", \"education\", \"education_num\", \"marital_status\", \n",
    "                 \"occupation\", \"relationship\", \"race\", \"sex\", \"capital_gain\", \"capital_loss\", \n",
    "                 \"hours_per_week\", \"native_country\"]"
   ]
  },
  {
   "cell_type": "code",
   "execution_count": 21,
   "metadata": {},
   "outputs": [
    {
     "name": "stdout",
     "output_type": "stream",
     "text": [
      "14\n"
     ]
    }
   ],
   "source": [
    "string_features = [1, 3, 5, 7, 8, 9, 10, 14]\n",
    "int_features = [0, 2, 4, 10, 11, 12]\n",
    "print(len(string_features+int_features))"
   ]
  },
  {
   "cell_type": "code",
   "execution_count": 22,
   "metadata": {},
   "outputs": [],
   "source": [
    "# Problème ici car il faut gerer les valeurs None, par exemple en utilisant EM, en interpolant ou \n",
    "# en supprimant les lignes ou il y a un None. J'ai essayé de ne pas utiliser la librairie pandas \n",
    "# malgré le fait que je sois habitué a l'utilisation de cette librairie pour régler ce genre de problème.\n",
    "# Il reste normalement juste à normaliser, faire le dico, et tester les algorithmes."
   ]
  },
  {
   "cell_type": "code",
   "execution_count": 23,
   "metadata": {},
   "outputs": [],
   "source": [
    "# visited = np.empty((n_features), dtype=object)\n",
    "visited = [[] for _ in range(n_features)]\n",
    "\n",
    "X_train = X_train[:100] # Petite valeur pour tester\n",
    "\n",
    "norm_X_train = np.zeros(X_train.shape)\n",
    "            \n",
    "\n",
    "# for i in range(n_features): # Normalisation des strings\n",
    "#     for j, feature in enumerate(X_train[:,i]):\n",
    "#         if i in string_features:\n",
    "#             if feature not in visited[i]:\n",
    "#                 visited[i] = np.append(visited[i], feature)\n",
    "#                 norm_X_train[j][i] = 0\n",
    "#             else:\n",
    "#                 norm_X_train[j][i] = np.argmax(visited[i]==feature)\n",
    "                    \n",
    "# for i in range(n_features): # Normalisation des int\n",
    "#     for j, feature in enumerate(X_train[:,i]):\n",
    "#         if i in int_features:\n",
    "#             int_vals = X_train[:,i].astype(int)\n",
    "#             norm_X_train[j][i] = int(feature)/np.sum(int_vals)\n",
    "\n",
    "# print(X_train[:10,1:2])\n",
    "# print(norm_X_train[:10,1:2])\n",
    "# print(visited[1])"
   ]
  },
  {
   "cell_type": "code",
   "execution_count": 24,
   "metadata": {},
   "outputs": [],
   "source": [
    "# Ce serait probablement mieux de classer les valeurs int par interval mais cela ne fonctionne pas pour\n",
    "# tous les features int"
   ]
  },
  {
   "cell_type": "code",
   "execution_count": 25,
   "metadata": {},
   "outputs": [],
   "source": [
    "for i in range(n_features): # Normalisation des strings\n",
    "    for j, feature in enumerate(X_train[:,i]):\n",
    "        if feature not in visited[i]:\n",
    "            visited[i] = np.append(visited[i], feature)\n",
    "            norm_X_train[j][i] = 0\n",
    "        else:\n",
    "            norm_X_train[j][i] = np.argmax(visited[i]==feature)"
   ]
  },
  {
   "cell_type": "code",
   "execution_count": 26,
   "metadata": {},
   "outputs": [
    {
     "name": "stdout",
     "output_type": "stream",
     "text": [
      "[(0, 'Self-emp-not-inc'), (1, 'Private'), (2, 'State-gov'), (3, 'Federal-gov'), (4, 'Local-gov'), (5, '?'), (6, 'Self-emp-inc')]\n",
      "[(0, 'Bachelors'), (1, 'HS-grad'), (2, '11th'), (3, 'Masters'), (4, '9th'), (5, 'Some-college'), (6, 'Assoc-acdm'), (7, 'Assoc-voc'), (8, '7th-8th'), (9, 'Doctorate'), (10, 'Prof-school'), (11, '5th-6th'), (12, '10th')]\n"
     ]
    }
   ],
   "source": [
    "dicts = {}\n",
    "keys = range(n_features)\n",
    "values = [[] for _ in range(n_features)]\n",
    "for i in range(n_features):\n",
    "    values[i] = visited[i]\n",
    "for i in keys:\n",
    "        dicts[i] = list(enumerate(values[i]))\n",
    "print(dicts[1])\n",
    "print(dicts[3])"
   ]
  },
  {
   "cell_type": "code",
   "execution_count": 27,
   "metadata": {},
   "outputs": [
    {
     "name": "stdout",
     "output_type": "stream",
     "text": [
      "['age', 'workclass', 'fnlwgt', 'education', 'education_num', 'marital_status', 'occupation', 'relationship', 'race', 'sex', 'capital_gain', 'capital_loss', 'hours_per_week', 'native_country']\n",
      "[[ 0.  0.  0. ...  0.  0.  0.]\n",
      " [ 0.  0.  0. ...  0.  0.  0.]\n",
      " [ 0.  1.  0. ...  0.  1.  0.]\n",
      " ...\n",
      " [25.  1.  0. ...  0.  1.  0.]\n",
      " [11.  3.  0. ...  0.  1.  0.]\n",
      " [ 0.  1.  0. ...  0.  1.  0.]]\n",
      "[(0, 'Self-emp-not-inc'), (1, 'Private'), (2, 'State-gov'), (3, 'Federal-gov'), (4, 'Local-gov'), (5, '?'), (6, 'Self-emp-inc')]\n"
     ]
    }
   ],
   "source": [
    "names = features_name\n",
    "data = norm_X_train\n",
    "dico = dicts\n",
    "print(names)\n",
    "print(data)\n",
    "print(dicts[1])"
   ]
  },
  {
   "cell_type": "code",
   "execution_count": 28,
   "metadata": {},
   "outputs": [
    {
     "name": "stdout",
     "output_type": "stream",
     "text": [
      "[[0. 0. 0. ... 0. 0. 0.]\n",
      " [0. 0. 0. ... 0. 0. 0.]\n",
      " [0. 0. 0. ... 0. 0. 0.]\n",
      " ...\n",
      " [0. 0. 0. ... 0. 0. 0.]\n",
      " [0. 0. 0. ... 0. 0. 0.]\n",
      " [0. 0. 0. ... 0. 0. 0.]]\n"
     ]
    }
   ],
   "source": [
    "resultat=create_contingency_table ( data, dico, 0, 2, [3] ) \n",
    "print(resultat[0][1])"
   ]
  },
  {
   "cell_type": "code",
   "execution_count": 29,
   "metadata": {},
   "outputs": [
    {
     "name": "stdout",
     "output_type": "stream",
     "text": [
      "(0.0, 1188)\n",
      "(0.0, 960)\n",
      "(0.0, 144)\n",
      "(1.0714285714285716, 1485)\n",
      "(0.0, 1000)\n",
      "(5.777777777777779, 2376)\n"
     ]
    }
   ],
   "source": [
    "print(sufficient_statistics ( data, dico, 1,2,[3]) )\n",
    "print(sufficient_statistics ( data, dico, 0,1,[2,3]) )\n",
    "print(sufficient_statistics ( data, dico, 1,3,[2]) )\n",
    "print(sufficient_statistics ( data, dico, 5,2,[1,3,6]) )\n",
    "print(sufficient_statistics ( data, dico, 0,7,[4,5]) )\n",
    "print(sufficient_statistics ( data, dico, 2,3,[5]) )"
   ]
  },
  {
   "cell_type": "code",
   "execution_count": 30,
   "metadata": {},
   "outputs": [
    {
     "name": "stdout",
     "output_type": "stream",
     "text": [
      "(0.0, 1188)\n",
      "(0.0, 960)\n",
      "(0.0, 144)\n",
      "(1.0714285714285716, 1485)\n",
      "(0.0, 1000)\n",
      "(5.777777777777779, 2376)\n"
     ]
    }
   ],
   "source": [
    "print(sufficient_statistics ( data, dico, 1,2,[3]) )\n",
    "print(sufficient_statistics ( data, dico, 0,1,[2,3]) )\n",
    "print(sufficient_statistics ( data, dico, 1,3,[2]) )\n",
    "print(sufficient_statistics ( data, dico, 5,2,[1,3,6]) )\n",
    "print(sufficient_statistics ( data, dico, 0,7,[4,5]) )\n",
    "print(sufficient_statistics ( data, dico, 2,3,[5]) )"
   ]
  },
  {
   "cell_type": "code",
   "execution_count": 31,
   "metadata": {},
   "outputs": [
    {
     "name": "stdout",
     "output_type": "stream",
     "text": [
      "(-1, 1)\n",
      "(-1, 1)\n",
      "(-1, 1)\n",
      "(-1, 1)\n"
     ]
    }
   ],
   "source": [
    "print(indep_score ( data, dico, 1,3,[]))\n",
    "print(indep_score ( data, dico, 1,7,[]))\n",
    "print(indep_score ( data, dico, 0,1,[2,3]))\n",
    "print(indep_score ( data, dico, 1,2,[3,4]))"
   ]
  },
  {
   "cell_type": "code",
   "execution_count": 32,
   "metadata": {},
   "outputs": [
    {
     "name": "stdout",
     "output_type": "stream",
     "text": [
      "[0]\n",
      "[0]\n",
      "[0]\n",
      "[0]\n",
      "[0]\n",
      "[0]\n"
     ]
    }
   ],
   "source": [
    "print(best_candidate ( data, dico, 1, [], 0.05 ))\n",
    "print(best_candidate ( data, dico, 4, [], 0.05 ))\n",
    "print(best_candidate ( data, dico, 4, [1], 0.05 ))\n",
    "print(best_candidate ( data, dico, 5, [], 0.05 ))\n",
    "print(best_candidate ( data, dico, 5, [6], 0.05 ))\n",
    "print(best_candidate ( data, dico, 5, [6,7], 0.05 ))"
   ]
  },
  {
   "cell_type": "code",
   "execution_count": 33,
   "metadata": {},
   "outputs": [],
   "source": [
    "# print(create_parents ( data, dico, 1, 0.05 ))\n",
    "# print(create_parents ( data, dico, 4, 0.05 ))\n",
    "# print(create_parents ( data, dico, 5, 0.05 ))\n",
    "# print(create_parents ( data, dico, 6, 0.05 ))"
   ]
  },
  {
   "cell_type": "code",
   "execution_count": 34,
   "metadata": {},
   "outputs": [],
   "source": [
    "# bn_struct = learn_BN_structure ( data, dico, 0.05 )\n",
    "# print(bn_struct)"
   ]
  },
  {
   "cell_type": "markdown",
   "metadata": {},
   "source": [
    "# Exercice supplémentaire : Prediction avec simple MLP :"
   ]
  },
  {
   "cell_type": "code",
   "execution_count": 35,
   "metadata": {},
   "outputs": [
    {
     "name": "stdout",
     "output_type": "stream",
     "text": [
      "---> n_features: 15\n",
      "---> n_lines: 32563\n",
      "---> X:\n",
      " [['50' 'Self-emp-not-inc' '83311' ... '13' 'United-States' '<=50K']\n",
      " ['38' 'Private' '215646' ... '40' 'United-States' '<=50K']\n",
      " ['53' 'Private' '234721' ... '40' 'United-States' '<=50K']\n",
      " ...\n",
      " ['58' 'Private' '151910' ... '40' 'United-States' '<=50K']\n",
      " ['22' 'Private' '201490' ... '20' 'United-States' '<=50K']\n",
      " ['52' 'Self-emp-inc' '287927' ... '40' 'United-States' '>50K']]\n"
     ]
    }
   ],
   "source": [
    "n_data = 5000\n",
    "\n",
    "path_train = \"adult_data/adult.data\"\n",
    "X, n_train, n_features = preprocess_data(path_train)\n",
    "X_train = X[:,:-1]\n",
    "Y_train = X[:,-1:]\n",
    "\n",
    "X_train = X_train[:n_data]\n",
    "Y_train = Y_train[:n_data]\n",
    "\n",
    "Y_train = np.where(Y_train == \">50K\", 0, 1)"
   ]
  },
  {
   "cell_type": "code",
   "execution_count": 36,
   "metadata": {},
   "outputs": [],
   "source": [
    "from sklearn.model_selection import train_test_split\n",
    "\n",
    "visited = [[] for _ in range(n_features)]\n",
    "\n",
    "norm_X_train = np.zeros(X_train.shape)\n",
    "\n",
    "for i in range(n_features): # Normalisation des strings\n",
    "    for j, feature in enumerate(X_train[:,i]):\n",
    "        if i in string_features:\n",
    "            if feature not in visited[i]:\n",
    "                visited[i] = np.append(visited[i], feature)\n",
    "                norm_X_train[j][i] = 0\n",
    "            else:\n",
    "                norm_X_train[j][i] = np.argmax(visited[i]==feature)\n",
    "                    \n",
    "for i in range(n_features): # Normalisation des int\n",
    "    for j, feature in enumerate(X_train[:,i]):\n",
    "        if i in int_features:\n",
    "            int_vals = X_train[:,i].astype(int)\n",
    "            norm_X_train[j][i] = int(feature)/np.sum(int_vals)\n",
    "\n",
    "X_train, X_valid = train_test_split(norm_X_train, test_size=0.2)\n",
    "Y_train, Y_valid = train_test_split(Y_train, test_size=0.2)"
   ]
  },
  {
   "cell_type": "code",
   "execution_count": 50,
   "metadata": {},
   "outputs": [],
   "source": [
    "import tensorflow as tf\n",
    "\n",
    "def build_model():\n",
    "    model = tf.keras.models.Sequential()\n",
    "    model.add(tf.keras.layers.Dense(n_features, input_shape=X_train.shape, activation=\"linear\"))\n",
    "    model.add(tf.keras.layers.Dense(512, activation=\"relu\"))\n",
    "    model.add(tf.keras.layers.Dense(512, activation=\"relu\"))\n",
    "    model.add(tf.keras.layers.Dense(512, activation=\"relu\"))\n",
    "    model.add(tf.keras.layers.Dense(1, activation=\"sigmoid\"))\n",
    "    model.compile(loss=\"binary_crossentropy\", optimizer=\"adam\", metrics=[\"accuracy\"]) \n",
    "    model.summary()\n",
    "    return model"
   ]
  },
  {
   "cell_type": "code",
   "execution_count": 51,
   "metadata": {},
   "outputs": [
    {
     "name": "stdout",
     "output_type": "stream",
     "text": [
      "14\n",
      "(4000, 14)\n",
      "(4000,)\n",
      "(1000, 14)\n",
      "(1000,)\n"
     ]
    }
   ],
   "source": [
    "print(n_features)\n",
    "\n",
    "print(X_train.shape)\n",
    "print(Y_train.shape)\n",
    "\n",
    "print(X_valid.shape)\n",
    "print(Y_valid.shape)"
   ]
  },
  {
   "cell_type": "code",
   "execution_count": 52,
   "metadata": {},
   "outputs": [
    {
     "name": "stdout",
     "output_type": "stream",
     "text": [
      "0.7585\n",
      "[0 1]\n"
     ]
    }
   ],
   "source": [
    "print(Y_train.mean()) # Check si on doit mettre des poids suivant le nombre d'exemple >50K / <= 50K\n",
    "print(np.unique(Y_train))"
   ]
  },
  {
   "cell_type": "code",
   "execution_count": 53,
   "metadata": {},
   "outputs": [
    {
     "name": "stdout",
     "output_type": "stream",
     "text": [
      "(4000,)\n",
      "(4000,)\n"
     ]
    }
   ],
   "source": [
    "print(Y_train.shape)\n",
    "Y_train = Y_train.reshape(-1)\n",
    "print(Y_train.shape)\n",
    "\n",
    "Y_valid = Y_valid.reshape(-1)"
   ]
  },
  {
   "cell_type": "code",
   "execution_count": 54,
   "metadata": {},
   "outputs": [
    {
     "name": "stdout",
     "output_type": "stream",
     "text": [
      "(4000, 14)\n"
     ]
    }
   ],
   "source": [
    "print(X_train.shape)\n",
    "# X_train = X_train.reshape(n_features, -1)\n",
    "# print(X_train.shape)"
   ]
  },
  {
   "cell_type": "code",
   "execution_count": 55,
   "metadata": {},
   "outputs": [
    {
     "name": "stdout",
     "output_type": "stream",
     "text": [
      "[1.35719646e+00 3.57203975e-01 6.29831809e-05 ... 7.14333050e-01\n",
      " 1.07148728e+00 2.85798969e-01]\n",
      "[0 1 1 ... 1 1 1]\n"
     ]
    }
   ],
   "source": [
    "print(X_train.mean(axis=1))\n",
    "print(Y_train)"
   ]
  },
  {
   "cell_type": "code",
   "execution_count": 56,
   "metadata": {},
   "outputs": [
    {
     "name": "stdout",
     "output_type": "stream",
     "text": [
      "[2.07039337 0.65919578]\n"
     ]
    }
   ],
   "source": [
    "from sklearn.utils import class_weight\n",
    "class_weights = class_weight.compute_class_weight(\"balanced\",\n",
    "                                                 np.unique(Y_train),\n",
    "                                                 Y_train)\n",
    "print(class_weights)\n",
    "class_weights = {i : class_weights[i] for i in range(len(class_weights))}"
   ]
  },
  {
   "cell_type": "code",
   "execution_count": 57,
   "metadata": {},
   "outputs": [
    {
     "name": "stdout",
     "output_type": "stream",
     "text": [
      "[2.84960805e-04 1.00000000e+00 1.51042502e-04 0.00000000e+00\n",
      " 2.57936508e-04 0.00000000e+00 0.00000000e+00 0.00000000e+00\n",
      " 0.00000000e+00 0.00000000e+00 0.00000000e+00 0.00000000e+00\n",
      " 8.88428222e-05 0.00000000e+00]\n",
      "1\n"
     ]
    }
   ],
   "source": [
    "print(X_train[5])\n",
    "print(Y_train[5])"
   ]
  },
  {
   "cell_type": "code",
   "execution_count": 58,
   "metadata": {},
   "outputs": [
    {
     "name": "stdout",
     "output_type": "stream",
     "text": [
      "Model: \"sequential_3\"\n",
      "_________________________________________________________________\n",
      "Layer (type)                 Output Shape              Param #   \n",
      "=================================================================\n",
      "dense_12 (Dense)             (None, 4000, 14)          210       \n",
      "_________________________________________________________________\n",
      "dense_13 (Dense)             (None, 4000, 512)         7680      \n",
      "_________________________________________________________________\n",
      "dense_14 (Dense)             (None, 4000, 512)         262656    \n",
      "_________________________________________________________________\n",
      "dense_15 (Dense)             (None, 4000, 512)         262656    \n",
      "_________________________________________________________________\n",
      "dense_16 (Dense)             (None, 4000, 1)           513       \n",
      "=================================================================\n",
      "Total params: 533,715\n",
      "Trainable params: 533,715\n",
      "Non-trainable params: 0\n",
      "_________________________________________________________________\n",
      "Epoch 1/100\n",
      "WARNING:tensorflow:Model was constructed with shape (None, 4000, 14) for input KerasTensor(type_spec=TensorSpec(shape=(None, 4000, 14), dtype=tf.float32, name='dense_12_input'), name='dense_12_input', description=\"created by layer 'dense_12_input'\"), but it was called on an input with incompatible shape (32, 14).\n",
      "WARNING:tensorflow:Model was constructed with shape (None, 4000, 14) for input KerasTensor(type_spec=TensorSpec(shape=(None, 4000, 14), dtype=tf.float32, name='dense_12_input'), name='dense_12_input', description=\"created by layer 'dense_12_input'\"), but it was called on an input with incompatible shape (32, 14).\n",
      "110/125 [=========================>....] - ETA: 0s - loss: 0.7132 - accuracy: 0.4891WARNING:tensorflow:Model was constructed with shape (None, 4000, 14) for input KerasTensor(type_spec=TensorSpec(shape=(None, 4000, 14), dtype=tf.float32, name='dense_12_input'), name='dense_12_input', description=\"created by layer 'dense_12_input'\"), but it was called on an input with incompatible shape (None, 14).\n",
      "125/125 [==============================] - 1s 3ms/step - loss: 0.7119 - accuracy: 0.4908 - val_loss: 0.6968 - val_accuracy: 0.4320\n",
      "Epoch 2/100\n",
      "125/125 [==============================] - 0s 2ms/step - loss: 0.6985 - accuracy: 0.4532 - val_loss: 0.6861 - val_accuracy: 0.6530\n",
      "Epoch 3/100\n",
      "125/125 [==============================] - 0s 2ms/step - loss: 0.6948 - accuracy: 0.5500 - val_loss: 0.6804 - val_accuracy: 0.6740\n",
      "Epoch 4/100\n",
      "125/125 [==============================] - 0s 2ms/step - loss: 0.7028 - accuracy: 0.4292 - val_loss: 0.6787 - val_accuracy: 0.7040\n",
      "Epoch 5/100\n",
      "125/125 [==============================] - 0s 2ms/step - loss: 0.6850 - accuracy: 0.5706 - val_loss: 0.7161 - val_accuracy: 0.3200\n",
      "Epoch 6/100\n",
      "125/125 [==============================] - 0s 2ms/step - loss: 0.6964 - accuracy: 0.3737 - val_loss: 0.6910 - val_accuracy: 0.5830\n",
      "Epoch 7/100\n",
      "125/125 [==============================] - 0s 2ms/step - loss: 0.6820 - accuracy: 0.5841 - val_loss: 0.7056 - val_accuracy: 0.3420\n",
      "Epoch 8/100\n",
      "125/125 [==============================] - 0s 2ms/step - loss: 0.7006 - accuracy: 0.3888 - val_loss: 0.6737 - val_accuracy: 0.6500\n",
      "Epoch 9/100\n",
      "125/125 [==============================] - 0s 2ms/step - loss: 0.6953 - accuracy: 0.5719 - val_loss: 0.7002 - val_accuracy: 0.4000\n",
      "Epoch 10/100\n",
      "125/125 [==============================] - 0s 2ms/step - loss: 0.6810 - accuracy: 0.5520 - val_loss: 0.7058 - val_accuracy: 0.2540\n",
      "Epoch 11/100\n",
      "125/125 [==============================] - 0s 2ms/step - loss: 0.6860 - accuracy: 0.4722 - val_loss: 0.6994 - val_accuracy: 0.3740\n",
      "Epoch 12/100\n",
      "125/125 [==============================] - 0s 2ms/step - loss: 0.6885 - accuracy: 0.5145 - val_loss: 0.7069 - val_accuracy: 0.4000\n",
      "Epoch 13/100\n",
      "125/125 [==============================] - 0s 2ms/step - loss: 0.7016 - accuracy: 0.4921 - val_loss: 0.6890 - val_accuracy: 0.6750\n",
      "Epoch 14/100\n",
      "125/125 [==============================] - 0s 2ms/step - loss: 0.6898 - accuracy: 0.6009 - val_loss: 0.6883 - val_accuracy: 0.6300\n",
      "Epoch 15/100\n",
      "125/125 [==============================] - 0s 2ms/step - loss: 0.6913 - accuracy: 0.5902 - val_loss: 0.7074 - val_accuracy: 0.4250\n",
      "Epoch 16/100\n",
      "125/125 [==============================] - 0s 2ms/step - loss: 0.6754 - accuracy: 0.5711 - val_loss: 0.6964 - val_accuracy: 0.5110\n",
      "Epoch 17/100\n",
      "125/125 [==============================] - 0s 2ms/step - loss: 0.6756 - accuracy: 0.5679 - val_loss: 0.6991 - val_accuracy: 0.5180\n",
      "Epoch 18/100\n",
      "125/125 [==============================] - 0s 2ms/step - loss: 0.6842 - accuracy: 0.5025 - val_loss: 0.6962 - val_accuracy: 0.4710\n",
      "Epoch 19/100\n",
      "125/125 [==============================] - 0s 2ms/step - loss: 0.7038 - accuracy: 0.4713 - val_loss: 0.6974 - val_accuracy: 0.5350\n",
      "Epoch 20/100\n",
      "125/125 [==============================] - 0s 2ms/step - loss: 0.6958 - accuracy: 0.5458 - val_loss: 0.6898 - val_accuracy: 0.5590\n",
      "Epoch 21/100\n",
      "125/125 [==============================] - 0s 2ms/step - loss: 0.6935 - accuracy: 0.5406 - val_loss: 0.7017 - val_accuracy: 0.5020\n",
      "Epoch 22/100\n",
      "125/125 [==============================] - 0s 2ms/step - loss: 0.6883 - accuracy: 0.5273 - val_loss: 0.6861 - val_accuracy: 0.6330\n",
      "Epoch 23/100\n",
      "125/125 [==============================] - 0s 2ms/step - loss: 0.6930 - accuracy: 0.5785 - val_loss: 0.7071 - val_accuracy: 0.4280\n",
      "Epoch 24/100\n",
      "125/125 [==============================] - 0s 2ms/step - loss: 0.7010 - accuracy: 0.5100 - val_loss: 0.6925 - val_accuracy: 0.5020\n",
      "Epoch 25/100\n",
      "125/125 [==============================] - 0s 2ms/step - loss: 0.6941 - accuracy: 0.5189 - val_loss: 0.6925 - val_accuracy: 0.5740\n",
      "Epoch 26/100\n",
      "125/125 [==============================] - 0s 2ms/step - loss: 0.6902 - accuracy: 0.5434 - val_loss: 0.6917 - val_accuracy: 0.5310\n",
      "Epoch 27/100\n",
      "125/125 [==============================] - 0s 2ms/step - loss: 0.6828 - accuracy: 0.5389 - val_loss: 0.7054 - val_accuracy: 0.4550\n",
      "Epoch 28/100\n",
      "125/125 [==============================] - 0s 3ms/step - loss: 0.6868 - accuracy: 0.5508 - val_loss: 0.6999 - val_accuracy: 0.4560\n",
      "Epoch 29/100\n",
      "125/125 [==============================] - 0s 2ms/step - loss: 0.6831 - accuracy: 0.5676 - val_loss: 0.7057 - val_accuracy: 0.4500\n",
      "Epoch 30/100\n",
      "125/125 [==============================] - 0s 2ms/step - loss: 0.6909 - accuracy: 0.5360 - val_loss: 0.7037 - val_accuracy: 0.5170\n",
      "Epoch 31/100\n",
      "125/125 [==============================] - 0s 2ms/step - loss: 0.6955 - accuracy: 0.5449 - val_loss: 0.7116 - val_accuracy: 0.5120\n",
      "Epoch 32/100\n",
      "125/125 [==============================] - 0s 2ms/step - loss: 0.6848 - accuracy: 0.5933 - val_loss: 0.7104 - val_accuracy: 0.4090\n",
      "Epoch 33/100\n",
      "125/125 [==============================] - 0s 2ms/step - loss: 0.6861 - accuracy: 0.5402 - val_loss: 0.7013 - val_accuracy: 0.5220\n",
      "Epoch 34/100\n",
      "125/125 [==============================] - 0s 2ms/step - loss: 0.6812 - accuracy: 0.5765 - val_loss: 0.7040 - val_accuracy: 0.4700\n",
      "Epoch 35/100\n",
      "125/125 [==============================] - 0s 2ms/step - loss: 0.6837 - accuracy: 0.5239 - val_loss: 0.7082 - val_accuracy: 0.4710\n",
      "Epoch 36/100\n",
      "125/125 [==============================] - 0s 2ms/step - loss: 0.6819 - accuracy: 0.5405 - val_loss: 0.7018 - val_accuracy: 0.4700\n",
      "Epoch 37/100\n",
      "125/125 [==============================] - 0s 2ms/step - loss: 0.6922 - accuracy: 0.5156 - val_loss: 0.7063 - val_accuracy: 0.4720\n",
      "Epoch 38/100\n",
      "125/125 [==============================] - 0s 2ms/step - loss: 0.6708 - accuracy: 0.6169 - val_loss: 0.7200 - val_accuracy: 0.4290\n",
      "Epoch 39/100\n",
      "125/125 [==============================] - 0s 2ms/step - loss: 0.6769 - accuracy: 0.5300 - val_loss: 0.7022 - val_accuracy: 0.4870\n",
      "Epoch 40/100\n",
      "125/125 [==============================] - 0s 2ms/step - loss: 0.6919 - accuracy: 0.5248 - val_loss: 0.6953 - val_accuracy: 0.5630\n",
      "Epoch 41/100\n",
      "125/125 [==============================] - 0s 2ms/step - loss: 0.6660 - accuracy: 0.6449 - val_loss: 0.7146 - val_accuracy: 0.4320\n",
      "Epoch 42/100\n",
      "125/125 [==============================] - 0s 2ms/step - loss: 0.6796 - accuracy: 0.5191 - val_loss: 0.6975 - val_accuracy: 0.5210\n",
      "Epoch 43/100\n",
      "125/125 [==============================] - 0s 2ms/step - loss: 0.6758 - accuracy: 0.6035 - val_loss: 0.7125 - val_accuracy: 0.4780\n",
      "Epoch 44/100\n",
      "125/125 [==============================] - 0s 2ms/step - loss: 0.6725 - accuracy: 0.5491 - val_loss: 0.7168 - val_accuracy: 0.4680\n",
      "Epoch 45/100\n",
      "125/125 [==============================] - 0s 2ms/step - loss: 0.6766 - accuracy: 0.5176 - val_loss: 0.7083 - val_accuracy: 0.4820\n",
      "Epoch 46/100\n",
      "125/125 [==============================] - 0s 2ms/step - loss: 0.6659 - accuracy: 0.5604 - val_loss: 0.7089 - val_accuracy: 0.4880\n",
      "Epoch 47/100\n",
      "125/125 [==============================] - 0s 2ms/step - loss: 0.6699 - accuracy: 0.5562 - val_loss: 0.7206 - val_accuracy: 0.4860\n",
      "Epoch 48/100\n",
      "125/125 [==============================] - 0s 2ms/step - loss: 0.6599 - accuracy: 0.5661 - val_loss: 0.6904 - val_accuracy: 0.5070\n",
      "Epoch 49/100\n",
      "125/125 [==============================] - 0s 2ms/step - loss: 0.6739 - accuracy: 0.5568 - val_loss: 0.7015 - val_accuracy: 0.4980\n",
      "Epoch 50/100\n",
      "125/125 [==============================] - 0s 3ms/step - loss: 0.6678 - accuracy: 0.5739 - val_loss: 0.7260 - val_accuracy: 0.4690\n",
      "Epoch 51/100\n",
      "125/125 [==============================] - 0s 2ms/step - loss: 0.6784 - accuracy: 0.5272 - val_loss: 0.6989 - val_accuracy: 0.5240\n",
      "Epoch 52/100\n",
      "125/125 [==============================] - 0s 2ms/step - loss: 0.6626 - accuracy: 0.5783 - val_loss: 0.7453 - val_accuracy: 0.4200\n",
      "Epoch 53/100\n",
      "125/125 [==============================] - 0s 2ms/step - loss: 0.6711 - accuracy: 0.4886 - val_loss: 0.7226 - val_accuracy: 0.4810\n",
      "Epoch 54/100\n",
      "125/125 [==============================] - 0s 2ms/step - loss: 0.6544 - accuracy: 0.5627 - val_loss: 0.7484 - val_accuracy: 0.4640\n",
      "Epoch 55/100\n",
      "125/125 [==============================] - 0s 2ms/step - loss: 0.6601 - accuracy: 0.5641 - val_loss: 0.7451 - val_accuracy: 0.4200\n",
      "Epoch 56/100\n",
      "125/125 [==============================] - 0s 2ms/step - loss: 0.6581 - accuracy: 0.5331 - val_loss: 0.7434 - val_accuracy: 0.4450\n",
      "Epoch 57/100\n",
      "125/125 [==============================] - 0s 2ms/step - loss: 0.6642 - accuracy: 0.5051 - val_loss: 0.7252 - val_accuracy: 0.4890\n",
      "Epoch 58/100\n",
      "125/125 [==============================] - 0s 2ms/step - loss: 0.6681 - accuracy: 0.5393 - val_loss: 0.7452 - val_accuracy: 0.4780\n",
      "Epoch 59/100\n",
      "125/125 [==============================] - 0s 2ms/step - loss: 0.6525 - accuracy: 0.5600 - val_loss: 0.7266 - val_accuracy: 0.5210\n",
      "Epoch 60/100\n",
      "125/125 [==============================] - 0s 2ms/step - loss: 0.6590 - accuracy: 0.5522 - val_loss: 0.7520 - val_accuracy: 0.4560\n",
      "Epoch 61/100\n",
      "125/125 [==============================] - 0s 2ms/step - loss: 0.6639 - accuracy: 0.5295 - val_loss: 0.7558 - val_accuracy: 0.4660\n",
      "Epoch 62/100\n",
      "125/125 [==============================] - 0s 2ms/step - loss: 0.6519 - accuracy: 0.5369 - val_loss: 0.7421 - val_accuracy: 0.4780\n",
      "Epoch 63/100\n",
      "125/125 [==============================] - 0s 2ms/step - loss: 0.6458 - accuracy: 0.5593 - val_loss: 0.7342 - val_accuracy: 0.5590\n",
      "Epoch 64/100\n",
      "125/125 [==============================] - 0s 2ms/step - loss: 0.6640 - accuracy: 0.5217 - val_loss: 0.7406 - val_accuracy: 0.4580\n",
      "Epoch 65/100\n",
      "125/125 [==============================] - 0s 2ms/step - loss: 0.6511 - accuracy: 0.5413 - val_loss: 0.7638 - val_accuracy: 0.5070\n",
      "Epoch 66/100\n",
      "125/125 [==============================] - 0s 2ms/step - loss: 0.6468 - accuracy: 0.5641 - val_loss: 0.7563 - val_accuracy: 0.5050\n",
      "Epoch 67/100\n",
      "125/125 [==============================] - 0s 2ms/step - loss: 0.6434 - accuracy: 0.5569 - val_loss: 0.7584 - val_accuracy: 0.5050\n",
      "Epoch 68/100\n",
      "125/125 [==============================] - 0s 2ms/step - loss: 0.6392 - accuracy: 0.5540 - val_loss: 0.7930 - val_accuracy: 0.4840\n",
      "Epoch 69/100\n",
      "125/125 [==============================] - 0s 2ms/step - loss: 0.6266 - accuracy: 0.5564 - val_loss: 0.7786 - val_accuracy: 0.4930\n",
      "Epoch 70/100\n",
      "125/125 [==============================] - 0s 2ms/step - loss: 0.6335 - accuracy: 0.5713 - val_loss: 0.7397 - val_accuracy: 0.4830\n",
      "Epoch 71/100\n",
      "125/125 [==============================] - 0s 2ms/step - loss: 0.6284 - accuracy: 0.5617 - val_loss: 0.7766 - val_accuracy: 0.5200\n",
      "Epoch 72/100\n",
      "125/125 [==============================] - 0s 2ms/step - loss: 0.6381 - accuracy: 0.5521 - val_loss: 0.8071 - val_accuracy: 0.4850\n",
      "Epoch 73/100\n",
      "125/125 [==============================] - 0s 2ms/step - loss: 0.6367 - accuracy: 0.5617 - val_loss: 0.8027 - val_accuracy: 0.4850\n",
      "Epoch 74/100\n",
      "125/125 [==============================] - 0s 2ms/step - loss: 0.6282 - accuracy: 0.5686 - val_loss: 0.7726 - val_accuracy: 0.4790\n",
      "Epoch 75/100\n",
      "125/125 [==============================] - 0s 3ms/step - loss: 0.6351 - accuracy: 0.5303 - val_loss: 0.7672 - val_accuracy: 0.4990\n",
      "Epoch 76/100\n",
      "125/125 [==============================] - 0s 2ms/step - loss: 0.6349 - accuracy: 0.5538 - val_loss: 0.7703 - val_accuracy: 0.5300\n",
      "Epoch 77/100\n",
      "125/125 [==============================] - 0s 2ms/step - loss: 0.6153 - accuracy: 0.5994 - val_loss: 0.7762 - val_accuracy: 0.5120\n",
      "Epoch 78/100\n",
      "125/125 [==============================] - 0s 2ms/step - loss: 0.6285 - accuracy: 0.5522 - val_loss: 0.7826 - val_accuracy: 0.5470\n",
      "Epoch 79/100\n",
      "125/125 [==============================] - 0s 2ms/step - loss: 0.6211 - accuracy: 0.6011 - val_loss: 0.7815 - val_accuracy: 0.5910\n",
      "Epoch 80/100\n",
      "125/125 [==============================] - 0s 2ms/step - loss: 0.6288 - accuracy: 0.6211 - val_loss: 0.8137 - val_accuracy: 0.5220\n",
      "Epoch 81/100\n",
      "125/125 [==============================] - 0s 2ms/step - loss: 0.6317 - accuracy: 0.5712 - val_loss: 0.7940 - val_accuracy: 0.5130\n",
      "Epoch 82/100\n",
      "125/125 [==============================] - 0s 2ms/step - loss: 0.6237 - accuracy: 0.6005 - val_loss: 0.8008 - val_accuracy: 0.5400\n",
      "Epoch 83/100\n",
      "125/125 [==============================] - 0s 2ms/step - loss: 0.6082 - accuracy: 0.6140 - val_loss: 0.8404 - val_accuracy: 0.4990\n",
      "Epoch 84/100\n",
      "125/125 [==============================] - 0s 2ms/step - loss: 0.6048 - accuracy: 0.5912 - val_loss: 0.8219 - val_accuracy: 0.4830\n",
      "Epoch 85/100\n",
      "125/125 [==============================] - 0s 3ms/step - loss: 0.6151 - accuracy: 0.5585 - val_loss: 0.8178 - val_accuracy: 0.4960\n",
      "Epoch 86/100\n",
      "125/125 [==============================] - 0s 2ms/step - loss: 0.6192 - accuracy: 0.5728 - val_loss: 0.7940 - val_accuracy: 0.5270\n",
      "Epoch 87/100\n",
      "125/125 [==============================] - 0s 2ms/step - loss: 0.6070 - accuracy: 0.6071 - val_loss: 0.8057 - val_accuracy: 0.5150\n",
      "Epoch 88/100\n",
      "125/125 [==============================] - 0s 2ms/step - loss: 0.5991 - accuracy: 0.5952 - val_loss: 0.8881 - val_accuracy: 0.5070\n",
      "Epoch 89/100\n",
      "125/125 [==============================] - 0s 2ms/step - loss: 0.6142 - accuracy: 0.5854 - val_loss: 0.8096 - val_accuracy: 0.4930\n",
      "Epoch 90/100\n",
      "125/125 [==============================] - 0s 2ms/step - loss: 0.6212 - accuracy: 0.5745 - val_loss: 0.8418 - val_accuracy: 0.5030\n",
      "Epoch 91/100\n",
      "125/125 [==============================] - 0s 2ms/step - loss: 0.6188 - accuracy: 0.5828 - val_loss: 0.8059 - val_accuracy: 0.4980\n",
      "Epoch 92/100\n",
      "125/125 [==============================] - 0s 2ms/step - loss: 0.6113 - accuracy: 0.5878 - val_loss: 0.8557 - val_accuracy: 0.5200\n",
      "Epoch 93/100\n",
      "125/125 [==============================] - 0s 2ms/step - loss: 0.6197 - accuracy: 0.6121 - val_loss: 0.8575 - val_accuracy: 0.5080\n",
      "Epoch 94/100\n",
      "125/125 [==============================] - 0s 3ms/step - loss: 0.6188 - accuracy: 0.5482 - val_loss: 0.8131 - val_accuracy: 0.5330\n",
      "Epoch 95/100\n",
      "125/125 [==============================] - 0s 2ms/step - loss: 0.6186 - accuracy: 0.6035 - val_loss: 0.8549 - val_accuracy: 0.5160\n",
      "Epoch 96/100\n",
      "125/125 [==============================] - 0s 2ms/step - loss: 0.6120 - accuracy: 0.5738 - val_loss: 0.8856 - val_accuracy: 0.4880\n",
      "Epoch 97/100\n",
      "125/125 [==============================] - 0s 2ms/step - loss: 0.5963 - accuracy: 0.6000 - val_loss: 0.8472 - val_accuracy: 0.5040\n",
      "Epoch 98/100\n",
      "125/125 [==============================] - 0s 2ms/step - loss: 0.6068 - accuracy: 0.5862 - val_loss: 0.9209 - val_accuracy: 0.4960\n",
      "Epoch 99/100\n",
      "125/125 [==============================] - 0s 2ms/step - loss: 0.6108 - accuracy: 0.5982 - val_loss: 0.8540 - val_accuracy: 0.5570\n",
      "Epoch 100/100\n",
      "125/125 [==============================] - 0s 2ms/step - loss: 0.6086 - accuracy: 0.6079 - val_loss: 0.8860 - val_accuracy: 0.5300\n"
     ]
    }
   ],
   "source": [
    "model = build_model()\n",
    "history = model.fit(X_train, Y_train,\n",
    "                    epochs=100,\n",
    "                    validation_data=(X_valid, Y_valid),\n",
    "                    class_weight = class_weights\n",
    "                    )"
   ]
  },
  {
   "cell_type": "code",
   "execution_count": 59,
   "metadata": {},
   "outputs": [
    {
     "data": {
      "image/png": "[encoded data removed]",
      "text/plain": [
       "<Figure size 432x288 with 1 Axes>"
      ]
     },
     "metadata": {
      "needs_background": "light"
     },
     "output_type": "display_data"
    },
    {
     "data": {
      "image/png": "[encoded data removed]",
      "text/plain": [
       "<Figure size 432x288 with 1 Axes>"
      ]
     },
     "metadata": {
      "needs_background": "light"
     },
     "output_type": "display_data"
    }
   ],
   "source": [
    "loss_curve = history.history[\"loss\"]\n",
    "acc_curve = history.history[\"accuracy\"]\n",
    "\n",
    "val_loss_curve = history.history[\"val_loss\"]\n",
    "val_acc_curve = history.history[\"val_accuracy\"]\n",
    "\n",
    "plt.plot(loss_curve, label=\"Train set\")\n",
    "plt.plot(val_loss_curve, label=\"Validation set\")\n",
    "plt.legend(loc='upper right')\n",
    "plt.title(\"Loss\")\n",
    "plt.show()\n",
    "\n",
    "plt.plot(acc_curve, label=\"Train set\")\n",
    "plt.plot(val_acc_curve, label=\"Validation set\")\n",
    "plt.legend(loc='lower right')\n",
    "plt.title(\"Accuracy\")\n",
    "plt.show()"
   ]
  },
  {
   "cell_type": "code",
   "execution_count": 47,
   "metadata": {},
   "outputs": [],
   "source": [
    "# Pas le temps de finir, l'erreur vient peut être de la normalisation des int ou d'une faute\n",
    "# d'inattention, ce model devrait facilemment converger vu les données.\n",
    "# Aucune convergence, overfit complet du model."
   ]
  }
 ],
 "metadata": {
  "kernelspec": {
   "display_name": "Python [conda env:root] *",
   "language": "python",
   "name": "conda-root-py"
  },
  "language_info": {
   "codemirror_mode": {
    "name": "ipython",
    "version": 3
   },
   "file_extension": ".py",
   "mimetype": "text/x-python",
   "name": "python",
   "nbconvert_exporter": "python",
   "pygments_lexer": "ipython3",
   "version": "3.8.5"
  }
 },
 "nbformat": 4,
 "nbformat_minor": 4
}
