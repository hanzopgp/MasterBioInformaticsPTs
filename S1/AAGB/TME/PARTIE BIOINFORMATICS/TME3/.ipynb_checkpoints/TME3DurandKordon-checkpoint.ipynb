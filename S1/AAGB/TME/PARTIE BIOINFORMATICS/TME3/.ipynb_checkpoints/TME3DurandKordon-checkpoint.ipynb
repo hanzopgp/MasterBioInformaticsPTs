{
 "cells": [
  {
   "cell_type": "markdown",
   "metadata": {},
   "source": [
    "# Imports"
   ]
  },
  {
   "cell_type": "code",
   "execution_count": 1,
   "metadata": {},
   "outputs": [
    {
     "name": "stderr",
     "output_type": "stream",
     "text": [
      "C:\\Users\\karna\\anaconda3\\lib\\site-packages\\ete3-3.1.2-py3.7.egg\\ete3\\evol\\parser\\codemlparser.py:221: SyntaxWarning: \"is\" with a literal. Did you mean \"==\"?\n",
      "C:\\Users\\karna\\anaconda3\\lib\\site-packages\\ete3-3.1.2-py3.7.egg\\ete3\\evol\\parser\\codemlparser.py:221: SyntaxWarning: \"is\" with a literal. Did you mean \"==\"?\n"
     ]
    }
   ],
   "source": [
    "import numpy as np\n",
    "from ete3 import Tree"
   ]
  },
  {
   "cell_type": "markdown",
   "metadata": {},
   "source": [
    "# Variables"
   ]
  },
  {
   "cell_type": "code",
   "execution_count": 2,
   "metadata": {},
   "outputs": [],
   "source": [
    "step_matrix = np.array([[0, 3, 4, 9],\n",
    "                       [3, 0, 2, 4],\n",
    "                       [4, 2, 0, 4],\n",
    "                       [9, 4, 4, 0]])\n",
    "\n",
    "n_species = step_matrix.shape[0]\n",
    "\n",
    "# Ordre : A C G T\n",
    "dic1 = {\n",
    "          'Probopass':np.array([0,np.inf,np.inf,np.inf]),\n",
    "          'Aggron':np.array([np.inf,np.inf,np.inf,0]),\n",
    "          'Bastiodon':np.array([np.inf,np.inf,np.inf,0]),\n",
    "          'Regirock':np.array([np.inf,np.inf,0,np.inf]),\n",
    "          'Registeel':np.array([np.inf,np.inf,0,np.inf]),\n",
    "          'Regice':np.array([np.inf,np.inf,0,np.inf]),\n",
    "          'Klingklang':np.array([np.inf,np.inf,0,np.inf]),\n",
    "          'Metagross':np.array([np.inf,0,np.inf,np.inf]),\n",
    "          'Genesect':np.array([0,np.inf,np.inf,np.inf]),\n",
    "          'Porygon=Z':np.array([np.inf,0,np.inf,np.inf]),\n",
    "          'Magnezone':np.array([np.inf,0,np.inf,np.inf]),\n",
    "          'Forretress':np.array([np.inf,np.inf,np.inf,0]),\n",
    "          'Electrode':np.array([0,np.inf,np.inf,np.inf]),\n",
    "          'Ferrothorn':np.array([np.inf,np.inf,0,np.inf]),\n",
    "       }\n",
    "\n",
    "N1 = \"(((( Electrode , Magnezone) ,Porygon=Z) , (((( Aggron , Bastiodon ) , Forretress ) , Ferrothorn ) , ((((( Regirock , Regice ) , Registeel ) , Metagross ) , Klingklang ) , Genesect ))) , Probopass );\"\n",
    "N2 = \"((((( Regirock , Regice ) , Registeel ) , (( Metagross , Klingklang ) , Genesect )) , ((( Aggron , Bastiodon ) ,( Forretress , Ferrothorn )) , Probopass )) ,( Porygon=Z,( Magnezone , Electrode )));\""
   ]
  },
  {
   "cell_type": "markdown",
   "metadata": {},
   "source": [
    "# Trees"
   ]
  },
  {
   "cell_type": "markdown",
   "metadata": {},
   "source": [
    "<div>\n",
    "<img src=\"tree1.png\" width=\"500px\">\n",
    "<img src=\"tree2.png\" width=\"500px\">\n",
    "</div>"
   ]
  },
  {
   "cell_type": "markdown",
   "metadata": {},
   "source": [
    "# Sankoff algorithm"
   ]
  },
  {
   "cell_type": "code",
   "execution_count": 3,
   "metadata": {},
   "outputs": [
    {
     "name": "stdout",
     "output_type": "stream",
     "text": [
      "(((( Electrode , Magnezone) ,Porygon=Z) , (((( Aggron , Bastiodon ) , Forretress ) , Ferrothorn ) , ((((( Regirock , Regice ) , Registeel ) , Metagross ) , Klingklang ) , Genesect ))) , Probopass );\n",
      "\n",
      "            /-Electrode\n",
      "         /-|\n",
      "      /-|   \\-Magnezone\n",
      "     |  |\n",
      "     |   \\-Porygon=Z\n",
      "     |\n",
      "     |            /-Aggron\n",
      "     |         /-|\n",
      "     |      /-|   \\-Bastiodon\n",
      "   /-|     |  |\n",
      "  |  |   /-|   \\-Forretress\n",
      "  |  |  |  |\n",
      "  |  |  |   \\-Ferrothorn\n",
      "  |  |  |\n",
      "  |  |  |               /-Regirock\n",
      "  |  |  |            /-|\n",
      "  |   \\-|         /-|   \\-Regice\n",
      "--|     |        |  |\n",
      "  |     |      /-|   \\-Registeel\n",
      "  |     |     |  |\n",
      "  |     |   /-|   \\-Metagross\n",
      "  |     |  |  |\n",
      "  |      \\-|   \\-Klingklang\n",
      "  |        |\n",
      "  |         \\-Genesect\n",
      "  |\n",
      "   \\-Probopass\n"
     ]
    }
   ],
   "source": [
    "tree1 = Tree(N1)\n",
    "print(N1)\n",
    "print(tree1)"
   ]
  },
  {
   "cell_type": "code",
   "execution_count": 6,
   "metadata": {},
   "outputs": [],
   "source": [
    "def sankoff(tree):\n",
    "    tree = tree.replace(\" \",\"\")\n",
    "    tree = tree.replace(\";\",\"\")\n",
    "    new_tree = []\n",
    "    for i in range(len(tree)):\n",
    "        if tree[i] == \")\":\n",
    "            tmp_tree = tree[:i]\n",
    "            index_par = tmp_tree.rfind(\"(\")\n",
    "            tmp_tree = tmp_tree[index_par:]\n",
    "            tmp_tree = tmp_tree.replace(\"(\",\"\") \n",
    "            tmp_tree = tmp_tree.replace(\")\",\"\")\n",
    "            leaves = tmp_tree.split(\",\")\n",
    "            new_tree.append(leaves)   \n",
    "    visited = []\n",
    "    species = np.unique(np.concatenate(np.array(new_tree)).flatten())\n",
    "    print(np.array(new_tree)) # Probleme ici...\n",
    "    for i in range(len(new_tree)):\n",
    "        if len(new_tree[i]) == 2:\n",
    "            elt1 = new_tree[i][0]\n",
    "            elt2 = new_tree[i][1]\n",
    "            print(\"---------------------------------\")\n",
    "            print(new_tree[i])\n",
    "            print(\"on add\", elt1, \"et\", elt2)\n",
    "            new_ancester = add_ancester(elt1, elt2)\n",
    "            visited.append(new_ancester)\n",
    "        else:\n",
    "            print(\"---------------------------------\")\n",
    "            tmp_str = new_tree[i][0]\n",
    "            str_possible = []\n",
    "            for j in range(1, len(new_tree[i])-1):\n",
    "                tmp_str += \"-\" + new_tree[i][j]\n",
    "                str_possible.append(tmp_str)\n",
    "            str_possible.reverse() \n",
    "            if tmp_str in visited:\n",
    "                visited.remove(tmp_str)\n",
    "                del_elt = tmp_str.split(\"-\")\n",
    "                new_elt = new_tree[i].copy()\n",
    "                for elt in del_elt:\n",
    "                    new_elt.remove(elt)\n",
    "                print(new_tree[i])\n",
    "                print(\"on add\", tmp_str, \"et\", new_elt[0])\n",
    "                new_ancester = add_ancester(tmp_str, new_elt[0])\n",
    "                visited.append(new_ancester)\n",
    "            else:\n",
    "                print(\"c'est la qu'il faut fusionner les clusters\")\n",
    "    print(\"---------------------------------\")\n",
    "    print(\"c'est la qu'il faut fusionner les derniers clusters\")\n",
    "    \n",
    "def add_ancester(elt1, elt2):\n",
    "    new_ancester = elt1+\"-\"+elt2    \n",
    "    new_tab = compute_new_values(elt1,elt2)\n",
    "    dic1[new_ancester] = new_tab\n",
    "    return new_ancester\n",
    "    \n",
    "def compute_new_values(elt1,elt2):\n",
    "    new_tab = np.zeros((n_species))\n",
    "    val1 = dic1[elt1]\n",
    "    val2 = dic1[elt2]\n",
    "    for i in range(n_species):\n",
    "        val_letter = step_matrix[i]\n",
    "        new_tab[i] = np.min(val_letter+val1) + np.min(val_letter+val2)\n",
    "    return new_tab"
   ]
  },
  {
   "cell_type": "code",
   "execution_count": 7,
   "metadata": {},
   "outputs": [
    {
     "name": "stdout",
     "output_type": "stream",
     "text": [
      "[list(['Electrode', 'Magnezone'])\n",
      " list(['Electrode', 'Magnezone', 'Porygon=Z'])\n",
      " list(['Aggron', 'Bastiodon']) list(['Aggron', 'Bastiodon', 'Forretress'])\n",
      " list(['Aggron', 'Bastiodon', 'Forretress', 'Ferrothorn'])\n",
      " list(['Regirock', 'Regice']) list(['Regirock', 'Regice', 'Registeel'])\n",
      " list(['Regirock', 'Regice', 'Registeel', 'Metagross'])\n",
      " list(['Regirock', 'Regice', 'Registeel', 'Metagross', 'Klingklang'])\n",
      " list(['Regirock', 'Regice', 'Registeel', 'Metagross', 'Klingklang', 'Genesect'])\n",
      " list(['Regirock', 'Regice', 'Registeel', 'Metagross', 'Klingklang', 'Genesect'])\n",
      " list(['Regirock', 'Regice', 'Registeel', 'Metagross', 'Klingklang', 'Genesect'])\n",
      " list(['Regirock', 'Regice', 'Registeel', 'Metagross', 'Klingklang', 'Genesect', 'Probopass'])]\n",
      "---------------------------------\n",
      "['Electrode', 'Magnezone']\n",
      "on add Electrode et Magnezone\n",
      "---------------------------------\n",
      "['Electrode', 'Magnezone', 'Porygon=Z']\n",
      "on add Electrode-Magnezone et Porygon=Z\n",
      "---------------------------------\n",
      "['Aggron', 'Bastiodon']\n",
      "on add Aggron et Bastiodon\n",
      "---------------------------------\n",
      "['Aggron', 'Bastiodon', 'Forretress']\n",
      "on add Aggron-Bastiodon et Forretress\n",
      "---------------------------------\n",
      "['Aggron', 'Bastiodon', 'Forretress', 'Ferrothorn']\n",
      "on add Aggron-Bastiodon-Forretress et Ferrothorn\n",
      "---------------------------------\n",
      "['Regirock', 'Regice']\n",
      "on add Regirock et Regice\n",
      "---------------------------------\n",
      "['Regirock', 'Regice', 'Registeel']\n",
      "on add Regirock-Regice et Registeel\n",
      "---------------------------------\n",
      "['Regirock', 'Regice', 'Registeel', 'Metagross']\n",
      "on add Regirock-Regice-Registeel et Metagross\n",
      "---------------------------------\n",
      "['Regirock', 'Regice', 'Registeel', 'Metagross', 'Klingklang']\n",
      "on add Regirock-Regice-Registeel-Metagross et Klingklang\n",
      "---------------------------------\n",
      "['Regirock', 'Regice', 'Registeel', 'Metagross', 'Klingklang', 'Genesect']\n",
      "on add Regirock-Regice-Registeel-Metagross-Klingklang et Genesect\n",
      "---------------------------------\n",
      "c'est la qu'il faut fusionner les clusters\n",
      "---------------------------------\n",
      "c'est la qu'il faut fusionner les clusters\n",
      "---------------------------------\n",
      "['Regirock', 'Regice', 'Registeel', 'Metagross', 'Klingklang', 'Genesect', 'Probopass']\n",
      "on add Regirock-Regice-Registeel-Metagross-Klingklang-Genesect et Probopass\n",
      "---------------------------------\n",
      "c'est la qu'il faut fusionner les derniers clusters\n"
     ]
    },
    {
     "name": "stderr",
     "output_type": "stream",
     "text": [
      "<ipython-input-6-f40c4faa95cc>:15: VisibleDeprecationWarning: Creating an ndarray from ragged nested sequences (which is a list-or-tuple of lists-or-tuples-or ndarrays with different lengths or shapes) is deprecated. If you meant to do this, you must specify 'dtype=object' when creating the ndarray\n",
      "  species = np.unique(np.concatenate(np.array(new_tree)).flatten())\n",
      "<ipython-input-6-f40c4faa95cc>:16: VisibleDeprecationWarning: Creating an ndarray from ragged nested sequences (which is a list-or-tuple of lists-or-tuples-or ndarrays with different lengths or shapes) is deprecated. If you meant to do this, you must specify 'dtype=object' when creating the ndarray\n",
      "  print(np.array(new_tree))\n"
     ]
    }
   ],
   "source": [
    "sankoff(N1)\n",
    "# print(dic1)"
   ]
  },
  {
   "cell_type": "code",
   "execution_count": null,
   "metadata": {},
   "outputs": [],
   "source": []
  },
  {
   "cell_type": "code",
   "execution_count": null,
   "metadata": {},
   "outputs": [],
   "source": []
  }
 ],
 "metadata": {
  "kernelspec": {
   "display_name": "Python [conda env:root] *",
   "language": "python",
   "name": "conda-root-py"
  },
  "language_info": {
   "codemirror_mode": {
    "name": "ipython",
    "version": 3
   },
   "file_extension": ".py",
   "mimetype": "text/x-python",
   "name": "python",
   "nbconvert_exporter": "python",
   "pygments_lexer": "ipython3",
   "version": "3.8.5"
  }
 },
 "nbformat": 4,
 "nbformat_minor": 4
}
