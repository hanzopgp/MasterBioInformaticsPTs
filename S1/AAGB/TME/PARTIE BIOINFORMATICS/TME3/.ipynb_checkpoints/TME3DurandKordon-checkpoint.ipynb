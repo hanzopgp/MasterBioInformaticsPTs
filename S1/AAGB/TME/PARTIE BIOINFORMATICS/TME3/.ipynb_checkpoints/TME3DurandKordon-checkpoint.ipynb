{
 "cells": [
  {
   "cell_type": "code",
   "execution_count": null,
   "metadata": {},
   "outputs": [],
   "source": [
    "StepMatrix = [[0, 3, 4, 9],\n",
    "        [3, 0, 2, 4],\n",
    "        [4, 2, 0, 4],\n",
    "        [9, 4, 4, 0]]"
   ]
  }
 ],
 "metadata": {
  "kernelspec": {
   "display_name": "Python [conda env:root] *",
   "language": "python",
   "name": "conda-root-py"
  },
  "language_info": {
   "codemirror_mode": {
    "name": "ipython",
    "version": 3
   },
   "file_extension": ".py",
   "mimetype": "text/x-python",
   "name": "python",
   "nbconvert_exporter": "python",
   "pygments_lexer": "ipython3",
   "version": "3.8.5"
  }
 },
 "nbformat": 4,
 "nbformat_minor": 4
}
