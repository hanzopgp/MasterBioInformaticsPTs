{
 "cells": [
  {
   "cell_type": "markdown",
   "metadata": {},
   "source": [
    "# Imports"
   ]
  },
  {
   "cell_type": "code",
   "execution_count": 1,
   "metadata": {},
   "outputs": [
    {
     "name": "stderr",
     "output_type": "stream",
     "text": [
      "C:\\Users\\karna\\anaconda3\\lib\\site-packages\\ete3-3.1.2-py3.7.egg\\ete3\\evol\\parser\\codemlparser.py:221: SyntaxWarning: \"is\" with a literal. Did you mean \"==\"?\n",
      "C:\\Users\\karna\\anaconda3\\lib\\site-packages\\ete3-3.1.2-py3.7.egg\\ete3\\evol\\parser\\codemlparser.py:221: SyntaxWarning: \"is\" with a literal. Did you mean \"==\"?\n"
     ]
    }
   ],
   "source": [
    "import numpy as np\n",
    "from ete3 import Tree"
   ]
  },
  {
   "cell_type": "markdown",
   "metadata": {},
   "source": [
    "# Variables"
   ]
  },
  {
   "cell_type": "code",
   "execution_count": 2,
   "metadata": {},
   "outputs": [],
   "source": [
    "step_matrix = np.array([[0, 3, 4, 9],\n",
    "                       [3, 0, 2, 4],\n",
    "                       [4, 2, 0, 4],\n",
    "                       [9, 4, 4, 0]])\n",
    "\n",
    "n_species = step_matrix.shape[0]\n",
    "\n",
    "# Ordre : A C G T\n",
    "dic1 = {\n",
    "          'Probopass':np.array([0,np.inf,np.inf,np.inf]),\n",
    "          'Aggron':np.array([np.inf,np.inf,np.inf,0]),\n",
    "          'Bastiodon':np.array([np.inf,np.inf,np.inf,0]),\n",
    "          'Regirock':np.array([np.inf,np.inf,0,np.inf]),\n",
    "          'Registeel':np.array([np.inf,np.inf,0,np.inf]),\n",
    "          'Regice':np.array([np.inf,np.inf,0,np.inf]),\n",
    "          'Klingklang':np.array([np.inf,np.inf,0,np.inf]),\n",
    "          'Metagross':np.array([np.inf,0,np.inf,np.inf]),\n",
    "          'Genesect':np.array([0,np.inf,np.inf,np.inf]),\n",
    "          'Porygon=Z':np.array([np.inf,0,np.inf,np.inf]),\n",
    "          'Magnezone':np.array([np.inf,0,np.inf,np.inf]),\n",
    "          'Forretress':np.array([np.inf,np.inf,np.inf,0]),\n",
    "          'Electrode':np.array([0,np.inf,np.inf,np.inf]),\n",
    "          'Ferrothorn':np.array([np.inf,np.inf,0,np.inf]),\n",
    "       }\n",
    "\n",
    "N1 = \"(((( Electrode , Magnezone) ,Porygon=Z) , (((( Aggron , Bastiodon ) , Forretress ) , Ferrothorn ) , ((((( Regirock , Regice ) , Registeel ) , Metagross ) , Klingklang ) , Genesect ))) , Probopass );\"\n",
    "N2 = \"((((( Regirock , Regice ) , Registeel ) , (( Metagross , Klingklang ) , Genesect )) , ((( Aggron , Bastiodon ) ,( Forretress , Ferrothorn )) , Probopass )) ,( Porygon=Z,( Magnezone , Electrode )));\""
   ]
  },
  {
   "cell_type": "markdown",
   "metadata": {},
   "source": [
    "# Trees"
   ]
  },
  {
   "cell_type": "markdown",
   "metadata": {},
   "source": [
    "<div>\n",
    "<img src=\"tree1.png\" width=\"500px\">\n",
    "<img src=\"tree2.png\" width=\"500px\">\n",
    "</div>"
   ]
  },
  {
   "cell_type": "markdown",
   "metadata": {},
   "source": [
    "# Sankoff algorithm"
   ]
  },
  {
   "cell_type": "code",
   "execution_count": 3,
   "metadata": {},
   "outputs": [
    {
     "name": "stdout",
     "output_type": "stream",
     "text": [
      "(((( Electrode , Magnezone) ,Porygon=Z) , (((( Aggron , Bastiodon ) , Forretress ) , Ferrothorn ) , ((((( Regirock , Regice ) , Registeel ) , Metagross ) , Klingklang ) , Genesect ))) , Probopass );\n",
      "\n",
      "            /-Electrode\n",
      "         /-|\n",
      "      /-|   \\-Magnezone\n",
      "     |  |\n",
      "     |   \\-Porygon=Z\n",
      "     |\n",
      "     |            /-Aggron\n",
      "     |         /-|\n",
      "     |      /-|   \\-Bastiodon\n",
      "   /-|     |  |\n",
      "  |  |   /-|   \\-Forretress\n",
      "  |  |  |  |\n",
      "  |  |  |   \\-Ferrothorn\n",
      "  |  |  |\n",
      "  |  |  |               /-Regirock\n",
      "  |  |  |            /-|\n",
      "  |   \\-|         /-|   \\-Regice\n",
      "--|     |        |  |\n",
      "  |     |      /-|   \\-Registeel\n",
      "  |     |     |  |\n",
      "  |     |   /-|   \\-Metagross\n",
      "  |     |  |  |\n",
      "  |      \\-|   \\-Klingklang\n",
      "  |        |\n",
      "  |         \\-Genesect\n",
      "  |\n",
      "   \\-Probopass\n"
     ]
    }
   ],
   "source": [
    "tree1 = Tree(N1)\n",
    "print(N1)\n",
    "print(tree1)"
   ]
  },
  {
   "cell_type": "code",
   "execution_count": 217,
   "metadata": {},
   "outputs": [],
   "source": [
    "def sankoff(tree):\n",
    "    tree = tree.replace(\" \",\"\")\n",
    "    tree = tree.replace(\";\",\"\")\n",
    "    split_tree = tree.split(\",\")\n",
    "    species = []\n",
    "    for elt in split_tree:\n",
    "        elt = elt.replace(\"(\",\"\") \n",
    "        elt = elt.replace(\")\",\"\")\n",
    "        species.append(elt)\n",
    "    index = 0\n",
    "    n_parenthesis = 0\n",
    "    for char in tree:\n",
    "        \n",
    "        if char == \"(\":\n",
    "#             print(n_parenthesis)\n",
    "            n_parenthesis += 1\n",
    "        elif char == \")\":  \n",
    "            print(n_parenthesis)\n",
    "            print(tree)\n",
    "            print(species)\n",
    "            print(species[index])\n",
    "            print(species[index+1])\n",
    "            print(\"============\")\n",
    "            n_parenthesis -= 1\n",
    "            tmp_ancester = add_ancester(species[index], species[index+1])\n",
    "            species.remove(species[index])\n",
    "            species.remove(species[index])\n",
    "            species.insert(index, tmp_ancester)\n",
    "\n",
    "def add_ancester(elt1, elt2):\n",
    "    new_ancester = elt1+\"-\"+elt2    \n",
    "    new_tab = compute_new_values(elt1,elt2)\n",
    "    dic1[new_ancester] = new_tab\n",
    "    return new_ancester\n",
    "    \n",
    "def compute_new_values(elt1,elt2):\n",
    "    new_tab = np.zeros((n_species))\n",
    "    val1 = dic1[elt1]\n",
    "    val2 = dic1[elt2]\n",
    "    for i in range(n_species):\n",
    "        val_letter = step_matrix[i]\n",
    "        new_tab[i] = np.min(val_letter+val1) + np.min(val_letter+val2)\n",
    "    return new_tab"
   ]
  },
  {
   "cell_type": "code",
   "execution_count": 218,
   "metadata": {},
   "outputs": [
    {
     "name": "stdout",
     "output_type": "stream",
     "text": [
      "4\n",
      "((((Electrode,Magnezone),Porygon=Z),((((Aggron,Bastiodon),Forretress),Ferrothorn),(((((Regirock,Regice),Registeel),Metagross),Klingklang),Genesect))),Probopass)\n",
      "['Electrode', 'Magnezone', 'Porygon=Z', 'Aggron', 'Bastiodon', 'Forretress', 'Ferrothorn', 'Regirock', 'Regice', 'Registeel', 'Metagross', 'Klingklang', 'Genesect', 'Probopass']\n",
      "Electrode\n",
      "Magnezone\n",
      "============\n",
      "3\n",
      "((((Electrode,Magnezone),Porygon=Z),((((Aggron,Bastiodon),Forretress),Ferrothorn),(((((Regirock,Regice),Registeel),Metagross),Klingklang),Genesect))),Probopass)\n",
      "['Electrode-Magnezone', 'Porygon=Z', 'Aggron', 'Bastiodon', 'Forretress', 'Ferrothorn', 'Regirock', 'Regice', 'Registeel', 'Metagross', 'Klingklang', 'Genesect', 'Probopass']\n",
      "Electrode-Magnezone\n",
      "Porygon=Z\n",
      "============\n",
      "6\n",
      "((((Electrode,Magnezone),Porygon=Z),((((Aggron,Bastiodon),Forretress),Ferrothorn),(((((Regirock,Regice),Registeel),Metagross),Klingklang),Genesect))),Probopass)\n",
      "['Electrode-Magnezone-Porygon=Z', 'Aggron', 'Bastiodon', 'Forretress', 'Ferrothorn', 'Regirock', 'Regice', 'Registeel', 'Metagross', 'Klingklang', 'Genesect', 'Probopass']\n",
      "Electrode-Magnezone-Porygon=Z\n",
      "Aggron\n",
      "============\n",
      "5\n",
      "((((Electrode,Magnezone),Porygon=Z),((((Aggron,Bastiodon),Forretress),Ferrothorn),(((((Regirock,Regice),Registeel),Metagross),Klingklang),Genesect))),Probopass)\n",
      "['Electrode-Magnezone-Porygon=Z-Aggron', 'Bastiodon', 'Forretress', 'Ferrothorn', 'Regirock', 'Regice', 'Registeel', 'Metagross', 'Klingklang', 'Genesect', 'Probopass']\n",
      "Electrode-Magnezone-Porygon=Z-Aggron\n",
      "Bastiodon\n",
      "============\n",
      "4\n",
      "((((Electrode,Magnezone),Porygon=Z),((((Aggron,Bastiodon),Forretress),Ferrothorn),(((((Regirock,Regice),Registeel),Metagross),Klingklang),Genesect))),Probopass)\n",
      "['Electrode-Magnezone-Porygon=Z-Aggron-Bastiodon', 'Forretress', 'Ferrothorn', 'Regirock', 'Regice', 'Registeel', 'Metagross', 'Klingklang', 'Genesect', 'Probopass']\n",
      "Electrode-Magnezone-Porygon=Z-Aggron-Bastiodon\n",
      "Forretress\n",
      "============\n",
      "8\n",
      "((((Electrode,Magnezone),Porygon=Z),((((Aggron,Bastiodon),Forretress),Ferrothorn),(((((Regirock,Regice),Registeel),Metagross),Klingklang),Genesect))),Probopass)\n",
      "['Electrode-Magnezone-Porygon=Z-Aggron-Bastiodon-Forretress', 'Ferrothorn', 'Regirock', 'Regice', 'Registeel', 'Metagross', 'Klingklang', 'Genesect', 'Probopass']\n",
      "Electrode-Magnezone-Porygon=Z-Aggron-Bastiodon-Forretress\n",
      "Ferrothorn\n",
      "============\n",
      "7\n",
      "((((Electrode,Magnezone),Porygon=Z),((((Aggron,Bastiodon),Forretress),Ferrothorn),(((((Regirock,Regice),Registeel),Metagross),Klingklang),Genesect))),Probopass)\n",
      "['Electrode-Magnezone-Porygon=Z-Aggron-Bastiodon-Forretress-Ferrothorn', 'Regirock', 'Regice', 'Registeel', 'Metagross', 'Klingklang', 'Genesect', 'Probopass']\n",
      "Electrode-Magnezone-Porygon=Z-Aggron-Bastiodon-Forretress-Ferrothorn\n",
      "Regirock\n",
      "============\n",
      "6\n",
      "((((Electrode,Magnezone),Porygon=Z),((((Aggron,Bastiodon),Forretress),Ferrothorn),(((((Regirock,Regice),Registeel),Metagross),Klingklang),Genesect))),Probopass)\n",
      "['Electrode-Magnezone-Porygon=Z-Aggron-Bastiodon-Forretress-Ferrothorn-Regirock', 'Regice', 'Registeel', 'Metagross', 'Klingklang', 'Genesect', 'Probopass']\n",
      "Electrode-Magnezone-Porygon=Z-Aggron-Bastiodon-Forretress-Ferrothorn-Regirock\n",
      "Regice\n",
      "============\n",
      "5\n",
      "((((Electrode,Magnezone),Porygon=Z),((((Aggron,Bastiodon),Forretress),Ferrothorn),(((((Regirock,Regice),Registeel),Metagross),Klingklang),Genesect))),Probopass)\n",
      "['Electrode-Magnezone-Porygon=Z-Aggron-Bastiodon-Forretress-Ferrothorn-Regirock-Regice', 'Registeel', 'Metagross', 'Klingklang', 'Genesect', 'Probopass']\n",
      "Electrode-Magnezone-Porygon=Z-Aggron-Bastiodon-Forretress-Ferrothorn-Regirock-Regice\n",
      "Registeel\n",
      "============\n",
      "4\n",
      "((((Electrode,Magnezone),Porygon=Z),((((Aggron,Bastiodon),Forretress),Ferrothorn),(((((Regirock,Regice),Registeel),Metagross),Klingklang),Genesect))),Probopass)\n",
      "['Electrode-Magnezone-Porygon=Z-Aggron-Bastiodon-Forretress-Ferrothorn-Regirock-Regice-Registeel', 'Metagross', 'Klingklang', 'Genesect', 'Probopass']\n",
      "Electrode-Magnezone-Porygon=Z-Aggron-Bastiodon-Forretress-Ferrothorn-Regirock-Regice-Registeel\n",
      "Metagross\n",
      "============\n",
      "3\n",
      "((((Electrode,Magnezone),Porygon=Z),((((Aggron,Bastiodon),Forretress),Ferrothorn),(((((Regirock,Regice),Registeel),Metagross),Klingklang),Genesect))),Probopass)\n",
      "['Electrode-Magnezone-Porygon=Z-Aggron-Bastiodon-Forretress-Ferrothorn-Regirock-Regice-Registeel-Metagross', 'Klingklang', 'Genesect', 'Probopass']\n",
      "Electrode-Magnezone-Porygon=Z-Aggron-Bastiodon-Forretress-Ferrothorn-Regirock-Regice-Registeel-Metagross\n",
      "Klingklang\n",
      "============\n",
      "2\n",
      "((((Electrode,Magnezone),Porygon=Z),((((Aggron,Bastiodon),Forretress),Ferrothorn),(((((Regirock,Regice),Registeel),Metagross),Klingklang),Genesect))),Probopass)\n",
      "['Electrode-Magnezone-Porygon=Z-Aggron-Bastiodon-Forretress-Ferrothorn-Regirock-Regice-Registeel-Metagross-Klingklang', 'Genesect', 'Probopass']\n",
      "Electrode-Magnezone-Porygon=Z-Aggron-Bastiodon-Forretress-Ferrothorn-Regirock-Regice-Registeel-Metagross-Klingklang\n",
      "Genesect\n",
      "============\n",
      "1\n",
      "((((Electrode,Magnezone),Porygon=Z),((((Aggron,Bastiodon),Forretress),Ferrothorn),(((((Regirock,Regice),Registeel),Metagross),Klingklang),Genesect))),Probopass)\n",
      "['Electrode-Magnezone-Porygon=Z-Aggron-Bastiodon-Forretress-Ferrothorn-Regirock-Regice-Registeel-Metagross-Klingklang-Genesect', 'Probopass']\n",
      "Electrode-Magnezone-Porygon=Z-Aggron-Bastiodon-Forretress-Ferrothorn-Regirock-Regice-Registeel-Metagross-Klingklang-Genesect\n",
      "Probopass\n",
      "============\n"
     ]
    }
   ],
   "source": [
    "sankoff(N1)"
   ]
  },
  {
   "cell_type": "code",
   "execution_count": null,
   "metadata": {},
   "outputs": [],
   "source": []
  },
  {
   "cell_type": "code",
   "execution_count": null,
   "metadata": {},
   "outputs": [],
   "source": []
  }
 ],
 "metadata": {
  "kernelspec": {
   "display_name": "Python [conda env:root] *",
   "language": "python",
   "name": "conda-root-py"
  },
  "language_info": {
   "codemirror_mode": {
    "name": "ipython",
    "version": 3
   },
   "file_extension": ".py",
   "mimetype": "text/x-python",
   "name": "python",
   "nbconvert_exporter": "python",
   "pygments_lexer": "ipython3",
   "version": "3.8.5"
  }
 },
 "nbformat": 4,
 "nbformat_minor": 4
}
