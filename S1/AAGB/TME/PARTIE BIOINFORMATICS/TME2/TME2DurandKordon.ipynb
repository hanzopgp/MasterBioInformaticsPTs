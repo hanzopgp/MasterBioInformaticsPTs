{
 "cells": [
  {
   "cell_type": "markdown",
   "metadata": {},
   "source": [
    "# Import"
   ]
  },
  {
   "cell_type": "code",
   "execution_count": 1,
   "metadata": {},
   "outputs": [],
   "source": [
    "import numpy as np"
   ]
  },
  {
   "cell_type": "markdown",
   "metadata": {},
   "source": [
    "# 1. UPGMA :"
   ]
  },
  {
   "cell_type": "markdown",
   "metadata": {},
   "source": [
    "# Variables"
   ]
  },
  {
   "cell_type": "code",
   "execution_count": 2,
   "metadata": {},
   "outputs": [],
   "source": [
    "                            #A,B,C,D,E,F  \n",
    "distance_matrix = np.array([[0,6,4,6,8,4], #A\n",
    "                            [6,0,6,4,8,6], #B\n",
    "                            [4,6,0,6,8,2], #C\n",
    "                            [6,4,6,0,8,6], #D\n",
    "                            [8,8,8,8,0,8], #E\n",
    "                            [4,6,2,6,8,0]])#F"
   ]
  },
  {
   "cell_type": "code",
   "execution_count": 3,
   "metadata": {},
   "outputs": [],
   "source": [
    "class Tree:\n",
    "    def __init__(self):\n",
    "        self.left = None\n",
    "        self.right = None\n",
    "        self.species1 = \"\"\n",
    "        self.species2 = \"\"\n",
    "        self.distance = 0\n",
    "    def add_nodes(self, min_v, v1, v2):\n",
    "        self.left = Tree()\n",
    "        self.right = Tree()\n",
    "        self.name = v1+v2\n",
    "        self.species1 = v1\n",
    "        self.species2 = v2\n",
    "        self.distance = min_v\n",
    "    def display_tree(self, node):\n",
    "        if node is not None:\n",
    "            print(\"   __\")\n",
    "            print(\"  |  |\")\n",
    "            print(node.distance, \"|  |\", node.distance)\n",
    "            print(\"  |  |\")\n",
    "            print(\" \", node.species1, \"\", node.species2)\n",
    "            if node.left is not None:\n",
    "                self.display_tree(self.left)\n",
    "            if node.right is not None:\n",
    "                self.display_tree(self.right)"
   ]
  },
  {
   "cell_type": "code",
   "execution_count": 4,
   "metadata": {},
   "outputs": [],
   "source": [
    "def upgma_loop(distance_matrix, dic):\n",
    "    cpt = 1\n",
    "    while distance_matrix.shape[0] > 3:\n",
    "        print(\"======================== Nombre d'itération :\", cpt,\"========================\")\n",
    "        display_distance_matrix(distance_matrix, dic)\n",
    "        print(\"\\nDictionnaire :\\n\", dic)\n",
    "        distance_matrix, dic = upgma(distance_matrix, dic)\n",
    "        cpt += 1\n",
    "    return distance_matrix, dic\n",
    "\n",
    "def upgma(distance_matrix, dic):\n",
    "    tree = Tree()\n",
    "    min_v, v1, v2 = get_min_v(distance_matrix, dic)\n",
    "    print('v1',v1)\n",
    "    print(\"v2\",v2)\n",
    "    tree.add_nodes(min_v, v1, v2)\n",
    "    distance_matrix_u = update_distance_matrix(distance_matrix, v1, v2, dic)\n",
    "    distance_matrix_u = distance_matrix_u.astype(int)\n",
    "    dic_u = update_dic(dic, v1, v2)\n",
    "    return distance_matrix_u, dic_u\n",
    "\n",
    "def get_min_v(distance_matrix, dic):\n",
    "    n,m = distance_matrix.shape\n",
    "    min_v = np.inf\n",
    "    for i in range(n):\n",
    "        for j in range(m):\n",
    "            if i != j: # Ignore diagonal\n",
    "                if min_v > distance_matrix[i][j]:\n",
    "                    min_v = distance_matrix[i][j]\n",
    "                    index_v1 = i\n",
    "                    index_v2 = j\n",
    "    return min_v, dic[index_v1], dic[index_v2]\n",
    "\n",
    "def update_dic(dic, v1, v2):\n",
    "    new_val = v1+v2\n",
    "    dic_u = {}\n",
    "    n = len(dic) - 1\n",
    "    for i in range(n):\n",
    "        if chr(i+65) != v1 and chr(i+65) != v2:\n",
    "            keys = [chr(i+65) for i in range(n)]\n",
    "            dic_u[i] = keys[i]\n",
    "    dic_u[n] = new_val\n",
    "    return dic_u\n",
    "\n",
    "def update_distance_matrix(distance_matrix, v1, v2, dic):\n",
    "    k1 = [k for k, v in dic.items() if v == v1][0]\n",
    "    distance_matrix_u = np.delete(distance_matrix, k1, 0)   # Delete ligne à l'indice k1 correspondant à v1\n",
    "    distance_matrix_u = np.delete(distance_matrix_u, k1, 1) # Delete colonne à l'indice k1 correspondant à v1\n",
    "    new_distances = compute_new_distances(distance_matrix, v1, v2, dic)\n",
    "    distance_matrix_u[-1] = new_distances                   # Ajout des valeurs calculées sur la derniere ligne\n",
    "    distance_matrix_u[:,-1] = new_distances.T               # et la derniere colonne correspondant à {v1,v2}\n",
    "    return distance_matrix_u\n",
    "\n",
    "def compute_new_distances(distance_matrix, v1, v2, dic):\n",
    "    n = distance_matrix.shape[0]\n",
    "    new_distances = np.zeros((n-1))\n",
    "    k1 = [k for k, v in dic.items() if v == v1][0]\n",
    "    k2 = [k for k, v in dic.items() if v == v2][0]\n",
    "    decal = 0\n",
    "    for i in range(n-1):\n",
    "        if i == k1 or i == k2: # Si on est sur une ligne de v1 on doit decaler\n",
    "            decal += 1\n",
    "            decal = True\n",
    "            new_distances[i] = (distance_matrix[i+decal][k1] + distance_matrix[i+decal][k2]) / 2\n",
    "        elif decal == True:    # Si on est pas sur une ligne mais qu'on a fait un decalager on doit decaler\n",
    "            new_distances[i] = (distance_matrix[i+decal][k1] + distance_matrix[i+decal][k2]) / 2\n",
    "        else:                  # Autrement on fait la distance normale\n",
    "            new_distances[i] = (distance_matrix[i][k1] + distance_matrix[i][k2]) / 2\n",
    "    new_distances[-1] = 0      # Remise à 0 de la diagonal\n",
    "    return new_distances\n",
    "\n",
    "def display_distance_matrix(distance_matrix, dic):\n",
    "    print(\"Distance matrix :\\n\")\n",
    "    n,m = distance_matrix.shape\n",
    "    for val in dic.values():\n",
    "        print(\"\",val, end=\"\")\n",
    "    print(\"\")\n",
    "    for i,val in enumerate(dic.values()):\n",
    "        for j in range(m):\n",
    "            print(\"\", distance_matrix[i][j], end=\"\")\n",
    "        print(\"\", val)\n",
    "\n",
    "def get_dict(distance_matrix):\n",
    "    dic = {}\n",
    "    n = distance_matrix.shape[0]\n",
    "    keys = [chr(i+65) for i in range(n)]\n",
    "    values = [i for i in range(n)]\n",
    "    for i in range(n):\n",
    "        dic[values[i]] = keys[i]\n",
    "    return dic"
   ]
  },
  {
   "cell_type": "code",
   "execution_count": 5,
   "metadata": {},
   "outputs": [
    {
     "name": "stdout",
     "output_type": "stream",
     "text": [
      "======================== Nombre d'itération : 1 ========================\n",
      "Distance matrix :\n",
      "\n",
      " A B C D E F\n",
      " 0 6 4 6 8 4 A\n",
      " 6 0 6 4 8 6 B\n",
      " 4 6 0 6 8 2 C\n",
      " 6 4 6 0 8 6 D\n",
      " 8 8 8 8 0 8 E\n",
      " 4 6 2 6 8 0 F\n",
      "\n",
      "Dictionnaire :\n",
      " {0: 'A', 1: 'B', 2: 'C', 3: 'D', 4: 'E', 5: 'F'}\n",
      "v1 C\n",
      "v2 F\n",
      "======================== Nombre d'itération : 2 ========================\n",
      "Distance matrix :\n",
      "\n",
      " A B D E CF\n",
      " 0 6 6 8 4 A\n",
      " 6 0 4 8 6 B\n",
      " 6 4 0 8 6 D\n",
      " 8 8 8 0 8 E\n",
      " 4 6 6 8 0 CF\n",
      "\n",
      "Dictionnaire :\n",
      " {0: 'A', 1: 'B', 3: 'D', 4: 'E', 5: 'CF'}\n",
      "v1 A\n",
      "v2 E\n",
      "======================== Nombre d'itération : 3 ========================\n",
      "Distance matrix :\n",
      "\n",
      " B C D AE\n",
      " 0 4 8 6 B\n",
      " 4 0 8 6 C\n",
      " 8 8 0 8 D\n",
      " 6 6 8 0 AE\n",
      "\n",
      "Dictionnaire :\n",
      " {1: 'B', 2: 'C', 3: 'D', 4: 'AE'}\n"
     ]
    },
    {
     "ename": "KeyError",
     "evalue": "0",
     "output_type": "error",
     "traceback": [
      "\u001b[1;31m---------------------------------------------------------------------------\u001b[0m",
      "\u001b[1;31mKeyError\u001b[0m                                  Traceback (most recent call last)",
      "\u001b[1;32m<ipython-input-5-6d5067781f59>\u001b[0m in \u001b[0;36m<module>\u001b[1;34m\u001b[0m\n\u001b[0;32m      4\u001b[0m \u001b[1;31m# display_distance_matrix(distance_matrix_u, dic_u)\u001b[0m\u001b[1;33m\u001b[0m\u001b[1;33m\u001b[0m\u001b[1;33m\u001b[0m\u001b[0m\n\u001b[0;32m      5\u001b[0m \u001b[1;33m\u001b[0m\u001b[0m\n\u001b[1;32m----> 6\u001b[1;33m \u001b[0mdistance_matrix_final\u001b[0m\u001b[1;33m,\u001b[0m \u001b[0mdic_final\u001b[0m \u001b[1;33m=\u001b[0m \u001b[0mupgma_loop\u001b[0m\u001b[1;33m(\u001b[0m\u001b[0mdistance_matrix\u001b[0m\u001b[1;33m,\u001b[0m \u001b[0mdic\u001b[0m\u001b[1;33m)\u001b[0m\u001b[1;33m\u001b[0m\u001b[1;33m\u001b[0m\u001b[0m\n\u001b[0m",
      "\u001b[1;32m<ipython-input-4-29c0226a7879>\u001b[0m in \u001b[0;36mupgma_loop\u001b[1;34m(distance_matrix, dic)\u001b[0m\n\u001b[0;32m      5\u001b[0m         \u001b[0mdisplay_distance_matrix\u001b[0m\u001b[1;33m(\u001b[0m\u001b[0mdistance_matrix\u001b[0m\u001b[1;33m,\u001b[0m \u001b[0mdic\u001b[0m\u001b[1;33m)\u001b[0m\u001b[1;33m\u001b[0m\u001b[1;33m\u001b[0m\u001b[0m\n\u001b[0;32m      6\u001b[0m         \u001b[0mprint\u001b[0m\u001b[1;33m(\u001b[0m\u001b[1;34m\"\\nDictionnaire :\\n\"\u001b[0m\u001b[1;33m,\u001b[0m \u001b[0mdic\u001b[0m\u001b[1;33m)\u001b[0m\u001b[1;33m\u001b[0m\u001b[1;33m\u001b[0m\u001b[0m\n\u001b[1;32m----> 7\u001b[1;33m         \u001b[0mdistance_matrix\u001b[0m\u001b[1;33m,\u001b[0m \u001b[0mdic\u001b[0m \u001b[1;33m=\u001b[0m \u001b[0mupgma\u001b[0m\u001b[1;33m(\u001b[0m\u001b[0mdistance_matrix\u001b[0m\u001b[1;33m,\u001b[0m \u001b[0mdic\u001b[0m\u001b[1;33m)\u001b[0m\u001b[1;33m\u001b[0m\u001b[1;33m\u001b[0m\u001b[0m\n\u001b[0m\u001b[0;32m      8\u001b[0m         \u001b[0mcpt\u001b[0m \u001b[1;33m+=\u001b[0m \u001b[1;36m1\u001b[0m\u001b[1;33m\u001b[0m\u001b[1;33m\u001b[0m\u001b[0m\n\u001b[0;32m      9\u001b[0m     \u001b[1;32mreturn\u001b[0m \u001b[0mdistance_matrix\u001b[0m\u001b[1;33m,\u001b[0m \u001b[0mdic\u001b[0m\u001b[1;33m\u001b[0m\u001b[1;33m\u001b[0m\u001b[0m\n",
      "\u001b[1;32m<ipython-input-4-29c0226a7879>\u001b[0m in \u001b[0;36mupgma\u001b[1;34m(distance_matrix, dic)\u001b[0m\n\u001b[0;32m     11\u001b[0m \u001b[1;32mdef\u001b[0m \u001b[0mupgma\u001b[0m\u001b[1;33m(\u001b[0m\u001b[0mdistance_matrix\u001b[0m\u001b[1;33m,\u001b[0m \u001b[0mdic\u001b[0m\u001b[1;33m)\u001b[0m\u001b[1;33m:\u001b[0m\u001b[1;33m\u001b[0m\u001b[1;33m\u001b[0m\u001b[0m\n\u001b[0;32m     12\u001b[0m     \u001b[0mtree\u001b[0m \u001b[1;33m=\u001b[0m \u001b[0mTree\u001b[0m\u001b[1;33m(\u001b[0m\u001b[1;33m)\u001b[0m\u001b[1;33m\u001b[0m\u001b[1;33m\u001b[0m\u001b[0m\n\u001b[1;32m---> 13\u001b[1;33m     \u001b[0mmin_v\u001b[0m\u001b[1;33m,\u001b[0m \u001b[0mv1\u001b[0m\u001b[1;33m,\u001b[0m \u001b[0mv2\u001b[0m \u001b[1;33m=\u001b[0m \u001b[0mget_min_v\u001b[0m\u001b[1;33m(\u001b[0m\u001b[0mdistance_matrix\u001b[0m\u001b[1;33m,\u001b[0m \u001b[0mdic\u001b[0m\u001b[1;33m)\u001b[0m\u001b[1;33m\u001b[0m\u001b[1;33m\u001b[0m\u001b[0m\n\u001b[0m\u001b[0;32m     14\u001b[0m     \u001b[0mprint\u001b[0m\u001b[1;33m(\u001b[0m\u001b[1;34m'v1'\u001b[0m\u001b[1;33m,\u001b[0m\u001b[0mv1\u001b[0m\u001b[1;33m)\u001b[0m\u001b[1;33m\u001b[0m\u001b[1;33m\u001b[0m\u001b[0m\n\u001b[0;32m     15\u001b[0m     \u001b[0mprint\u001b[0m\u001b[1;33m(\u001b[0m\u001b[1;34m\"v2\"\u001b[0m\u001b[1;33m,\u001b[0m\u001b[0mv2\u001b[0m\u001b[1;33m)\u001b[0m\u001b[1;33m\u001b[0m\u001b[1;33m\u001b[0m\u001b[0m\n",
      "\u001b[1;32m<ipython-input-4-29c0226a7879>\u001b[0m in \u001b[0;36mget_min_v\u001b[1;34m(distance_matrix, dic)\u001b[0m\n\u001b[0;32m     30\u001b[0m                     \u001b[0mindex_v1\u001b[0m \u001b[1;33m=\u001b[0m \u001b[0mi\u001b[0m\u001b[1;33m\u001b[0m\u001b[1;33m\u001b[0m\u001b[0m\n\u001b[0;32m     31\u001b[0m                     \u001b[0mindex_v2\u001b[0m \u001b[1;33m=\u001b[0m \u001b[0mj\u001b[0m\u001b[1;33m\u001b[0m\u001b[1;33m\u001b[0m\u001b[0m\n\u001b[1;32m---> 32\u001b[1;33m     \u001b[1;32mreturn\u001b[0m \u001b[0mmin_v\u001b[0m\u001b[1;33m,\u001b[0m \u001b[0mdic\u001b[0m\u001b[1;33m[\u001b[0m\u001b[0mindex_v1\u001b[0m\u001b[1;33m]\u001b[0m\u001b[1;33m,\u001b[0m \u001b[0mdic\u001b[0m\u001b[1;33m[\u001b[0m\u001b[0mindex_v2\u001b[0m\u001b[1;33m]\u001b[0m\u001b[1;33m\u001b[0m\u001b[1;33m\u001b[0m\u001b[0m\n\u001b[0m\u001b[0;32m     33\u001b[0m \u001b[1;33m\u001b[0m\u001b[0m\n\u001b[0;32m     34\u001b[0m \u001b[1;32mdef\u001b[0m \u001b[0mupdate_dic\u001b[0m\u001b[1;33m(\u001b[0m\u001b[0mdic\u001b[0m\u001b[1;33m,\u001b[0m \u001b[0mv1\u001b[0m\u001b[1;33m,\u001b[0m \u001b[0mv2\u001b[0m\u001b[1;33m)\u001b[0m\u001b[1;33m:\u001b[0m\u001b[1;33m\u001b[0m\u001b[1;33m\u001b[0m\u001b[0m\n",
      "\u001b[1;31mKeyError\u001b[0m: 0"
     ]
    }
   ],
   "source": [
    "dic = get_dict(distance_matrix)\n",
    "\n",
    "# distance_matrix_u, dic_u = upgma(distance_matrix, dic)\n",
    "# display_distance_matrix(distance_matrix_u, dic_u)\n",
    "\n",
    "distance_matrix_final, dic_final = upgma_loop(distance_matrix, dic)"
   ]
  },
  {
   "cell_type": "markdown",
   "metadata": {},
   "source": [
    "# 2. Neighbor Joining :"
   ]
  },
  {
   "cell_type": "code",
   "execution_count": null,
   "metadata": {},
   "outputs": [],
   "source": []
  },
  {
   "cell_type": "code",
   "execution_count": null,
   "metadata": {},
   "outputs": [],
   "source": []
  }
 ],
 "metadata": {
  "kernelspec": {
   "display_name": "Python [conda env:root] *",
   "language": "python",
   "name": "conda-root-py"
  },
  "language_info": {
   "codemirror_mode": {
    "name": "ipython",
    "version": 3
   },
   "file_extension": ".py",
   "mimetype": "text/x-python",
   "name": "python",
   "nbconvert_exporter": "python",
   "pygments_lexer": "ipython3",
   "version": "3.8.5"
  }
 },
 "nbformat": 4,
 "nbformat_minor": 4
}
