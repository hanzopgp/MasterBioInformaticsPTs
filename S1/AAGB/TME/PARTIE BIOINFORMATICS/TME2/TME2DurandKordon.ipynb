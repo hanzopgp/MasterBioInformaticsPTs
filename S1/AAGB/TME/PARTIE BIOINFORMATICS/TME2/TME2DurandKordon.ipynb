{
 "cells": [
  {
   "cell_type": "markdown",
   "metadata": {},
   "source": [
    "# Imports"
   ]
  },
  {
   "cell_type": "markdown",
   "metadata": {},
   "source": [
    "# 1. UPGMA :"
   ]
  },
  {
   "cell_type": "code",
   "execution_count": 1,
   "metadata": {},
   "outputs": [],
   "source": [
    "import numpy as np"
   ]
  },
  {
   "cell_type": "markdown",
   "metadata": {},
   "source": [
    "# Variables"
   ]
  },
  {
   "cell_type": "code",
   "execution_count": 2,
   "metadata": {},
   "outputs": [],
   "source": [
    "                            #A,B,C,D,E,F  \n",
    "distance_matrix = np.array([[0,6,4,6,8,4], #A\n",
    "                            [6,0,6,4,8,6], #B\n",
    "                            [4,6,0,6,8,2], #C\n",
    "                            [6,4,6,0,8,6], #D\n",
    "                            [8,8,8,8,0,8], #E\n",
    "                            [4,6,2,6,8,0]])#F"
   ]
  },
  {
   "cell_type": "code",
   "execution_count": 3,
   "metadata": {},
   "outputs": [],
   "source": [
    "class Tree:\n",
    "    def __init__(self):\n",
    "        self.left = None\n",
    "        self.right = None\n",
    "        self.species1 = \"\"\n",
    "        self.species2 = \"\"\n",
    "        self.distance = 0\n",
    "    def add_nodes(self, min_v, v1, v2):\n",
    "        self.left = Tree()\n",
    "        self.right = Tree()\n",
    "        self.name = v1+v2\n",
    "        self.species1 = v1\n",
    "        self.species2 = v2\n",
    "        self.distance = min_v\n",
    "    def display_tree(self, node):\n",
    "        if node is not None:\n",
    "            print(\"   __\")\n",
    "            print(\"  |  |\")\n",
    "            print(node.distance, \"|  |\", node.distance)\n",
    "            print(\"  |  |\")\n",
    "            print(\" \", node.species1, \"\", node.species2)\n",
    "            if node.left is not None:\n",
    "                self.display_tree(self.left)\n",
    "            if node.right is not None:\n",
    "                self.display_tree(self.right)"
   ]
  },
  {
   "cell_type": "code",
   "execution_count": 10,
   "metadata": {},
   "outputs": [],
   "source": [
    "def upgma(distance_matrix, dic):\n",
    "    tree = Tree()\n",
    "    min_v, v1, v2 = get_min_v(distance_matrix, dic)\n",
    "    tree.add_nodes(min_v, v1, v2)\n",
    "    distance_matrix_u = update_distance_matrix(distance_matrix, v1, v2, dic)\n",
    "    distance_matrix_u = distance_matrix_u.astype(int)\n",
    "    dic_u = update_dic(dic, v1, v2)\n",
    "    return distance_matrix_u, dic_u\n",
    "\n",
    "def get_min_v(distance_matrix, dic):\n",
    "    n,m = distance_matrix.shape\n",
    "    min_v = np.inf\n",
    "    for i in range(n):\n",
    "        for j in range(m):\n",
    "            if i != j: # Ignore diagonal\n",
    "                if min_v > distance_matrix[i][j]:\n",
    "                    min_v = distance_matrix[i][j]\n",
    "                    index_v1 = i\n",
    "                    index_v2 = j\n",
    "    return min_v, dic[index_v1], dic[index_v2]\n",
    "\n",
    "def update_dic(dic, v1, v2):\n",
    "    new_val = v1+v2\n",
    "    dic_u = {}\n",
    "    n = len(dic) - 1\n",
    "    for i in range(n):\n",
    "        if chr(i+65) != v1 and chr(i+65) != v2:\n",
    "            keys = [chr(i+65) for i in range(n)]\n",
    "            dic_u[i] = keys[i]\n",
    "    dic_u[n] = new_val\n",
    "    return dic_u\n",
    "\n",
    "def update_distance_matrix(distance_matrix, v1, v2, dic):\n",
    "    n,m = distance_matrix.shape\n",
    "    distance_matrix_u = np.zeros((n-1,m-1))\n",
    "    n_u,m_u = distance_matrix_u.shape\n",
    "    k1 = [k for k, v in dic.items() if v == v1][0]\n",
    "    k2 = [k for k, v in dic.items() if v == v2][0]\n",
    "    #             print(\"k1\",k1)\n",
    "    #             print(\"k2\",k2)\n",
    "    for i in range(n_u):\n",
    "        for j in range(m_u):\n",
    "#             print(\"i\",i)\n",
    "#             print(\"j\",j)\n",
    "#             print(\"v1\",v1)\n",
    "#             print(\"v2\",v2)\n",
    "#             print(\"___________\")\n",
    "            if not(k1 == i and k2 == j):\n",
    "                distance_matrix_u[i][j] = distance_matrix[i][j]\n",
    "    new_distances = compute_new_distances(distance_matrix_u, v1, v2)\n",
    "    distance_matrix_u[-1] = new_distances\n",
    "    distance_matrix_u[:,-1] = new_distances.T\n",
    "    return distance_matrix_u\n",
    "\n",
    "def compute_new_distances(distance_matrix, v1, v2):\n",
    "    n,m = distance_matrix.shape\n",
    "    new_distances = np.zeros((n))\n",
    "    k1 = [k for k, v in dic.items() if v == v1][0] -1\n",
    "    k2 = [k for k, v in dic.items() if v == v2][0] -1\n",
    "    for i in range(n):\n",
    "        for j in range(m):\n",
    "            new_distances[i] = (distance_matrix[i][k1] + distance_matrix[i][k2]) / 2\n",
    "    return new_distances\n",
    "\n",
    "def display_distance_matrix(distance_matrix, dic):\n",
    "    n,m = distance_matrix.shape\n",
    "    for i in range(len(dic.values())):\n",
    "        print(\"\",dic[i], end='')\n",
    "    print(\"\")\n",
    "    for i in range(n):\n",
    "        for j in range(m):\n",
    "            print(\"\", distance_matrix[i][j], end='')\n",
    "        print(\"\", dic[i])\n",
    "\n",
    "def get_dict(distance_matrix):\n",
    "    dicts = {}\n",
    "    n = distance_matrix.shape[0]\n",
    "    keys = [chr(i+65) for i in range(n)]\n",
    "    values = [i for i in range(n)]\n",
    "    for i in range(n):\n",
    "        dicts[values[i]] = keys[i]\n",
    "    return dicts"
   ]
  },
  {
   "cell_type": "code",
   "execution_count": 11,
   "metadata": {},
   "outputs": [
    {
     "name": "stdout",
     "output_type": "stream",
     "text": [
      " A B C D E F\n",
      " 0 6 4 6 8 4 A\n",
      " 6 0 6 4 8 6 B\n",
      " 4 6 0 6 8 2 C\n",
      " 6 4 6 0 8 6 D\n",
      " 8 8 8 8 0 8 E\n",
      " 4 6 2 6 8 0 F\n",
      "=================\n",
      " A B"
     ]
    },
    {
     "ename": "KeyError",
     "evalue": "2",
     "output_type": "error",
     "traceback": [
      "\u001b[1;31m---------------------------------------------------------------------------\u001b[0m",
      "\u001b[1;31mKeyError\u001b[0m                                  Traceback (most recent call last)",
      "\u001b[1;32m<ipython-input-11-0133220f2859>\u001b[0m in \u001b[0;36m<module>\u001b[1;34m\u001b[0m\n\u001b[0;32m      3\u001b[0m \u001b[0mprint\u001b[0m\u001b[1;33m(\u001b[0m\u001b[1;34m\"=================\"\u001b[0m\u001b[1;33m)\u001b[0m\u001b[1;33m\u001b[0m\u001b[1;33m\u001b[0m\u001b[0m\n\u001b[0;32m      4\u001b[0m \u001b[0mdistance_matrix_u\u001b[0m\u001b[1;33m,\u001b[0m \u001b[0mdic_u\u001b[0m \u001b[1;33m=\u001b[0m \u001b[0mupgma\u001b[0m\u001b[1;33m(\u001b[0m\u001b[0mdistance_matrix\u001b[0m\u001b[1;33m,\u001b[0m \u001b[0mdic\u001b[0m\u001b[1;33m)\u001b[0m\u001b[1;33m\u001b[0m\u001b[1;33m\u001b[0m\u001b[0m\n\u001b[1;32m----> 5\u001b[1;33m \u001b[0mdisplay_distance_matrix\u001b[0m\u001b[1;33m(\u001b[0m\u001b[0mdistance_matrix_u\u001b[0m\u001b[1;33m,\u001b[0m \u001b[0mdic_u\u001b[0m\u001b[1;33m)\u001b[0m\u001b[1;33m\u001b[0m\u001b[1;33m\u001b[0m\u001b[0m\n\u001b[0m",
      "\u001b[1;32m<ipython-input-10-151de5b299f2>\u001b[0m in \u001b[0;36mdisplay_distance_matrix\u001b[1;34m(distance_matrix, dic)\u001b[0m\n\u001b[0;32m     66\u001b[0m     \u001b[0mn\u001b[0m\u001b[1;33m,\u001b[0m\u001b[0mm\u001b[0m \u001b[1;33m=\u001b[0m \u001b[0mdistance_matrix\u001b[0m\u001b[1;33m.\u001b[0m\u001b[0mshape\u001b[0m\u001b[1;33m\u001b[0m\u001b[1;33m\u001b[0m\u001b[0m\n\u001b[0;32m     67\u001b[0m     \u001b[1;32mfor\u001b[0m \u001b[0mi\u001b[0m \u001b[1;32min\u001b[0m \u001b[0mrange\u001b[0m\u001b[1;33m(\u001b[0m\u001b[0mlen\u001b[0m\u001b[1;33m(\u001b[0m\u001b[0mdic\u001b[0m\u001b[1;33m.\u001b[0m\u001b[0mvalues\u001b[0m\u001b[1;33m(\u001b[0m\u001b[1;33m)\u001b[0m\u001b[1;33m)\u001b[0m\u001b[1;33m)\u001b[0m\u001b[1;33m:\u001b[0m\u001b[1;33m\u001b[0m\u001b[1;33m\u001b[0m\u001b[0m\n\u001b[1;32m---> 68\u001b[1;33m         \u001b[0mprint\u001b[0m\u001b[1;33m(\u001b[0m\u001b[1;34m\"\"\u001b[0m\u001b[1;33m,\u001b[0m\u001b[0mdic\u001b[0m\u001b[1;33m[\u001b[0m\u001b[0mi\u001b[0m\u001b[1;33m]\u001b[0m\u001b[1;33m,\u001b[0m \u001b[0mend\u001b[0m\u001b[1;33m=\u001b[0m\u001b[1;34m''\u001b[0m\u001b[1;33m)\u001b[0m\u001b[1;33m\u001b[0m\u001b[1;33m\u001b[0m\u001b[0m\n\u001b[0m\u001b[0;32m     69\u001b[0m     \u001b[0mprint\u001b[0m\u001b[1;33m(\u001b[0m\u001b[1;34m\"\"\u001b[0m\u001b[1;33m)\u001b[0m\u001b[1;33m\u001b[0m\u001b[1;33m\u001b[0m\u001b[0m\n\u001b[0;32m     70\u001b[0m     \u001b[1;32mfor\u001b[0m \u001b[0mi\u001b[0m \u001b[1;32min\u001b[0m \u001b[0mrange\u001b[0m\u001b[1;33m(\u001b[0m\u001b[0mn\u001b[0m\u001b[1;33m)\u001b[0m\u001b[1;33m:\u001b[0m\u001b[1;33m\u001b[0m\u001b[1;33m\u001b[0m\u001b[0m\n",
      "\u001b[1;31mKeyError\u001b[0m: 2"
     ]
    }
   ],
   "source": [
    "dic = get_dict(distance_matrix)\n",
    "display_distance_matrix(distance_matrix, dic)\n",
    "print(\"=================\")\n",
    "distance_matrix_u, dic_u = upgma(distance_matrix, dic)\n",
    "display_distance_matrix(distance_matrix_u, dic_u)"
   ]
  },
  {
   "cell_type": "markdown",
   "metadata": {},
   "source": [
    "# 2. Neighbor Joining :"
   ]
  },
  {
   "cell_type": "code",
   "execution_count": null,
   "metadata": {},
   "outputs": [],
   "source": []
  },
  {
   "cell_type": "code",
   "execution_count": null,
   "metadata": {},
   "outputs": [],
   "source": []
  }
 ],
 "metadata": {
  "kernelspec": {
   "display_name": "Python [conda env:root] *",
   "language": "python",
   "name": "conda-root-py"
  },
  "language_info": {
   "codemirror_mode": {
    "name": "ipython",
    "version": 3
   },
   "file_extension": ".py",
   "mimetype": "text/x-python",
   "name": "python",
   "nbconvert_exporter": "python",
   "pygments_lexer": "ipython3",
   "version": "3.8.5"
  }
 },
 "nbformat": 4,
 "nbformat_minor": 4
}
