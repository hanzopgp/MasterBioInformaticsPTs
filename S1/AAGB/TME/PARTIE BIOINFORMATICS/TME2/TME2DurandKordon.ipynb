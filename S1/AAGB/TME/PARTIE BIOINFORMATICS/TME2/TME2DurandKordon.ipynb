{
 "cells": [
  {
   "cell_type": "markdown",
   "metadata": {},
   "source": [
    "# Import"
   ]
  },
  {
   "cell_type": "code",
   "execution_count": 1,
   "metadata": {},
   "outputs": [],
   "source": [
    "import numpy as np"
   ]
  },
  {
   "cell_type": "markdown",
   "metadata": {},
   "source": [
    "# 1. UPGMA :"
   ]
  },
  {
   "cell_type": "markdown",
   "metadata": {},
   "source": [
    "# Variables"
   ]
  },
  {
   "cell_type": "code",
   "execution_count": 2,
   "metadata": {},
   "outputs": [],
   "source": [
    "distance_matrix = np.array([[ 0, 19, 27,  8, 33, 18, 13],\n",
    "                            [19,  0, 31, 18, 36,  1, 13],\n",
    "                            [27, 31,  0, 26, 41, 32, 29],\n",
    "                            [ 8, 18, 26,  0, 31, 17, 14],\n",
    "                            [33, 36, 41, 31,  0, 35, 28],\n",
    "                            [18,  1, 32, 17, 35,  0, 12],\n",
    "                            [13, 13, 29, 14, 28, 12, 0]])"
   ]
  },
  {
   "cell_type": "code",
   "execution_count": 3,
   "metadata": {},
   "outputs": [],
   "source": [
    "class Tree:\n",
    "    def __init__(self):\n",
    "        self.left = None\n",
    "        self.right = None\n",
    "        self.species1 = \"\"\n",
    "        self.species2 = \"\"\n",
    "        self.distance = 0\n",
    "    def add_nodes(self, min_v, v1, v2):\n",
    "        self.left = Tree()\n",
    "        self.right = Tree()\n",
    "        self.name = v1+v2\n",
    "        self.species1 = v1\n",
    "        self.species2 = v2\n",
    "        self.distance = min_v\n",
    "    def display_tree(self, node):\n",
    "        if node is not None:\n",
    "            print(\"   __\")\n",
    "            print(\"  |  |\")\n",
    "            print(node.distance, \"|  |\", node.distance)\n",
    "            print(\"  |  |\")\n",
    "            print(\" \", node.species1, \"\", node.species2)\n",
    "            if node.left is not None:\n",
    "                self.display_tree(self.left)\n",
    "            if node.right is not None:\n",
    "                self.display_tree(self.right)"
   ]
  },
  {
   "cell_type": "code",
   "execution_count": 4,
   "metadata": {},
   "outputs": [],
   "source": [
    "def upgma_loop(distance_matrix, dic):\n",
    "    cpt = 1\n",
    "    save_order = []\n",
    "    n = distance_matrix.shape[0] # Sauveguarde du nombre d'espece\n",
    "    while distance_matrix.shape[0] > 2: # Condition d'arret de l'algorithme\n",
    "#         print(\"===================== Nombre d'itération :\", cpt,\"=====================\")\n",
    "#         print(\"\\nDictionnaire :\\n\\n\", dic)\n",
    "#         display_distance_matrix(distance_matrix, dic)\n",
    "        distance_matrix, dic, save_order = upgma(distance_matrix, dic, save_order)\n",
    "#         print(\"\\nNouveau dictionnaire :\\n\\n\", dic)\n",
    "#         display_distance_matrix(distance_matrix, dic)\n",
    "#         print(\"\\n\")\n",
    "        cpt += 1\n",
    "    save_order.append(list(dic.values())[0]) # Ajout de toute les especes a la fin\n",
    "    save_order.append(list(dic.values())[1])\n",
    "    return distance_matrix, dic, save_order\n",
    "\n",
    "def upgma(distance_matrix, dic, save_order):\n",
    "    min_v, v1, v2 = get_min_v(distance_matrix, dic)\n",
    "    distance_matrix_u = update_distance_matrix(distance_matrix, v1, v2, dic)\n",
    "    distance_matrix_u = distance_matrix_u.astype(float)\n",
    "    dic_u, save_order = update_dic(dic, v1, v2, save_order)\n",
    "    return distance_matrix_u, dic_u, save_order\n",
    "\n",
    "def get_min_v(distance_matrix, dic):\n",
    "    n,m = distance_matrix.shape\n",
    "    min_v = np.inf\n",
    "    for i in range(n):\n",
    "        for j in range(m):\n",
    "            if i != j: # Ignore diagonal pour la distance minimale\n",
    "                if min_v > distance_matrix[i][j]:\n",
    "                    min_v = distance_matrix[i][j]\n",
    "                    index_v1 = i\n",
    "                    index_v2 = j\n",
    "    return min_v, dic[index_v1], dic[index_v2]\n",
    "\n",
    "def update_dic(dic, v1, v2, save_order):\n",
    "    dic_u = {}\n",
    "    save_order.append(v1)\n",
    "    save_order.append(v2)\n",
    "    dic_u[0] = v1+v2\n",
    "    n = len(dic) \n",
    "    for i in range(1, n+1):\n",
    "        if dic[i-1] != v1 and dic[i-1] != v2: \n",
    "            dic_u[i] = dic[i-1] # On creer notre nouveau dictionnaire avec les valeurs sauf la nouvelle\n",
    "    dic_u = {i: v for i, v in enumerate(dic_u.values())} # On reindexe le dictionnaire\n",
    "    return dic_u, save_order\n",
    "\n",
    "def update_distance_matrix(distance_matrix, v1, v2, dic): # PROBLEME DERNIER ITERATION 50 != 55 ?\n",
    "    k1 = [k for k, v in dic.items() if v == v1][0]\n",
    "    k2 = [k for k, v in dic.items() if v == v2][0]\n",
    "    distance_matrix_u = delete_values(distance_matrix, k1, k2)\n",
    "    new_distances = compute_new_distances(distance_matrix, v1, v2, dic)\n",
    "    distance_matrix_u[0  ] = new_distances                 # Ajout des valeurs calculées sur la premiere ligne\n",
    "    distance_matrix_u[:,0] = new_distances.T               # et la derniere colonne correspondant à {v1,v2}\n",
    "    return distance_matrix_u\n",
    "\n",
    "def delete_values(distance_matrix, k1, k2):\n",
    "    distance_matrix_u = np.delete(distance_matrix,   k1,   0) # Delete ligne à l'indice k1 correspondant à v1\n",
    "    distance_matrix_u = np.delete(distance_matrix_u, k1,   1) # Delete colonne à l'indice k1 correspondant à v1\n",
    "    distance_matrix_u = np.delete(distance_matrix_u, k2-1, 0) # Delete ligne à l'indice k2 correspondant à v2 (decaler de 1 car on a suppr une ligne)\n",
    "    distance_matrix_u = np.delete(distance_matrix_u, k2-1, 1) # Delete colonne à l'indice k2 correspondant à v2 (decaler de 1 car on a suppr une colonne)\n",
    "    distance_matrix_u = np.insert(distance_matrix_u, 0, np.zeros(distance_matrix_u.shape[0]), axis=0)\n",
    "    distance_matrix_u = np.insert(distance_matrix_u, 0, np.zeros(distance_matrix_u.shape[0]), axis=1)\n",
    "    return distance_matrix_u\n",
    "\n",
    "def compute_new_distances(distance_matrix, v1, v2, dic):\n",
    "    n = distance_matrix.shape[0]\n",
    "    new_distances = np.zeros((n-1))\n",
    "    new_distances[0] = 0 # 0 de la diagonal\n",
    "    k1 = [k for k, v in dic.items() if v == v1][0]\n",
    "    k2 = [k for k, v in dic.items() if v == v2][0]\n",
    "    index = 1\n",
    "    for i in range(n):\n",
    "        if k1 != i and k2 != i:\n",
    "            new_distances[index] = (distance_matrix[i][k1] + distance_matrix[i][k2]) / 2\n",
    "            index += 1\n",
    "    return new_distances\n",
    "\n",
    "def display_distance_matrix(distance_matrix, dic):\n",
    "    print(\"\\nDistance matrix :\\n\")\n",
    "    n,m = distance_matrix.shape\n",
    "    for val in dic.values():\n",
    "        print(\"    \",val, end=\"\")\n",
    "    print(\"\")\n",
    "    for i,val in enumerate(dic.values()):\n",
    "        for j in range(m):\n",
    "            print(\"   \", distance_matrix[i][j], end=\"\")\n",
    "        print(\"   \", val)\n",
    "\n",
    "def get_dict(distance_matrix):\n",
    "    dic = {}\n",
    "    n = distance_matrix.shape[0]\n",
    "    keys = [chr(i+65) for i in range(n)]\n",
    "    values = [i for i in range(n)]\n",
    "    for i in range(n):\n",
    "        dic[values[i]] = keys[i]\n",
    "    return dic\n",
    "\n",
    "# def display_tree(order):\n",
    "#     visited = []\n",
    "#     for i in range(0, len(order), 2):\n",
    "#         if(order[i]+order[i+1] in visited):\n",
    "#             print(\"what\")\n",
    "#         print(order[i],\"---\")\n",
    "#         print(\"       |\")\n",
    "#         print(\"       |---\")\n",
    "#         print(\"       |\")\n",
    "#         print(order[i+1],\"---\")\n",
    "#         visited.append(order[i]+order[i+1])\n",
    "#     print(visited)"
   ]
  },
  {
   "cell_type": "code",
   "execution_count": 5,
   "metadata": {},
   "outputs": [
    {
     "name": "stdout",
     "output_type": "stream",
     "text": [
      "----------------------------> Algorithme UPGMA : <----------------------------\n",
      "\n",
      "Dictionnaire :\n",
      "\n",
      " {0: 'A', 1: 'B', 2: 'C', 3: 'D', 4: 'E', 5: 'F', 6: 'G'}\n",
      "\n",
      "Distance matrix :\n",
      "\n",
      "     A     B     C     D     E     F     G\n",
      "    0    19    27    8    33    18    13    A\n",
      "    19    0    31    18    36    1    13    B\n",
      "    27    31    0    26    41    32    29    C\n",
      "    8    18    26    0    31    17    14    D\n",
      "    33    36    41    31    0    35    28    E\n",
      "    18    1    32    17    35    0    12    F\n",
      "    13    13    29    14    28    12    0    G\n",
      "\n",
      "\n",
      "----------------------------> Fabrication de l'arbe de philogenie : <----------------------------\n",
      "['B', 'F', 'A', 'D', 'BF', 'G', 'BFG', 'AD', 'BFGAD', 'C', 'BFGADC', 'E']\n"
     ]
    },
    {
     "ename": "ModuleNotFoundError",
     "evalue": "No module named 'ete3'",
     "output_type": "error",
     "traceback": [
      "\u001b[1;31m---------------------------------------------------------------------------\u001b[0m",
      "\u001b[1;31mModuleNotFoundError\u001b[0m                       Traceback (most recent call last)",
      "\u001b[1;32m<ipython-input-5-4d71e1390c62>\u001b[0m in \u001b[0;36m<module>\u001b[1;34m\u001b[0m\n\u001b[0;32m     11\u001b[0m \u001b[1;31m# display_tree(order_final, dic)\u001b[0m\u001b[1;33m\u001b[0m\u001b[1;33m\u001b[0m\u001b[1;33m\u001b[0m\u001b[0m\n\u001b[0;32m     12\u001b[0m \u001b[1;33m\u001b[0m\u001b[0m\n\u001b[1;32m---> 13\u001b[1;33m \u001b[1;32mfrom\u001b[0m \u001b[0mete3\u001b[0m \u001b[1;32mimport\u001b[0m \u001b[0mTree\u001b[0m\u001b[1;33m\u001b[0m\u001b[1;33m\u001b[0m\u001b[0m\n\u001b[0m\u001b[0;32m     14\u001b[0m \u001b[0munrooted_tree\u001b[0m \u001b[1;33m=\u001b[0m \u001b[0mTree\u001b[0m\u001b[1;33m(\u001b[0m \u001b[1;34m\"(A,B,(C,D));\"\u001b[0m \u001b[1;33m)\u001b[0m\u001b[1;33m\u001b[0m\u001b[1;33m\u001b[0m\u001b[0m\n\u001b[0;32m     15\u001b[0m \u001b[0mprint\u001b[0m\u001b[1;33m(\u001b[0m\u001b[0munrooted_tree\u001b[0m\u001b[1;33m)\u001b[0m\u001b[1;33m\u001b[0m\u001b[1;33m\u001b[0m\u001b[0m\n",
      "\u001b[1;31mModuleNotFoundError\u001b[0m: No module named 'ete3'"
     ]
    }
   ],
   "source": [
    "print(\"----------------------------> Algorithme UPGMA : <----------------------------\")\n",
    "\n",
    "dic = get_dict(distance_matrix) # Initialisation du dictionnaire\n",
    "print(\"\\nDictionnaire :\\n\\n\", dic) # Affichage du dictionnaire de base\n",
    "display_distance_matrix(distance_matrix, dic) # Affichage de la grille de base\n",
    "print(\"\\n\")\n",
    "distance_matrix_final, dic_final, order_final = upgma_loop(distance_matrix, dic)\n",
    "\n",
    "print(\"----------------------------> Fabrication de l'arbe de philogenie : <----------------------------\")\n",
    "print(order_final)\n",
    "# display_tree(order_final, dic)\n",
    "\n",
    "from ete3 import Tree\n",
    "unrooted_tree = Tree( \"(A,B,(C,D));\" )\n",
    "print(unrooted_tree)"
   ]
  },
  {
   "cell_type": "markdown",
   "metadata": {},
   "source": [
    "# 2. Neighbor Joining :"
   ]
  },
  {
   "cell_type": "code",
   "execution_count": null,
   "metadata": {},
   "outputs": [],
   "source": []
  },
  {
   "cell_type": "code",
   "execution_count": null,
   "metadata": {},
   "outputs": [],
   "source": []
  }
 ],
 "metadata": {
  "kernelspec": {
   "display_name": "Python [conda env:root] *",
   "language": "python",
   "name": "conda-root-py"
  },
  "language_info": {
   "codemirror_mode": {
    "name": "ipython",
    "version": 3
   },
   "file_extension": ".py",
   "mimetype": "text/x-python",
   "name": "python",
   "nbconvert_exporter": "python",
   "pygments_lexer": "ipython3",
   "version": "3.8.5"
  }
 },
 "nbformat": 4,
 "nbformat_minor": 4
}
