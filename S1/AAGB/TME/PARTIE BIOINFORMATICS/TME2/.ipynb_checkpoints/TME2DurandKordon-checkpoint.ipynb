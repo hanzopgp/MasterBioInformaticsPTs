{
 "cells": [
  {
   "cell_type": "markdown",
   "metadata": {},
   "source": [
    "# Import"
   ]
  },
  {
   "cell_type": "code",
   "execution_count": 22,
   "metadata": {},
   "outputs": [],
   "source": [
    "import numpy as np"
   ]
  },
  {
   "cell_type": "markdown",
   "metadata": {},
   "source": [
    "# 1. UPGMA :"
   ]
  },
  {
   "cell_type": "markdown",
   "metadata": {},
   "source": [
    "# Variables"
   ]
  },
  {
   "cell_type": "code",
   "execution_count": 23,
   "metadata": {},
   "outputs": [],
   "source": [
    "                            #A,B,C,D,E,F  \n",
    "distance_matrix = np.array([[0,6,4,6,8,4], #A\n",
    "                            [6,0,6,4,8,6], #B\n",
    "                            [4,6,0,6,8,2], #C\n",
    "                            [6,4,6,0,8,6], #D\n",
    "                            [8,8,8,8,0,8], #E\n",
    "                            [4,6,2,6,8,0]])#F"
   ]
  },
  {
   "cell_type": "code",
   "execution_count": 24,
   "metadata": {},
   "outputs": [],
   "source": [
    "class Tree:\n",
    "    def __init__(self):\n",
    "        self.left = None\n",
    "        self.right = None\n",
    "        self.species1 = \"\"\n",
    "        self.species2 = \"\"\n",
    "        self.distance = 0\n",
    "    def add_nodes(self, min_v, v1, v2):\n",
    "        self.left = Tree()\n",
    "        self.right = Tree()\n",
    "        self.name = v1+v2\n",
    "        self.species1 = v1\n",
    "        self.species2 = v2\n",
    "        self.distance = min_v\n",
    "    def display_tree(self, node):\n",
    "        if node is not None:\n",
    "            print(\"   __\")\n",
    "            print(\"  |  |\")\n",
    "            print(node.distance, \"|  |\", node.distance)\n",
    "            print(\"  |  |\")\n",
    "            print(\" \", node.species1, \"\", node.species2)\n",
    "            if node.left is not None:\n",
    "                self.display_tree(self.left)\n",
    "            if node.right is not None:\n",
    "                self.display_tree(self.right)"
   ]
  },
  {
   "cell_type": "code",
   "execution_count": 25,
   "metadata": {},
   "outputs": [],
   "source": [
    "def upgma(distance_matrix, dic):\n",
    "    tree = Tree()\n",
    "    min_v, v1, v2 = get_min_v(distance_matrix, dic)\n",
    "    tree.add_nodes(min_v, v1, v2)\n",
    "    distance_matrix_u = update_distance_matrix(distance_matrix, v1, v2, dic)\n",
    "    distance_matrix_u = distance_matrix_u.astype(int)\n",
    "    dic_u = update_dic(dic, v1, v2)\n",
    "    return distance_matrix_u, dic_u\n",
    "\n",
    "def get_min_v(distance_matrix, dic):\n",
    "    n,m = distance_matrix.shape\n",
    "    min_v = np.inf\n",
    "    for i in range(n):\n",
    "        for j in range(m):\n",
    "            if i != j: # Ignore diagonal\n",
    "                if min_v > distance_matrix[i][j]:\n",
    "                    min_v = distance_matrix[i][j]\n",
    "                    index_v1 = i\n",
    "                    index_v2 = j\n",
    "    return min_v, dic[index_v1], dic[index_v2]\n",
    "\n",
    "def update_dic(dic, v1, v2):\n",
    "    new_val = v1+v2\n",
    "    dic_u = {}\n",
    "    n = len(dic) - 1\n",
    "    for i in range(n):\n",
    "        if chr(i+65) != v1 and chr(i+65) != v2:\n",
    "            keys = [chr(i+65) for i in range(n)]\n",
    "            dic_u[i] = keys[i]\n",
    "    dic_u[n] = new_val\n",
    "    return dic_u\n",
    "\n",
    "def update_distance_matrix(distance_matrix, v1, v2, dic):\n",
    "    n,m = distance_matrix.shape\n",
    "    distance_matrix_u = np.zeros((n-1,m-1))\n",
    "    n_u,m_u = distance_matrix_u.shape\n",
    "    k1 = [k for k, v in dic.items() if v == v1][0]\n",
    "    k2 = [k for k, v in dic.items() if v == v2][0]\n",
    "    for i in range(n_u):\n",
    "        for j in range(m_u):\n",
    "            if k1 == i-1 and k2 == j-1: # Truc a faire ici pour bien recopier que les lignes et colonnes qui sont pas k1 k2\n",
    "                print(i)\n",
    "                print(j)\n",
    "                print(k1)\n",
    "                print(k2)\n",
    "                i += 1\n",
    "                j += 1\n",
    "            distance_matrix_u[i][j] = distance_matrix[i][j]\n",
    "    new_distances = compute_new_distances(distance_matrix_u, v1, v2)\n",
    "    distance_matrix_u[-1] = new_distances\n",
    "    distance_matrix_u[:,-1] = new_distances.T\n",
    "    return distance_matrix_u\n",
    "\n",
    "def compute_new_distances(distance_matrix, v1, v2):\n",
    "    n,m = distance_matrix.shape\n",
    "    new_distances = np.zeros((n))\n",
    "    k1 = [k for k, v in dic.items() if v == v1][0] -1\n",
    "    k2 = [k for k, v in dic.items() if v == v2][0] -1\n",
    "    for i in range(n):\n",
    "        for j in range(m):\n",
    "            new_distances[i] = (distance_matrix[i][k1] + distance_matrix[i][k2]) / 2\n",
    "    return new_distances\n",
    "\n",
    "def display_distance_matrix(distance_matrix, dic):\n",
    "    n,m = distance_matrix.shape\n",
    "    for val in dic.values():\n",
    "        print(\"\",val, end='')\n",
    "    print(\"\")\n",
    "    for i,val in enumerate(dic.values()):\n",
    "        for j in range(m):\n",
    "            print(\"\", distance_matrix[i][j], end='')\n",
    "        print(\"\", val)\n",
    "\n",
    "def get_dict(distance_matrix):\n",
    "    dicts = {}\n",
    "    n = distance_matrix.shape[0]\n",
    "    keys = [chr(i+65) for i in range(n)]\n",
    "    values = [i for i in range(n)]\n",
    "    for i in range(n):\n",
    "        dicts[values[i]] = keys[i]\n",
    "    return dicts"
   ]
  },
  {
   "cell_type": "code",
   "execution_count": 26,
   "metadata": {},
   "outputs": [
    {
     "name": "stdout",
     "output_type": "stream",
     "text": [
      " A B C D E F\n",
      " 0 6 4 6 8 4 A\n",
      " 6 0 6 4 8 6 B\n",
      " 4 6 0 6 8 2 C\n",
      " 6 4 6 0 8 6 D\n",
      " 8 8 8 8 0 8 E\n",
      " 4 6 2 6 8 0 F\n",
      "=================\n",
      " A B D E CF\n",
      " 0 6 4 6 7 A\n",
      " 6 0 6 4 4 B\n",
      " 4 6 0 6 7 D\n",
      " 6 4 6 0 6 E\n",
      " 7 4 7 6 4 CF\n"
     ]
    }
   ],
   "source": [
    "dic = get_dict(distance_matrix)\n",
    "display_distance_matrix(distance_matrix, dic)\n",
    "\n",
    "print(\"=================\")\n",
    "\n",
    "distance_matrix_u, dic_u = upgma(distance_matrix, dic)\n",
    "display_distance_matrix(distance_matrix_u, dic_u)"
   ]
  },
  {
   "cell_type": "markdown",
   "metadata": {},
   "source": [
    "# 2. Neighbor Joining :"
   ]
  },
  {
   "cell_type": "code",
   "execution_count": null,
   "metadata": {},
   "outputs": [],
   "source": []
  },
  {
   "cell_type": "code",
   "execution_count": null,
   "metadata": {},
   "outputs": [],
   "source": []
  }
 ],
 "metadata": {
  "kernelspec": {
   "display_name": "Python [conda env:root] *",
   "language": "python",
   "name": "conda-root-py"
  },
  "language_info": {
   "codemirror_mode": {
    "name": "ipython",
    "version": 3
   },
   "file_extension": ".py",
   "mimetype": "text/x-python",
   "name": "python",
   "nbconvert_exporter": "python",
   "pygments_lexer": "ipython3",
   "version": "3.8.5"
  }
 },
 "nbformat": 4,
 "nbformat_minor": 4
}
