{
 "cells": [
  {
   "cell_type": "markdown",
   "metadata": {},
   "source": [
    "# Import"
   ]
  },
  {
   "cell_type": "code",
   "execution_count": 1,
   "metadata": {},
   "outputs": [
    {
     "name": "stderr",
     "output_type": "stream",
     "text": [
      "C:\\Users\\karna\\anaconda3\\lib\\site-packages\\ete3-3.1.2-py3.7.egg\\ete3\\evol\\parser\\codemlparser.py:221: SyntaxWarning: \"is\" with a literal. Did you mean \"==\"?\n",
      "C:\\Users\\karna\\anaconda3\\lib\\site-packages\\ete3-3.1.2-py3.7.egg\\ete3\\evol\\parser\\codemlparser.py:221: SyntaxWarning: \"is\" with a literal. Did you mean \"==\"?\n"
     ]
    }
   ],
   "source": [
    "import numpy as np\n",
    "from ete3 import Tree"
   ]
  },
  {
   "cell_type": "markdown",
   "metadata": {},
   "source": [
    "# 1. UPGMA :"
   ]
  },
  {
   "cell_type": "markdown",
   "metadata": {},
   "source": [
    "# Variables"
   ]
  },
  {
   "cell_type": "code",
   "execution_count": 2,
   "metadata": {},
   "outputs": [],
   "source": [
    "distance_matrix = np.array([[ 0, 19, 27,  8, 33, 18, 13],\n",
    "                            [19,  0, 31, 18, 36,  1, 13],\n",
    "                            [27, 31,  0, 26, 41, 32, 29],\n",
    "                            [ 8, 18, 26,  0, 31, 17, 14],\n",
    "                            [33, 36, 41, 31,  0, 35, 28],\n",
    "                            [18,  1, 32, 17, 35,  0, 12],\n",
    "                            [13, 13, 29, 14, 28, 12, 0]])"
   ]
  },
  {
   "cell_type": "code",
   "execution_count": 58,
   "metadata": {},
   "outputs": [],
   "source": [
    "def upgma_loop(distance_matrix):\n",
    "    dic = get_dict(distance_matrix) # Initialisation du dictionnaire\n",
    "    cpt = 1\n",
    "    save_order = []\n",
    "    n = distance_matrix.shape[0] # Sauveguarde du nombre d'espece\n",
    "    while distance_matrix.shape[0] > 2: # Condition d'arret de l'algorithme\n",
    "#         print(\"===================== Nombre d'itération :\", cpt,\"=====================\")\n",
    "#         print(\"\\nDictionnaire :\\n\\n\", dic)\n",
    "#         display_distance_matrix(distance_matrix, dic)\n",
    "        distance_matrix, dic, save_order = upgma(distance_matrix, dic, save_order)\n",
    "#         print(\"\\nNouveau dictionnaire :\\n\\n\", dic)\n",
    "#         display_distance_matrix(distance_matrix, dic)\n",
    "#         print(\"\\n\")\n",
    "        cpt += 1\n",
    "    save_order.append(list(dic.values())[0]) # Ajout de toute les especes a la fin\n",
    "    save_order.append(list(dic.values())[1])\n",
    "    return distance_matrix, dic, save_order\n",
    "\n",
    "def upgma(distance_matrix, dic, save_order):\n",
    "    min_v, v1, v2 = get_min_v(distance_matrix, dic)\n",
    "    distance_matrix_u = update_distance_matrix(distance_matrix, v1, v2, dic)\n",
    "    distance_matrix_u = distance_matrix_u.astype(float)\n",
    "    dic_u, save_order = update_dic(dic, v1, v2, save_order)\n",
    "    return distance_matrix_u, dic_u, save_order\n",
    "\n",
    "def get_min_v(distance_matrix, dic):\n",
    "    n,m = distance_matrix.shape\n",
    "    min_v = np.inf\n",
    "    for i in range(n):\n",
    "        for j in range(m):\n",
    "            if i != j: # Ignore diagonal pour la distance minimale\n",
    "                if min_v > distance_matrix[i][j]:\n",
    "                    min_v = distance_matrix[i][j]\n",
    "                    index_v1 = i\n",
    "                    index_v2 = j\n",
    "    return min_v, dic[index_v1], dic[index_v2]\n",
    "\n",
    "def update_dic(dic, v1, v2, save_order):\n",
    "    dic_u = {}\n",
    "    save_order.append(v1)\n",
    "    save_order.append(v2)\n",
    "    dic_u[0] = v1+v2\n",
    "    n = len(dic) \n",
    "    for i in range(1, n+1):\n",
    "        if dic[i-1] != v1 and dic[i-1] != v2: \n",
    "            dic_u[i] = dic[i-1] # On creer notre nouveau dictionnaire avec les valeurs sauf la nouvelle\n",
    "    dic_u = {i: v for i, v in enumerate(dic_u.values())} # On reindexe le dictionnaire\n",
    "    return dic_u, save_order\n",
    "\n",
    "def update_distance_matrix(distance_matrix, v1, v2, dic):\n",
    "    k1 = [k for k, v in dic.items() if v == v1][0]\n",
    "    k2 = [k for k, v in dic.items() if v == v2][0]\n",
    "    distance_matrix_u = delete_values(distance_matrix, k1, k2)\n",
    "    new_distances = compute_new_distances(distance_matrix, v1, v2, dic)\n",
    "    distance_matrix_u[0  ] = new_distances                 # Ajout des valeurs calculées sur la premiere ligne\n",
    "    distance_matrix_u[:,0] = new_distances.T               # et la derniere colonne correspondant à {v1,v2}\n",
    "    return distance_matrix_u\n",
    "\n",
    "def delete_values(distance_matrix, k1, k2):\n",
    "    distance_matrix_u = np.delete(distance_matrix,   k1,   0) # Delete ligne à l'indice k1 correspondant à v1\n",
    "    distance_matrix_u = np.delete(distance_matrix_u, k1,   1) # Delete colonne à l'indice k1 correspondant à v1\n",
    "    distance_matrix_u = np.delete(distance_matrix_u, k2-1, 0) # Delete ligne à l'indice k2 correspondant à v2 (decaler de 1 car on a suppr une ligne)\n",
    "    distance_matrix_u = np.delete(distance_matrix_u, k2-1, 1) # Delete colonne à l'indice k2 correspondant à v2 (decaler de 1 car on a suppr une colonne)\n",
    "    distance_matrix_u = np.insert(distance_matrix_u, 0, np.zeros(distance_matrix_u.shape[0]), axis=0)\n",
    "    distance_matrix_u = np.insert(distance_matrix_u, 0, np.zeros(distance_matrix_u.shape[0]), axis=1)\n",
    "    return distance_matrix_u\n",
    "\n",
    "def compute_new_distances(distance_matrix, v1, v2, dic):\n",
    "    n = distance_matrix.shape[0]\n",
    "    new_distances = np.zeros((n-1))\n",
    "    new_distances[0] = 0 # 0 de la diagonal\n",
    "    k1 = [k for k, v in dic.items() if v == v1][0]\n",
    "    k2 = [k for k, v in dic.items() if v == v2][0]\n",
    "    index = 1\n",
    "    for i in range(n):\n",
    "        if k1 != i and k2 != i:\n",
    "            new_distances[index] = (distance_matrix[i][k1] + distance_matrix[i][k2]) / 2\n",
    "            index += 1\n",
    "    return new_distances\n",
    "\n",
    "def display_distance_matrix(distance_matrix, dic):\n",
    "    print(\"\\nDistance matrix :\\n\")\n",
    "    n,m = distance_matrix.shape\n",
    "    for val in dic.values():\n",
    "        print(\"    \",val, end=\"\")\n",
    "    print(\"\")\n",
    "    for i,val in enumerate(dic.values()):\n",
    "        for j in range(m):\n",
    "            print(\"   \", distance_matrix[i][j], end=\"\")\n",
    "        print(\"   \", val)\n",
    "\n",
    "def get_dict(distance_matrix):\n",
    "    dic = {}\n",
    "    n = distance_matrix.shape[0]\n",
    "    keys = [chr(i+65) for i in range(n)]\n",
    "    values = [i for i in range(n)]\n",
    "    for i in range(n):\n",
    "        dic[values[i]] = keys[i]\n",
    "    return dic\n",
    "\n",
    "def display_tree(order): # On veut ((((B,F),G)),(A,D)),C),E)\n",
    "    order_str = \"\"\n",
    "    for i in range(0, len(order), 2):\n",
    "        order_str += \"(\" + order[i] + \",\" + order[i+1] + \")\"\n",
    "        if i != len(order)-2:\n",
    "            order_str += \"|\"\n",
    "    print(order_str)\n",
    "    reversed_str = list(reversed(order_str.split(\"|\")))\n",
    "    for i in range(len(reversed_str)):\n",
    "        clean = reversed_str[i].replace(\"(\",\"\")\n",
    "        clean = clean.replace(\")\",\"\")\n",
    "        split = clean.split(\",\")\n",
    "        item1 = split[0]\n",
    "        item2 = split[1]\n",
    "        print(\"item1:\",item1)\n",
    "        print(\"item2:\",item2)"
   ]
  },
  {
   "cell_type": "code",
   "execution_count": 59,
   "metadata": {},
   "outputs": [
    {
     "name": "stdout",
     "output_type": "stream",
     "text": [
      "----------------------------> Algorithme UPGMA : <----------------------------\n",
      "----------------------------> Fabrication de l'arbe de philogenie : <----------------------------\n",
      "(B,F)|(A,D)|(BF,G)|(BFG,AD)|(BFGAD,C)|(BFGADC,E)\n",
      "item1: BFGADC\n",
      "item2: E\n",
      "item1: BFGAD\n",
      "item2: C\n",
      "item1: BFG\n",
      "item2: AD\n",
      "item1: BF\n",
      "item2: G\n",
      "item1: A\n",
      "item2: D\n",
      "item1: B\n",
      "item2: F\n"
     ]
    }
   ],
   "source": [
    "print(\"----------------------------> Algorithme UPGMA : <----------------------------\")\n",
    "# print(\"\\nDictionnaire :\\n\\n\", dic) # Affichage du dictionnaire de base\n",
    "# display_distance_matrix(distance_matrix, dic) # Affichage de la grille de base\n",
    "# print(\"\\n\")\n",
    "distance_matrix_final, _, order_final = upgma_loop(distance_matrix)\n",
    "\n",
    "print(\"----------------------------> Fabrication de l'arbe de philogenie : <----------------------------\")\n",
    "# print(order_final)\n",
    "display_tree(order_final)"
   ]
  },
  {
   "cell_type": "markdown",
   "metadata": {},
   "source": [
    "# 2. Neighbor Joining :"
   ]
  },
  {
   "cell_type": "code",
   "execution_count": null,
   "metadata": {},
   "outputs": [],
   "source": []
  },
  {
   "cell_type": "code",
   "execution_count": null,
   "metadata": {},
   "outputs": [],
   "source": []
  }
 ],
 "metadata": {
  "kernelspec": {
   "display_name": "Python [conda env:root] *",
   "language": "python",
   "name": "conda-root-py"
  },
  "language_info": {
   "codemirror_mode": {
    "name": "ipython",
    "version": 3
   },
   "file_extension": ".py",
   "mimetype": "text/x-python",
   "name": "python",
   "nbconvert_exporter": "python",
   "pygments_lexer": "ipython3",
   "version": "3.8.5"
  }
 },
 "nbformat": 4,
 "nbformat_minor": 4
}
