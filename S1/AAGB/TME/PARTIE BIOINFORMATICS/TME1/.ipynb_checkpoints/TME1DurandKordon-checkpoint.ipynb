{
 "cells": [
  {
   "cell_type": "markdown",
   "metadata": {},
   "source": [
    "# Imports"
   ]
  },
  {
   "cell_type": "code",
   "execution_count": 1,
   "metadata": {},
   "outputs": [],
   "source": [
    "import numpy as np"
   ]
  },
  {
   "cell_type": "markdown",
   "metadata": {},
   "source": [
    "# Variables"
   ]
  },
  {
   "cell_type": "code",
   "execution_count": 2,
   "metadata": {},
   "outputs": [],
   "source": [
    "seq1 = \"C A G T T G T T A C G\"\n",
    "seq2 = \"T A C T G A C A T T T\"\n",
    "seq1 = seq1.split()\n",
    "seq2 = seq2.split()\n",
    "\n",
    "match = 1\n",
    "mismatch = -2\n",
    "gap = -1"
   ]
  },
  {
   "cell_type": "markdown",
   "metadata": {},
   "source": [
    "# Init"
   ]
  },
  {
   "cell_type": "code",
   "execution_count": 3,
   "metadata": {},
   "outputs": [],
   "source": [
    "def init(seq1, seq2):\n",
    "    matrice = np.zeros((len(seq1), len(seq2)))\n",
    "    n, m = matrice.shape\n",
    "    for i in range(1, m):\n",
    "        matrice[0][i] = -(-gap*i)\n",
    "    for i in range(1, n):\n",
    "        matrice[i][0] = --(gap*i)\n",
    "    return matrice"
   ]
  },
  {
   "cell_type": "markdown",
   "metadata": {},
   "source": [
    "# Needleman & Wunsch functions"
   ]
  },
  {
   "cell_type": "code",
   "execution_count": 4,
   "metadata": {},
   "outputs": [],
   "source": [
    "# Renvoie la valeur max pour la matrice de distance\n",
    "# Renvoie aussi la direction pour le backtrack\n",
    "def find_max(a, b, c):\n",
    "    if a > b:\n",
    "        if a > c:\n",
    "            return a, \"diag\"\n",
    "        else:\n",
    "            return c, \"left\"\n",
    "    else:\n",
    "        if b > c:\n",
    "            return b, \"uppe\"\n",
    "        else:\n",
    "            return c, \"left\"\n",
    "\n",
    "# Construit la matrice de distance de seq1 seq2\n",
    "def get_distance_matrix(seq1, seq2, waterman):\n",
    "    matrice = init(seq1, seq2)\n",
    "    n, m = matrice.shape\n",
    "    backtrack = np.empty((n, m), dtype=object)\n",
    "    for i in range(1, n):\n",
    "        for j in range(1, m):\n",
    "            v = 0\n",
    "            if seq1[i-1] == seq2[j-1]:\n",
    "                v = match\n",
    "            else:\n",
    "                v = mismatch\n",
    "            test1 = matrice[i-1][j-1] + v\n",
    "            test2 = matrice[i-1][j]   + gap\n",
    "            test3 = matrice[i]  [j-1] + gap\n",
    "            if not waterman:\n",
    "                matrice[i][j], _ = find_max(test1, test2, test3)\n",
    "            else:\n",
    "                matrice[i][j], _ = find_max_waterman(test1, test2, test3)\n",
    "    return matrice\n",
    " \n",
    "# Construit les 2 sequences ADN suivant la matrice de distance\n",
    "def get_dna_strings(matrice, waterman):\n",
    "    n, m = matrice.shape\n",
    "    str1 = []\n",
    "    str2 = []\n",
    "    path = []\n",
    "    \n",
    "    # Choix des i j de départ\n",
    "    i = 0\n",
    "    j = 0\n",
    "    if not waterman:\n",
    "        i = n-1\n",
    "        j = m-1\n",
    "    if waterman: # On choisit ici de renvoyer un seul alignement local en partant d'un seul max\n",
    "        max_v = -np.inf\n",
    "        for i in range(n):\n",
    "            for j in range(m):\n",
    "                if matrice[i][j] > max_v:\n",
    "                    max_v = matrice[i][j]\n",
    "                    max_i = i\n",
    "                    max_j = j\n",
    "        i = max_i\n",
    "        j = max_j\n",
    "    print(\"---> Position de départ : (\",i,\",\",j,\")\")\n",
    "        \n",
    "    # Backtrack\n",
    "    while not (i==0 and j==0):\n",
    "            test1 = matrice[i-1][j-1]\n",
    "            test2 = matrice[i-1][j]\n",
    "            test3 = matrice[i]  [j-1]\n",
    "            _, direction = find_max(test1, test2, test3) # Check la direction pour backtrack\n",
    "            path.append(direction)\n",
    "            if direction == \"diag\":\n",
    "                str1 += seq1[i-1]\n",
    "                str2 += seq2[j-1]\n",
    "                i -= 1                 # decrementation en diagonal\n",
    "                j -= 1\n",
    "            elif direction == \"left\":\n",
    "                str1 += \"_\"\n",
    "                str2 += seq2[j-1]\n",
    "                j -= 1                 # decrementation des colonnes\n",
    "            elif direction == \"uppe\":\n",
    "                str1 += seq1[i-1]\n",
    "                str2 += \"_\"\n",
    "                i -= 1                 # decrementation des lignes\n",
    "                \n",
    "    return str1, str2, path"
   ]
  },
  {
   "cell_type": "markdown",
   "metadata": {},
   "source": [
    "# Resultats"
   ]
  },
  {
   "cell_type": "code",
   "execution_count": 5,
   "metadata": {},
   "outputs": [
    {
     "name": "stdout",
     "output_type": "stream",
     "text": [
      "[[  0.  -1.  -2.  -3.  -4.  -5.  -6.  -7.  -8.  -9. -10.]\n",
      " [ -1.  -2.  -3.  -1.  -2.  -3.  -4.  -5.  -6.  -7.  -8.]\n",
      " [ -2.  -3.  -1.  -2.  -3.  -4.  -2.  -3.  -4.  -5.  -6.]\n",
      " [ -3.  -4.  -2.  -3.  -4.  -2.  -3.  -4.  -5.  -6.  -7.]\n",
      " [ -4.  -2.  -3.  -4.  -2.  -3.  -4.  -5.  -6.  -4.  -5.]\n",
      " [ -5.  -3.  -4.  -5.  -3.  -4.  -5.  -6.  -7.  -5.  -3.]\n",
      " [ -6.  -4.  -5.  -6.  -4.  -2.  -3.  -4.  -5.  -6.  -4.]\n",
      " [ -7.  -5.  -6.  -7.  -5.  -3.  -4.  -5.  -6.  -4.  -5.]\n",
      " [ -8.  -6.  -7.  -8.  -6.  -4.  -5.  -6.  -7.  -5.  -3.]\n",
      " [ -9.  -7.  -5.  -6.  -7.  -5.  -3.  -4.  -5.  -6.  -4.]\n",
      " [-10.  -8.  -6.  -4.  -5.  -6.  -4.  -2.  -3.  -4.  -5.]]\n",
      "---> Position de départ : ( 10 , 10 )\n",
      "['left', 'left', 'left', 'diag', 'diag', 'uppe', 'uppe', 'diag', 'uppe', 'diag', 'diag', 'diag', 'diag']\n",
      "['C', 'A', 'G', 'T', 'T', 'G', 'T', 'T', 'A', 'C', '_', '_', '_']\n",
      "['T', 'A', 'C', 'T', '_', 'G', '_', '_', 'A', 'C', 'A', 'T', 'T']\n"
     ]
    }
   ],
   "source": [
    "matrice = get_distance_matrix(seq1,seq2, waterman=False)\n",
    "print(matrice)\n",
    "str1, str2, path = get_dna_strings(matrice, waterman=False)\n",
    "str1.reverse() # Reverse ici car on a parcouru le tableau en partant du bas gauche\n",
    "str2.reverse()\n",
    "print(path)\n",
    "print(str1)\n",
    "print(str2)"
   ]
  },
  {
   "cell_type": "code",
   "execution_count": 6,
   "metadata": {},
   "outputs": [],
   "source": [
    "# Tester et robuste aux différentes valeurs de match, mismatch, gap ainsi qu'aux différentes tailles de sequences."
   ]
  },
  {
   "cell_type": "markdown",
   "metadata": {},
   "source": [
    "# Smith-Waterman"
   ]
  },
  {
   "cell_type": "code",
   "execution_count": 7,
   "metadata": {},
   "outputs": [],
   "source": [
    "# Renvoie la valeur max pour la matrice de distance\n",
    "# Renvoie aussi la direction pour le backtrack\n",
    "def find_max_waterman(a, b, c):\n",
    "    if a < 0 and b < 0 and c < 0:\n",
    "        return 0, \"zero\"\n",
    "    if a > b:\n",
    "        if a > c:\n",
    "            return a, \"diag\"\n",
    "        else:\n",
    "            return c, \"left\"\n",
    "    else:\n",
    "        if b > c:\n",
    "            return b, \"uppe\"\n",
    "        else:\n",
    "            return c, \"left\""
   ]
  },
  {
   "cell_type": "code",
   "execution_count": 8,
   "metadata": {},
   "outputs": [
    {
     "name": "stdout",
     "output_type": "stream",
     "text": [
      "[[  0.  -1.  -2.  -3.  -4.  -5.  -6.  -7.  -8.  -9. -10.]\n",
      " [ -1.   0.   0.   0.   0.   0.   0.   0.   0.   0.   0.]\n",
      " [ -2.   0.   1.   0.   0.   0.   1.   0.   1.   0.   0.]\n",
      " [ -3.   0.   0.   0.   0.   1.   0.   0.   0.   0.   0.]\n",
      " [ -4.   0.   0.   0.   1.   0.   0.   0.   0.   1.   1.]\n",
      " [ -5.   0.   0.   0.   1.   0.   0.   0.   0.   1.   2.]\n",
      " [ -6.   0.   0.   0.   0.   2.   1.   0.   0.   0.   1.]\n",
      " [ -7.   0.   0.   0.   1.   1.   0.   0.   0.   1.   1.]\n",
      " [ -8.   0.   0.   0.   1.   0.   0.   0.   0.   1.   2.]\n",
      " [ -9.   0.   1.   0.   0.   0.   1.   0.   1.   0.   1.]\n",
      " [-10.   0.   0.   2.   1.   0.   0.   2.   1.   0.   0.]]\n",
      "---> Position de départ : ( 5 , 10 )\n",
      "['left', 'uppe', 'left', 'left', 'left', 'diag', 'left', 'left', 'diag', 'left', 'uppe', 'diag']\n",
      "['C', 'A', '_', 'G', '_', '_', 'T', '_', '_', '_', 'T', '_']\n",
      "['T', '_', 'A', 'C', 'T', 'G', 'A', 'C', 'A', 'T', '_', 'T']\n"
     ]
    }
   ],
   "source": [
    "matrice = get_distance_matrix(seq1,seq2, waterman=True)\n",
    "print(matrice)\n",
    "str1, str2, path = get_dna_strings(matrice, waterman=True)\n",
    "str1.reverse() # Reverse ici car on a parcouru le tableau en partant du bas gauche\n",
    "str2.reverse()\n",
    "print(path)\n",
    "print(str1)\n",
    "print(str2)"
   ]
  },
  {
   "cell_type": "markdown",
   "metadata": {},
   "source": [
    "# Utilisation de BLOSUM62"
   ]
  },
  {
   "cell_type": "code",
   "execution_count": 9,
   "metadata": {},
   "outputs": [],
   "source": [
    "SEQ1 = \"MGPSENDPNLFVALYDFVASGDNTLSITKGEKLRVLGYNHNGEWCEAQTKNGQGWVPSNYITPVNSLEKHSWYHGPVSRNAAEYLLSSGINGSFLVRESESSPGQRSISLRYEGRVYHYRINTASDGKLYVSSESRFNTLAELVHHHSTVADGLITTLHYPAP\"\n",
    "SEQ2 = \"GAMDPSEALQRPVASDFEPQGLSEAARWNSKENLLAGPSENDPNLFVALYDFVASGDNTLSITKGEKLRVLGYNHNGEWCEAQTKNGQGWVPSNYITPVNSLEKHSWYHGPVSRNAAEYLLSSGINGSFLVRESESSPGQRSISLRYEGRVYHYRINTASDGKLYVSSESRFNTLAELVHHHSTVADGLITTLHYPAPKRNKPTIYGVSPNYDKWEMERTDITMKHKLGGGQYGEVYEGVWKKYSLTVAVKTLKEDTMEVEEFLKEAAVMKEIKHPNLVQLLGVCTREPPFYIITEFMTYGNLLDYLRECNRQEVSAVVLLYMATQISSAMEYLEKKNFIHRNLAARNCLVGENHLVKVADFGLSRLMTGDTYTAHAGAKFPIKWTAPESLAYNKFSIKSDVWAFGVLLWEIATYGMSPYPGIDLSQVYELLEKDYRMERPEGCPEKVYELMRACWQWNPSDRPSFAEIHQAFETMFQESSISDEVEKELGKRGT\"\n",
    "\n",
    "f = open(\"BLOSUM62.txt\", \"r\")\n",
    "values = []\n",
    "n_line = 0\n",
    "n_col = 0\n",
    "\n",
    "for idx, line in enumerate(f):\n",
    "    if idx > 6:\n",
    "        n_line += 1\n",
    "        for elem in line.split(\" \")[1:-1]:\n",
    "            if elem != \"\":\n",
    "                if idx == 7:\n",
    "                    n_col += 1\n",
    "f.close()"
   ]
  },
  {
   "cell_type": "code",
   "execution_count": 10,
   "metadata": {},
   "outputs": [
    {
     "name": "stdout",
     "output_type": "stream",
     "text": [
      "(24, 24)\n",
      "['A' 'R' 'N' 'D' 'C' 'Q' 'E' 'G' 'H' 'I' 'L' 'K' 'M' 'F' 'P' 'S' 'T' 'W'\n",
      " 'Y' 'V' 'B' 'Z' 'X']\n"
     ]
    }
   ],
   "source": [
    "f = open(\"BLOSUM62.txt\", \"r\")\n",
    "\n",
    "seq_order = []\n",
    "blosum62 = []\n",
    "\n",
    "for idx, line in enumerate(f):\n",
    "    if idx == 6:\n",
    "        for elem in line.split(\" \")[1:-1]:\n",
    "            if elem != \"\":\n",
    "                seq_order += elem\n",
    "    if idx > 6:\n",
    "        for elem in line.split(\" \")[1:-1]:\n",
    "            if elem != \"\":\n",
    "                blosum62.append(elem)\n",
    "    \n",
    "blosum62 = np.array(blosum62).reshape(n_line, n_col)\n",
    "print(blosum62.shape)\n",
    "seq_order = np.array(seq_order)\n",
    "print(seq_order)"
   ]
  },
  {
   "cell_type": "code",
   "execution_count": 11,
   "metadata": {},
   "outputs": [],
   "source": [
    "# Redifinition de la fonction pour alignement de sequence proteique avec blosum62\n",
    "def get_distance_matrix(seq1, seq2, waterman):\n",
    "    matrice = init(seq1, seq2)\n",
    "    n, m = matrice.shape\n",
    "    backtrack = np.empty((n, m), dtype=object)\n",
    "    for i in range(1, n):\n",
    "        for j in range(1, m):\n",
    "            v = 0\n",
    "            index = np.where(seq_order == seq1[i-1])[0]\n",
    "            index2 = np.where(seq_order == seq2[i-1])[0]\n",
    "            mismatch = int(blosum62[index, index2])\n",
    "            if seq1[i-1] == seq2[j-1]:\n",
    "                v = match\n",
    "            else:\n",
    "                v = mismatch\n",
    "            test1 = matrice[i-1][j-1] + v\n",
    "            test2 = matrice[i-1][j]   + gap\n",
    "            test3 = matrice[i]  [j-1] + gap\n",
    "            if not waterman:\n",
    "                matrice[i][j], _ = find_max(test1, test2, test3)\n",
    "            else:\n",
    "                matrice[i][j], _ = find_max_waterman(test1, test2, test3)\n",
    "    return matrice\n",
    "\n",
    "# Redifinition de la fonction pour alignement de sequence proteique avec blosum62\n",
    "def get_dna_strings(matrice, waterman):\n",
    "    n, m = matrice.shape\n",
    "    str1 = []\n",
    "    str2 = []\n",
    "    path = []\n",
    "    \n",
    "    # Choix des i j de départ\n",
    "    i = 0\n",
    "    j = 0\n",
    "    if not waterman:\n",
    "        i = n-1\n",
    "        j = m-1\n",
    "    if waterman: # On choisit ici de renvoyer un seul alignement local en partant d'un seul max\n",
    "        max_v = -np.inf\n",
    "        for i in range(n):\n",
    "            for j in range(m):\n",
    "                if matrice[i][j] > max_v:\n",
    "                    max_v = matrice[i][j]\n",
    "                    max_i = i\n",
    "                    max_j = j\n",
    "        i = max_i\n",
    "        j = max_j\n",
    "    print(\"---> Position de départ : (\",i,\",\",j,\")\")\n",
    "        \n",
    "    # Backtrack\n",
    "    while not (i==0 and j==0):\n",
    "            test1 = matrice[i-1][j-1]\n",
    "            test2 = matrice[i-1][j]\n",
    "            test3 = matrice[i]  [j-1]\n",
    "            _, direction = find_max(test1, test2, test3) # Check la direction pour backtrack\n",
    "            path.append(direction)\n",
    "            if direction == \"diag\":\n",
    "                str1 += SEQ1[i-1]\n",
    "                str2 += SEQ2[j-1]\n",
    "                i -= 1                 # decrementation en diagonal\n",
    "                j -= 1\n",
    "            elif direction == \"left\":\n",
    "                str1 += \"_\"\n",
    "                str2 += SEQ2[j-1]\n",
    "                j -= 1                 # decrementation des colonnes\n",
    "            elif direction == \"uppe\":\n",
    "                str1 += SEQ1[i-1]\n",
    "                str2 += \"_\"\n",
    "                i -= 1                 # decrementation des lignes\n",
    "                \n",
    "    return str1, str2, path"
   ]
  },
  {
   "cell_type": "code",
   "execution_count": 12,
   "metadata": {},
   "outputs": [
    {
     "name": "stdout",
     "output_type": "stream",
     "text": [
      "[[    0   -11   -22 ... -5412 -5423 -5434]\n",
      " [  -11     0     0 ...     0     0     0]\n",
      " [  -22     0     0 ...     0     0     1]\n",
      " ...\n",
      " [-1760     0     0 ...     0     0     0]\n",
      " [-1771     0     0 ...     0     0     0]\n",
      " [-1782     0     1 ...     0     0     0]]\n",
      "---> Position de départ : ( 162 , 197 )\n",
      "['diag', 'diag', 'diag', 'diag', 'diag', 'diag', 'diag', 'diag', 'diag', 'diag', 'diag', 'diag', 'diag', 'diag', 'diag', 'diag', 'diag', 'diag', 'diag', 'diag', 'diag', 'diag', 'diag', 'diag', 'diag', 'diag', 'diag', 'diag', 'diag', 'diag', 'diag', 'diag', 'diag', 'diag', 'diag', 'diag', 'diag', 'diag', 'diag', 'diag', 'diag', 'diag', 'diag', 'diag', 'diag', 'diag', 'diag', 'diag', 'diag', 'diag', 'diag', 'diag', 'diag', 'diag', 'diag', 'diag', 'diag', 'diag', 'diag', 'diag', 'diag', 'diag', 'diag', 'diag', 'diag', 'diag', 'diag', 'diag', 'diag', 'diag', 'diag', 'diag', 'diag', 'diag', 'diag', 'diag', 'diag', 'diag', 'diag', 'diag', 'diag', 'diag', 'diag', 'diag', 'diag', 'diag', 'diag', 'diag', 'diag', 'diag', 'diag', 'diag', 'diag', 'diag', 'diag', 'diag', 'diag', 'diag', 'diag', 'diag', 'diag', 'diag', 'diag', 'diag', 'diag', 'diag', 'diag', 'diag', 'diag', 'diag', 'diag', 'diag', 'diag', 'diag', 'diag', 'diag', 'diag', 'diag', 'diag', 'diag', 'diag', 'diag', 'diag', 'diag', 'diag', 'diag', 'diag', 'diag', 'diag', 'diag', 'diag', 'diag', 'diag', 'diag', 'diag', 'diag', 'diag', 'diag', 'diag', 'diag', 'diag', 'diag', 'diag', 'diag', 'diag', 'diag', 'diag', 'diag', 'diag', 'diag', 'diag', 'diag', 'diag', 'diag', 'diag', 'diag', 'diag', 'diag', 'diag', 'diag', 'left', 'left', 'left', 'left', 'left', 'left', 'left', 'left', 'left', 'left', 'left', 'left', 'left', 'left', 'left', 'left', 'left', 'left', 'left', 'left', 'left', 'left', 'left', 'left', 'left', 'left', 'left', 'left', 'left', 'left', 'left', 'left', 'left', 'left', 'left', 'left', 'uppe', 'diag']\n",
      "['M', 'G', '_', '_', '_', '_', '_', '_', '_', '_', '_', '_', '_', '_', '_', '_', '_', '_', '_', '_', '_', '_', '_', '_', '_', '_', '_', '_', '_', '_', '_', '_', '_', '_', '_', '_', '_', '_', 'P', 'S', 'E', 'N', 'D', 'P', 'N', 'L', 'F', 'V', 'A', 'L', 'Y', 'D', 'F', 'V', 'A', 'S', 'G', 'D', 'N', 'T', 'L', 'S', 'I', 'T', 'K', 'G', 'E', 'K', 'L', 'R', 'V', 'L', 'G', 'Y', 'N', 'H', 'N', 'G', 'E', 'W', 'C', 'E', 'A', 'Q', 'T', 'K', 'N', 'G', 'Q', 'G', 'W', 'V', 'P', 'S', 'N', 'Y', 'I', 'T', 'P', 'V', 'N', 'S', 'L', 'E', 'K', 'H', 'S', 'W', 'Y', 'H', 'G', 'P', 'V', 'S', 'R', 'N', 'A', 'A', 'E', 'Y', 'L', 'L', 'S', 'S', 'G', 'I', 'N', 'G', 'S', 'F', 'L', 'V', 'R', 'E', 'S', 'E', 'S', 'S', 'P', 'G', 'Q', 'R', 'S', 'I', 'S', 'L', 'R', 'Y', 'E', 'G', 'R', 'V', 'Y', 'H', 'Y', 'R', 'I', 'N', 'T', 'A', 'S', 'D', 'G', 'K', 'L', 'Y', 'V', 'S', 'S', 'E', 'S', 'R', 'F', 'N', 'T', 'L', 'A', 'E', 'L', 'V', 'H', 'H', 'H', 'S', 'T', 'V', 'A', 'D', 'G', 'L', 'I', 'T', 'T', 'L', 'H', 'Y', 'P', 'A']\n",
      "['G', '_', 'A', 'M', 'D', 'P', 'S', 'E', 'A', 'L', 'Q', 'R', 'P', 'V', 'A', 'S', 'D', 'F', 'E', 'P', 'Q', 'G', 'L', 'S', 'E', 'A', 'A', 'R', 'W', 'N', 'S', 'K', 'E', 'N', 'L', 'L', 'A', 'G', 'P', 'S', 'E', 'N', 'D', 'P', 'N', 'L', 'F', 'V', 'A', 'L', 'Y', 'D', 'F', 'V', 'A', 'S', 'G', 'D', 'N', 'T', 'L', 'S', 'I', 'T', 'K', 'G', 'E', 'K', 'L', 'R', 'V', 'L', 'G', 'Y', 'N', 'H', 'N', 'G', 'E', 'W', 'C', 'E', 'A', 'Q', 'T', 'K', 'N', 'G', 'Q', 'G', 'W', 'V', 'P', 'S', 'N', 'Y', 'I', 'T', 'P', 'V', 'N', 'S', 'L', 'E', 'K', 'H', 'S', 'W', 'Y', 'H', 'G', 'P', 'V', 'S', 'R', 'N', 'A', 'A', 'E', 'Y', 'L', 'L', 'S', 'S', 'G', 'I', 'N', 'G', 'S', 'F', 'L', 'V', 'R', 'E', 'S', 'E', 'S', 'S', 'P', 'G', 'Q', 'R', 'S', 'I', 'S', 'L', 'R', 'Y', 'E', 'G', 'R', 'V', 'Y', 'H', 'Y', 'R', 'I', 'N', 'T', 'A', 'S', 'D', 'G', 'K', 'L', 'Y', 'V', 'S', 'S', 'E', 'S', 'R', 'F', 'N', 'T', 'L', 'A', 'E', 'L', 'V', 'H', 'H', 'H', 'S', 'T', 'V', 'A', 'D', 'G', 'L', 'I', 'T', 'T', 'L', 'H', 'Y', 'P', 'A']\n"
     ]
    }
   ],
   "source": [
    "gap = -11\n",
    "match = 1\n",
    "# mismatch est definit suivant blosum dans la fonction get_distance_matrix()\n",
    "matrice = get_distance_matrix(SEQ1,SEQ2, waterman=True).astype(int) # Reconversion en int\n",
    "print(matrice)\n",
    "str1, str2, path = get_dna_strings(matrice, waterman=True)\n",
    "str1.reverse() # Reverse ici car on a parcouru le tableau en partant du bas gauche\n",
    "str2.reverse()\n",
    "print(path)\n",
    "print(str1)\n",
    "print(str2)"
   ]
  },
  {
   "cell_type": "code",
   "execution_count": null,
   "metadata": {},
   "outputs": [],
   "source": []
  }
 ],
 "metadata": {
  "kernelspec": {
   "display_name": "Python [conda env:root] *",
   "language": "python",
   "name": "conda-root-py"
  },
  "language_info": {
   "codemirror_mode": {
    "name": "ipython",
    "version": 3
   },
   "file_extension": ".py",
   "mimetype": "text/x-python",
   "name": "python",
   "nbconvert_exporter": "python",
   "pygments_lexer": "ipython3",
   "version": "3.8.5"
  }
 },
 "nbformat": 4,
 "nbformat_minor": 4
}
